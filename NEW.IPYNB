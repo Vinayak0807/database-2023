{
    "metadata": {
        "kernelspec": {
            "name": "SQL",
            "display_name": "SQL",
            "language": "sql"
        },
        "language_info": {
            "name": "sql",
            "version": ""
        }
    },
    "nbformat_minor": 2,
    "nbformat": 4,
    "cells": [
        {
            "cell_type": "code",
            "source": [
                "create database helllo;"
            ],
            "metadata": {
                "azdata_cell_guid": "a147cd50-8421-438e-94c8-0504ab2004a1",
                "language": "sql"
            },
            "outputs": [
                {
                    "output_type": "display_data",
                    "data": {
                        "text/html": "Commands completed successfully"
                    },
                    "metadata": {}
                },
                {
                    "output_type": "display_data",
                    "data": {
                        "text/html": "Total execution time: 00:00:00.010"
                    },
                    "metadata": {}
                }
            ],
            "execution_count": 4
        },
        {
            "cell_type": "code",
            "source": [
                "use helllo;"
            ],
            "metadata": {
                "language": "sql",
                "azdata_cell_guid": "bb2ea374-70b2-47f7-b8c7-e5c840dc425c"
            },
            "outputs": [
                {
                    "output_type": "display_data",
                    "data": {
                        "text/html": "Commands completed successfully"
                    },
                    "metadata": {}
                },
                {
                    "output_type": "display_data",
                    "data": {
                        "text/html": "Total execution time: 00:00:00.001"
                    },
                    "metadata": {}
                }
            ],
            "execution_count": 6
        },
        {
            "cell_type": "code",
            "source": [
                "create table school_record\r\n",
                "(\r\n",
                "    id int unsigned,\r\n",
                "    name VARCHAR(100),\r\n",
                "    class int unsigned,\r\n",
                "    address VARCHAR(150),\r\n",
                "    contact INT unsigned,\r\n",
                "    email VARCHAR(100),\r\n",
                "    dob DATE\r\n",
                ");"
            ],
            "metadata": {
                "language": "sql",
                "azdata_cell_guid": "6fe10a71-c224-4a9b-88e1-f1c1810dba7d"
            },
            "outputs": [
                {
                    "output_type": "display_data",
                    "data": {
                        "text/html": "Commands completed successfully"
                    },
                    "metadata": {}
                },
                {
                    "output_type": "display_data",
                    "data": {
                        "text/html": "Total execution time: 00:00:00.032"
                    },
                    "metadata": {}
                }
            ],
            "execution_count": 11
        },
        {
            "cell_type": "code",
            "source": [
                "describe school_record;"
            ],
            "metadata": {
                "language": "sql",
                "azdata_cell_guid": "61010031-96ae-403a-aa45-ea1627b75f90"
            },
            "outputs": [
{
    "output_type": "display_data",
    "data": {
        "text/html": "(7 row(s) affected)"
    },
    "metadata": {}
}, {
    "output_type": "display_data",
    "data": {
        "text/html": "Total execution time: 00:00:01.039"
    },
    "metadata": {}
}, {
    "output_type": "execute_result",
    "metadata": {},
    "execution_count": 14,
    "data": {
        "application/vnd.dataresource+json": {
            "schema": {
                "fields": [
                    {
                        "name": "Field"
                    },
                    {
                        "name": "Type"
                    },
                    {
                        "name": "Null"
                    },
                    {
                        "name": "Key"
                    },
                    {
                        "name": "Default"
                    },
                    {
                        "name": "Extra"
                    }
                ]
            },
            "data": [
                {
                    "Field": "id",
                    "Type": "b'int unsigned'",
                    "Null": "YES",
                    "Key": "",
                    "Default": "NULL",
                    "Extra": ""
                },
                {
                    "Field": "name",
                    "Type": "b'varchar(100)'",
                    "Null": "YES",
                    "Key": "",
                    "Default": "NULL",
                    "Extra": ""
                },
                {
                    "Field": "class",
                    "Type": "b'int unsigned'",
                    "Null": "YES",
                    "Key": "",
                    "Default": "NULL",
                    "Extra": ""
                },
                {
                    "Field": "address",
                    "Type": "b'varchar(150)'",
                    "Null": "YES",
                    "Key": "",
                    "Default": "NULL",
                    "Extra": ""
                },
                {
                    "Field": "contact",
                    "Type": "b'int unsigned'",
                    "Null": "YES",
                    "Key": "",
                    "Default": "NULL",
                    "Extra": ""
                },
                {
                    "Field": "email",
                    "Type": "b'varchar(100)'",
                    "Null": "YES",
                    "Key": "",
                    "Default": "NULL",
                    "Extra": ""
                },
                {
                    "Field": "dob",
                    "Type": "b'date'",
                    "Null": "YES",
                    "Key": "",
                    "Default": "NULL",
                    "Extra": ""
                }
            ]
        },
        "text/html": [
            "<table>",
            "<tr><th>Field</th><th>Type</th><th>Null</th><th>Key</th><th>Default</th><th>Extra</th></tr>",
            "<tr><td>id</td><td>b&#39;int unsigned&#39;</td><td>YES</td><td></td><td>NULL</td><td></td></tr>",
            "<tr><td>name</td><td>b&#39;varchar(100)&#39;</td><td>YES</td><td></td><td>NULL</td><td></td></tr>",
            "<tr><td>class</td><td>b&#39;int unsigned&#39;</td><td>YES</td><td></td><td>NULL</td><td></td></tr>",
            "<tr><td>address</td><td>b&#39;varchar(150)&#39;</td><td>YES</td><td></td><td>NULL</td><td></td></tr>",
            "<tr><td>contact</td><td>b&#39;int unsigned&#39;</td><td>YES</td><td></td><td>NULL</td><td></td></tr>",
            "<tr><td>email</td><td>b&#39;varchar(100)&#39;</td><td>YES</td><td></td><td>NULL</td><td></td></tr>",
            "<tr><td>dob</td><td>b&#39;date&#39;</td><td>YES</td><td></td><td>NULL</td><td></td></tr>",
            "</table>"
        ]
    }
}
],
            "execution_count": 14
        }
    ]
}