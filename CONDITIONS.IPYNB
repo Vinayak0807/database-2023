{
    "metadata": {
        "kernelspec": {
            "name": "SQL",
            "display_name": "SQL",
            "language": "sql"
        },
        "language_info": {
            "name": "sql",
            "version": ""
        }
    },
    "nbformat_minor": 2,
    "nbformat": 4,
    "cells": [
        {
            "cell_type": "markdown",
            "source": [
                "IF CONDITION\n",
                "\n",
                "IF"
            ],
            "metadata": {
                "language": "sql",
                "azdata_cell_guid": "7bd561b8-268c-4756-82d8-7b30918481a0"
            },
            "attachments": {}
        },
        {
            "cell_type": "code",
            "source": [
                "use sales;"
            ],
            "metadata": {
                "azdata_cell_guid": "cbca04fe-9cb9-4f74-886d-9dbf7c48fb4a",
                "language": "sql"
            },
            "outputs": [
                {
                    "output_type": "display_data",
                    "data": {
                        "text/html": "Commands completed successfully"
                    },
                    "metadata": {}
                },
                {
                    "output_type": "display_data",
                    "data": {
                        "text/html": "Total execution time: 00:00:00"
                    },
                    "metadata": {}
                }
            ],
            "execution_count": 2
        },
        {
            "cell_type": "code",
            "source": [
                "select* from customers limit 2;"
            ],
            "metadata": {
                "language": "sql",
                "azdata_cell_guid": "13a76e97-c725-46fc-89a7-cbe04d6716b9"
            },
            "outputs": [
                {
                    "output_type": "display_data",
                    "data": {
                        "text/html": "(2 row(s) affected)"
                    },
                    "metadata": {}
                },
                {
                    "output_type": "display_data",
                    "data": {
                        "text/html": "Total execution time: 00:00:01.027"
                    },
                    "metadata": {}
                },
                {
                    "output_type": "execute_result",
                    "metadata": {},
                    "execution_count": 3,
                    "data": {
                        "application/vnd.dataresource+json": {
                            "schema": {
                                "fields": [
                                    {
                                        "name": "CID"
                                    },
                                    {
                                        "name": "FirstName"
                                    },
                                    {
                                        "name": "LastName"
                                    },
                                    {
                                        "name": "Address"
                                    },
                                    {
                                        "name": "City"
                                    },
                                    {
                                        "name": "State"
                                    },
                                    {
                                        "name": "Zip"
                                    },
                                    {
                                        "name": "email"
                                    },
                                    {
                                        "name": "phone"
                                    }
                                ]
                            },
                            "data": [
                                {
                                    "CID": "AB98",
                                    "FirstName": "Aiden",
                                    "LastName": "Berg",
                                    "Address": "11367 Maple Street",
                                    "City": "Delhi",
                                    "State": "CA",
                                    "Zip": "95315",
                                    "email": "Aiden.Berg@gmail.com",
                                    "phone": "123"
                                },
                                {
                                    "CID": "AC75",
                                    "FirstName": "Arianna",
                                    "LastName": "Cruz",
                                    "Address": "13944 Myrtle Avenue",
                                    "City": "Huntington",
                                    "State": "WV",
                                    "Zip": "25770",
                                    "email": "Arianna.Cruz@excite.com",
                                    "phone": "NULL"
                                }
                            ]
                        },
                        "text/html": [
                            "<table>",
                            "<tr><th>CID</th><th>FirstName</th><th>LastName</th><th>Address</th><th>City</th><th>State</th><th>Zip</th><th>email</th><th>phone</th></tr>",
                            "<tr><td>AB98</td><td>Aiden</td><td>Berg</td><td>11367 Maple Street</td><td>Delhi</td><td>CA</td><td>95315</td><td>Aiden.Berg@gmail.com</td><td>123</td></tr>",
                            "<tr><td>AC75</td><td>Arianna</td><td>Cruz</td><td>13944 Myrtle Avenue</td><td>Huntington</td><td>WV</td><td>25770</td><td>Arianna.Cruz@excite.com</td><td>NULL</td></tr>",
                            "</table>"
                        ]
                    }
                }
            ],
            "execution_count": 3
        },
        {
            "cell_type": "code",
            "source": [
                "select\r\n",
                "    COUNT(CID),\r\n",
                "    state\r\n",
                "from customers\r\n",
                "group by state;    "
            ],
            "metadata": {
                "language": "sql",
                "azdata_cell_guid": "83d4f6ed-033b-4db6-8e60-57c07e4e53b0",
                "tags": []
            },
            "outputs": [
                {
                    "output_type": "display_data",
                    "data": {
                        "text/html": "(47 row(s) affected)"
                    },
                    "metadata": {}
                },
                {
                    "output_type": "display_data",
                    "data": {
                        "text/html": "Total execution time: 00:00:01.017"
                    },
                    "metadata": {}
                },
                {
                    "output_type": "execute_result",
                    "metadata": {},
                    "execution_count": 13,
                    "data": {
                        "application/vnd.dataresource+json": {
                            "schema": {
                                "fields": [
                                    {
                                        "name": "COUNT(CID)"
                                    },
                                    {
                                        "name": "state"
                                    }
                                ]
                            },
                            "data": [
                                {
                                    "COUNT(CID)": "18",
                                    "state": "CA"
                                },
                                {
                                    "COUNT(CID)": "4",
                                    "state": "WV"
                                },
                                {
                                    "COUNT(CID)": "11",
                                    "state": "TN"
                                },
                                {
                                    "COUNT(CID)": "12",
                                    "state": "TX"
                                },
                                {
                                    "COUNT(CID)": "6",
                                    "state": "MN"
                                },
                                {
                                    "COUNT(CID)": "8",
                                    "state": "OH"
                                },
                                {
                                    "COUNT(CID)": "8",
                                    "state": "WI"
                                },
                                {
                                    "COUNT(CID)": "7",
                                    "state": "AL"
                                },
                                {
                                    "COUNT(CID)": "5",
                                    "state": "FL"
                                },
                                {
                                    "COUNT(CID)": "8",
                                    "state": "NY"
                                },
                                {
                                    "COUNT(CID)": "7",
                                    "state": "MO"
                                },
                                {
                                    "COUNT(CID)": "7",
                                    "state": "AR"
                                },
                                {
                                    "COUNT(CID)": "7",
                                    "state": "PA"
                                },
                                {
                                    "COUNT(CID)": "6",
                                    "state": "MI"
                                },
                                {
                                    "COUNT(CID)": "4",
                                    "state": "VA"
                                },
                                {
                                    "COUNT(CID)": "7",
                                    "state": "MA"
                                },
                                {
                                    "COUNT(CID)": "3",
                                    "state": "GA"
                                },
                                {
                                    "COUNT(CID)": "5",
                                    "state": "CO"
                                },
                                {
                                    "COUNT(CID)": "3",
                                    "state": "NE"
                                },
                                {
                                    "COUNT(CID)": "5",
                                    "state": "WA"
                                },
                                {
                                    "COUNT(CID)": "4",
                                    "state": "MS"
                                },
                                {
                                    "COUNT(CID)": "2",
                                    "state": "ND"
                                },
                                {
                                    "COUNT(CID)": "3",
                                    "state": "NM"
                                },
                                {
                                    "COUNT(CID)": "4",
                                    "state": "KS"
                                },
                                {
                                    "COUNT(CID)": "1",
                                    "state": "NC"
                                },
                                {
                                    "COUNT(CID)": "4",
                                    "state": "KY"
                                },
                                {
                                    "COUNT(CID)": "2",
                                    "state": "MT"
                                },
                                {
                                    "COUNT(CID)": "2",
                                    "state": "IN"
                                },
                                {
                                    "COUNT(CID)": "4",
                                    "state": "OK"
                                },
                                {
                                    "COUNT(CID)": "1",
                                    "state": "VT"
                                },
                                {
                                    "COUNT(CID)": "3",
                                    "state": "IL"
                                },
                                {
                                    "COUNT(CID)": "2",
                                    "state": "LA"
                                },
                                {
                                    "COUNT(CID)": "3",
                                    "state": "UT"
                                },
                                {
                                    "COUNT(CID)": "4",
                                    "state": "NJ"
                                },
                                {
                                    "COUNT(CID)": "3",
                                    "state": "DC"
                                },
                                {
                                    "COUNT(CID)": "1",
                                    "state": "ID"
                                },
                                {
                                    "COUNT(CID)": "3",
                                    "state": "SD"
                                },
                                {
                                    "COUNT(CID)": "3",
                                    "state": "OR"
                                },
                                {
                                    "COUNT(CID)": "1",
                                    "state": "MD"
                                },
                                {
                                    "COUNT(CID)": "1",
                                    "state": "SC"
                                },
                                {
                                    "COUNT(CID)": "1",
                                    "state": "HI"
                                },
                                {
                                    "COUNT(CID)": "1",
                                    "state": "ME"
                                },
                                {
                                    "COUNT(CID)": "1",
                                    "state": "NV"
                                },
                                {
                                    "COUNT(CID)": "3",
                                    "state": "AZ"
                                },
                                {
                                    "COUNT(CID)": "2",
                                    "state": "IA"
                                },
                                {
                                    "COUNT(CID)": "1",
                                    "state": "CT"
                                },
                                {
                                    "COUNT(CID)": "1",
                                    "state": "NH"
                                }
                            ]
                        },
                        "text/html": [
                            "<table>",
                            "<tr><th>COUNT(CID)</th><th>state</th></tr>",
                            "<tr><td>18</td><td>CA</td></tr>",
                            "<tr><td>4</td><td>WV</td></tr>",
                            "<tr><td>11</td><td>TN</td></tr>",
                            "<tr><td>12</td><td>TX</td></tr>",
                            "<tr><td>6</td><td>MN</td></tr>",
                            "<tr><td>8</td><td>OH</td></tr>",
                            "<tr><td>8</td><td>WI</td></tr>",
                            "<tr><td>7</td><td>AL</td></tr>",
                            "<tr><td>5</td><td>FL</td></tr>",
                            "<tr><td>8</td><td>NY</td></tr>",
                            "<tr><td>7</td><td>MO</td></tr>",
                            "<tr><td>7</td><td>AR</td></tr>",
                            "<tr><td>7</td><td>PA</td></tr>",
                            "<tr><td>6</td><td>MI</td></tr>",
                            "<tr><td>4</td><td>VA</td></tr>",
                            "<tr><td>7</td><td>MA</td></tr>",
                            "<tr><td>3</td><td>GA</td></tr>",
                            "<tr><td>5</td><td>CO</td></tr>",
                            "<tr><td>3</td><td>NE</td></tr>",
                            "<tr><td>5</td><td>WA</td></tr>",
                            "<tr><td>4</td><td>MS</td></tr>",
                            "<tr><td>2</td><td>ND</td></tr>",
                            "<tr><td>3</td><td>NM</td></tr>",
                            "<tr><td>4</td><td>KS</td></tr>",
                            "<tr><td>1</td><td>NC</td></tr>",
                            "<tr><td>4</td><td>KY</td></tr>",
                            "<tr><td>2</td><td>MT</td></tr>",
                            "<tr><td>2</td><td>IN</td></tr>",
                            "<tr><td>4</td><td>OK</td></tr>",
                            "<tr><td>1</td><td>VT</td></tr>",
                            "<tr><td>3</td><td>IL</td></tr>",
                            "<tr><td>2</td><td>LA</td></tr>",
                            "<tr><td>3</td><td>UT</td></tr>",
                            "<tr><td>4</td><td>NJ</td></tr>",
                            "<tr><td>3</td><td>DC</td></tr>",
                            "<tr><td>1</td><td>ID</td></tr>",
                            "<tr><td>3</td><td>SD</td></tr>",
                            "<tr><td>3</td><td>OR</td></tr>",
                            "<tr><td>1</td><td>MD</td></tr>",
                            "<tr><td>1</td><td>SC</td></tr>",
                            "<tr><td>1</td><td>HI</td></tr>",
                            "<tr><td>1</td><td>ME</td></tr>",
                            "<tr><td>1</td><td>NV</td></tr>",
                            "<tr><td>3</td><td>AZ</td></tr>",
                            "<tr><td>2</td><td>IA</td></tr>",
                            "<tr><td>1</td><td>CT</td></tr>",
                            "<tr><td>1</td><td>NH</td></tr>",
                            "</table>"
                        ]
                    }
                }
            ],
            "execution_count": 13
        },
        {
            "cell_type": "code",
            "source": [
                "SELECT\r\n",
                "    count(cid) as total,\r\n",
                "    state,\r\n",
                "    if(count(cid) >=10,\"✔\",\"❎\") as important\r\n",
                "from customers\r\n",
                "group by STATE\r\n",
                "order by important;    "
            ],
            "metadata": {
                "language": "sql",
                "azdata_cell_guid": "a3a8311d-bd14-400f-88ba-fb56dda8904c"
            },
            "outputs": [
                {
                    "output_type": "display_data",
                    "data": {
                        "text/html": "(47 row(s) affected)"
                    },
                    "metadata": {}
                },
                {
                    "output_type": "display_data",
                    "data": {
                        "text/html": "Total execution time: 00:00:01.016"
                    },
                    "metadata": {}
                },
                {
                    "output_type": "execute_result",
                    "metadata": {},
                    "execution_count": 16,
                    "data": {
                        "application/vnd.dataresource+json": {
                            "schema": {
                                "fields": [
                                    {
                                        "name": "total"
                                    },
                                    {
                                        "name": "state"
                                    },
                                    {
                                        "name": "important"
                                    }
                                ]
                            },
                            "data": [
                                {
                                    "total": "18",
                                    "state": "CA",
                                    "important": "✔"
                                },
                                {
                                    "total": "12",
                                    "state": "TX",
                                    "important": "✔"
                                },
                                {
                                    "total": "11",
                                    "state": "TN",
                                    "important": "✔"
                                },
                                {
                                    "total": "4",
                                    "state": "WV",
                                    "important": "❎"
                                },
                                {
                                    "total": "6",
                                    "state": "MN",
                                    "important": "❎"
                                },
                                {
                                    "total": "8",
                                    "state": "OH",
                                    "important": "❎"
                                },
                                {
                                    "total": "8",
                                    "state": "WI",
                                    "important": "❎"
                                },
                                {
                                    "total": "7",
                                    "state": "AL",
                                    "important": "❎"
                                },
                                {
                                    "total": "5",
                                    "state": "FL",
                                    "important": "❎"
                                },
                                {
                                    "total": "8",
                                    "state": "NY",
                                    "important": "❎"
                                },
                                {
                                    "total": "7",
                                    "state": "MO",
                                    "important": "❎"
                                },
                                {
                                    "total": "7",
                                    "state": "AR",
                                    "important": "❎"
                                },
                                {
                                    "total": "7",
                                    "state": "PA",
                                    "important": "❎"
                                },
                                {
                                    "total": "6",
                                    "state": "MI",
                                    "important": "❎"
                                },
                                {
                                    "total": "4",
                                    "state": "VA",
                                    "important": "❎"
                                },
                                {
                                    "total": "7",
                                    "state": "MA",
                                    "important": "❎"
                                },
                                {
                                    "total": "3",
                                    "state": "GA",
                                    "important": "❎"
                                },
                                {
                                    "total": "5",
                                    "state": "CO",
                                    "important": "❎"
                                },
                                {
                                    "total": "3",
                                    "state": "NE",
                                    "important": "❎"
                                },
                                {
                                    "total": "5",
                                    "state": "WA",
                                    "important": "❎"
                                },
                                {
                                    "total": "4",
                                    "state": "MS",
                                    "important": "❎"
                                },
                                {
                                    "total": "2",
                                    "state": "ND",
                                    "important": "❎"
                                },
                                {
                                    "total": "3",
                                    "state": "NM",
                                    "important": "❎"
                                },
                                {
                                    "total": "4",
                                    "state": "KS",
                                    "important": "❎"
                                },
                                {
                                    "total": "1",
                                    "state": "NC",
                                    "important": "❎"
                                },
                                {
                                    "total": "4",
                                    "state": "KY",
                                    "important": "❎"
                                },
                                {
                                    "total": "2",
                                    "state": "MT",
                                    "important": "❎"
                                },
                                {
                                    "total": "2",
                                    "state": "IN",
                                    "important": "❎"
                                },
                                {
                                    "total": "4",
                                    "state": "OK",
                                    "important": "❎"
                                },
                                {
                                    "total": "1",
                                    "state": "VT",
                                    "important": "❎"
                                },
                                {
                                    "total": "3",
                                    "state": "IL",
                                    "important": "❎"
                                },
                                {
                                    "total": "2",
                                    "state": "LA",
                                    "important": "❎"
                                },
                                {
                                    "total": "3",
                                    "state": "UT",
                                    "important": "❎"
                                },
                                {
                                    "total": "4",
                                    "state": "NJ",
                                    "important": "❎"
                                },
                                {
                                    "total": "3",
                                    "state": "DC",
                                    "important": "❎"
                                },
                                {
                                    "total": "1",
                                    "state": "ID",
                                    "important": "❎"
                                },
                                {
                                    "total": "3",
                                    "state": "SD",
                                    "important": "❎"
                                },
                                {
                                    "total": "3",
                                    "state": "OR",
                                    "important": "❎"
                                },
                                {
                                    "total": "1",
                                    "state": "MD",
                                    "important": "❎"
                                },
                                {
                                    "total": "1",
                                    "state": "SC",
                                    "important": "❎"
                                },
                                {
                                    "total": "1",
                                    "state": "HI",
                                    "important": "❎"
                                },
                                {
                                    "total": "1",
                                    "state": "ME",
                                    "important": "❎"
                                },
                                {
                                    "total": "1",
                                    "state": "NV",
                                    "important": "❎"
                                },
                                {
                                    "total": "3",
                                    "state": "AZ",
                                    "important": "❎"
                                },
                                {
                                    "total": "2",
                                    "state": "IA",
                                    "important": "❎"
                                },
                                {
                                    "total": "1",
                                    "state": "CT",
                                    "important": "❎"
                                },
                                {
                                    "total": "1",
                                    "state": "NH",
                                    "important": "❎"
                                }
                            ]
                        },
                        "text/html": [
                            "<table>",
                            "<tr><th>total</th><th>state</th><th>important</th></tr>",
                            "<tr><td>18</td><td>CA</td><td>✔</td></tr>",
                            "<tr><td>12</td><td>TX</td><td>✔</td></tr>",
                            "<tr><td>11</td><td>TN</td><td>✔</td></tr>",
                            "<tr><td>4</td><td>WV</td><td>❎</td></tr>",
                            "<tr><td>6</td><td>MN</td><td>❎</td></tr>",
                            "<tr><td>8</td><td>OH</td><td>❎</td></tr>",
                            "<tr><td>8</td><td>WI</td><td>❎</td></tr>",
                            "<tr><td>7</td><td>AL</td><td>❎</td></tr>",
                            "<tr><td>5</td><td>FL</td><td>❎</td></tr>",
                            "<tr><td>8</td><td>NY</td><td>❎</td></tr>",
                            "<tr><td>7</td><td>MO</td><td>❎</td></tr>",
                            "<tr><td>7</td><td>AR</td><td>❎</td></tr>",
                            "<tr><td>7</td><td>PA</td><td>❎</td></tr>",
                            "<tr><td>6</td><td>MI</td><td>❎</td></tr>",
                            "<tr><td>4</td><td>VA</td><td>❎</td></tr>",
                            "<tr><td>7</td><td>MA</td><td>❎</td></tr>",
                            "<tr><td>3</td><td>GA</td><td>❎</td></tr>",
                            "<tr><td>5</td><td>CO</td><td>❎</td></tr>",
                            "<tr><td>3</td><td>NE</td><td>❎</td></tr>",
                            "<tr><td>5</td><td>WA</td><td>❎</td></tr>",
                            "<tr><td>4</td><td>MS</td><td>❎</td></tr>",
                            "<tr><td>2</td><td>ND</td><td>❎</td></tr>",
                            "<tr><td>3</td><td>NM</td><td>❎</td></tr>",
                            "<tr><td>4</td><td>KS</td><td>❎</td></tr>",
                            "<tr><td>1</td><td>NC</td><td>❎</td></tr>",
                            "<tr><td>4</td><td>KY</td><td>❎</td></tr>",
                            "<tr><td>2</td><td>MT</td><td>❎</td></tr>",
                            "<tr><td>2</td><td>IN</td><td>❎</td></tr>",
                            "<tr><td>4</td><td>OK</td><td>❎</td></tr>",
                            "<tr><td>1</td><td>VT</td><td>❎</td></tr>",
                            "<tr><td>3</td><td>IL</td><td>❎</td></tr>",
                            "<tr><td>2</td><td>LA</td><td>❎</td></tr>",
                            "<tr><td>3</td><td>UT</td><td>❎</td></tr>",
                            "<tr><td>4</td><td>NJ</td><td>❎</td></tr>",
                            "<tr><td>3</td><td>DC</td><td>❎</td></tr>",
                            "<tr><td>1</td><td>ID</td><td>❎</td></tr>",
                            "<tr><td>3</td><td>SD</td><td>❎</td></tr>",
                            "<tr><td>3</td><td>OR</td><td>❎</td></tr>",
                            "<tr><td>1</td><td>MD</td><td>❎</td></tr>",
                            "<tr><td>1</td><td>SC</td><td>❎</td></tr>",
                            "<tr><td>1</td><td>HI</td><td>❎</td></tr>",
                            "<tr><td>1</td><td>ME</td><td>❎</td></tr>",
                            "<tr><td>1</td><td>NV</td><td>❎</td></tr>",
                            "<tr><td>3</td><td>AZ</td><td>❎</td></tr>",
                            "<tr><td>2</td><td>IA</td><td>❎</td></tr>",
                            "<tr><td>1</td><td>CT</td><td>❎</td></tr>",
                            "<tr><td>1</td><td>NH</td><td>❎</td></tr>",
                            "</table>"
                        ]
                    }
                }
            ],
            "execution_count": 16
        },
        {
            "cell_type": "code",
            "source": [
                "use sakila"
            ],
            "metadata": {
                "language": "sql",
                "azdata_cell_guid": "59830d9e-e330-4198-8800-ff5b180dc58a"
            },
            "outputs": [
                {
                    "output_type": "display_data",
                    "data": {
                        "text/html": "Commands completed successfully"
                    },
                    "metadata": {}
                },
                {
                    "output_type": "display_data",
                    "data": {
                        "text/html": "Total execution time: 00:00:00"
                    },
                    "metadata": {}
                }
            ],
            "execution_count": 32
        },
        {
            "cell_type": "markdown",
            "source": [
                "if elif - match-switch\n",
                "\n",
                "case when then end"
            ],
            "metadata": {
                "language": "sql",
                "azdata_cell_guid": "e4949e56-3edd-4f6c-8931-b916ac06eb7e"
            },
            "attachments": {}
        },
        {
            "cell_type": "code",
            "source": [
                "\r\n",
                "SELECT\r\n",
                "    title,\r\n",
                "    length,\r\n",
                "    CASE\r\n",
                "        when length <=60 then 'short'\r\n",
                "        when length <=90 then 'normal'\r\n",
                "        when length <=120 then 'long'\r\n",
                "        else  'extra long'\r\n",
                "    end as movie_lenght\r\n",
                "    FROM\r\n",
                "        film;        "
            ],
            "metadata": {
                "language": "sql",
                "azdata_cell_guid": "de0b7846-2fcb-46be-a65a-9ce7a041bb02"
            },
            "outputs": [
{
    "output_type": "display_data",
    "data": {
        "text/html": "(1000 row(s) affected)"
    },
    "metadata": {}
}, {
    "output_type": "display_data",
    "data": {
        "text/html": "Total execution time: 00:00:01.062"
    },
    "metadata": {}
}, {
    "output_type": "execute_result",
    "metadata": {},
    "execution_count": 39,
    "data": {
        "application/vnd.dataresource+json": {
            "schema": {
                "fields": [
                    {
                        "name": "title"
                    },
                    {
                        "name": "length"
                    },
                    {
                        "name": "movie_lenght"
                    }
                ]
            },
            "data": [
                {
                    "title": "ACADEMY DINOSAUR",
                    "length": "86",
                    "movie_lenght": "normal"
                },
                {
                    "title": "ACE GOLDFINGER",
                    "length": "48",
                    "movie_lenght": "short"
                },
                {
                    "title": "ADAPTATION HOLES",
                    "length": "50",
                    "movie_lenght": "short"
                },
                {
                    "title": "AFFAIR PREJUDICE",
                    "length": "117",
                    "movie_lenght": "long"
                },
                {
                    "title": "AFRICAN EGG",
                    "length": "130",
                    "movie_lenght": "extra long"
                },
                {
                    "title": "AGENT TRUMAN",
                    "length": "169",
                    "movie_lenght": "extra long"
                },
                {
                    "title": "AIRPLANE SIERRA",
                    "length": "62",
                    "movie_lenght": "normal"
                },
                {
                    "title": "AIRPORT POLLOCK",
                    "length": "54",
                    "movie_lenght": "short"
                },
                {
                    "title": "ALABAMA DEVIL",
                    "length": "114",
                    "movie_lenght": "long"
                },
                {
                    "title": "ALADDIN CALENDAR",
                    "length": "63",
                    "movie_lenght": "normal"
                },
                {
                    "title": "ALAMO VIDEOTAPE",
                    "length": "126",
                    "movie_lenght": "extra long"
                },
                {
                    "title": "ALASKA PHANTOM",
                    "length": "136",
                    "movie_lenght": "extra long"
                },
                {
                    "title": "ALI FOREVER",
                    "length": "150",
                    "movie_lenght": "extra long"
                },
                {
                    "title": "ALICE FANTASIA",
                    "length": "94",
                    "movie_lenght": "long"
                },
                {
                    "title": "ALIEN CENTER",
                    "length": "46",
                    "movie_lenght": "short"
                },
                {
                    "title": "ALLEY EVOLUTION",
                    "length": "180",
                    "movie_lenght": "extra long"
                },
                {
                    "title": "ALONE TRIP",
                    "length": "82",
                    "movie_lenght": "normal"
                },
                {
                    "title": "ALTER VICTORY",
                    "length": "57",
                    "movie_lenght": "short"
                },
                {
                    "title": "AMADEUS HOLY",
                    "length": "113",
                    "movie_lenght": "long"
                },
                {
                    "title": "AMELIE HELLFIGHTERS",
                    "length": "79",
                    "movie_lenght": "normal"
                },
                {
                    "title": "AMERICAN CIRCUS",
                    "length": "129",
                    "movie_lenght": "extra long"
                },
                {
                    "title": "AMISTAD MIDSUMMER",
                    "length": "85",
                    "movie_lenght": "normal"
                },
                {
                    "title": "ANACONDA CONFESSIONS",
                    "length": "92",
                    "movie_lenght": "long"
                },
                {
                    "title": "ANALYZE HOOSIERS",
                    "length": "181",
                    "movie_lenght": "extra long"
                },
                {
                    "title": "ANGELS LIFE",
                    "length": "74",
                    "movie_lenght": "normal"
                },
                {
                    "title": "ANNIE IDENTITY",
                    "length": "86",
                    "movie_lenght": "normal"
                },
                {
                    "title": "ANONYMOUS HUMAN",
                    "length": "179",
                    "movie_lenght": "extra long"
                },
                {
                    "title": "ANTHEM LUKE",
                    "length": "91",
                    "movie_lenght": "long"
                },
                {
                    "title": "ANTITRUST TOMATOES",
                    "length": "168",
                    "movie_lenght": "extra long"
                },
                {
                    "title": "ANYTHING SAVANNAH",
                    "length": "82",
                    "movie_lenght": "normal"
                },
                {
                    "title": "APACHE DIVINE",
                    "length": "92",
                    "movie_lenght": "long"
                },
                {
                    "title": "APOCALYPSE FLAMINGOS",
                    "length": "119",
                    "movie_lenght": "long"
                },
                {
                    "title": "APOLLO TEEN",
                    "length": "153",
                    "movie_lenght": "extra long"
                },
                {
                    "title": "ARABIA DOGMA",
                    "length": "62",
                    "movie_lenght": "normal"
                },
                {
                    "title": "ARACHNOPHOBIA ROLLERCOASTER",
                    "length": "147",
                    "movie_lenght": "extra long"
                },
                {
                    "title": "ARGONAUTS TOWN",
                    "length": "127",
                    "movie_lenght": "extra long"
                },
                {
                    "title": "ARIZONA BANG",
                    "length": "121",
                    "movie_lenght": "extra long"
                },
                {
                    "title": "ARK RIDGEMONT",
                    "length": "68",
                    "movie_lenght": "normal"
                },
                {
                    "title": "ARMAGEDDON LOST",
                    "length": "99",
                    "movie_lenght": "long"
                },
                {
                    "title": "ARMY FLINTSTONES",
                    "length": "148",
                    "movie_lenght": "extra long"
                },
                {
                    "title": "ARSENIC INDEPENDENCE",
                    "length": "137",
                    "movie_lenght": "extra long"
                },
                {
                    "title": "ARTIST COLDBLOODED",
                    "length": "170",
                    "movie_lenght": "extra long"
                },
                {
                    "title": "ATLANTIS CAUSE",
                    "length": "170",
                    "movie_lenght": "extra long"
                },
                {
                    "title": "ATTACKS HATE",
                    "length": "113",
                    "movie_lenght": "long"
                },
                {
                    "title": "ATTRACTION NEWTON",
                    "length": "83",
                    "movie_lenght": "normal"
                },
                {
                    "title": "AUTUMN CROW",
                    "length": "108",
                    "movie_lenght": "long"
                },
                {
                    "title": "BABY HALL",
                    "length": "153",
                    "movie_lenght": "extra long"
                },
                {
                    "title": "BACKLASH UNDEFEATED",
                    "length": "118",
                    "movie_lenght": "long"
                },
                {
                    "title": "BADMAN DAWN",
                    "length": "162",
                    "movie_lenght": "extra long"
                },
                {
                    "title": "BAKED CLEOPATRA",
                    "length": "182",
                    "movie_lenght": "extra long"
                },
                {
                    "title": "BALLOON HOMEWARD",
                    "length": "75",
                    "movie_lenght": "normal"
                },
                {
                    "title": "BALLROOM MOCKINGBIRD",
                    "length": "173",
                    "movie_lenght": "extra long"
                },
                {
                    "title": "BANG KWAI",
                    "length": "87",
                    "movie_lenght": "normal"
                },
                {
                    "title": "BANGER PINOCCHIO",
                    "length": "113",
                    "movie_lenght": "long"
                },
                {
                    "title": "BARBARELLA STREETCAR",
                    "length": "65",
                    "movie_lenght": "normal"
                },
                {
                    "title": "BAREFOOT MANCHURIAN",
                    "length": "129",
                    "movie_lenght": "extra long"
                },
                {
                    "title": "BASIC EASY",
                    "length": "90",
                    "movie_lenght": "normal"
                },
                {
                    "title": "BEACH HEARTBREAKERS",
                    "length": "122",
                    "movie_lenght": "extra long"
                },
                {
                    "title": "BEAR GRACELAND",
                    "length": "160",
                    "movie_lenght": "extra long"
                },
                {
                    "title": "BEAST HUNCHBACK",
                    "length": "89",
                    "movie_lenght": "normal"
                },
                {
                    "title": "BEAUTY GREASE",
                    "length": "175",
                    "movie_lenght": "extra long"
                },
                {
                    "title": "BED HIGHBALL",
                    "length": "106",
                    "movie_lenght": "long"
                },
                {
                    "title": "BEDAZZLED MARRIED",
                    "length": "73",
                    "movie_lenght": "normal"
                },
                {
                    "title": "BEETHOVEN EXORCIST",
                    "length": "151",
                    "movie_lenght": "extra long"
                },
                {
                    "title": "BEHAVIOR RUNAWAY",
                    "length": "100",
                    "movie_lenght": "long"
                },
                {
                    "title": "BENEATH RUSH",
                    "length": "53",
                    "movie_lenght": "short"
                },
                {
                    "title": "BERETS AGENT",
                    "length": "77",
                    "movie_lenght": "normal"
                },
                {
                    "title": "BETRAYED REAR",
                    "length": "122",
                    "movie_lenght": "extra long"
                },
                {
                    "title": "BEVERLY OUTLAW",
                    "length": "85",
                    "movie_lenght": "normal"
                },
                {
                    "title": "BIKINI BORROWERS",
                    "length": "142",
                    "movie_lenght": "extra long"
                },
                {
                    "title": "BILKO ANONYMOUS",
                    "length": "100",
                    "movie_lenght": "long"
                },
                {
                    "title": "BILL OTHERS",
                    "length": "93",
                    "movie_lenght": "long"
                },
                {
                    "title": "BINGO TALENTED",
                    "length": "150",
                    "movie_lenght": "extra long"
                },
                {
                    "title": "BIRCH ANTITRUST",
                    "length": "162",
                    "movie_lenght": "extra long"
                },
                {
                    "title": "BIRD INDEPENDENCE",
                    "length": "163",
                    "movie_lenght": "extra long"
                },
                {
                    "title": "BIRDCAGE CASPER",
                    "length": "103",
                    "movie_lenght": "long"
                },
                {
                    "title": "BIRDS PERDITION",
                    "length": "61",
                    "movie_lenght": "normal"
                },
                {
                    "title": "BLACKOUT PRIVATE",
                    "length": "85",
                    "movie_lenght": "normal"
                },
                {
                    "title": "BLADE POLISH",
                    "length": "114",
                    "movie_lenght": "long"
                },
                {
                    "title": "BLANKET BEVERLY",
                    "length": "148",
                    "movie_lenght": "extra long"
                },
                {
                    "title": "BLINDNESS GUN",
                    "length": "103",
                    "movie_lenght": "long"
                },
                {
                    "title": "BLOOD ARGONAUTS",
                    "length": "71",
                    "movie_lenght": "normal"
                },
                {
                    "title": "BLUES INSTINCT",
                    "length": "50",
                    "movie_lenght": "short"
                },
                {
                    "title": "BOILED DARES",
                    "length": "102",
                    "movie_lenght": "long"
                },
                {
                    "title": "BONNIE HOLOCAUST",
                    "length": "63",
                    "movie_lenght": "normal"
                },
                {
                    "title": "BOOGIE AMELIE",
                    "length": "121",
                    "movie_lenght": "extra long"
                },
                {
                    "title": "BOONDOCK BALLROOM",
                    "length": "76",
                    "movie_lenght": "normal"
                },
                {
                    "title": "BORN SPINAL",
                    "length": "179",
                    "movie_lenght": "extra long"
                },
                {
                    "title": "BORROWERS BEDAZZLED",
                    "length": "63",
                    "movie_lenght": "normal"
                },
                {
                    "title": "BOULEVARD MOB",
                    "length": "63",
                    "movie_lenght": "normal"
                },
                {
                    "title": "BOUND CHEAPER",
                    "length": "98",
                    "movie_lenght": "long"
                },
                {
                    "title": "BOWFINGER GABLES",
                    "length": "72",
                    "movie_lenght": "normal"
                },
                {
                    "title": "BRANNIGAN SUNRISE",
                    "length": "121",
                    "movie_lenght": "extra long"
                },
                {
                    "title": "BRAVEHEART HUMAN",
                    "length": "176",
                    "movie_lenght": "extra long"
                },
                {
                    "title": "BREAKFAST GOLDFINGER",
                    "length": "123",
                    "movie_lenght": "extra long"
                },
                {
                    "title": "BREAKING HOME",
                    "length": "169",
                    "movie_lenght": "extra long"
                },
                {
                    "title": "BRIDE INTRIGUE",
                    "length": "56",
                    "movie_lenght": "short"
                },
                {
                    "title": "BRIGHT ENCOUNTERS",
                    "length": "73",
                    "movie_lenght": "normal"
                },
                {
                    "title": "BRINGING HYSTERICAL",
                    "length": "136",
                    "movie_lenght": "extra long"
                },
                {
                    "title": "BROOKLYN DESERT",
                    "length": "161",
                    "movie_lenght": "extra long"
                },
                {
                    "title": "BROTHERHOOD BLANKET",
                    "length": "73",
                    "movie_lenght": "normal"
                },
                {
                    "title": "BUBBLE GROSSE",
                    "length": "60",
                    "movie_lenght": "short"
                },
                {
                    "title": "BUCKET BROTHERHOOD",
                    "length": "133",
                    "movie_lenght": "extra long"
                },
                {
                    "title": "BUGSY SONG",
                    "length": "119",
                    "movie_lenght": "long"
                },
                {
                    "title": "BULL SHAWSHANK",
                    "length": "125",
                    "movie_lenght": "extra long"
                },
                {
                    "title": "BULWORTH COMMANDMENTS",
                    "length": "61",
                    "movie_lenght": "normal"
                },
                {
                    "title": "BUNCH MINDS",
                    "length": "63",
                    "movie_lenght": "normal"
                },
                {
                    "title": "BUTCH PANTHER",
                    "length": "67",
                    "movie_lenght": "normal"
                },
                {
                    "title": "BUTTERFLY CHOCOLAT",
                    "length": "89",
                    "movie_lenght": "normal"
                },
                {
                    "title": "CABIN FLASH",
                    "length": "53",
                    "movie_lenght": "short"
                },
                {
                    "title": "CADDYSHACK JEDI",
                    "length": "52",
                    "movie_lenght": "short"
                },
                {
                    "title": "CALENDAR GUNFIGHT",
                    "length": "120",
                    "movie_lenght": "long"
                },
                {
                    "title": "CALIFORNIA BIRDS",
                    "length": "75",
                    "movie_lenght": "normal"
                },
                {
                    "title": "CAMELOT VACATION",
                    "length": "61",
                    "movie_lenght": "normal"
                },
                {
                    "title": "CAMPUS REMEMBER",
                    "length": "167",
                    "movie_lenght": "extra long"
                },
                {
                    "title": "CANDIDATE PERDITION",
                    "length": "70",
                    "movie_lenght": "normal"
                },
                {
                    "title": "CANDLES GRAPES",
                    "length": "135",
                    "movie_lenght": "extra long"
                },
                {
                    "title": "CANYON STOCK",
                    "length": "85",
                    "movie_lenght": "normal"
                },
                {
                    "title": "CAPER MOTIONS",
                    "length": "176",
                    "movie_lenght": "extra long"
                },
                {
                    "title": "CARIBBEAN LIBERTY",
                    "length": "92",
                    "movie_lenght": "long"
                },
                {
                    "title": "CAROL TEXAS",
                    "length": "151",
                    "movie_lenght": "extra long"
                },
                {
                    "title": "CARRIE BUNCH",
                    "length": "114",
                    "movie_lenght": "long"
                },
                {
                    "title": "CASABLANCA SUPER",
                    "length": "85",
                    "movie_lenght": "normal"
                },
                {
                    "title": "CASPER DRAGONFLY",
                    "length": "163",
                    "movie_lenght": "extra long"
                },
                {
                    "title": "CASSIDY WYOMING",
                    "length": "61",
                    "movie_lenght": "normal"
                },
                {
                    "title": "CASUALTIES ENCINO",
                    "length": "179",
                    "movie_lenght": "extra long"
                },
                {
                    "title": "CAT CONEHEADS",
                    "length": "112",
                    "movie_lenght": "long"
                },
                {
                    "title": "CATCH AMISTAD",
                    "length": "183",
                    "movie_lenght": "extra long"
                },
                {
                    "title": "CAUSE DATE",
                    "length": "179",
                    "movie_lenght": "extra long"
                },
                {
                    "title": "CELEBRITY HORN",
                    "length": "110",
                    "movie_lenght": "long"
                },
                {
                    "title": "CENTER DINOSAUR",
                    "length": "152",
                    "movie_lenght": "extra long"
                },
                {
                    "title": "CHAINSAW UPTOWN",
                    "length": "114",
                    "movie_lenght": "long"
                },
                {
                    "title": "CHAMBER ITALIAN",
                    "length": "117",
                    "movie_lenght": "long"
                },
                {
                    "title": "CHAMPION FLATLINERS",
                    "length": "51",
                    "movie_lenght": "short"
                },
                {
                    "title": "CHANCE RESURRECTION",
                    "length": "70",
                    "movie_lenght": "normal"
                },
                {
                    "title": "CHAPLIN LICENSE",
                    "length": "146",
                    "movie_lenght": "extra long"
                },
                {
                    "title": "CHARADE DUFFEL",
                    "length": "66",
                    "movie_lenght": "normal"
                },
                {
                    "title": "CHARIOTS CONSPIRACY",
                    "length": "71",
                    "movie_lenght": "normal"
                },
                {
                    "title": "CHASING FIGHT",
                    "length": "114",
                    "movie_lenght": "long"
                },
                {
                    "title": "CHEAPER CLYDE",
                    "length": "87",
                    "movie_lenght": "normal"
                },
                {
                    "title": "CHICAGO NORTH",
                    "length": "185",
                    "movie_lenght": "extra long"
                },
                {
                    "title": "CHICKEN HELLFIGHTERS",
                    "length": "122",
                    "movie_lenght": "extra long"
                },
                {
                    "title": "CHILL LUCK",
                    "length": "142",
                    "movie_lenght": "extra long"
                },
                {
                    "title": "CHINATOWN GLADIATOR",
                    "length": "61",
                    "movie_lenght": "normal"
                },
                {
                    "title": "CHISUM BEHAVIOR",
                    "length": "124",
                    "movie_lenght": "extra long"
                },
                {
                    "title": "CHITTY LOCK",
                    "length": "107",
                    "movie_lenght": "long"
                },
                {
                    "title": "CHOCOLAT HARRY",
                    "length": "101",
                    "movie_lenght": "long"
                },
                {
                    "title": "CHOCOLATE DUCK",
                    "length": "132",
                    "movie_lenght": "extra long"
                },
                {
                    "title": "CHRISTMAS MOONSHINE",
                    "length": "150",
                    "movie_lenght": "extra long"
                },
                {
                    "title": "CIDER DESIRE",
                    "length": "101",
                    "movie_lenght": "long"
                },
                {
                    "title": "CINCINATTI WHISPERER",
                    "length": "143",
                    "movie_lenght": "extra long"
                },
                {
                    "title": "CIRCUS YOUTH",
                    "length": "90",
                    "movie_lenght": "normal"
                },
                {
                    "title": "CITIZEN SHREK",
                    "length": "165",
                    "movie_lenght": "extra long"
                },
                {
                    "title": "CLASH FREDDY",
                    "length": "81",
                    "movie_lenght": "normal"
                },
                {
                    "title": "CLEOPATRA DEVIL",
                    "length": "150",
                    "movie_lenght": "extra long"
                },
                {
                    "title": "CLERKS ANGELS",
                    "length": "164",
                    "movie_lenght": "extra long"
                },
                {
                    "title": "CLOCKWORK PARADISE",
                    "length": "143",
                    "movie_lenght": "extra long"
                },
                {
                    "title": "CLONES PINOCCHIO",
                    "length": "124",
                    "movie_lenght": "extra long"
                },
                {
                    "title": "CLOSER BANG",
                    "length": "58",
                    "movie_lenght": "short"
                },
                {
                    "title": "CLUB GRAFFITI",
                    "length": "65",
                    "movie_lenght": "normal"
                },
                {
                    "title": "CLUE GRAIL",
                    "length": "70",
                    "movie_lenght": "normal"
                },
                {
                    "title": "CLUELESS BUCKET",
                    "length": "95",
                    "movie_lenght": "long"
                },
                {
                    "title": "CLYDE THEORY",
                    "length": "139",
                    "movie_lenght": "extra long"
                },
                {
                    "title": "COAST RAINBOW",
                    "length": "55",
                    "movie_lenght": "short"
                },
                {
                    "title": "COLDBLOODED DARLING",
                    "length": "70",
                    "movie_lenght": "normal"
                },
                {
                    "title": "COLOR PHILADELPHIA",
                    "length": "149",
                    "movie_lenght": "extra long"
                },
                {
                    "title": "COMA HEAD",
                    "length": "109",
                    "movie_lenght": "long"
                },
                {
                    "title": "COMANCHEROS ENEMY",
                    "length": "67",
                    "movie_lenght": "normal"
                },
                {
                    "title": "COMFORTS RUSH",
                    "length": "76",
                    "movie_lenght": "normal"
                },
                {
                    "title": "COMMAND DARLING",
                    "length": "120",
                    "movie_lenght": "long"
                },
                {
                    "title": "COMMANDMENTS EXPRESS",
                    "length": "59",
                    "movie_lenght": "short"
                },
                {
                    "title": "CONEHEADS SMOOCHY",
                    "length": "112",
                    "movie_lenght": "long"
                },
                {
                    "title": "CONFESSIONS MAGUIRE",
                    "length": "65",
                    "movie_lenght": "normal"
                },
                {
                    "title": "CONFIDENTIAL INTERVIEW",
                    "length": "180",
                    "movie_lenght": "extra long"
                },
                {
                    "title": "CONFUSED CANDLES",
                    "length": "122",
                    "movie_lenght": "extra long"
                },
                {
                    "title": "CONGENIALITY QUEST",
                    "length": "87",
                    "movie_lenght": "normal"
                },
                {
                    "title": "CONNECTICUT TRAMP",
                    "length": "172",
                    "movie_lenght": "extra long"
                },
                {
                    "title": "CONNECTION MICROCOSMOS",
                    "length": "115",
                    "movie_lenght": "long"
                },
                {
                    "title": "CONQUERER NUTS",
                    "length": "173",
                    "movie_lenght": "extra long"
                },
                {
                    "title": "CONSPIRACY SPIRIT",
                    "length": "184",
                    "movie_lenght": "extra long"
                },
                {
                    "title": "CONTACT ANONYMOUS",
                    "length": "166",
                    "movie_lenght": "extra long"
                },
                {
                    "title": "CONTROL ANTHEM",
                    "length": "185",
                    "movie_lenght": "extra long"
                },
                {
                    "title": "CONVERSATION DOWNHILL",
                    "length": "112",
                    "movie_lenght": "long"
                },
                {
                    "title": "CORE SUIT",
                    "length": "92",
                    "movie_lenght": "long"
                },
                {
                    "title": "COWBOY DOOM",
                    "length": "146",
                    "movie_lenght": "extra long"
                },
                {
                    "title": "CRAFT OUTFIELD",
                    "length": "64",
                    "movie_lenght": "normal"
                },
                {
                    "title": "CRANES RESERVOIR",
                    "length": "57",
                    "movie_lenght": "short"
                },
                {
                    "title": "CRAZY HOME",
                    "length": "136",
                    "movie_lenght": "extra long"
                },
                {
                    "title": "CREATURES SHAKESPEARE",
                    "length": "139",
                    "movie_lenght": "extra long"
                },
                {
                    "title": "CREEPERS KANE",
                    "length": "172",
                    "movie_lenght": "extra long"
                },
                {
                    "title": "CROOKED FROGMEN",
                    "length": "143",
                    "movie_lenght": "extra long"
                },
                {
                    "title": "CROSSING DIVORCE",
                    "length": "50",
                    "movie_lenght": "short"
                },
                {
                    "title": "CROSSROADS CASUALTIES",
                    "length": "153",
                    "movie_lenght": "extra long"
                },
                {
                    "title": "CROW GREASE",
                    "length": "104",
                    "movie_lenght": "long"
                },
                {
                    "title": "CROWDS TELEMARK",
                    "length": "112",
                    "movie_lenght": "long"
                },
                {
                    "title": "CRUELTY UNFORGIVEN",
                    "length": "69",
                    "movie_lenght": "normal"
                },
                {
                    "title": "CRUSADE HONEY",
                    "length": "112",
                    "movie_lenght": "long"
                },
                {
                    "title": "CRYSTAL BREAKING",
                    "length": "184",
                    "movie_lenght": "extra long"
                },
                {
                    "title": "CUPBOARD SINNERS",
                    "length": "56",
                    "movie_lenght": "short"
                },
                {
                    "title": "CURTAIN VIDEOTAPE",
                    "length": "133",
                    "movie_lenght": "extra long"
                },
                {
                    "title": "CYCLONE FAMILY",
                    "length": "176",
                    "movie_lenght": "extra long"
                },
                {
                    "title": "DADDY PITTSBURGH",
                    "length": "161",
                    "movie_lenght": "extra long"
                },
                {
                    "title": "DAISY MENAGERIE",
                    "length": "84",
                    "movie_lenght": "normal"
                },
                {
                    "title": "DALMATIONS SWEDEN",
                    "length": "106",
                    "movie_lenght": "long"
                },
                {
                    "title": "DANCES NONE",
                    "length": "58",
                    "movie_lenght": "short"
                },
                {
                    "title": "DANCING FEVER",
                    "length": "144",
                    "movie_lenght": "extra long"
                },
                {
                    "title": "DANGEROUS UPTOWN",
                    "length": "121",
                    "movie_lenght": "extra long"
                },
                {
                    "title": "DARES PLUTO",
                    "length": "89",
                    "movie_lenght": "normal"
                },
                {
                    "title": "DARKNESS WAR",
                    "length": "99",
                    "movie_lenght": "long"
                },
                {
                    "title": "DARKO DORADO",
                    "length": "130",
                    "movie_lenght": "extra long"
                },
                {
                    "title": "DARLING BREAKING",
                    "length": "165",
                    "movie_lenght": "extra long"
                },
                {
                    "title": "DARN FORRESTER",
                    "length": "185",
                    "movie_lenght": "extra long"
                },
                {
                    "title": "DATE SPEED",
                    "length": "104",
                    "movie_lenght": "long"
                },
                {
                    "title": "DAUGHTER MADIGAN",
                    "length": "59",
                    "movie_lenght": "short"
                },
                {
                    "title": "DAWN POND",
                    "length": "57",
                    "movie_lenght": "short"
                },
                {
                    "title": "DAY UNFAITHFUL",
                    "length": "113",
                    "movie_lenght": "long"
                },
                {
                    "title": "DAZED PUNK",
                    "length": "120",
                    "movie_lenght": "long"
                },
                {
                    "title": "DECEIVER BETRAYED",
                    "length": "122",
                    "movie_lenght": "extra long"
                },
                {
                    "title": "DEEP CRUSADE",
                    "length": "51",
                    "movie_lenght": "short"
                },
                {
                    "title": "DEER VIRGINIAN",
                    "length": "106",
                    "movie_lenght": "long"
                },
                {
                    "title": "DELIVERANCE MULHOLLAND",
                    "length": "100",
                    "movie_lenght": "long"
                },
                {
                    "title": "DESERT POSEIDON",
                    "length": "64",
                    "movie_lenght": "normal"
                },
                {
                    "title": "DESIRE ALIEN",
                    "length": "76",
                    "movie_lenght": "normal"
                },
                {
                    "title": "DESPERATE TRAINSPOTTING",
                    "length": "81",
                    "movie_lenght": "normal"
                },
                {
                    "title": "DESTINATION JERK",
                    "length": "76",
                    "movie_lenght": "normal"
                },
                {
                    "title": "DESTINY SATURDAY",
                    "length": "56",
                    "movie_lenght": "short"
                },
                {
                    "title": "DETAILS PACKER",
                    "length": "88",
                    "movie_lenght": "normal"
                },
                {
                    "title": "DETECTIVE VISION",
                    "length": "143",
                    "movie_lenght": "extra long"
                },
                {
                    "title": "DEVIL DESIRE",
                    "length": "87",
                    "movie_lenght": "normal"
                },
                {
                    "title": "DIARY PANIC",
                    "length": "107",
                    "movie_lenght": "long"
                },
                {
                    "title": "DINOSAUR SECRETARY",
                    "length": "63",
                    "movie_lenght": "normal"
                },
                {
                    "title": "DIRTY ACE",
                    "length": "147",
                    "movie_lenght": "extra long"
                },
                {
                    "title": "DISCIPLE MOTHER",
                    "length": "141",
                    "movie_lenght": "extra long"
                },
                {
                    "title": "DISTURBING SCARFACE",
                    "length": "94",
                    "movie_lenght": "long"
                },
                {
                    "title": "DIVIDE MONSTER",
                    "length": "68",
                    "movie_lenght": "normal"
                },
                {
                    "title": "DIVINE RESURRECTION",
                    "length": "100",
                    "movie_lenght": "long"
                },
                {
                    "title": "DIVORCE SHINING",
                    "length": "47",
                    "movie_lenght": "short"
                },
                {
                    "title": "DOCTOR GRAIL",
                    "length": "57",
                    "movie_lenght": "short"
                },
                {
                    "title": "DOGMA FAMILY",
                    "length": "122",
                    "movie_lenght": "extra long"
                },
                {
                    "title": "DOLLS RAGE",
                    "length": "120",
                    "movie_lenght": "long"
                },
                {
                    "title": "DONNIE ALLEY",
                    "length": "125",
                    "movie_lenght": "extra long"
                },
                {
                    "title": "DOOM DANCING",
                    "length": "68",
                    "movie_lenght": "normal"
                },
                {
                    "title": "DOORS PRESIDENT",
                    "length": "49",
                    "movie_lenght": "short"
                },
                {
                    "title": "DORADO NOTTING",
                    "length": "139",
                    "movie_lenght": "extra long"
                },
                {
                    "title": "DOUBLE WRATH",
                    "length": "177",
                    "movie_lenght": "extra long"
                },
                {
                    "title": "DOUBTFIRE LABYRINTH",
                    "length": "154",
                    "movie_lenght": "extra long"
                },
                {
                    "title": "DOWNHILL ENOUGH",
                    "length": "47",
                    "movie_lenght": "short"
                },
                {
                    "title": "DOZEN LION",
                    "length": "177",
                    "movie_lenght": "extra long"
                },
                {
                    "title": "DRACULA CRYSTAL",
                    "length": "176",
                    "movie_lenght": "extra long"
                },
                {
                    "title": "DRAGON SQUAD",
                    "length": "170",
                    "movie_lenght": "extra long"
                },
                {
                    "title": "DRAGONFLY STRANGERS",
                    "length": "133",
                    "movie_lenght": "extra long"
                },
                {
                    "title": "DREAM PICKUP",
                    "length": "135",
                    "movie_lenght": "extra long"
                },
                {
                    "title": "DRIFTER COMMANDMENTS",
                    "length": "61",
                    "movie_lenght": "normal"
                },
                {
                    "title": "DRIVER ANNIE",
                    "length": "159",
                    "movie_lenght": "extra long"
                },
                {
                    "title": "DRIVING POLISH",
                    "length": "175",
                    "movie_lenght": "extra long"
                },
                {
                    "title": "DROP WATERFRONT",
                    "length": "178",
                    "movie_lenght": "extra long"
                },
                {
                    "title": "DRUMLINE CYCLONE",
                    "length": "110",
                    "movie_lenght": "long"
                },
                {
                    "title": "DRUMS DYNAMITE",
                    "length": "96",
                    "movie_lenght": "long"
                },
                {
                    "title": "DUCK RACER",
                    "length": "116",
                    "movie_lenght": "long"
                },
                {
                    "title": "DUDE BLINDNESS",
                    "length": "132",
                    "movie_lenght": "extra long"
                },
                {
                    "title": "DUFFEL APOCALYPSE",
                    "length": "171",
                    "movie_lenght": "extra long"
                },
                {
                    "title": "DUMBO LUST",
                    "length": "119",
                    "movie_lenght": "long"
                },
                {
                    "title": "DURHAM PANKY",
                    "length": "154",
                    "movie_lenght": "extra long"
                },
                {
                    "title": "DWARFS ALTER",
                    "length": "101",
                    "movie_lenght": "long"
                },
                {
                    "title": "DYING MAKER",
                    "length": "168",
                    "movie_lenght": "extra long"
                },
                {
                    "title": "DYNAMITE TARZAN",
                    "length": "141",
                    "movie_lenght": "extra long"
                },
                {
                    "title": "EAGLES PANKY",
                    "length": "140",
                    "movie_lenght": "extra long"
                },
                {
                    "title": "EARLY HOME",
                    "length": "96",
                    "movie_lenght": "long"
                },
                {
                    "title": "EARRING INSTINCT",
                    "length": "98",
                    "movie_lenght": "long"
                },
                {
                    "title": "EARTH VISION",
                    "length": "85",
                    "movie_lenght": "normal"
                },
                {
                    "title": "EASY GLADIATOR",
                    "length": "148",
                    "movie_lenght": "extra long"
                },
                {
                    "title": "EDGE KISSING",
                    "length": "153",
                    "movie_lenght": "extra long"
                },
                {
                    "title": "EFFECT GLADIATOR",
                    "length": "107",
                    "movie_lenght": "long"
                },
                {
                    "title": "EGG IGBY",
                    "length": "67",
                    "movie_lenght": "normal"
                },
                {
                    "title": "EGYPT TENENBAUMS",
                    "length": "85",
                    "movie_lenght": "normal"
                },
                {
                    "title": "ELEMENT FREDDY",
                    "length": "115",
                    "movie_lenght": "long"
                },
                {
                    "title": "ELEPHANT TROJAN",
                    "length": "126",
                    "movie_lenght": "extra long"
                },
                {
                    "title": "ELF MURDER",
                    "length": "155",
                    "movie_lenght": "extra long"
                },
                {
                    "title": "ELIZABETH SHANE",
                    "length": "152",
                    "movie_lenght": "extra long"
                },
                {
                    "title": "EMPIRE MALKOVICH",
                    "length": "177",
                    "movie_lenght": "extra long"
                },
                {
                    "title": "ENCINO ELF",
                    "length": "143",
                    "movie_lenght": "extra long"
                },
                {
                    "title": "ENCOUNTERS CURTAIN",
                    "length": "92",
                    "movie_lenght": "long"
                },
                {
                    "title": "ENDING CROWDS",
                    "length": "85",
                    "movie_lenght": "normal"
                },
                {
                    "title": "ENEMY ODDS",
                    "length": "77",
                    "movie_lenght": "normal"
                },
                {
                    "title": "ENGLISH BULWORTH",
                    "length": "51",
                    "movie_lenght": "short"
                },
                {
                    "title": "ENOUGH RAGING",
                    "length": "158",
                    "movie_lenght": "extra long"
                },
                {
                    "title": "ENTRAPMENT SATISFACTION",
                    "length": "176",
                    "movie_lenght": "extra long"
                },
                {
                    "title": "ESCAPE METROPOLIS",
                    "length": "167",
                    "movie_lenght": "extra long"
                },
                {
                    "title": "EVE RESURRECTION",
                    "length": "66",
                    "movie_lenght": "normal"
                },
                {
                    "title": "EVERYONE CRAFT",
                    "length": "163",
                    "movie_lenght": "extra long"
                },
                {
                    "title": "EVOLUTION ALTER",
                    "length": "174",
                    "movie_lenght": "extra long"
                },
                {
                    "title": "EXCITEMENT EVE",
                    "length": "51",
                    "movie_lenght": "short"
                },
                {
                    "title": "EXORCIST STING",
                    "length": "167",
                    "movie_lenght": "extra long"
                },
                {
                    "title": "EXPECATIONS NATURAL",
                    "length": "138",
                    "movie_lenght": "extra long"
                },
                {
                    "title": "EXPENDABLE STALLION",
                    "length": "97",
                    "movie_lenght": "long"
                },
                {
                    "title": "EXPRESS LONELY",
                    "length": "178",
                    "movie_lenght": "extra long"
                },
                {
                    "title": "EXTRAORDINARY CONQUERER",
                    "length": "122",
                    "movie_lenght": "extra long"
                },
                {
                    "title": "EYES DRIVING",
                    "length": "172",
                    "movie_lenght": "extra long"
                },
                {
                    "title": "FACTORY DRAGON",
                    "length": "144",
                    "movie_lenght": "extra long"
                },
                {
                    "title": "FALCON VOLUME",
                    "length": "102",
                    "movie_lenght": "long"
                },
                {
                    "title": "FAMILY SWEET",
                    "length": "155",
                    "movie_lenght": "extra long"
                },
                {
                    "title": "FANTASIA PARK",
                    "length": "131",
                    "movie_lenght": "extra long"
                },
                {
                    "title": "FANTASY TROOPERS",
                    "length": "58",
                    "movie_lenght": "short"
                },
                {
                    "title": "FARGO GANDHI",
                    "length": "130",
                    "movie_lenght": "extra long"
                },
                {
                    "title": "FATAL HAUNTED",
                    "length": "91",
                    "movie_lenght": "long"
                },
                {
                    "title": "FEATHERS METAL",
                    "length": "104",
                    "movie_lenght": "long"
                },
                {
                    "title": "FELLOWSHIP AUTUMN",
                    "length": "77",
                    "movie_lenght": "normal"
                },
                {
                    "title": "FERRIS MOTHER",
                    "length": "142",
                    "movie_lenght": "extra long"
                },
                {
                    "title": "FEUD FROGMEN",
                    "length": "98",
                    "movie_lenght": "long"
                },
                {
                    "title": "FEVER EMPIRE",
                    "length": "158",
                    "movie_lenght": "extra long"
                },
                {
                    "title": "FICTION CHRISTMAS",
                    "length": "72",
                    "movie_lenght": "normal"
                },
                {
                    "title": "FIDDLER LOST",
                    "length": "75",
                    "movie_lenght": "normal"
                },
                {
                    "title": "FIDELITY DEVIL",
                    "length": "118",
                    "movie_lenght": "long"
                },
                {
                    "title": "FIGHT JAWBREAKER",
                    "length": "91",
                    "movie_lenght": "long"
                },
                {
                    "title": "FINDING ANACONDA",
                    "length": "156",
                    "movie_lenght": "extra long"
                },
                {
                    "title": "FIRE WOLVES",
                    "length": "173",
                    "movie_lenght": "extra long"
                },
                {
                    "title": "FIREBALL PHILADELPHIA",
                    "length": "148",
                    "movie_lenght": "extra long"
                },
                {
                    "title": "FIREHOUSE VIETNAM",
                    "length": "103",
                    "movie_lenght": "long"
                },
                {
                    "title": "FISH OPUS",
                    "length": "125",
                    "movie_lenght": "extra long"
                },
                {
                    "title": "FLAMINGOS CONNECTICUT",
                    "length": "80",
                    "movie_lenght": "normal"
                },
                {
                    "title": "FLASH WARS",
                    "length": "123",
                    "movie_lenght": "extra long"
                },
                {
                    "title": "FLATLINERS KILLER",
                    "length": "100",
                    "movie_lenght": "long"
                },
                {
                    "title": "FLIGHT LIES",
                    "length": "179",
                    "movie_lenght": "extra long"
                },
                {
                    "title": "FLINTSTONES HAPPINESS",
                    "length": "148",
                    "movie_lenght": "extra long"
                },
                {
                    "title": "FLOATS GARDEN",
                    "length": "145",
                    "movie_lenght": "extra long"
                },
                {
                    "title": "FLYING HOOK",
                    "length": "69",
                    "movie_lenght": "normal"
                },
                {
                    "title": "FOOL MOCKINGBIRD",
                    "length": "158",
                    "movie_lenght": "extra long"
                },
                {
                    "title": "FOREVER CANDIDATE",
                    "length": "131",
                    "movie_lenght": "extra long"
                },
                {
                    "title": "FORREST SONS",
                    "length": "63",
                    "movie_lenght": "normal"
                },
                {
                    "title": "FORRESTER COMANCHEROS",
                    "length": "112",
                    "movie_lenght": "long"
                },
                {
                    "title": "FORWARD TEMPLE",
                    "length": "90",
                    "movie_lenght": "normal"
                },
                {
                    "title": "FRANKENSTEIN STRANGER",
                    "length": "159",
                    "movie_lenght": "extra long"
                },
                {
                    "title": "FREAKY POCUS",
                    "length": "126",
                    "movie_lenght": "extra long"
                },
                {
                    "title": "FREDDY STORM",
                    "length": "65",
                    "movie_lenght": "normal"
                },
                {
                    "title": "FREEDOM CLEOPATRA",
                    "length": "133",
                    "movie_lenght": "extra long"
                },
                {
                    "title": "FRENCH HOLIDAY",
                    "length": "99",
                    "movie_lenght": "long"
                },
                {
                    "title": "FRIDA SLIPPER",
                    "length": "73",
                    "movie_lenght": "normal"
                },
                {
                    "title": "FRISCO FORREST",
                    "length": "51",
                    "movie_lenght": "short"
                },
                {
                    "title": "FROGMEN BREAKING",
                    "length": "111",
                    "movie_lenght": "long"
                },
                {
                    "title": "FRONTIER CABIN",
                    "length": "183",
                    "movie_lenght": "extra long"
                },
                {
                    "title": "FROST HEAD",
                    "length": "82",
                    "movie_lenght": "normal"
                },
                {
                    "title": "FUGITIVE MAGUIRE",
                    "length": "83",
                    "movie_lenght": "normal"
                },
                {
                    "title": "FULL FLATLINERS",
                    "length": "94",
                    "movie_lenght": "long"
                },
                {
                    "title": "FURY MURDER",
                    "length": "178",
                    "movie_lenght": "extra long"
                },
                {
                    "title": "GABLES METROPOLIS",
                    "length": "161",
                    "movie_lenght": "extra long"
                },
                {
                    "title": "GALAXY SWEETHEARTS",
                    "length": "128",
                    "movie_lenght": "extra long"
                },
                {
                    "title": "GAMES BOWFINGER",
                    "length": "119",
                    "movie_lenght": "long"
                },
                {
                    "title": "GANDHI KWAI",
                    "length": "86",
                    "movie_lenght": "normal"
                },
                {
                    "title": "GANGS PRIDE",
                    "length": "185",
                    "movie_lenght": "extra long"
                },
                {
                    "title": "GARDEN ISLAND",
                    "length": "80",
                    "movie_lenght": "normal"
                },
                {
                    "title": "GASLIGHT CRUSADE",
                    "length": "106",
                    "movie_lenght": "long"
                },
                {
                    "title": "GATHERING CALENDAR",
                    "length": "176",
                    "movie_lenght": "extra long"
                },
                {
                    "title": "GENTLEMEN STAGE",
                    "length": "125",
                    "movie_lenght": "extra long"
                },
                {
                    "title": "GHOST GROUNDHOG",
                    "length": "85",
                    "movie_lenght": "normal"
                },
                {
                    "title": "GHOSTBUSTERS ELF",
                    "length": "101",
                    "movie_lenght": "long"
                },
                {
                    "title": "GIANT TROOPERS",
                    "length": "102",
                    "movie_lenght": "long"
                },
                {
                    "title": "GILBERT PELICAN",
                    "length": "114",
                    "movie_lenght": "long"
                },
                {
                    "title": "GILMORE BOILED",
                    "length": "163",
                    "movie_lenght": "extra long"
                },
                {
                    "title": "GLADIATOR WESTWARD",
                    "length": "173",
                    "movie_lenght": "extra long"
                },
                {
                    "title": "GLASS DYING",
                    "length": "103",
                    "movie_lenght": "long"
                },
                {
                    "title": "GLEAMING JAWBREAKER",
                    "length": "89",
                    "movie_lenght": "normal"
                },
                {
                    "title": "GLORY TRACY",
                    "length": "115",
                    "movie_lenght": "long"
                },
                {
                    "title": "GO PURPLE",
                    "length": "54",
                    "movie_lenght": "short"
                },
                {
                    "title": "GODFATHER DIARY",
                    "length": "73",
                    "movie_lenght": "normal"
                },
                {
                    "title": "GOLD RIVER",
                    "length": "154",
                    "movie_lenght": "extra long"
                },
                {
                    "title": "GOLDFINGER SENSIBILITY",
                    "length": "93",
                    "movie_lenght": "long"
                },
                {
                    "title": "GOLDMINE TYCOON",
                    "length": "153",
                    "movie_lenght": "extra long"
                },
                {
                    "title": "GONE TROUBLE",
                    "length": "84",
                    "movie_lenght": "normal"
                },
                {
                    "title": "GOODFELLAS SALUTE",
                    "length": "56",
                    "movie_lenght": "short"
                },
                {
                    "title": "GORGEOUS BINGO",
                    "length": "108",
                    "movie_lenght": "long"
                },
                {
                    "title": "GOSFORD DONNIE",
                    "length": "129",
                    "movie_lenght": "extra long"
                },
                {
                    "title": "GRACELAND DYNAMITE",
                    "length": "140",
                    "movie_lenght": "extra long"
                },
                {
                    "title": "GRADUATE LORD",
                    "length": "156",
                    "movie_lenght": "extra long"
                },
                {
                    "title": "GRAFFITI LOVE",
                    "length": "117",
                    "movie_lenght": "long"
                },
                {
                    "title": "GRAIL FRANKENSTEIN",
                    "length": "85",
                    "movie_lenght": "normal"
                },
                {
                    "title": "GRAPES FURY",
                    "length": "155",
                    "movie_lenght": "extra long"
                },
                {
                    "title": "GREASE YOUTH",
                    "length": "135",
                    "movie_lenght": "extra long"
                },
                {
                    "title": "GREATEST NORTH",
                    "length": "93",
                    "movie_lenght": "long"
                },
                {
                    "title": "GREEDY ROOTS",
                    "length": "166",
                    "movie_lenght": "extra long"
                },
                {
                    "title": "GREEK EVERYONE",
                    "length": "176",
                    "movie_lenght": "extra long"
                },
                {
                    "title": "GRINCH MASSAGE",
                    "length": "150",
                    "movie_lenght": "extra long"
                },
                {
                    "title": "GRIT CLOCKWORK",
                    "length": "137",
                    "movie_lenght": "extra long"
                },
                {
                    "title": "GROOVE FICTION",
                    "length": "111",
                    "movie_lenght": "long"
                },
                {
                    "title": "GROSSE WONDERFUL",
                    "length": "49",
                    "movie_lenght": "short"
                },
                {
                    "title": "GROUNDHOG UNCUT",
                    "length": "139",
                    "movie_lenght": "extra long"
                },
                {
                    "title": "GUMP DATE",
                    "length": "53",
                    "movie_lenght": "short"
                },
                {
                    "title": "GUN BONNIE",
                    "length": "100",
                    "movie_lenght": "long"
                },
                {
                    "title": "GUNFIGHT MOON",
                    "length": "70",
                    "movie_lenght": "normal"
                },
                {
                    "title": "GUNFIGHTER MUSSOLINI",
                    "length": "127",
                    "movie_lenght": "extra long"
                },
                {
                    "title": "GUYS FALCON",
                    "length": "84",
                    "movie_lenght": "normal"
                },
                {
                    "title": "HALF OUTFIELD",
                    "length": "146",
                    "movie_lenght": "extra long"
                },
                {
                    "title": "HALL CASSIDY",
                    "length": "51",
                    "movie_lenght": "short"
                },
                {
                    "title": "HALLOWEEN NUTS",
                    "length": "47",
                    "movie_lenght": "short"
                },
                {
                    "title": "HAMLET WISDOM",
                    "length": "146",
                    "movie_lenght": "extra long"
                },
                {
                    "title": "HANDICAP BOONDOCK",
                    "length": "108",
                    "movie_lenght": "long"
                },
                {
                    "title": "HANGING DEEP",
                    "length": "62",
                    "movie_lenght": "normal"
                },
                {
                    "title": "HANKY OCTOBER",
                    "length": "107",
                    "movie_lenght": "long"
                },
                {
                    "title": "HANOVER GALAXY",
                    "length": "47",
                    "movie_lenght": "short"
                },
                {
                    "title": "HAPPINESS UNITED",
                    "length": "100",
                    "movie_lenght": "long"
                },
                {
                    "title": "HARDLY ROBBERS",
                    "length": "72",
                    "movie_lenght": "normal"
                },
                {
                    "title": "HAROLD FRENCH",
                    "length": "168",
                    "movie_lenght": "extra long"
                },
                {
                    "title": "HARPER DYING",
                    "length": "52",
                    "movie_lenght": "short"
                },
                {
                    "title": "HARRY IDAHO",
                    "length": "121",
                    "movie_lenght": "extra long"
                },
                {
                    "title": "HATE HANDICAP",
                    "length": "107",
                    "movie_lenght": "long"
                },
                {
                    "title": "HAUNTED ANTITRUST",
                    "length": "76",
                    "movie_lenght": "normal"
                },
                {
                    "title": "HAUNTING PIANIST",
                    "length": "181",
                    "movie_lenght": "extra long"
                },
                {
                    "title": "HAWK CHILL",
                    "length": "47",
                    "movie_lenght": "short"
                },
                {
                    "title": "HEAD STRANGER",
                    "length": "69",
                    "movie_lenght": "normal"
                },
                {
                    "title": "HEARTBREAKERS BRIGHT",
                    "length": "59",
                    "movie_lenght": "short"
                },
                {
                    "title": "HEAVEN FREEDOM",
                    "length": "48",
                    "movie_lenght": "short"
                },
                {
                    "title": "HEAVENLY GUN",
                    "length": "49",
                    "movie_lenght": "short"
                },
                {
                    "title": "HEAVYWEIGHTS BEAST",
                    "length": "102",
                    "movie_lenght": "long"
                },
                {
                    "title": "HEDWIG ALTER",
                    "length": "169",
                    "movie_lenght": "extra long"
                },
                {
                    "title": "HELLFIGHTERS SIERRA",
                    "length": "75",
                    "movie_lenght": "normal"
                },
                {
                    "title": "HIGH ENCINO",
                    "length": "84",
                    "movie_lenght": "normal"
                },
                {
                    "title": "HIGHBALL POTTER",
                    "length": "110",
                    "movie_lenght": "long"
                },
                {
                    "title": "HILLS NEIGHBORS",
                    "length": "93",
                    "movie_lenght": "long"
                },
                {
                    "title": "HOBBIT ALIEN",
                    "length": "157",
                    "movie_lenght": "extra long"
                },
                {
                    "title": "HOCUS FRIDA",
                    "length": "141",
                    "movie_lenght": "extra long"
                },
                {
                    "title": "HOLES BRANNIGAN",
                    "length": "128",
                    "movie_lenght": "extra long"
                },
                {
                    "title": "HOLIDAY GAMES",
                    "length": "78",
                    "movie_lenght": "normal"
                },
                {
                    "title": "HOLLOW JEOPARDY",
                    "length": "136",
                    "movie_lenght": "extra long"
                },
                {
                    "title": "HOLLYWOOD ANONYMOUS",
                    "length": "69",
                    "movie_lenght": "normal"
                },
                {
                    "title": "HOLOCAUST HIGHBALL",
                    "length": "149",
                    "movie_lenght": "extra long"
                },
                {
                    "title": "HOLY TADPOLE",
                    "length": "88",
                    "movie_lenght": "normal"
                },
                {
                    "title": "HOME PITY",
                    "length": "185",
                    "movie_lenght": "extra long"
                },
                {
                    "title": "HOMEWARD CIDER",
                    "length": "103",
                    "movie_lenght": "long"
                },
                {
                    "title": "HOMICIDE PEACH",
                    "length": "141",
                    "movie_lenght": "extra long"
                },
                {
                    "title": "HONEY TIES",
                    "length": "84",
                    "movie_lenght": "normal"
                },
                {
                    "title": "HOOK CHARIOTS",
                    "length": "49",
                    "movie_lenght": "short"
                },
                {
                    "title": "HOOSIERS BIRDCAGE",
                    "length": "176",
                    "movie_lenght": "extra long"
                },
                {
                    "title": "HOPE TOOTSIE",
                    "length": "139",
                    "movie_lenght": "extra long"
                },
                {
                    "title": "HORN WORKING",
                    "length": "95",
                    "movie_lenght": "long"
                },
                {
                    "title": "HORROR REIGN",
                    "length": "139",
                    "movie_lenght": "extra long"
                },
                {
                    "title": "HOTEL HAPPINESS",
                    "length": "181",
                    "movie_lenght": "extra long"
                },
                {
                    "title": "HOURS RAGE",
                    "length": "122",
                    "movie_lenght": "extra long"
                },
                {
                    "title": "HOUSE DYNAMITE",
                    "length": "109",
                    "movie_lenght": "long"
                },
                {
                    "title": "HUMAN GRAFFITI",
                    "length": "68",
                    "movie_lenght": "normal"
                },
                {
                    "title": "HUNCHBACK IMPOSSIBLE",
                    "length": "151",
                    "movie_lenght": "extra long"
                },
                {
                    "title": "HUNGER ROOF",
                    "length": "105",
                    "movie_lenght": "long"
                },
                {
                    "title": "HUNTER ALTER",
                    "length": "125",
                    "movie_lenght": "extra long"
                },
                {
                    "title": "HUNTING MUSKETEERS",
                    "length": "65",
                    "movie_lenght": "normal"
                },
                {
                    "title": "HURRICANE AFFAIR",
                    "length": "49",
                    "movie_lenght": "short"
                },
                {
                    "title": "HUSTLER PARTY",
                    "length": "83",
                    "movie_lenght": "normal"
                },
                {
                    "title": "HYDE DOCTOR",
                    "length": "100",
                    "movie_lenght": "long"
                },
                {
                    "title": "HYSTERICAL GRAIL",
                    "length": "150",
                    "movie_lenght": "extra long"
                },
                {
                    "title": "ICE CROSSING",
                    "length": "131",
                    "movie_lenght": "extra long"
                },
                {
                    "title": "IDAHO LOVE",
                    "length": "172",
                    "movie_lenght": "extra long"
                },
                {
                    "title": "IDENTITY LOVER",
                    "length": "119",
                    "movie_lenght": "long"
                },
                {
                    "title": "IDOLS SNATCHERS",
                    "length": "84",
                    "movie_lenght": "normal"
                },
                {
                    "title": "IGBY MAKER",
                    "length": "160",
                    "movie_lenght": "extra long"
                },
                {
                    "title": "ILLUSION AMELIE",
                    "length": "122",
                    "movie_lenght": "extra long"
                },
                {
                    "title": "IMAGE PRINCESS",
                    "length": "178",
                    "movie_lenght": "extra long"
                },
                {
                    "title": "IMPACT ALADDIN",
                    "length": "180",
                    "movie_lenght": "extra long"
                },
                {
                    "title": "IMPOSSIBLE PREJUDICE",
                    "length": "103",
                    "movie_lenght": "long"
                },
                {
                    "title": "INCH JET",
                    "length": "167",
                    "movie_lenght": "extra long"
                },
                {
                    "title": "INDEPENDENCE HOTEL",
                    "length": "157",
                    "movie_lenght": "extra long"
                },
                {
                    "title": "INDIAN LOVE",
                    "length": "135",
                    "movie_lenght": "extra long"
                },
                {
                    "title": "INFORMER DOUBLE",
                    "length": "74",
                    "movie_lenght": "normal"
                },
                {
                    "title": "INNOCENT USUAL",
                    "length": "178",
                    "movie_lenght": "extra long"
                },
                {
                    "title": "INSECTS STONE",
                    "length": "123",
                    "movie_lenght": "extra long"
                },
                {
                    "title": "INSIDER ARIZONA",
                    "length": "78",
                    "movie_lenght": "normal"
                },
                {
                    "title": "INSTINCT AIRPORT",
                    "length": "116",
                    "movie_lenght": "long"
                },
                {
                    "title": "INTENTIONS EMPIRE",
                    "length": "107",
                    "movie_lenght": "long"
                },
                {
                    "title": "INTERVIEW LIAISONS",
                    "length": "59",
                    "movie_lenght": "short"
                },
                {
                    "title": "INTOLERABLE INTENTIONS",
                    "length": "63",
                    "movie_lenght": "normal"
                },
                {
                    "title": "INTRIGUE WORST",
                    "length": "181",
                    "movie_lenght": "extra long"
                },
                {
                    "title": "INVASION CYCLONE",
                    "length": "97",
                    "movie_lenght": "long"
                },
                {
                    "title": "IRON MOON",
                    "length": "46",
                    "movie_lenght": "short"
                },
                {
                    "title": "ISHTAR ROCKETEER",
                    "length": "79",
                    "movie_lenght": "normal"
                },
                {
                    "title": "ISLAND EXORCIST",
                    "length": "84",
                    "movie_lenght": "normal"
                },
                {
                    "title": "ITALIAN AFRICAN",
                    "length": "174",
                    "movie_lenght": "extra long"
                },
                {
                    "title": "JACKET FRISCO",
                    "length": "181",
                    "movie_lenght": "extra long"
                },
                {
                    "title": "JADE BUNCH",
                    "length": "174",
                    "movie_lenght": "extra long"
                },
                {
                    "title": "JAPANESE RUN",
                    "length": "135",
                    "movie_lenght": "extra long"
                },
                {
                    "title": "JASON TRAP",
                    "length": "130",
                    "movie_lenght": "extra long"
                },
                {
                    "title": "JAWBREAKER BROOKLYN",
                    "length": "118",
                    "movie_lenght": "long"
                },
                {
                    "title": "JAWS HARRY",
                    "length": "112",
                    "movie_lenght": "long"
                },
                {
                    "title": "JEDI BENEATH",
                    "length": "128",
                    "movie_lenght": "extra long"
                },
                {
                    "title": "JEEPERS WEDDING",
                    "length": "84",
                    "movie_lenght": "normal"
                },
                {
                    "title": "JEKYLL FROGMEN",
                    "length": "58",
                    "movie_lenght": "short"
                },
                {
                    "title": "JEOPARDY ENCINO",
                    "length": "102",
                    "movie_lenght": "long"
                },
                {
                    "title": "JERICHO MULAN",
                    "length": "171",
                    "movie_lenght": "extra long"
                },
                {
                    "title": "JERK PAYCHECK",
                    "length": "172",
                    "movie_lenght": "extra long"
                },
                {
                    "title": "JERSEY SASSY",
                    "length": "60",
                    "movie_lenght": "short"
                },
                {
                    "title": "JET NEIGHBORS",
                    "length": "59",
                    "movie_lenght": "short"
                },
                {
                    "title": "JINGLE SAGEBRUSH",
                    "length": "124",
                    "movie_lenght": "extra long"
                },
                {
                    "title": "JOON NORTHWEST",
                    "length": "105",
                    "movie_lenght": "long"
                },
                {
                    "title": "JUGGLER HARDLY",
                    "length": "54",
                    "movie_lenght": "short"
                },
                {
                    "title": "JUMANJI BLADE",
                    "length": "121",
                    "movie_lenght": "extra long"
                },
                {
                    "title": "JUMPING WRATH",
                    "length": "74",
                    "movie_lenght": "normal"
                },
                {
                    "title": "JUNGLE CLOSER",
                    "length": "134",
                    "movie_lenght": "extra long"
                },
                {
                    "title": "KANE EXORCIST",
                    "length": "92",
                    "movie_lenght": "long"
                },
                {
                    "title": "KARATE MOON",
                    "length": "120",
                    "movie_lenght": "long"
                },
                {
                    "title": "KENTUCKIAN GIANT",
                    "length": "169",
                    "movie_lenght": "extra long"
                },
                {
                    "title": "KICK SAVANNAH",
                    "length": "179",
                    "movie_lenght": "extra long"
                },
                {
                    "title": "KILL BROTHERHOOD",
                    "length": "54",
                    "movie_lenght": "short"
                },
                {
                    "title": "KILLER INNOCENT",
                    "length": "161",
                    "movie_lenght": "extra long"
                },
                {
                    "title": "KING EVOLUTION",
                    "length": "184",
                    "movie_lenght": "extra long"
                },
                {
                    "title": "KISS GLORY",
                    "length": "163",
                    "movie_lenght": "extra long"
                },
                {
                    "title": "KISSING DOLLS",
                    "length": "141",
                    "movie_lenght": "extra long"
                },
                {
                    "title": "KNOCK WARLOCK",
                    "length": "71",
                    "movie_lenght": "normal"
                },
                {
                    "title": "KRAMER CHOCOLATE",
                    "length": "171",
                    "movie_lenght": "extra long"
                },
                {
                    "title": "KWAI HOMEWARD",
                    "length": "46",
                    "movie_lenght": "short"
                },
                {
                    "title": "LABYRINTH LEAGUE",
                    "length": "46",
                    "movie_lenght": "short"
                },
                {
                    "title": "LADY STAGE",
                    "length": "67",
                    "movie_lenght": "normal"
                },
                {
                    "title": "LADYBUGS ARMAGEDDON",
                    "length": "113",
                    "movie_lenght": "long"
                },
                {
                    "title": "LAMBS CINCINATTI",
                    "length": "144",
                    "movie_lenght": "extra long"
                },
                {
                    "title": "LANGUAGE COWBOY",
                    "length": "78",
                    "movie_lenght": "normal"
                },
                {
                    "title": "LAWLESS VISION",
                    "length": "181",
                    "movie_lenght": "extra long"
                },
                {
                    "title": "LAWRENCE LOVE",
                    "length": "175",
                    "movie_lenght": "extra long"
                },
                {
                    "title": "LEAGUE HELLFIGHTERS",
                    "length": "110",
                    "movie_lenght": "long"
                },
                {
                    "title": "LEATHERNECKS DWARFS",
                    "length": "153",
                    "movie_lenght": "extra long"
                },
                {
                    "title": "LEBOWSKI SOLDIERS",
                    "length": "69",
                    "movie_lenght": "normal"
                },
                {
                    "title": "LEGALLY SECRETARY",
                    "length": "113",
                    "movie_lenght": "long"
                },
                {
                    "title": "LEGEND JEDI",
                    "length": "59",
                    "movie_lenght": "short"
                },
                {
                    "title": "LESSON CLEOPATRA",
                    "length": "167",
                    "movie_lenght": "extra long"
                },
                {
                    "title": "LIAISONS SWEET",
                    "length": "140",
                    "movie_lenght": "extra long"
                },
                {
                    "title": "LIBERTY MAGNIFICENT",
                    "length": "138",
                    "movie_lenght": "extra long"
                },
                {
                    "title": "LICENSE WEEKEND",
                    "length": "91",
                    "movie_lenght": "long"
                },
                {
                    "title": "LIES TREATMENT",
                    "length": "147",
                    "movie_lenght": "extra long"
                },
                {
                    "title": "LIFE TWISTED",
                    "length": "137",
                    "movie_lenght": "extra long"
                },
                {
                    "title": "LIGHTS DEER",
                    "length": "174",
                    "movie_lenght": "extra long"
                },
                {
                    "title": "LION UNCUT",
                    "length": "50",
                    "movie_lenght": "short"
                },
                {
                    "title": "LOATHING LEGALLY",
                    "length": "140",
                    "movie_lenght": "extra long"
                },
                {
                    "title": "LOCK REAR",
                    "length": "120",
                    "movie_lenght": "long"
                },
                {
                    "title": "LOLA AGENT",
                    "length": "85",
                    "movie_lenght": "normal"
                },
                {
                    "title": "LOLITA WORLD",
                    "length": "155",
                    "movie_lenght": "extra long"
                },
                {
                    "title": "LONELY ELEPHANT",
                    "length": "67",
                    "movie_lenght": "normal"
                },
                {
                    "title": "LORD ARIZONA",
                    "length": "108",
                    "movie_lenght": "long"
                },
                {
                    "title": "LOSE INCH",
                    "length": "137",
                    "movie_lenght": "extra long"
                },
                {
                    "title": "LOSER HUSTLER",
                    "length": "80",
                    "movie_lenght": "normal"
                },
                {
                    "title": "LOST BIRD",
                    "length": "98",
                    "movie_lenght": "long"
                },
                {
                    "title": "LOUISIANA HARRY",
                    "length": "70",
                    "movie_lenght": "normal"
                },
                {
                    "title": "LOVE SUICIDES",
                    "length": "181",
                    "movie_lenght": "extra long"
                },
                {
                    "title": "LOVELY JINGLE",
                    "length": "65",
                    "movie_lenght": "normal"
                },
                {
                    "title": "LOVER TRUMAN",
                    "length": "75",
                    "movie_lenght": "normal"
                },
                {
                    "title": "LOVERBOY ATTACKS",
                    "length": "162",
                    "movie_lenght": "extra long"
                },
                {
                    "title": "LUCK OPUS",
                    "length": "152",
                    "movie_lenght": "extra long"
                },
                {
                    "title": "LUCKY FLYING",
                    "length": "97",
                    "movie_lenght": "long"
                },
                {
                    "title": "LUKE MUMMY",
                    "length": "74",
                    "movie_lenght": "normal"
                },
                {
                    "title": "LUST LOCK",
                    "length": "52",
                    "movie_lenght": "short"
                },
                {
                    "title": "MADIGAN DORADO",
                    "length": "116",
                    "movie_lenght": "long"
                },
                {
                    "title": "MADISON TRAP",
                    "length": "147",
                    "movie_lenght": "extra long"
                },
                {
                    "title": "MADNESS ATTACKS",
                    "length": "178",
                    "movie_lenght": "extra long"
                },
                {
                    "title": "MADRE GABLES",
                    "length": "98",
                    "movie_lenght": "long"
                },
                {
                    "title": "MAGIC MALLRATS",
                    "length": "117",
                    "movie_lenght": "long"
                },
                {
                    "title": "MAGNIFICENT CHITTY",
                    "length": "53",
                    "movie_lenght": "short"
                },
                {
                    "title": "MAGNOLIA FORRESTER",
                    "length": "171",
                    "movie_lenght": "extra long"
                },
                {
                    "title": "MAGUIRE APACHE",
                    "length": "74",
                    "movie_lenght": "normal"
                },
                {
                    "title": "MAIDEN HOME",
                    "length": "138",
                    "movie_lenght": "extra long"
                },
                {
                    "title": "MAJESTIC FLOATS",
                    "length": "130",
                    "movie_lenght": "extra long"
                },
                {
                    "title": "MAKER GABLES",
                    "length": "136",
                    "movie_lenght": "extra long"
                },
                {
                    "title": "MALKOVICH PET",
                    "length": "159",
                    "movie_lenght": "extra long"
                },
                {
                    "title": "MALLRATS UNITED",
                    "length": "133",
                    "movie_lenght": "extra long"
                },
                {
                    "title": "MALTESE HOPE",
                    "length": "127",
                    "movie_lenght": "extra long"
                },
                {
                    "title": "MANCHURIAN CURTAIN",
                    "length": "177",
                    "movie_lenght": "extra long"
                },
                {
                    "title": "MANNEQUIN WORST",
                    "length": "71",
                    "movie_lenght": "normal"
                },
                {
                    "title": "MARRIED GO",
                    "length": "114",
                    "movie_lenght": "long"
                },
                {
                    "title": "MARS ROMAN",
                    "length": "62",
                    "movie_lenght": "normal"
                },
                {
                    "title": "MASK PEACH",
                    "length": "123",
                    "movie_lenght": "extra long"
                },
                {
                    "title": "MASKED BUBBLE",
                    "length": "151",
                    "movie_lenght": "extra long"
                },
                {
                    "title": "MASSACRE USUAL",
                    "length": "165",
                    "movie_lenght": "extra long"
                },
                {
                    "title": "MASSAGE IMAGE",
                    "length": "161",
                    "movie_lenght": "extra long"
                },
                {
                    "title": "MATRIX SNOWMAN",
                    "length": "56",
                    "movie_lenght": "short"
                },
                {
                    "title": "MAUDE MOD",
                    "length": "72",
                    "movie_lenght": "normal"
                },
                {
                    "title": "MEET CHOCOLATE",
                    "length": "80",
                    "movie_lenght": "normal"
                },
                {
                    "title": "MEMENTO ZOOLANDER",
                    "length": "77",
                    "movie_lenght": "normal"
                },
                {
                    "title": "MENAGERIE RUSHMORE",
                    "length": "147",
                    "movie_lenght": "extra long"
                },
                {
                    "title": "MERMAID INSECTS",
                    "length": "104",
                    "movie_lenght": "long"
                },
                {
                    "title": "METAL ARMAGEDDON",
                    "length": "161",
                    "movie_lenght": "extra long"
                },
                {
                    "title": "METROPOLIS COMA",
                    "length": "64",
                    "movie_lenght": "normal"
                },
                {
                    "title": "MICROCOSMOS PARADISE",
                    "length": "105",
                    "movie_lenght": "long"
                },
                {
                    "title": "MIDNIGHT WESTWARD",
                    "length": "86",
                    "movie_lenght": "normal"
                },
                {
                    "title": "MIDSUMMER GROUNDHOG",
                    "length": "48",
                    "movie_lenght": "short"
                },
                {
                    "title": "MIGHTY LUCK",
                    "length": "122",
                    "movie_lenght": "extra long"
                },
                {
                    "title": "MILE MULAN",
                    "length": "64",
                    "movie_lenght": "normal"
                },
                {
                    "title": "MILLION ACE",
                    "length": "142",
                    "movie_lenght": "extra long"
                },
                {
                    "title": "MINDS TRUMAN",
                    "length": "149",
                    "movie_lenght": "extra long"
                },
                {
                    "title": "MINE TITANS",
                    "length": "166",
                    "movie_lenght": "extra long"
                },
                {
                    "title": "MINORITY KISS",
                    "length": "59",
                    "movie_lenght": "short"
                },
                {
                    "title": "MIRACLE VIRTUAL",
                    "length": "162",
                    "movie_lenght": "extra long"
                },
                {
                    "title": "MISSION ZOOLANDER",
                    "length": "164",
                    "movie_lenght": "extra long"
                },
                {
                    "title": "MIXED DOORS",
                    "length": "180",
                    "movie_lenght": "extra long"
                },
                {
                    "title": "MOB DUFFEL",
                    "length": "105",
                    "movie_lenght": "long"
                },
                {
                    "title": "MOCKINGBIRD HOLLYWOOD",
                    "length": "60",
                    "movie_lenght": "short"
                },
                {
                    "title": "MOD SECRETARY",
                    "length": "77",
                    "movie_lenght": "normal"
                },
                {
                    "title": "MODEL FISH",
                    "length": "175",
                    "movie_lenght": "extra long"
                },
                {
                    "title": "MODERN DORADO",
                    "length": "74",
                    "movie_lenght": "normal"
                },
                {
                    "title": "MONEY HAROLD",
                    "length": "135",
                    "movie_lenght": "extra long"
                },
                {
                    "title": "MONSOON CAUSE",
                    "length": "182",
                    "movie_lenght": "extra long"
                },
                {
                    "title": "MONSTER SPARTACUS",
                    "length": "107",
                    "movie_lenght": "long"
                },
                {
                    "title": "MONTEREY LABYRINTH",
                    "length": "158",
                    "movie_lenght": "extra long"
                },
                {
                    "title": "MONTEZUMA COMMAND",
                    "length": "126",
                    "movie_lenght": "extra long"
                },
                {
                    "title": "MOON BUNCH",
                    "length": "83",
                    "movie_lenght": "normal"
                },
                {
                    "title": "MOONSHINE CABIN",
                    "length": "171",
                    "movie_lenght": "extra long"
                },
                {
                    "title": "MOONWALKER FOOL",
                    "length": "184",
                    "movie_lenght": "extra long"
                },
                {
                    "title": "MOSQUITO ARMAGEDDON",
                    "length": "57",
                    "movie_lenght": "short"
                },
                {
                    "title": "MOTHER OLEANDER",
                    "length": "103",
                    "movie_lenght": "long"
                },
                {
                    "title": "MOTIONS DETAILS",
                    "length": "166",
                    "movie_lenght": "extra long"
                },
                {
                    "title": "MOULIN WAKE",
                    "length": "79",
                    "movie_lenght": "normal"
                },
                {
                    "title": "MOURNING PURPLE",
                    "length": "146",
                    "movie_lenght": "extra long"
                },
                {
                    "title": "MOVIE SHAKESPEARE",
                    "length": "53",
                    "movie_lenght": "short"
                },
                {
                    "title": "MULAN MOON",
                    "length": "160",
                    "movie_lenght": "extra long"
                },
                {
                    "title": "MULHOLLAND BEAST",
                    "length": "157",
                    "movie_lenght": "extra long"
                },
                {
                    "title": "MUMMY CREATURES",
                    "length": "160",
                    "movie_lenght": "extra long"
                },
                {
                    "title": "MUPPET MILE",
                    "length": "50",
                    "movie_lenght": "short"
                },
                {
                    "title": "MURDER ANTITRUST",
                    "length": "166",
                    "movie_lenght": "extra long"
                },
                {
                    "title": "MUSCLE BRIGHT",
                    "length": "185",
                    "movie_lenght": "extra long"
                },
                {
                    "title": "MUSIC BOONDOCK",
                    "length": "129",
                    "movie_lenght": "extra long"
                },
                {
                    "title": "MUSKETEERS WAIT",
                    "length": "73",
                    "movie_lenght": "normal"
                },
                {
                    "title": "MUSSOLINI SPOILERS",
                    "length": "180",
                    "movie_lenght": "extra long"
                },
                {
                    "title": "MYSTIC TRUMAN",
                    "length": "92",
                    "movie_lenght": "long"
                },
                {
                    "title": "NAME DETECTIVE",
                    "length": "178",
                    "movie_lenght": "extra long"
                },
                {
                    "title": "NASH CHOCOLAT",
                    "length": "180",
                    "movie_lenght": "extra long"
                },
                {
                    "title": "NATIONAL STORY",
                    "length": "92",
                    "movie_lenght": "long"
                },
                {
                    "title": "NATURAL STOCK",
                    "length": "50",
                    "movie_lenght": "short"
                },
                {
                    "title": "NECKLACE OUTBREAK",
                    "length": "132",
                    "movie_lenght": "extra long"
                },
                {
                    "title": "NEIGHBORS CHARADE",
                    "length": "161",
                    "movie_lenght": "extra long"
                },
                {
                    "title": "NEMO CAMPUS",
                    "length": "131",
                    "movie_lenght": "extra long"
                },
                {
                    "title": "NETWORK PEAK",
                    "length": "75",
                    "movie_lenght": "normal"
                },
                {
                    "title": "NEWSIES STORY",
                    "length": "159",
                    "movie_lenght": "extra long"
                },
                {
                    "title": "NEWTON LABYRINTH",
                    "length": "75",
                    "movie_lenght": "normal"
                },
                {
                    "title": "NIGHTMARE CHILL",
                    "length": "149",
                    "movie_lenght": "extra long"
                },
                {
                    "title": "NONE SPIKING",
                    "length": "83",
                    "movie_lenght": "normal"
                },
                {
                    "title": "NOON PAPI",
                    "length": "57",
                    "movie_lenght": "short"
                },
                {
                    "title": "NORTH TEQUILA",
                    "length": "67",
                    "movie_lenght": "normal"
                },
                {
                    "title": "NORTHWEST POLISH",
                    "length": "172",
                    "movie_lenght": "extra long"
                },
                {
                    "title": "NOTORIOUS REUNION",
                    "length": "128",
                    "movie_lenght": "extra long"
                },
                {
                    "title": "NOTTING SPEAKEASY",
                    "length": "48",
                    "movie_lenght": "short"
                },
                {
                    "title": "NOVOCAINE FLIGHT",
                    "length": "64",
                    "movie_lenght": "normal"
                },
                {
                    "title": "NUTS TIES",
                    "length": "145",
                    "movie_lenght": "extra long"
                },
                {
                    "title": "OCTOBER SUBMARINE",
                    "length": "54",
                    "movie_lenght": "short"
                },
                {
                    "title": "ODDS BOOGIE",
                    "length": "48",
                    "movie_lenght": "short"
                },
                {
                    "title": "OKLAHOMA JUMANJI",
                    "length": "58",
                    "movie_lenght": "short"
                },
                {
                    "title": "OLEANDER CLUE",
                    "length": "161",
                    "movie_lenght": "extra long"
                },
                {
                    "title": "OPEN AFRICAN",
                    "length": "131",
                    "movie_lenght": "extra long"
                },
                {
                    "title": "OPERATION OPERATION",
                    "length": "156",
                    "movie_lenght": "extra long"
                },
                {
                    "title": "OPPOSITE NECKLACE",
                    "length": "92",
                    "movie_lenght": "long"
                },
                {
                    "title": "OPUS ICE",
                    "length": "102",
                    "movie_lenght": "long"
                },
                {
                    "title": "ORANGE GRAPES",
                    "length": "76",
                    "movie_lenght": "normal"
                },
                {
                    "title": "ORDER BETRAYED",
                    "length": "120",
                    "movie_lenght": "long"
                },
                {
                    "title": "ORIENT CLOSER",
                    "length": "118",
                    "movie_lenght": "long"
                },
                {
                    "title": "OSCAR GOLD",
                    "length": "115",
                    "movie_lenght": "long"
                },
                {
                    "title": "OTHERS SOUP",
                    "length": "118",
                    "movie_lenght": "long"
                },
                {
                    "title": "OUTBREAK DIVINE",
                    "length": "169",
                    "movie_lenght": "extra long"
                },
                {
                    "title": "OUTFIELD MASSACRE",
                    "length": "129",
                    "movie_lenght": "extra long"
                },
                {
                    "title": "OUTLAW HANKY",
                    "length": "148",
                    "movie_lenght": "extra long"
                },
                {
                    "title": "OZ LIAISONS",
                    "length": "85",
                    "movie_lenght": "normal"
                },
                {
                    "title": "PACIFIC AMISTAD",
                    "length": "144",
                    "movie_lenght": "extra long"
                },
                {
                    "title": "PACKER MADIGAN",
                    "length": "84",
                    "movie_lenght": "normal"
                },
                {
                    "title": "PAJAMA JAWBREAKER",
                    "length": "126",
                    "movie_lenght": "extra long"
                },
                {
                    "title": "PANIC CLUB",
                    "length": "102",
                    "movie_lenght": "long"
                },
                {
                    "title": "PANKY SUBMARINE",
                    "length": "93",
                    "movie_lenght": "long"
                },
                {
                    "title": "PANTHER REDS",
                    "length": "109",
                    "movie_lenght": "long"
                },
                {
                    "title": "PAPI NECKLACE",
                    "length": "128",
                    "movie_lenght": "extra long"
                },
                {
                    "title": "PARADISE SABRINA",
                    "length": "48",
                    "movie_lenght": "short"
                },
                {
                    "title": "PARIS WEEKEND",
                    "length": "121",
                    "movie_lenght": "extra long"
                },
                {
                    "title": "PARK CITIZEN",
                    "length": "109",
                    "movie_lenght": "long"
                },
                {
                    "title": "PARTY KNOCK",
                    "length": "107",
                    "movie_lenght": "long"
                },
                {
                    "title": "PAST SUICIDES",
                    "length": "157",
                    "movie_lenght": "extra long"
                },
                {
                    "title": "PATHS CONTROL",
                    "length": "118",
                    "movie_lenght": "long"
                },
                {
                    "title": "PATIENT SISTER",
                    "length": "99",
                    "movie_lenght": "long"
                },
                {
                    "title": "PATRIOT ROMAN",
                    "length": "65",
                    "movie_lenght": "normal"
                },
                {
                    "title": "PATTON INTERVIEW",
                    "length": "175",
                    "movie_lenght": "extra long"
                },
                {
                    "title": "PAYCHECK WAIT",
                    "length": "145",
                    "movie_lenght": "extra long"
                },
                {
                    "title": "PEACH INNOCENT",
                    "length": "160",
                    "movie_lenght": "extra long"
                },
                {
                    "title": "PEAK FOREVER",
                    "length": "80",
                    "movie_lenght": "normal"
                },
                {
                    "title": "PEARL DESTINY",
                    "length": "74",
                    "movie_lenght": "normal"
                },
                {
                    "title": "PELICAN COMFORTS",
                    "length": "48",
                    "movie_lenght": "short"
                },
                {
                    "title": "PERDITION FARGO",
                    "length": "99",
                    "movie_lenght": "long"
                },
                {
                    "title": "PERFECT GROOVE",
                    "length": "82",
                    "movie_lenght": "normal"
                },
                {
                    "title": "PERSONAL LADYBUGS",
                    "length": "118",
                    "movie_lenght": "long"
                },
                {
                    "title": "PET HAUNTING",
                    "length": "99",
                    "movie_lenght": "long"
                },
                {
                    "title": "PHANTOM GLORY",
                    "length": "60",
                    "movie_lenght": "short"
                },
                {
                    "title": "PHILADELPHIA WIFE",
                    "length": "137",
                    "movie_lenght": "extra long"
                },
                {
                    "title": "PIANIST OUTFIELD",
                    "length": "136",
                    "movie_lenght": "extra long"
                },
                {
                    "title": "PICKUP DRIVING",
                    "length": "77",
                    "movie_lenght": "normal"
                },
                {
                    "title": "PILOT HOOSIERS",
                    "length": "50",
                    "movie_lenght": "short"
                },
                {
                    "title": "PINOCCHIO SIMON",
                    "length": "103",
                    "movie_lenght": "long"
                },
                {
                    "title": "PIRATES ROXANNE",
                    "length": "100",
                    "movie_lenght": "long"
                },
                {
                    "title": "PITTSBURGH HUNCHBACK",
                    "length": "134",
                    "movie_lenght": "extra long"
                },
                {
                    "title": "PITY BOUND",
                    "length": "60",
                    "movie_lenght": "short"
                },
                {
                    "title": "PIZZA JUMANJI",
                    "length": "173",
                    "movie_lenght": "extra long"
                },
                {
                    "title": "PLATOON INSTINCT",
                    "length": "132",
                    "movie_lenght": "extra long"
                },
                {
                    "title": "PLUTO OLEANDER",
                    "length": "84",
                    "movie_lenght": "normal"
                },
                {
                    "title": "POCUS PULP",
                    "length": "138",
                    "movie_lenght": "extra long"
                },
                {
                    "title": "POLISH BROOKLYN",
                    "length": "61",
                    "movie_lenght": "normal"
                },
                {
                    "title": "POLLOCK DELIVERANCE",
                    "length": "137",
                    "movie_lenght": "extra long"
                },
                {
                    "title": "POND SEATTLE",
                    "length": "185",
                    "movie_lenght": "extra long"
                },
                {
                    "title": "POSEIDON FOREVER",
                    "length": "159",
                    "movie_lenght": "extra long"
                },
                {
                    "title": "POTLUCK MIXED",
                    "length": "179",
                    "movie_lenght": "extra long"
                },
                {
                    "title": "POTTER CONNECTICUT",
                    "length": "115",
                    "movie_lenght": "long"
                },
                {
                    "title": "PREJUDICE OLEANDER",
                    "length": "98",
                    "movie_lenght": "long"
                },
                {
                    "title": "PRESIDENT BANG",
                    "length": "144",
                    "movie_lenght": "extra long"
                },
                {
                    "title": "PRIDE ALAMO",
                    "length": "114",
                    "movie_lenght": "long"
                },
                {
                    "title": "PRIMARY GLASS",
                    "length": "53",
                    "movie_lenght": "short"
                },
                {
                    "title": "PRINCESS GIANT",
                    "length": "71",
                    "movie_lenght": "normal"
                },
                {
                    "title": "PRIVATE DROP",
                    "length": "106",
                    "movie_lenght": "long"
                },
                {
                    "title": "PRIX UNDEFEATED",
                    "length": "115",
                    "movie_lenght": "long"
                },
                {
                    "title": "PSYCHO SHRUNK",
                    "length": "155",
                    "movie_lenght": "extra long"
                },
                {
                    "title": "PULP BEVERLY",
                    "length": "89",
                    "movie_lenght": "normal"
                },
                {
                    "title": "PUNK DIVORCE",
                    "length": "100",
                    "movie_lenght": "long"
                },
                {
                    "title": "PURE RUNNER",
                    "length": "121",
                    "movie_lenght": "extra long"
                },
                {
                    "title": "PURPLE MOVIE",
                    "length": "88",
                    "movie_lenght": "normal"
                },
                {
                    "title": "QUEEN LUKE",
                    "length": "163",
                    "movie_lenght": "extra long"
                },
                {
                    "title": "QUEST MUSSOLINI",
                    "length": "177",
                    "movie_lenght": "extra long"
                },
                {
                    "title": "QUILLS BULL",
                    "length": "112",
                    "movie_lenght": "long"
                },
                {
                    "title": "RACER EGG",
                    "length": "147",
                    "movie_lenght": "extra long"
                },
                {
                    "title": "RAGE GAMES",
                    "length": "120",
                    "movie_lenght": "long"
                },
                {
                    "title": "RAGING AIRPLANE",
                    "length": "154",
                    "movie_lenght": "extra long"
                },
                {
                    "title": "RAIDERS ANTITRUST",
                    "length": "82",
                    "movie_lenght": "normal"
                },
                {
                    "title": "RAINBOW SHOCK",
                    "length": "74",
                    "movie_lenght": "normal"
                },
                {
                    "title": "RANDOM GO",
                    "length": "73",
                    "movie_lenght": "normal"
                },
                {
                    "title": "RANGE MOONWALKER",
                    "length": "147",
                    "movie_lenght": "extra long"
                },
                {
                    "title": "REAP UNFAITHFUL",
                    "length": "136",
                    "movie_lenght": "extra long"
                },
                {
                    "title": "REAR TRADING",
                    "length": "97",
                    "movie_lenght": "long"
                },
                {
                    "title": "REBEL AIRPORT",
                    "length": "73",
                    "movie_lenght": "normal"
                },
                {
                    "title": "RECORDS ZORRO",
                    "length": "182",
                    "movie_lenght": "extra long"
                },
                {
                    "title": "REDEMPTION COMFORTS",
                    "length": "179",
                    "movie_lenght": "extra long"
                },
                {
                    "title": "REDS POCUS",
                    "length": "182",
                    "movie_lenght": "extra long"
                },
                {
                    "title": "REEF SALUTE",
                    "length": "123",
                    "movie_lenght": "extra long"
                },
                {
                    "title": "REIGN GENTLEMEN",
                    "length": "82",
                    "movie_lenght": "normal"
                },
                {
                    "title": "REMEMBER DIARY",
                    "length": "110",
                    "movie_lenght": "long"
                },
                {
                    "title": "REQUIEM TYCOON",
                    "length": "167",
                    "movie_lenght": "extra long"
                },
                {
                    "title": "RESERVOIR ADAPTATION",
                    "length": "61",
                    "movie_lenght": "normal"
                },
                {
                    "title": "RESURRECTION SILVERADO",
                    "length": "117",
                    "movie_lenght": "long"
                },
                {
                    "title": "REUNION WITCHES",
                    "length": "63",
                    "movie_lenght": "normal"
                },
                {
                    "title": "RIDER CADDYSHACK",
                    "length": "177",
                    "movie_lenght": "extra long"
                },
                {
                    "title": "RIDGEMONT SUBMARINE",
                    "length": "46",
                    "movie_lenght": "short"
                },
                {
                    "title": "RIGHT CRANES",
                    "length": "153",
                    "movie_lenght": "extra long"
                },
                {
                    "title": "RINGS HEARTBREAKERS",
                    "length": "58",
                    "movie_lenght": "short"
                },
                {
                    "title": "RIVER OUTLAW",
                    "length": "149",
                    "movie_lenght": "extra long"
                },
                {
                    "title": "ROAD ROXANNE",
                    "length": "158",
                    "movie_lenght": "extra long"
                },
                {
                    "title": "ROBBERS JOON",
                    "length": "102",
                    "movie_lenght": "long"
                },
                {
                    "title": "ROBBERY BRIGHT",
                    "length": "134",
                    "movie_lenght": "extra long"
                },
                {
                    "title": "ROCK INSTINCT",
                    "length": "102",
                    "movie_lenght": "long"
                },
                {
                    "title": "ROCKETEER MOTHER",
                    "length": "178",
                    "movie_lenght": "extra long"
                },
                {
                    "title": "ROCKY WAR",
                    "length": "145",
                    "movie_lenght": "extra long"
                },
                {
                    "title": "ROLLERCOASTER BRINGING",
                    "length": "153",
                    "movie_lenght": "extra long"
                },
                {
                    "title": "ROMAN PUNK",
                    "length": "81",
                    "movie_lenght": "normal"
                },
                {
                    "title": "ROOF CHAMPION",
                    "length": "101",
                    "movie_lenght": "long"
                },
                {
                    "title": "ROOM ROMAN",
                    "length": "60",
                    "movie_lenght": "short"
                },
                {
                    "title": "ROOTS REMEMBER",
                    "length": "89",
                    "movie_lenght": "normal"
                },
                {
                    "title": "ROSES TREASURE",
                    "length": "162",
                    "movie_lenght": "extra long"
                },
                {
                    "title": "ROUGE SQUAD",
                    "length": "118",
                    "movie_lenght": "long"
                },
                {
                    "title": "ROXANNE REBEL",
                    "length": "171",
                    "movie_lenght": "extra long"
                },
                {
                    "title": "RUGRATS SHAKESPEARE",
                    "length": "109",
                    "movie_lenght": "long"
                },
                {
                    "title": "RULES HUMAN",
                    "length": "153",
                    "movie_lenght": "extra long"
                },
                {
                    "title": "RUN PACIFIC",
                    "length": "145",
                    "movie_lenght": "extra long"
                },
                {
                    "title": "RUNAWAY TENENBAUMS",
                    "length": "181",
                    "movie_lenght": "extra long"
                },
                {
                    "title": "RUNNER MADIGAN",
                    "length": "101",
                    "movie_lenght": "long"
                },
                {
                    "title": "RUSH GOODFELLAS",
                    "length": "48",
                    "movie_lenght": "short"
                },
                {
                    "title": "RUSHMORE MERMAID",
                    "length": "150",
                    "movie_lenght": "extra long"
                },
                {
                    "title": "SABRINA MIDNIGHT",
                    "length": "99",
                    "movie_lenght": "long"
                },
                {
                    "title": "SADDLE ANTITRUST",
                    "length": "80",
                    "movie_lenght": "normal"
                },
                {
                    "title": "SAGEBRUSH CLUELESS",
                    "length": "106",
                    "movie_lenght": "long"
                },
                {
                    "title": "SAINTS BRIDE",
                    "length": "125",
                    "movie_lenght": "extra long"
                },
                {
                    "title": "SALUTE APOLLO",
                    "length": "73",
                    "movie_lenght": "normal"
                },
                {
                    "title": "SAMURAI LION",
                    "length": "110",
                    "movie_lenght": "long"
                },
                {
                    "title": "SANTA PARIS",
                    "length": "154",
                    "movie_lenght": "extra long"
                },
                {
                    "title": "SASSY PACKER",
                    "length": "154",
                    "movie_lenght": "extra long"
                },
                {
                    "title": "SATISFACTION CONFIDENTIAL",
                    "length": "75",
                    "movie_lenght": "normal"
                },
                {
                    "title": "SATURDAY LAMBS",
                    "length": "150",
                    "movie_lenght": "extra long"
                },
                {
                    "title": "SATURN NAME",
                    "length": "182",
                    "movie_lenght": "extra long"
                },
                {
                    "title": "SAVANNAH TOWN",
                    "length": "84",
                    "movie_lenght": "normal"
                },
                {
                    "title": "SCALAWAG DUCK",
                    "length": "183",
                    "movie_lenght": "extra long"
                },
                {
                    "title": "SCARFACE BANG",
                    "length": "102",
                    "movie_lenght": "long"
                },
                {
                    "title": "SCHOOL JACKET",
                    "length": "151",
                    "movie_lenght": "extra long"
                },
                {
                    "title": "SCISSORHANDS SLUMS",
                    "length": "147",
                    "movie_lenght": "extra long"
                },
                {
                    "title": "SCORPION APOLLO",
                    "length": "137",
                    "movie_lenght": "extra long"
                },
                {
                    "title": "SEA VIRGIN",
                    "length": "80",
                    "movie_lenght": "normal"
                },
                {
                    "title": "SEABISCUIT PUNK",
                    "length": "112",
                    "movie_lenght": "long"
                },
                {
                    "title": "SEARCHERS WAIT",
                    "length": "182",
                    "movie_lenght": "extra long"
                },
                {
                    "title": "SEATTLE EXPECATIONS",
                    "length": "110",
                    "movie_lenght": "long"
                },
                {
                    "title": "SECRET GROUNDHOG",
                    "length": "90",
                    "movie_lenght": "normal"
                },
                {
                    "title": "SECRETARY ROUGE",
                    "length": "158",
                    "movie_lenght": "extra long"
                },
                {
                    "title": "SECRETS PARADISE",
                    "length": "109",
                    "movie_lenght": "long"
                },
                {
                    "title": "SENSE GREEK",
                    "length": "54",
                    "movie_lenght": "short"
                },
                {
                    "title": "SENSIBILITY REAR",
                    "length": "98",
                    "movie_lenght": "long"
                },
                {
                    "title": "SEVEN SWARM",
                    "length": "127",
                    "movie_lenght": "extra long"
                },
                {
                    "title": "SHAKESPEARE SADDLE",
                    "length": "60",
                    "movie_lenght": "short"
                },
                {
                    "title": "SHANE DARKNESS",
                    "length": "93",
                    "movie_lenght": "long"
                },
                {
                    "title": "SHANGHAI TYCOON",
                    "length": "47",
                    "movie_lenght": "short"
                },
                {
                    "title": "SHAWSHANK BUBBLE",
                    "length": "80",
                    "movie_lenght": "normal"
                },
                {
                    "title": "SHEPHERD MIDSUMMER",
                    "length": "113",
                    "movie_lenght": "long"
                },
                {
                    "title": "SHINING ROSES",
                    "length": "125",
                    "movie_lenght": "extra long"
                },
                {
                    "title": "SHIP WONDERLAND",
                    "length": "104",
                    "movie_lenght": "long"
                },
                {
                    "title": "SHOCK CABIN",
                    "length": "79",
                    "movie_lenght": "normal"
                },
                {
                    "title": "SHOOTIST SUPERFLY",
                    "length": "67",
                    "movie_lenght": "normal"
                },
                {
                    "title": "SHOW LORD",
                    "length": "167",
                    "movie_lenght": "extra long"
                },
                {
                    "title": "SHREK LICENSE",
                    "length": "154",
                    "movie_lenght": "extra long"
                },
                {
                    "title": "SHRUNK DIVINE",
                    "length": "139",
                    "movie_lenght": "extra long"
                },
                {
                    "title": "SIDE ARK",
                    "length": "52",
                    "movie_lenght": "short"
                },
                {
                    "title": "SIEGE MADRE",
                    "length": "111",
                    "movie_lenght": "long"
                },
                {
                    "title": "SIERRA DIVIDE",
                    "length": "135",
                    "movie_lenght": "extra long"
                },
                {
                    "title": "SILENCE KANE",
                    "length": "67",
                    "movie_lenght": "normal"
                },
                {
                    "title": "SILVERADO GOLDFINGER",
                    "length": "74",
                    "movie_lenght": "normal"
                },
                {
                    "title": "SIMON NORTH",
                    "length": "51",
                    "movie_lenght": "short"
                },
                {
                    "title": "SINNERS ATLANTIS",
                    "length": "126",
                    "movie_lenght": "extra long"
                },
                {
                    "title": "SISTER FREDDY",
                    "length": "152",
                    "movie_lenght": "extra long"
                },
                {
                    "title": "SKY MIRACLE",
                    "length": "132",
                    "movie_lenght": "extra long"
                },
                {
                    "title": "SLACKER LIAISONS",
                    "length": "179",
                    "movie_lenght": "extra long"
                },
                {
                    "title": "SLEEPING SUSPECTS",
                    "length": "129",
                    "movie_lenght": "extra long"
                },
                {
                    "title": "SLEEPLESS MONSOON",
                    "length": "64",
                    "movie_lenght": "normal"
                },
                {
                    "title": "SLEEPY JAPANESE",
                    "length": "137",
                    "movie_lenght": "extra long"
                },
                {
                    "title": "SLEUTH ORIENT",
                    "length": "87",
                    "movie_lenght": "normal"
                },
                {
                    "title": "SLING LUKE",
                    "length": "84",
                    "movie_lenght": "normal"
                },
                {
                    "title": "SLIPPER FIDELITY",
                    "length": "156",
                    "movie_lenght": "extra long"
                },
                {
                    "title": "SLUMS DUCK",
                    "length": "147",
                    "movie_lenght": "extra long"
                },
                {
                    "title": "SMILE EARRING",
                    "length": "60",
                    "movie_lenght": "short"
                },
                {
                    "title": "SMOKING BARBARELLA",
                    "length": "50",
                    "movie_lenght": "short"
                },
                {
                    "title": "SMOOCHY CONTROL",
                    "length": "184",
                    "movie_lenght": "extra long"
                },
                {
                    "title": "SNATCH SLIPPER",
                    "length": "110",
                    "movie_lenght": "long"
                },
                {
                    "title": "SNATCHERS MONTEZUMA",
                    "length": "74",
                    "movie_lenght": "normal"
                },
                {
                    "title": "SNOWMAN ROLLERCOASTER",
                    "length": "62",
                    "movie_lenght": "normal"
                },
                {
                    "title": "SOLDIERS EVOLUTION",
                    "length": "185",
                    "movie_lenght": "extra long"
                },
                {
                    "title": "SOMETHING DUCK",
                    "length": "180",
                    "movie_lenght": "extra long"
                },
                {
                    "title": "SONG HEDWIG",
                    "length": "165",
                    "movie_lenght": "extra long"
                },
                {
                    "title": "SONS INTERVIEW",
                    "length": "184",
                    "movie_lenght": "extra long"
                },
                {
                    "title": "SORORITY QUEEN",
                    "length": "184",
                    "movie_lenght": "extra long"
                },
                {
                    "title": "SOUP WISDOM",
                    "length": "169",
                    "movie_lenght": "extra long"
                },
                {
                    "title": "SOUTH WAIT",
                    "length": "143",
                    "movie_lenght": "extra long"
                },
                {
                    "title": "SPARTACUS CHEAPER",
                    "length": "52",
                    "movie_lenght": "short"
                },
                {
                    "title": "SPEAKEASY DATE",
                    "length": "165",
                    "movie_lenght": "extra long"
                },
                {
                    "title": "SPEED SUIT",
                    "length": "124",
                    "movie_lenght": "extra long"
                },
                {
                    "title": "SPICE SORORITY",
                    "length": "141",
                    "movie_lenght": "extra long"
                },
                {
                    "title": "SPIKING ELEMENT",
                    "length": "79",
                    "movie_lenght": "normal"
                },
                {
                    "title": "SPINAL ROCKY",
                    "length": "138",
                    "movie_lenght": "extra long"
                },
                {
                    "title": "SPIRIT FLINTSTONES",
                    "length": "149",
                    "movie_lenght": "extra long"
                },
                {
                    "title": "SPIRITED CASUALTIES",
                    "length": "138",
                    "movie_lenght": "extra long"
                },
                {
                    "title": "SPLASH GUMP",
                    "length": "175",
                    "movie_lenght": "extra long"
                },
                {
                    "title": "SPLENDOR PATTON",
                    "length": "134",
                    "movie_lenght": "extra long"
                },
                {
                    "title": "SPOILERS HELLFIGHTERS",
                    "length": "151",
                    "movie_lenght": "extra long"
                },
                {
                    "title": "SPY MILE",
                    "length": "112",
                    "movie_lenght": "long"
                },
                {
                    "title": "SQUAD FISH",
                    "length": "136",
                    "movie_lenght": "extra long"
                },
                {
                    "title": "STAGE WORLD",
                    "length": "85",
                    "movie_lenght": "normal"
                },
                {
                    "title": "STAGECOACH ARMAGEDDON",
                    "length": "112",
                    "movie_lenght": "long"
                },
                {
                    "title": "STALLION SUNDANCE",
                    "length": "130",
                    "movie_lenght": "extra long"
                },
                {
                    "title": "STAMPEDE DISTURBING",
                    "length": "75",
                    "movie_lenght": "normal"
                },
                {
                    "title": "STAR OPERATION",
                    "length": "181",
                    "movie_lenght": "extra long"
                },
                {
                    "title": "STATE WASTELAND",
                    "length": "113",
                    "movie_lenght": "long"
                },
                {
                    "title": "STEEL SANTA",
                    "length": "143",
                    "movie_lenght": "extra long"
                },
                {
                    "title": "STEERS ARMAGEDDON",
                    "length": "140",
                    "movie_lenght": "extra long"
                },
                {
                    "title": "STEPMOM DREAM",
                    "length": "48",
                    "movie_lenght": "short"
                },
                {
                    "title": "STING PERSONAL",
                    "length": "93",
                    "movie_lenght": "long"
                },
                {
                    "title": "STOCK GLASS",
                    "length": "160",
                    "movie_lenght": "extra long"
                },
                {
                    "title": "STONE FIRE",
                    "length": "94",
                    "movie_lenght": "long"
                },
                {
                    "title": "STORM HAPPINESS",
                    "length": "57",
                    "movie_lenght": "short"
                },
                {
                    "title": "STORY SIDE",
                    "length": "163",
                    "movie_lenght": "extra long"
                },
                {
                    "title": "STRAIGHT HOURS",
                    "length": "151",
                    "movie_lenght": "extra long"
                },
                {
                    "title": "STRANGELOVE DESIRE",
                    "length": "103",
                    "movie_lenght": "long"
                },
                {
                    "title": "STRANGER STRANGERS",
                    "length": "139",
                    "movie_lenght": "extra long"
                },
                {
                    "title": "STRANGERS GRAFFITI",
                    "length": "119",
                    "movie_lenght": "long"
                },
                {
                    "title": "STREAK RIDGEMONT",
                    "length": "132",
                    "movie_lenght": "extra long"
                },
                {
                    "title": "STREETCAR INTENTIONS",
                    "length": "73",
                    "movie_lenght": "normal"
                },
                {
                    "title": "STRICTLY SCARFACE",
                    "length": "144",
                    "movie_lenght": "extra long"
                },
                {
                    "title": "SUBMARINE BED",
                    "length": "127",
                    "movie_lenght": "extra long"
                },
                {
                    "title": "SUGAR WONKA",
                    "length": "114",
                    "movie_lenght": "long"
                },
                {
                    "title": "SUICIDES SILENCE",
                    "length": "93",
                    "movie_lenght": "long"
                },
                {
                    "title": "SUIT WALLS",
                    "length": "111",
                    "movie_lenght": "long"
                },
                {
                    "title": "SUMMER SCARFACE",
                    "length": "53",
                    "movie_lenght": "short"
                },
                {
                    "title": "SUN CONFESSIONS",
                    "length": "141",
                    "movie_lenght": "extra long"
                },
                {
                    "title": "SUNDANCE INVASION",
                    "length": "92",
                    "movie_lenght": "long"
                },
                {
                    "title": "SUNRISE LEAGUE",
                    "length": "135",
                    "movie_lenght": "extra long"
                },
                {
                    "title": "SUNSET RACER",
                    "length": "48",
                    "movie_lenght": "short"
                },
                {
                    "title": "SUPER WYOMING",
                    "length": "58",
                    "movie_lenght": "short"
                },
                {
                    "title": "SUPERFLY TRIP",
                    "length": "114",
                    "movie_lenght": "long"
                },
                {
                    "title": "SUSPECTS QUILLS",
                    "length": "47",
                    "movie_lenght": "short"
                },
                {
                    "title": "SWARM GOLD",
                    "length": "123",
                    "movie_lenght": "extra long"
                },
                {
                    "title": "SWEDEN SHINING",
                    "length": "176",
                    "movie_lenght": "extra long"
                },
                {
                    "title": "SWEET BROTHERHOOD",
                    "length": "185",
                    "movie_lenght": "extra long"
                },
                {
                    "title": "SWEETHEARTS SUSPECTS",
                    "length": "108",
                    "movie_lenght": "long"
                },
                {
                    "title": "TADPOLE PARK",
                    "length": "155",
                    "movie_lenght": "extra long"
                },
                {
                    "title": "TALENTED HOMICIDE",
                    "length": "173",
                    "movie_lenght": "extra long"
                },
                {
                    "title": "TARZAN VIDEOTAPE",
                    "length": "91",
                    "movie_lenght": "long"
                },
                {
                    "title": "TAXI KICK",
                    "length": "64",
                    "movie_lenght": "normal"
                },
                {
                    "title": "TEEN APOLLO",
                    "length": "74",
                    "movie_lenght": "normal"
                },
                {
                    "title": "TELEGRAPH VOYAGE",
                    "length": "148",
                    "movie_lenght": "extra long"
                },
                {
                    "title": "TELEMARK HEARTBREAKERS",
                    "length": "152",
                    "movie_lenght": "extra long"
                },
                {
                    "title": "TEMPLE ATTRACTION",
                    "length": "71",
                    "movie_lenght": "normal"
                },
                {
                    "title": "TENENBAUMS COMMAND",
                    "length": "99",
                    "movie_lenght": "long"
                },
                {
                    "title": "TEQUILA PAST",
                    "length": "53",
                    "movie_lenght": "short"
                },
                {
                    "title": "TERMINATOR CLUB",
                    "length": "88",
                    "movie_lenght": "normal"
                },
                {
                    "title": "TEXAS WATCH",
                    "length": "179",
                    "movie_lenght": "extra long"
                },
                {
                    "title": "THEORY MERMAID",
                    "length": "184",
                    "movie_lenght": "extra long"
                },
                {
                    "title": "THIEF PELICAN",
                    "length": "135",
                    "movie_lenght": "extra long"
                },
                {
                    "title": "THIN SAGEBRUSH",
                    "length": "53",
                    "movie_lenght": "short"
                },
                {
                    "title": "TIES HUNGER",
                    "length": "111",
                    "movie_lenght": "long"
                },
                {
                    "title": "TIGHTS DAWN",
                    "length": "172",
                    "movie_lenght": "extra long"
                },
                {
                    "title": "TIMBERLAND SKY",
                    "length": "69",
                    "movie_lenght": "normal"
                },
                {
                    "title": "TITANIC BOONDOCK",
                    "length": "104",
                    "movie_lenght": "long"
                },
                {
                    "title": "TITANS JERK",
                    "length": "91",
                    "movie_lenght": "long"
                },
                {
                    "title": "TOMATOES HELLFIGHTERS",
                    "length": "68",
                    "movie_lenght": "normal"
                },
                {
                    "title": "TOMORROW HUSTLER",
                    "length": "142",
                    "movie_lenght": "extra long"
                },
                {
                    "title": "TOOTSIE PILOT",
                    "length": "157",
                    "movie_lenght": "extra long"
                },
                {
                    "title": "TORQUE BOUND",
                    "length": "179",
                    "movie_lenght": "extra long"
                },
                {
                    "title": "TOURIST PELICAN",
                    "length": "152",
                    "movie_lenght": "extra long"
                },
                {
                    "title": "TOWERS HURRICANE",
                    "length": "144",
                    "movie_lenght": "extra long"
                },
                {
                    "title": "TOWN ARK",
                    "length": "136",
                    "movie_lenght": "extra long"
                },
                {
                    "title": "TRACY CIDER",
                    "length": "142",
                    "movie_lenght": "extra long"
                },
                {
                    "title": "TRADING PINOCCHIO",
                    "length": "170",
                    "movie_lenght": "extra long"
                },
                {
                    "title": "TRAFFIC HOBBIT",
                    "length": "139",
                    "movie_lenght": "extra long"
                },
                {
                    "title": "TRAIN BUNCH",
                    "length": "71",
                    "movie_lenght": "normal"
                },
                {
                    "title": "TRAINSPOTTING STRANGERS",
                    "length": "132",
                    "movie_lenght": "extra long"
                },
                {
                    "title": "TRAMP OTHERS",
                    "length": "171",
                    "movie_lenght": "extra long"
                },
                {
                    "title": "TRANSLATION SUMMER",
                    "length": "168",
                    "movie_lenght": "extra long"
                },
                {
                    "title": "TRAP GUYS",
                    "length": "110",
                    "movie_lenght": "long"
                },
                {
                    "title": "TREASURE COMMAND",
                    "length": "102",
                    "movie_lenght": "long"
                },
                {
                    "title": "TREATMENT JEKYLL",
                    "length": "87",
                    "movie_lenght": "normal"
                },
                {
                    "title": "TRIP NEWTON",
                    "length": "64",
                    "movie_lenght": "normal"
                },
                {
                    "title": "TROJAN TOMORROW",
                    "length": "52",
                    "movie_lenght": "short"
                },
                {
                    "title": "TROOPERS METAL",
                    "length": "115",
                    "movie_lenght": "long"
                },
                {
                    "title": "TROUBLE DATE",
                    "length": "61",
                    "movie_lenght": "normal"
                },
                {
                    "title": "TRUMAN CRAZY",
                    "length": "92",
                    "movie_lenght": "long"
                },
                {
                    "title": "TURN STAR",
                    "length": "80",
                    "movie_lenght": "normal"
                },
                {
                    "title": "TUXEDO MILE",
                    "length": "152",
                    "movie_lenght": "extra long"
                },
                {
                    "title": "TWISTED PIRATES",
                    "length": "152",
                    "movie_lenght": "extra long"
                },
                {
                    "title": "TYCOON GATHERING",
                    "length": "82",
                    "movie_lenght": "normal"
                },
                {
                    "title": "UNBREAKABLE KARATE",
                    "length": "62",
                    "movie_lenght": "normal"
                },
                {
                    "title": "UNCUT SUICIDES",
                    "length": "172",
                    "movie_lenght": "extra long"
                },
                {
                    "title": "UNDEFEATED DALMATIONS",
                    "length": "107",
                    "movie_lenght": "long"
                },
                {
                    "title": "UNFAITHFUL KILL",
                    "length": "78",
                    "movie_lenght": "normal"
                },
                {
                    "title": "UNFORGIVEN ZOOLANDER",
                    "length": "129",
                    "movie_lenght": "extra long"
                },
                {
                    "title": "UNITED PILOT",
                    "length": "164",
                    "movie_lenght": "extra long"
                },
                {
                    "title": "UNTOUCHABLES SUNRISE",
                    "length": "120",
                    "movie_lenght": "long"
                },
                {
                    "title": "UPRISING UPTOWN",
                    "length": "174",
                    "movie_lenght": "extra long"
                },
                {
                    "title": "UPTOWN YOUNG",
                    "length": "84",
                    "movie_lenght": "normal"
                },
                {
                    "title": "USUAL UNTOUCHABLES",
                    "length": "128",
                    "movie_lenght": "extra long"
                },
                {
                    "title": "VACATION BOONDOCK",
                    "length": "145",
                    "movie_lenght": "extra long"
                },
                {
                    "title": "VALENTINE VANISHING",
                    "length": "48",
                    "movie_lenght": "short"
                },
                {
                    "title": "VALLEY PACKER",
                    "length": "73",
                    "movie_lenght": "normal"
                },
                {
                    "title": "VAMPIRE WHALE",
                    "length": "126",
                    "movie_lenght": "extra long"
                },
                {
                    "title": "VANILLA DAY",
                    "length": "122",
                    "movie_lenght": "extra long"
                },
                {
                    "title": "VANISHED GARDEN",
                    "length": "142",
                    "movie_lenght": "extra long"
                },
                {
                    "title": "VANISHING ROCKY",
                    "length": "123",
                    "movie_lenght": "extra long"
                },
                {
                    "title": "VARSITY TRIP",
                    "length": "85",
                    "movie_lenght": "normal"
                },
                {
                    "title": "VELVET TERMINATOR",
                    "length": "173",
                    "movie_lenght": "extra long"
                },
                {
                    "title": "VERTIGO NORTHWEST",
                    "length": "90",
                    "movie_lenght": "normal"
                },
                {
                    "title": "VICTORY ACADEMY",
                    "length": "64",
                    "movie_lenght": "normal"
                },
                {
                    "title": "VIDEOTAPE ARSENIC",
                    "length": "145",
                    "movie_lenght": "extra long"
                },
                {
                    "title": "VIETNAM SMOOCHY",
                    "length": "174",
                    "movie_lenght": "extra long"
                },
                {
                    "title": "VILLAIN DESPERATE",
                    "length": "76",
                    "movie_lenght": "normal"
                },
                {
                    "title": "VIRGIN DAISY",
                    "length": "179",
                    "movie_lenght": "extra long"
                },
                {
                    "title": "VIRGINIAN PLUTO",
                    "length": "164",
                    "movie_lenght": "extra long"
                },
                {
                    "title": "VIRTUAL SPOILERS",
                    "length": "144",
                    "movie_lenght": "extra long"
                },
                {
                    "title": "VISION TORQUE",
                    "length": "59",
                    "movie_lenght": "short"
                },
                {
                    "title": "VOICE PEACH",
                    "length": "139",
                    "movie_lenght": "extra long"
                },
                {
                    "title": "VOLCANO TEXAS",
                    "length": "157",
                    "movie_lenght": "extra long"
                },
                {
                    "title": "VOLUME HOUSE",
                    "length": "132",
                    "movie_lenght": "extra long"
                },
                {
                    "title": "VOYAGE LEGALLY",
                    "length": "78",
                    "movie_lenght": "normal"
                },
                {
                    "title": "WAGON JAWS",
                    "length": "152",
                    "movie_lenght": "extra long"
                },
                {
                    "title": "WAIT CIDER",
                    "length": "112",
                    "movie_lenght": "long"
                },
                {
                    "title": "WAKE JAWS",
                    "length": "73",
                    "movie_lenght": "normal"
                },
                {
                    "title": "WALLS ARTIST",
                    "length": "135",
                    "movie_lenght": "extra long"
                },
                {
                    "title": "WANDA CHAMBER",
                    "length": "107",
                    "movie_lenght": "long"
                },
                {
                    "title": "WAR NOTTING",
                    "length": "80",
                    "movie_lenght": "normal"
                },
                {
                    "title": "WARDROBE PHANTOM",
                    "length": "178",
                    "movie_lenght": "extra long"
                },
                {
                    "title": "WARLOCK WEREWOLF",
                    "length": "83",
                    "movie_lenght": "normal"
                },
                {
                    "title": "WARS PLUTO",
                    "length": "128",
                    "movie_lenght": "extra long"
                },
                {
                    "title": "WASH HEAVENLY",
                    "length": "161",
                    "movie_lenght": "extra long"
                },
                {
                    "title": "WASTELAND DIVINE",
                    "length": "85",
                    "movie_lenght": "normal"
                },
                {
                    "title": "WATCH TRACY",
                    "length": "78",
                    "movie_lenght": "normal"
                },
                {
                    "title": "WATERFRONT DELIVERANCE",
                    "length": "61",
                    "movie_lenght": "normal"
                },
                {
                    "title": "WATERSHIP FRONTIER",
                    "length": "112",
                    "movie_lenght": "long"
                },
                {
                    "title": "WEDDING APOLLO",
                    "length": "70",
                    "movie_lenght": "normal"
                },
                {
                    "title": "WEEKEND PERSONAL",
                    "length": "134",
                    "movie_lenght": "extra long"
                },
                {
                    "title": "WEREWOLF LOLA",
                    "length": "79",
                    "movie_lenght": "normal"
                },
                {
                    "title": "WEST LION",
                    "length": "159",
                    "movie_lenght": "extra long"
                },
                {
                    "title": "WESTWARD SEABISCUIT",
                    "length": "52",
                    "movie_lenght": "short"
                },
                {
                    "title": "WHALE BIKINI",
                    "length": "109",
                    "movie_lenght": "long"
                },
                {
                    "title": "WHISPERER GIANT",
                    "length": "59",
                    "movie_lenght": "short"
                },
                {
                    "title": "WIFE TURN",
                    "length": "183",
                    "movie_lenght": "extra long"
                },
                {
                    "title": "WILD APOLLO",
                    "length": "181",
                    "movie_lenght": "extra long"
                },
                {
                    "title": "WILLOW TRACY",
                    "length": "137",
                    "movie_lenght": "extra long"
                },
                {
                    "title": "WIND PHANTOM",
                    "length": "111",
                    "movie_lenght": "long"
                },
                {
                    "title": "WINDOW SIDE",
                    "length": "85",
                    "movie_lenght": "normal"
                },
                {
                    "title": "WISDOM WORKER",
                    "length": "98",
                    "movie_lenght": "long"
                },
                {
                    "title": "WITCHES PANIC",
                    "length": "100",
                    "movie_lenght": "long"
                },
                {
                    "title": "WIZARD COLDBLOODED",
                    "length": "75",
                    "movie_lenght": "normal"
                },
                {
                    "title": "WOLVES DESIRE",
                    "length": "55",
                    "movie_lenght": "short"
                },
                {
                    "title": "WOMEN DORADO",
                    "length": "126",
                    "movie_lenght": "extra long"
                },
                {
                    "title": "WON DARES",
                    "length": "105",
                    "movie_lenght": "long"
                },
                {
                    "title": "WONDERFUL DROP",
                    "length": "126",
                    "movie_lenght": "extra long"
                },
                {
                    "title": "WONDERLAND CHRISTMAS",
                    "length": "111",
                    "movie_lenght": "long"
                },
                {
                    "title": "WONKA SEA",
                    "length": "85",
                    "movie_lenght": "normal"
                },
                {
                    "title": "WORDS HUNTER",
                    "length": "116",
                    "movie_lenght": "long"
                },
                {
                    "title": "WORKER TARZAN",
                    "length": "139",
                    "movie_lenght": "extra long"
                },
                {
                    "title": "WORKING MICROCOSMOS",
                    "length": "74",
                    "movie_lenght": "normal"
                },
                {
                    "title": "WORLD LEATHERNECKS",
                    "length": "171",
                    "movie_lenght": "extra long"
                },
                {
                    "title": "WORST BANGER",
                    "length": "185",
                    "movie_lenght": "extra long"
                },
                {
                    "title": "WRATH MILE",
                    "length": "176",
                    "movie_lenght": "extra long"
                },
                {
                    "title": "WRONG BEHAVIOR",
                    "length": "178",
                    "movie_lenght": "extra long"
                },
                {
                    "title": "WYOMING STORM",
                    "length": "100",
                    "movie_lenght": "long"
                },
                {
                    "title": "YENTL IDAHO",
                    "length": "86",
                    "movie_lenght": "normal"
                },
                {
                    "title": "YOUNG LANGUAGE",
                    "length": "183",
                    "movie_lenght": "extra long"
                },
                {
                    "title": "YOUTH KICK",
                    "length": "179",
                    "movie_lenght": "extra long"
                },
                {
                    "title": "ZHIVAGO CORE",
                    "length": "105",
                    "movie_lenght": "long"
                },
                {
                    "title": "ZOOLANDER FICTION",
                    "length": "101",
                    "movie_lenght": "long"
                },
                {
                    "title": "ZORRO ARK",
                    "length": "50",
                    "movie_lenght": "short"
                }
            ]
        },
        "text/html": [
            "<table>",
            "<tr><th>title</th><th>length</th><th>movie_lenght</th></tr>",
            "<tr><td>ACADEMY DINOSAUR</td><td>86</td><td>normal</td></tr>",
            "<tr><td>ACE GOLDFINGER</td><td>48</td><td>short</td></tr>",
            "<tr><td>ADAPTATION HOLES</td><td>50</td><td>short</td></tr>",
            "<tr><td>AFFAIR PREJUDICE</td><td>117</td><td>long</td></tr>",
            "<tr><td>AFRICAN EGG</td><td>130</td><td>extra long</td></tr>",
            "<tr><td>AGENT TRUMAN</td><td>169</td><td>extra long</td></tr>",
            "<tr><td>AIRPLANE SIERRA</td><td>62</td><td>normal</td></tr>",
            "<tr><td>AIRPORT POLLOCK</td><td>54</td><td>short</td></tr>",
            "<tr><td>ALABAMA DEVIL</td><td>114</td><td>long</td></tr>",
            "<tr><td>ALADDIN CALENDAR</td><td>63</td><td>normal</td></tr>",
            "<tr><td>ALAMO VIDEOTAPE</td><td>126</td><td>extra long</td></tr>",
            "<tr><td>ALASKA PHANTOM</td><td>136</td><td>extra long</td></tr>",
            "<tr><td>ALI FOREVER</td><td>150</td><td>extra long</td></tr>",
            "<tr><td>ALICE FANTASIA</td><td>94</td><td>long</td></tr>",
            "<tr><td>ALIEN CENTER</td><td>46</td><td>short</td></tr>",
            "<tr><td>ALLEY EVOLUTION</td><td>180</td><td>extra long</td></tr>",
            "<tr><td>ALONE TRIP</td><td>82</td><td>normal</td></tr>",
            "<tr><td>ALTER VICTORY</td><td>57</td><td>short</td></tr>",
            "<tr><td>AMADEUS HOLY</td><td>113</td><td>long</td></tr>",
            "<tr><td>AMELIE HELLFIGHTERS</td><td>79</td><td>normal</td></tr>",
            "<tr><td>AMERICAN CIRCUS</td><td>129</td><td>extra long</td></tr>",
            "<tr><td>AMISTAD MIDSUMMER</td><td>85</td><td>normal</td></tr>",
            "<tr><td>ANACONDA CONFESSIONS</td><td>92</td><td>long</td></tr>",
            "<tr><td>ANALYZE HOOSIERS</td><td>181</td><td>extra long</td></tr>",
            "<tr><td>ANGELS LIFE</td><td>74</td><td>normal</td></tr>",
            "<tr><td>ANNIE IDENTITY</td><td>86</td><td>normal</td></tr>",
            "<tr><td>ANONYMOUS HUMAN</td><td>179</td><td>extra long</td></tr>",
            "<tr><td>ANTHEM LUKE</td><td>91</td><td>long</td></tr>",
            "<tr><td>ANTITRUST TOMATOES</td><td>168</td><td>extra long</td></tr>",
            "<tr><td>ANYTHING SAVANNAH</td><td>82</td><td>normal</td></tr>",
            "<tr><td>APACHE DIVINE</td><td>92</td><td>long</td></tr>",
            "<tr><td>APOCALYPSE FLAMINGOS</td><td>119</td><td>long</td></tr>",
            "<tr><td>APOLLO TEEN</td><td>153</td><td>extra long</td></tr>",
            "<tr><td>ARABIA DOGMA</td><td>62</td><td>normal</td></tr>",
            "<tr><td>ARACHNOPHOBIA ROLLERCOASTER</td><td>147</td><td>extra long</td></tr>",
            "<tr><td>ARGONAUTS TOWN</td><td>127</td><td>extra long</td></tr>",
            "<tr><td>ARIZONA BANG</td><td>121</td><td>extra long</td></tr>",
            "<tr><td>ARK RIDGEMONT</td><td>68</td><td>normal</td></tr>",
            "<tr><td>ARMAGEDDON LOST</td><td>99</td><td>long</td></tr>",
            "<tr><td>ARMY FLINTSTONES</td><td>148</td><td>extra long</td></tr>",
            "<tr><td>ARSENIC INDEPENDENCE</td><td>137</td><td>extra long</td></tr>",
            "<tr><td>ARTIST COLDBLOODED</td><td>170</td><td>extra long</td></tr>",
            "<tr><td>ATLANTIS CAUSE</td><td>170</td><td>extra long</td></tr>",
            "<tr><td>ATTACKS HATE</td><td>113</td><td>long</td></tr>",
            "<tr><td>ATTRACTION NEWTON</td><td>83</td><td>normal</td></tr>",
            "<tr><td>AUTUMN CROW</td><td>108</td><td>long</td></tr>",
            "<tr><td>BABY HALL</td><td>153</td><td>extra long</td></tr>",
            "<tr><td>BACKLASH UNDEFEATED</td><td>118</td><td>long</td></tr>",
            "<tr><td>BADMAN DAWN</td><td>162</td><td>extra long</td></tr>",
            "<tr><td>BAKED CLEOPATRA</td><td>182</td><td>extra long</td></tr>",
            "<tr><td>BALLOON HOMEWARD</td><td>75</td><td>normal</td></tr>",
            "<tr><td>BALLROOM MOCKINGBIRD</td><td>173</td><td>extra long</td></tr>",
            "<tr><td>BANG KWAI</td><td>87</td><td>normal</td></tr>",
            "<tr><td>BANGER PINOCCHIO</td><td>113</td><td>long</td></tr>",
            "<tr><td>BARBARELLA STREETCAR</td><td>65</td><td>normal</td></tr>",
            "<tr><td>BAREFOOT MANCHURIAN</td><td>129</td><td>extra long</td></tr>",
            "<tr><td>BASIC EASY</td><td>90</td><td>normal</td></tr>",
            "<tr><td>BEACH HEARTBREAKERS</td><td>122</td><td>extra long</td></tr>",
            "<tr><td>BEAR GRACELAND</td><td>160</td><td>extra long</td></tr>",
            "<tr><td>BEAST HUNCHBACK</td><td>89</td><td>normal</td></tr>",
            "<tr><td>BEAUTY GREASE</td><td>175</td><td>extra long</td></tr>",
            "<tr><td>BED HIGHBALL</td><td>106</td><td>long</td></tr>",
            "<tr><td>BEDAZZLED MARRIED</td><td>73</td><td>normal</td></tr>",
            "<tr><td>BEETHOVEN EXORCIST</td><td>151</td><td>extra long</td></tr>",
            "<tr><td>BEHAVIOR RUNAWAY</td><td>100</td><td>long</td></tr>",
            "<tr><td>BENEATH RUSH</td><td>53</td><td>short</td></tr>",
            "<tr><td>BERETS AGENT</td><td>77</td><td>normal</td></tr>",
            "<tr><td>BETRAYED REAR</td><td>122</td><td>extra long</td></tr>",
            "<tr><td>BEVERLY OUTLAW</td><td>85</td><td>normal</td></tr>",
            "<tr><td>BIKINI BORROWERS</td><td>142</td><td>extra long</td></tr>",
            "<tr><td>BILKO ANONYMOUS</td><td>100</td><td>long</td></tr>",
            "<tr><td>BILL OTHERS</td><td>93</td><td>long</td></tr>",
            "<tr><td>BINGO TALENTED</td><td>150</td><td>extra long</td></tr>",
            "<tr><td>BIRCH ANTITRUST</td><td>162</td><td>extra long</td></tr>",
            "<tr><td>BIRD INDEPENDENCE</td><td>163</td><td>extra long</td></tr>",
            "<tr><td>BIRDCAGE CASPER</td><td>103</td><td>long</td></tr>",
            "<tr><td>BIRDS PERDITION</td><td>61</td><td>normal</td></tr>",
            "<tr><td>BLACKOUT PRIVATE</td><td>85</td><td>normal</td></tr>",
            "<tr><td>BLADE POLISH</td><td>114</td><td>long</td></tr>",
            "<tr><td>BLANKET BEVERLY</td><td>148</td><td>extra long</td></tr>",
            "<tr><td>BLINDNESS GUN</td><td>103</td><td>long</td></tr>",
            "<tr><td>BLOOD ARGONAUTS</td><td>71</td><td>normal</td></tr>",
            "<tr><td>BLUES INSTINCT</td><td>50</td><td>short</td></tr>",
            "<tr><td>BOILED DARES</td><td>102</td><td>long</td></tr>",
            "<tr><td>BONNIE HOLOCAUST</td><td>63</td><td>normal</td></tr>",
            "<tr><td>BOOGIE AMELIE</td><td>121</td><td>extra long</td></tr>",
            "<tr><td>BOONDOCK BALLROOM</td><td>76</td><td>normal</td></tr>",
            "<tr><td>BORN SPINAL</td><td>179</td><td>extra long</td></tr>",
            "<tr><td>BORROWERS BEDAZZLED</td><td>63</td><td>normal</td></tr>",
            "<tr><td>BOULEVARD MOB</td><td>63</td><td>normal</td></tr>",
            "<tr><td>BOUND CHEAPER</td><td>98</td><td>long</td></tr>",
            "<tr><td>BOWFINGER GABLES</td><td>72</td><td>normal</td></tr>",
            "<tr><td>BRANNIGAN SUNRISE</td><td>121</td><td>extra long</td></tr>",
            "<tr><td>BRAVEHEART HUMAN</td><td>176</td><td>extra long</td></tr>",
            "<tr><td>BREAKFAST GOLDFINGER</td><td>123</td><td>extra long</td></tr>",
            "<tr><td>BREAKING HOME</td><td>169</td><td>extra long</td></tr>",
            "<tr><td>BRIDE INTRIGUE</td><td>56</td><td>short</td></tr>",
            "<tr><td>BRIGHT ENCOUNTERS</td><td>73</td><td>normal</td></tr>",
            "<tr><td>BRINGING HYSTERICAL</td><td>136</td><td>extra long</td></tr>",
            "<tr><td>BROOKLYN DESERT</td><td>161</td><td>extra long</td></tr>",
            "<tr><td>BROTHERHOOD BLANKET</td><td>73</td><td>normal</td></tr>",
            "<tr><td>BUBBLE GROSSE</td><td>60</td><td>short</td></tr>",
            "<tr><td>BUCKET BROTHERHOOD</td><td>133</td><td>extra long</td></tr>",
            "<tr><td>BUGSY SONG</td><td>119</td><td>long</td></tr>",
            "<tr><td>BULL SHAWSHANK</td><td>125</td><td>extra long</td></tr>",
            "<tr><td>BULWORTH COMMANDMENTS</td><td>61</td><td>normal</td></tr>",
            "<tr><td>BUNCH MINDS</td><td>63</td><td>normal</td></tr>",
            "<tr><td>BUTCH PANTHER</td><td>67</td><td>normal</td></tr>",
            "<tr><td>BUTTERFLY CHOCOLAT</td><td>89</td><td>normal</td></tr>",
            "<tr><td>CABIN FLASH</td><td>53</td><td>short</td></tr>",
            "<tr><td>CADDYSHACK JEDI</td><td>52</td><td>short</td></tr>",
            "<tr><td>CALENDAR GUNFIGHT</td><td>120</td><td>long</td></tr>",
            "<tr><td>CALIFORNIA BIRDS</td><td>75</td><td>normal</td></tr>",
            "<tr><td>CAMELOT VACATION</td><td>61</td><td>normal</td></tr>",
            "<tr><td>CAMPUS REMEMBER</td><td>167</td><td>extra long</td></tr>",
            "<tr><td>CANDIDATE PERDITION</td><td>70</td><td>normal</td></tr>",
            "<tr><td>CANDLES GRAPES</td><td>135</td><td>extra long</td></tr>",
            "<tr><td>CANYON STOCK</td><td>85</td><td>normal</td></tr>",
            "<tr><td>CAPER MOTIONS</td><td>176</td><td>extra long</td></tr>",
            "<tr><td>CARIBBEAN LIBERTY</td><td>92</td><td>long</td></tr>",
            "<tr><td>CAROL TEXAS</td><td>151</td><td>extra long</td></tr>",
            "<tr><td>CARRIE BUNCH</td><td>114</td><td>long</td></tr>",
            "<tr><td>CASABLANCA SUPER</td><td>85</td><td>normal</td></tr>",
            "<tr><td>CASPER DRAGONFLY</td><td>163</td><td>extra long</td></tr>",
            "<tr><td>CASSIDY WYOMING</td><td>61</td><td>normal</td></tr>",
            "<tr><td>CASUALTIES ENCINO</td><td>179</td><td>extra long</td></tr>",
            "<tr><td>CAT CONEHEADS</td><td>112</td><td>long</td></tr>",
            "<tr><td>CATCH AMISTAD</td><td>183</td><td>extra long</td></tr>",
            "<tr><td>CAUSE DATE</td><td>179</td><td>extra long</td></tr>",
            "<tr><td>CELEBRITY HORN</td><td>110</td><td>long</td></tr>",
            "<tr><td>CENTER DINOSAUR</td><td>152</td><td>extra long</td></tr>",
            "<tr><td>CHAINSAW UPTOWN</td><td>114</td><td>long</td></tr>",
            "<tr><td>CHAMBER ITALIAN</td><td>117</td><td>long</td></tr>",
            "<tr><td>CHAMPION FLATLINERS</td><td>51</td><td>short</td></tr>",
            "<tr><td>CHANCE RESURRECTION</td><td>70</td><td>normal</td></tr>",
            "<tr><td>CHAPLIN LICENSE</td><td>146</td><td>extra long</td></tr>",
            "<tr><td>CHARADE DUFFEL</td><td>66</td><td>normal</td></tr>",
            "<tr><td>CHARIOTS CONSPIRACY</td><td>71</td><td>normal</td></tr>",
            "<tr><td>CHASING FIGHT</td><td>114</td><td>long</td></tr>",
            "<tr><td>CHEAPER CLYDE</td><td>87</td><td>normal</td></tr>",
            "<tr><td>CHICAGO NORTH</td><td>185</td><td>extra long</td></tr>",
            "<tr><td>CHICKEN HELLFIGHTERS</td><td>122</td><td>extra long</td></tr>",
            "<tr><td>CHILL LUCK</td><td>142</td><td>extra long</td></tr>",
            "<tr><td>CHINATOWN GLADIATOR</td><td>61</td><td>normal</td></tr>",
            "<tr><td>CHISUM BEHAVIOR</td><td>124</td><td>extra long</td></tr>",
            "<tr><td>CHITTY LOCK</td><td>107</td><td>long</td></tr>",
            "<tr><td>CHOCOLAT HARRY</td><td>101</td><td>long</td></tr>",
            "<tr><td>CHOCOLATE DUCK</td><td>132</td><td>extra long</td></tr>",
            "<tr><td>CHRISTMAS MOONSHINE</td><td>150</td><td>extra long</td></tr>",
            "<tr><td>CIDER DESIRE</td><td>101</td><td>long</td></tr>",
            "<tr><td>CINCINATTI WHISPERER</td><td>143</td><td>extra long</td></tr>",
            "<tr><td>CIRCUS YOUTH</td><td>90</td><td>normal</td></tr>",
            "<tr><td>CITIZEN SHREK</td><td>165</td><td>extra long</td></tr>",
            "<tr><td>CLASH FREDDY</td><td>81</td><td>normal</td></tr>",
            "<tr><td>CLEOPATRA DEVIL</td><td>150</td><td>extra long</td></tr>",
            "<tr><td>CLERKS ANGELS</td><td>164</td><td>extra long</td></tr>",
            "<tr><td>CLOCKWORK PARADISE</td><td>143</td><td>extra long</td></tr>",
            "<tr><td>CLONES PINOCCHIO</td><td>124</td><td>extra long</td></tr>",
            "<tr><td>CLOSER BANG</td><td>58</td><td>short</td></tr>",
            "<tr><td>CLUB GRAFFITI</td><td>65</td><td>normal</td></tr>",
            "<tr><td>CLUE GRAIL</td><td>70</td><td>normal</td></tr>",
            "<tr><td>CLUELESS BUCKET</td><td>95</td><td>long</td></tr>",
            "<tr><td>CLYDE THEORY</td><td>139</td><td>extra long</td></tr>",
            "<tr><td>COAST RAINBOW</td><td>55</td><td>short</td></tr>",
            "<tr><td>COLDBLOODED DARLING</td><td>70</td><td>normal</td></tr>",
            "<tr><td>COLOR PHILADELPHIA</td><td>149</td><td>extra long</td></tr>",
            "<tr><td>COMA HEAD</td><td>109</td><td>long</td></tr>",
            "<tr><td>COMANCHEROS ENEMY</td><td>67</td><td>normal</td></tr>",
            "<tr><td>COMFORTS RUSH</td><td>76</td><td>normal</td></tr>",
            "<tr><td>COMMAND DARLING</td><td>120</td><td>long</td></tr>",
            "<tr><td>COMMANDMENTS EXPRESS</td><td>59</td><td>short</td></tr>",
            "<tr><td>CONEHEADS SMOOCHY</td><td>112</td><td>long</td></tr>",
            "<tr><td>CONFESSIONS MAGUIRE</td><td>65</td><td>normal</td></tr>",
            "<tr><td>CONFIDENTIAL INTERVIEW</td><td>180</td><td>extra long</td></tr>",
            "<tr><td>CONFUSED CANDLES</td><td>122</td><td>extra long</td></tr>",
            "<tr><td>CONGENIALITY QUEST</td><td>87</td><td>normal</td></tr>",
            "<tr><td>CONNECTICUT TRAMP</td><td>172</td><td>extra long</td></tr>",
            "<tr><td>CONNECTION MICROCOSMOS</td><td>115</td><td>long</td></tr>",
            "<tr><td>CONQUERER NUTS</td><td>173</td><td>extra long</td></tr>",
            "<tr><td>CONSPIRACY SPIRIT</td><td>184</td><td>extra long</td></tr>",
            "<tr><td>CONTACT ANONYMOUS</td><td>166</td><td>extra long</td></tr>",
            "<tr><td>CONTROL ANTHEM</td><td>185</td><td>extra long</td></tr>",
            "<tr><td>CONVERSATION DOWNHILL</td><td>112</td><td>long</td></tr>",
            "<tr><td>CORE SUIT</td><td>92</td><td>long</td></tr>",
            "<tr><td>COWBOY DOOM</td><td>146</td><td>extra long</td></tr>",
            "<tr><td>CRAFT OUTFIELD</td><td>64</td><td>normal</td></tr>",
            "<tr><td>CRANES RESERVOIR</td><td>57</td><td>short</td></tr>",
            "<tr><td>CRAZY HOME</td><td>136</td><td>extra long</td></tr>",
            "<tr><td>CREATURES SHAKESPEARE</td><td>139</td><td>extra long</td></tr>",
            "<tr><td>CREEPERS KANE</td><td>172</td><td>extra long</td></tr>",
            "<tr><td>CROOKED FROGMEN</td><td>143</td><td>extra long</td></tr>",
            "<tr><td>CROSSING DIVORCE</td><td>50</td><td>short</td></tr>",
            "<tr><td>CROSSROADS CASUALTIES</td><td>153</td><td>extra long</td></tr>",
            "<tr><td>CROW GREASE</td><td>104</td><td>long</td></tr>",
            "<tr><td>CROWDS TELEMARK</td><td>112</td><td>long</td></tr>",
            "<tr><td>CRUELTY UNFORGIVEN</td><td>69</td><td>normal</td></tr>",
            "<tr><td>CRUSADE HONEY</td><td>112</td><td>long</td></tr>",
            "<tr><td>CRYSTAL BREAKING</td><td>184</td><td>extra long</td></tr>",
            "<tr><td>CUPBOARD SINNERS</td><td>56</td><td>short</td></tr>",
            "<tr><td>CURTAIN VIDEOTAPE</td><td>133</td><td>extra long</td></tr>",
            "<tr><td>CYCLONE FAMILY</td><td>176</td><td>extra long</td></tr>",
            "<tr><td>DADDY PITTSBURGH</td><td>161</td><td>extra long</td></tr>",
            "<tr><td>DAISY MENAGERIE</td><td>84</td><td>normal</td></tr>",
            "<tr><td>DALMATIONS SWEDEN</td><td>106</td><td>long</td></tr>",
            "<tr><td>DANCES NONE</td><td>58</td><td>short</td></tr>",
            "<tr><td>DANCING FEVER</td><td>144</td><td>extra long</td></tr>",
            "<tr><td>DANGEROUS UPTOWN</td><td>121</td><td>extra long</td></tr>",
            "<tr><td>DARES PLUTO</td><td>89</td><td>normal</td></tr>",
            "<tr><td>DARKNESS WAR</td><td>99</td><td>long</td></tr>",
            "<tr><td>DARKO DORADO</td><td>130</td><td>extra long</td></tr>",
            "<tr><td>DARLING BREAKING</td><td>165</td><td>extra long</td></tr>",
            "<tr><td>DARN FORRESTER</td><td>185</td><td>extra long</td></tr>",
            "<tr><td>DATE SPEED</td><td>104</td><td>long</td></tr>",
            "<tr><td>DAUGHTER MADIGAN</td><td>59</td><td>short</td></tr>",
            "<tr><td>DAWN POND</td><td>57</td><td>short</td></tr>",
            "<tr><td>DAY UNFAITHFUL</td><td>113</td><td>long</td></tr>",
            "<tr><td>DAZED PUNK</td><td>120</td><td>long</td></tr>",
            "<tr><td>DECEIVER BETRAYED</td><td>122</td><td>extra long</td></tr>",
            "<tr><td>DEEP CRUSADE</td><td>51</td><td>short</td></tr>",
            "<tr><td>DEER VIRGINIAN</td><td>106</td><td>long</td></tr>",
            "<tr><td>DELIVERANCE MULHOLLAND</td><td>100</td><td>long</td></tr>",
            "<tr><td>DESERT POSEIDON</td><td>64</td><td>normal</td></tr>",
            "<tr><td>DESIRE ALIEN</td><td>76</td><td>normal</td></tr>",
            "<tr><td>DESPERATE TRAINSPOTTING</td><td>81</td><td>normal</td></tr>",
            "<tr><td>DESTINATION JERK</td><td>76</td><td>normal</td></tr>",
            "<tr><td>DESTINY SATURDAY</td><td>56</td><td>short</td></tr>",
            "<tr><td>DETAILS PACKER</td><td>88</td><td>normal</td></tr>",
            "<tr><td>DETECTIVE VISION</td><td>143</td><td>extra long</td></tr>",
            "<tr><td>DEVIL DESIRE</td><td>87</td><td>normal</td></tr>",
            "<tr><td>DIARY PANIC</td><td>107</td><td>long</td></tr>",
            "<tr><td>DINOSAUR SECRETARY</td><td>63</td><td>normal</td></tr>",
            "<tr><td>DIRTY ACE</td><td>147</td><td>extra long</td></tr>",
            "<tr><td>DISCIPLE MOTHER</td><td>141</td><td>extra long</td></tr>",
            "<tr><td>DISTURBING SCARFACE</td><td>94</td><td>long</td></tr>",
            "<tr><td>DIVIDE MONSTER</td><td>68</td><td>normal</td></tr>",
            "<tr><td>DIVINE RESURRECTION</td><td>100</td><td>long</td></tr>",
            "<tr><td>DIVORCE SHINING</td><td>47</td><td>short</td></tr>",
            "<tr><td>DOCTOR GRAIL</td><td>57</td><td>short</td></tr>",
            "<tr><td>DOGMA FAMILY</td><td>122</td><td>extra long</td></tr>",
            "<tr><td>DOLLS RAGE</td><td>120</td><td>long</td></tr>",
            "<tr><td>DONNIE ALLEY</td><td>125</td><td>extra long</td></tr>",
            "<tr><td>DOOM DANCING</td><td>68</td><td>normal</td></tr>",
            "<tr><td>DOORS PRESIDENT</td><td>49</td><td>short</td></tr>",
            "<tr><td>DORADO NOTTING</td><td>139</td><td>extra long</td></tr>",
            "<tr><td>DOUBLE WRATH</td><td>177</td><td>extra long</td></tr>",
            "<tr><td>DOUBTFIRE LABYRINTH</td><td>154</td><td>extra long</td></tr>",
            "<tr><td>DOWNHILL ENOUGH</td><td>47</td><td>short</td></tr>",
            "<tr><td>DOZEN LION</td><td>177</td><td>extra long</td></tr>",
            "<tr><td>DRACULA CRYSTAL</td><td>176</td><td>extra long</td></tr>",
            "<tr><td>DRAGON SQUAD</td><td>170</td><td>extra long</td></tr>",
            "<tr><td>DRAGONFLY STRANGERS</td><td>133</td><td>extra long</td></tr>",
            "<tr><td>DREAM PICKUP</td><td>135</td><td>extra long</td></tr>",
            "<tr><td>DRIFTER COMMANDMENTS</td><td>61</td><td>normal</td></tr>",
            "<tr><td>DRIVER ANNIE</td><td>159</td><td>extra long</td></tr>",
            "<tr><td>DRIVING POLISH</td><td>175</td><td>extra long</td></tr>",
            "<tr><td>DROP WATERFRONT</td><td>178</td><td>extra long</td></tr>",
            "<tr><td>DRUMLINE CYCLONE</td><td>110</td><td>long</td></tr>",
            "<tr><td>DRUMS DYNAMITE</td><td>96</td><td>long</td></tr>",
            "<tr><td>DUCK RACER</td><td>116</td><td>long</td></tr>",
            "<tr><td>DUDE BLINDNESS</td><td>132</td><td>extra long</td></tr>",
            "<tr><td>DUFFEL APOCALYPSE</td><td>171</td><td>extra long</td></tr>",
            "<tr><td>DUMBO LUST</td><td>119</td><td>long</td></tr>",
            "<tr><td>DURHAM PANKY</td><td>154</td><td>extra long</td></tr>",
            "<tr><td>DWARFS ALTER</td><td>101</td><td>long</td></tr>",
            "<tr><td>DYING MAKER</td><td>168</td><td>extra long</td></tr>",
            "<tr><td>DYNAMITE TARZAN</td><td>141</td><td>extra long</td></tr>",
            "<tr><td>EAGLES PANKY</td><td>140</td><td>extra long</td></tr>",
            "<tr><td>EARLY HOME</td><td>96</td><td>long</td></tr>",
            "<tr><td>EARRING INSTINCT</td><td>98</td><td>long</td></tr>",
            "<tr><td>EARTH VISION</td><td>85</td><td>normal</td></tr>",
            "<tr><td>EASY GLADIATOR</td><td>148</td><td>extra long</td></tr>",
            "<tr><td>EDGE KISSING</td><td>153</td><td>extra long</td></tr>",
            "<tr><td>EFFECT GLADIATOR</td><td>107</td><td>long</td></tr>",
            "<tr><td>EGG IGBY</td><td>67</td><td>normal</td></tr>",
            "<tr><td>EGYPT TENENBAUMS</td><td>85</td><td>normal</td></tr>",
            "<tr><td>ELEMENT FREDDY</td><td>115</td><td>long</td></tr>",
            "<tr><td>ELEPHANT TROJAN</td><td>126</td><td>extra long</td></tr>",
            "<tr><td>ELF MURDER</td><td>155</td><td>extra long</td></tr>",
            "<tr><td>ELIZABETH SHANE</td><td>152</td><td>extra long</td></tr>",
            "<tr><td>EMPIRE MALKOVICH</td><td>177</td><td>extra long</td></tr>",
            "<tr><td>ENCINO ELF</td><td>143</td><td>extra long</td></tr>",
            "<tr><td>ENCOUNTERS CURTAIN</td><td>92</td><td>long</td></tr>",
            "<tr><td>ENDING CROWDS</td><td>85</td><td>normal</td></tr>",
            "<tr><td>ENEMY ODDS</td><td>77</td><td>normal</td></tr>",
            "<tr><td>ENGLISH BULWORTH</td><td>51</td><td>short</td></tr>",
            "<tr><td>ENOUGH RAGING</td><td>158</td><td>extra long</td></tr>",
            "<tr><td>ENTRAPMENT SATISFACTION</td><td>176</td><td>extra long</td></tr>",
            "<tr><td>ESCAPE METROPOLIS</td><td>167</td><td>extra long</td></tr>",
            "<tr><td>EVE RESURRECTION</td><td>66</td><td>normal</td></tr>",
            "<tr><td>EVERYONE CRAFT</td><td>163</td><td>extra long</td></tr>",
            "<tr><td>EVOLUTION ALTER</td><td>174</td><td>extra long</td></tr>",
            "<tr><td>EXCITEMENT EVE</td><td>51</td><td>short</td></tr>",
            "<tr><td>EXORCIST STING</td><td>167</td><td>extra long</td></tr>",
            "<tr><td>EXPECATIONS NATURAL</td><td>138</td><td>extra long</td></tr>",
            "<tr><td>EXPENDABLE STALLION</td><td>97</td><td>long</td></tr>",
            "<tr><td>EXPRESS LONELY</td><td>178</td><td>extra long</td></tr>",
            "<tr><td>EXTRAORDINARY CONQUERER</td><td>122</td><td>extra long</td></tr>",
            "<tr><td>EYES DRIVING</td><td>172</td><td>extra long</td></tr>",
            "<tr><td>FACTORY DRAGON</td><td>144</td><td>extra long</td></tr>",
            "<tr><td>FALCON VOLUME</td><td>102</td><td>long</td></tr>",
            "<tr><td>FAMILY SWEET</td><td>155</td><td>extra long</td></tr>",
            "<tr><td>FANTASIA PARK</td><td>131</td><td>extra long</td></tr>",
            "<tr><td>FANTASY TROOPERS</td><td>58</td><td>short</td></tr>",
            "<tr><td>FARGO GANDHI</td><td>130</td><td>extra long</td></tr>",
            "<tr><td>FATAL HAUNTED</td><td>91</td><td>long</td></tr>",
            "<tr><td>FEATHERS METAL</td><td>104</td><td>long</td></tr>",
            "<tr><td>FELLOWSHIP AUTUMN</td><td>77</td><td>normal</td></tr>",
            "<tr><td>FERRIS MOTHER</td><td>142</td><td>extra long</td></tr>",
            "<tr><td>FEUD FROGMEN</td><td>98</td><td>long</td></tr>",
            "<tr><td>FEVER EMPIRE</td><td>158</td><td>extra long</td></tr>",
            "<tr><td>FICTION CHRISTMAS</td><td>72</td><td>normal</td></tr>",
            "<tr><td>FIDDLER LOST</td><td>75</td><td>normal</td></tr>",
            "<tr><td>FIDELITY DEVIL</td><td>118</td><td>long</td></tr>",
            "<tr><td>FIGHT JAWBREAKER</td><td>91</td><td>long</td></tr>",
            "<tr><td>FINDING ANACONDA</td><td>156</td><td>extra long</td></tr>",
            "<tr><td>FIRE WOLVES</td><td>173</td><td>extra long</td></tr>",
            "<tr><td>FIREBALL PHILADELPHIA</td><td>148</td><td>extra long</td></tr>",
            "<tr><td>FIREHOUSE VIETNAM</td><td>103</td><td>long</td></tr>",
            "<tr><td>FISH OPUS</td><td>125</td><td>extra long</td></tr>",
            "<tr><td>FLAMINGOS CONNECTICUT</td><td>80</td><td>normal</td></tr>",
            "<tr><td>FLASH WARS</td><td>123</td><td>extra long</td></tr>",
            "<tr><td>FLATLINERS KILLER</td><td>100</td><td>long</td></tr>",
            "<tr><td>FLIGHT LIES</td><td>179</td><td>extra long</td></tr>",
            "<tr><td>FLINTSTONES HAPPINESS</td><td>148</td><td>extra long</td></tr>",
            "<tr><td>FLOATS GARDEN</td><td>145</td><td>extra long</td></tr>",
            "<tr><td>FLYING HOOK</td><td>69</td><td>normal</td></tr>",
            "<tr><td>FOOL MOCKINGBIRD</td><td>158</td><td>extra long</td></tr>",
            "<tr><td>FOREVER CANDIDATE</td><td>131</td><td>extra long</td></tr>",
            "<tr><td>FORREST SONS</td><td>63</td><td>normal</td></tr>",
            "<tr><td>FORRESTER COMANCHEROS</td><td>112</td><td>long</td></tr>",
            "<tr><td>FORWARD TEMPLE</td><td>90</td><td>normal</td></tr>",
            "<tr><td>FRANKENSTEIN STRANGER</td><td>159</td><td>extra long</td></tr>",
            "<tr><td>FREAKY POCUS</td><td>126</td><td>extra long</td></tr>",
            "<tr><td>FREDDY STORM</td><td>65</td><td>normal</td></tr>",
            "<tr><td>FREEDOM CLEOPATRA</td><td>133</td><td>extra long</td></tr>",
            "<tr><td>FRENCH HOLIDAY</td><td>99</td><td>long</td></tr>",
            "<tr><td>FRIDA SLIPPER</td><td>73</td><td>normal</td></tr>",
            "<tr><td>FRISCO FORREST</td><td>51</td><td>short</td></tr>",
            "<tr><td>FROGMEN BREAKING</td><td>111</td><td>long</td></tr>",
            "<tr><td>FRONTIER CABIN</td><td>183</td><td>extra long</td></tr>",
            "<tr><td>FROST HEAD</td><td>82</td><td>normal</td></tr>",
            "<tr><td>FUGITIVE MAGUIRE</td><td>83</td><td>normal</td></tr>",
            "<tr><td>FULL FLATLINERS</td><td>94</td><td>long</td></tr>",
            "<tr><td>FURY MURDER</td><td>178</td><td>extra long</td></tr>",
            "<tr><td>GABLES METROPOLIS</td><td>161</td><td>extra long</td></tr>",
            "<tr><td>GALAXY SWEETHEARTS</td><td>128</td><td>extra long</td></tr>",
            "<tr><td>GAMES BOWFINGER</td><td>119</td><td>long</td></tr>",
            "<tr><td>GANDHI KWAI</td><td>86</td><td>normal</td></tr>",
            "<tr><td>GANGS PRIDE</td><td>185</td><td>extra long</td></tr>",
            "<tr><td>GARDEN ISLAND</td><td>80</td><td>normal</td></tr>",
            "<tr><td>GASLIGHT CRUSADE</td><td>106</td><td>long</td></tr>",
            "<tr><td>GATHERING CALENDAR</td><td>176</td><td>extra long</td></tr>",
            "<tr><td>GENTLEMEN STAGE</td><td>125</td><td>extra long</td></tr>",
            "<tr><td>GHOST GROUNDHOG</td><td>85</td><td>normal</td></tr>",
            "<tr><td>GHOSTBUSTERS ELF</td><td>101</td><td>long</td></tr>",
            "<tr><td>GIANT TROOPERS</td><td>102</td><td>long</td></tr>",
            "<tr><td>GILBERT PELICAN</td><td>114</td><td>long</td></tr>",
            "<tr><td>GILMORE BOILED</td><td>163</td><td>extra long</td></tr>",
            "<tr><td>GLADIATOR WESTWARD</td><td>173</td><td>extra long</td></tr>",
            "<tr><td>GLASS DYING</td><td>103</td><td>long</td></tr>",
            "<tr><td>GLEAMING JAWBREAKER</td><td>89</td><td>normal</td></tr>",
            "<tr><td>GLORY TRACY</td><td>115</td><td>long</td></tr>",
            "<tr><td>GO PURPLE</td><td>54</td><td>short</td></tr>",
            "<tr><td>GODFATHER DIARY</td><td>73</td><td>normal</td></tr>",
            "<tr><td>GOLD RIVER</td><td>154</td><td>extra long</td></tr>",
            "<tr><td>GOLDFINGER SENSIBILITY</td><td>93</td><td>long</td></tr>",
            "<tr><td>GOLDMINE TYCOON</td><td>153</td><td>extra long</td></tr>",
            "<tr><td>GONE TROUBLE</td><td>84</td><td>normal</td></tr>",
            "<tr><td>GOODFELLAS SALUTE</td><td>56</td><td>short</td></tr>",
            "<tr><td>GORGEOUS BINGO</td><td>108</td><td>long</td></tr>",
            "<tr><td>GOSFORD DONNIE</td><td>129</td><td>extra long</td></tr>",
            "<tr><td>GRACELAND DYNAMITE</td><td>140</td><td>extra long</td></tr>",
            "<tr><td>GRADUATE LORD</td><td>156</td><td>extra long</td></tr>",
            "<tr><td>GRAFFITI LOVE</td><td>117</td><td>long</td></tr>",
            "<tr><td>GRAIL FRANKENSTEIN</td><td>85</td><td>normal</td></tr>",
            "<tr><td>GRAPES FURY</td><td>155</td><td>extra long</td></tr>",
            "<tr><td>GREASE YOUTH</td><td>135</td><td>extra long</td></tr>",
            "<tr><td>GREATEST NORTH</td><td>93</td><td>long</td></tr>",
            "<tr><td>GREEDY ROOTS</td><td>166</td><td>extra long</td></tr>",
            "<tr><td>GREEK EVERYONE</td><td>176</td><td>extra long</td></tr>",
            "<tr><td>GRINCH MASSAGE</td><td>150</td><td>extra long</td></tr>",
            "<tr><td>GRIT CLOCKWORK</td><td>137</td><td>extra long</td></tr>",
            "<tr><td>GROOVE FICTION</td><td>111</td><td>long</td></tr>",
            "<tr><td>GROSSE WONDERFUL</td><td>49</td><td>short</td></tr>",
            "<tr><td>GROUNDHOG UNCUT</td><td>139</td><td>extra long</td></tr>",
            "<tr><td>GUMP DATE</td><td>53</td><td>short</td></tr>",
            "<tr><td>GUN BONNIE</td><td>100</td><td>long</td></tr>",
            "<tr><td>GUNFIGHT MOON</td><td>70</td><td>normal</td></tr>",
            "<tr><td>GUNFIGHTER MUSSOLINI</td><td>127</td><td>extra long</td></tr>",
            "<tr><td>GUYS FALCON</td><td>84</td><td>normal</td></tr>",
            "<tr><td>HALF OUTFIELD</td><td>146</td><td>extra long</td></tr>",
            "<tr><td>HALL CASSIDY</td><td>51</td><td>short</td></tr>",
            "<tr><td>HALLOWEEN NUTS</td><td>47</td><td>short</td></tr>",
            "<tr><td>HAMLET WISDOM</td><td>146</td><td>extra long</td></tr>",
            "<tr><td>HANDICAP BOONDOCK</td><td>108</td><td>long</td></tr>",
            "<tr><td>HANGING DEEP</td><td>62</td><td>normal</td></tr>",
            "<tr><td>HANKY OCTOBER</td><td>107</td><td>long</td></tr>",
            "<tr><td>HANOVER GALAXY</td><td>47</td><td>short</td></tr>",
            "<tr><td>HAPPINESS UNITED</td><td>100</td><td>long</td></tr>",
            "<tr><td>HARDLY ROBBERS</td><td>72</td><td>normal</td></tr>",
            "<tr><td>HAROLD FRENCH</td><td>168</td><td>extra long</td></tr>",
            "<tr><td>HARPER DYING</td><td>52</td><td>short</td></tr>",
            "<tr><td>HARRY IDAHO</td><td>121</td><td>extra long</td></tr>",
            "<tr><td>HATE HANDICAP</td><td>107</td><td>long</td></tr>",
            "<tr><td>HAUNTED ANTITRUST</td><td>76</td><td>normal</td></tr>",
            "<tr><td>HAUNTING PIANIST</td><td>181</td><td>extra long</td></tr>",
            "<tr><td>HAWK CHILL</td><td>47</td><td>short</td></tr>",
            "<tr><td>HEAD STRANGER</td><td>69</td><td>normal</td></tr>",
            "<tr><td>HEARTBREAKERS BRIGHT</td><td>59</td><td>short</td></tr>",
            "<tr><td>HEAVEN FREEDOM</td><td>48</td><td>short</td></tr>",
            "<tr><td>HEAVENLY GUN</td><td>49</td><td>short</td></tr>",
            "<tr><td>HEAVYWEIGHTS BEAST</td><td>102</td><td>long</td></tr>",
            "<tr><td>HEDWIG ALTER</td><td>169</td><td>extra long</td></tr>",
            "<tr><td>HELLFIGHTERS SIERRA</td><td>75</td><td>normal</td></tr>",
            "<tr><td>HIGH ENCINO</td><td>84</td><td>normal</td></tr>",
            "<tr><td>HIGHBALL POTTER</td><td>110</td><td>long</td></tr>",
            "<tr><td>HILLS NEIGHBORS</td><td>93</td><td>long</td></tr>",
            "<tr><td>HOBBIT ALIEN</td><td>157</td><td>extra long</td></tr>",
            "<tr><td>HOCUS FRIDA</td><td>141</td><td>extra long</td></tr>",
            "<tr><td>HOLES BRANNIGAN</td><td>128</td><td>extra long</td></tr>",
            "<tr><td>HOLIDAY GAMES</td><td>78</td><td>normal</td></tr>",
            "<tr><td>HOLLOW JEOPARDY</td><td>136</td><td>extra long</td></tr>",
            "<tr><td>HOLLYWOOD ANONYMOUS</td><td>69</td><td>normal</td></tr>",
            "<tr><td>HOLOCAUST HIGHBALL</td><td>149</td><td>extra long</td></tr>",
            "<tr><td>HOLY TADPOLE</td><td>88</td><td>normal</td></tr>",
            "<tr><td>HOME PITY</td><td>185</td><td>extra long</td></tr>",
            "<tr><td>HOMEWARD CIDER</td><td>103</td><td>long</td></tr>",
            "<tr><td>HOMICIDE PEACH</td><td>141</td><td>extra long</td></tr>",
            "<tr><td>HONEY TIES</td><td>84</td><td>normal</td></tr>",
            "<tr><td>HOOK CHARIOTS</td><td>49</td><td>short</td></tr>",
            "<tr><td>HOOSIERS BIRDCAGE</td><td>176</td><td>extra long</td></tr>",
            "<tr><td>HOPE TOOTSIE</td><td>139</td><td>extra long</td></tr>",
            "<tr><td>HORN WORKING</td><td>95</td><td>long</td></tr>",
            "<tr><td>HORROR REIGN</td><td>139</td><td>extra long</td></tr>",
            "<tr><td>HOTEL HAPPINESS</td><td>181</td><td>extra long</td></tr>",
            "<tr><td>HOURS RAGE</td><td>122</td><td>extra long</td></tr>",
            "<tr><td>HOUSE DYNAMITE</td><td>109</td><td>long</td></tr>",
            "<tr><td>HUMAN GRAFFITI</td><td>68</td><td>normal</td></tr>",
            "<tr><td>HUNCHBACK IMPOSSIBLE</td><td>151</td><td>extra long</td></tr>",
            "<tr><td>HUNGER ROOF</td><td>105</td><td>long</td></tr>",
            "<tr><td>HUNTER ALTER</td><td>125</td><td>extra long</td></tr>",
            "<tr><td>HUNTING MUSKETEERS</td><td>65</td><td>normal</td></tr>",
            "<tr><td>HURRICANE AFFAIR</td><td>49</td><td>short</td></tr>",
            "<tr><td>HUSTLER PARTY</td><td>83</td><td>normal</td></tr>",
            "<tr><td>HYDE DOCTOR</td><td>100</td><td>long</td></tr>",
            "<tr><td>HYSTERICAL GRAIL</td><td>150</td><td>extra long</td></tr>",
            "<tr><td>ICE CROSSING</td><td>131</td><td>extra long</td></tr>",
            "<tr><td>IDAHO LOVE</td><td>172</td><td>extra long</td></tr>",
            "<tr><td>IDENTITY LOVER</td><td>119</td><td>long</td></tr>",
            "<tr><td>IDOLS SNATCHERS</td><td>84</td><td>normal</td></tr>",
            "<tr><td>IGBY MAKER</td><td>160</td><td>extra long</td></tr>",
            "<tr><td>ILLUSION AMELIE</td><td>122</td><td>extra long</td></tr>",
            "<tr><td>IMAGE PRINCESS</td><td>178</td><td>extra long</td></tr>",
            "<tr><td>IMPACT ALADDIN</td><td>180</td><td>extra long</td></tr>",
            "<tr><td>IMPOSSIBLE PREJUDICE</td><td>103</td><td>long</td></tr>",
            "<tr><td>INCH JET</td><td>167</td><td>extra long</td></tr>",
            "<tr><td>INDEPENDENCE HOTEL</td><td>157</td><td>extra long</td></tr>",
            "<tr><td>INDIAN LOVE</td><td>135</td><td>extra long</td></tr>",
            "<tr><td>INFORMER DOUBLE</td><td>74</td><td>normal</td></tr>",
            "<tr><td>INNOCENT USUAL</td><td>178</td><td>extra long</td></tr>",
            "<tr><td>INSECTS STONE</td><td>123</td><td>extra long</td></tr>",
            "<tr><td>INSIDER ARIZONA</td><td>78</td><td>normal</td></tr>",
            "<tr><td>INSTINCT AIRPORT</td><td>116</td><td>long</td></tr>",
            "<tr><td>INTENTIONS EMPIRE</td><td>107</td><td>long</td></tr>",
            "<tr><td>INTERVIEW LIAISONS</td><td>59</td><td>short</td></tr>",
            "<tr><td>INTOLERABLE INTENTIONS</td><td>63</td><td>normal</td></tr>",
            "<tr><td>INTRIGUE WORST</td><td>181</td><td>extra long</td></tr>",
            "<tr><td>INVASION CYCLONE</td><td>97</td><td>long</td></tr>",
            "<tr><td>IRON MOON</td><td>46</td><td>short</td></tr>",
            "<tr><td>ISHTAR ROCKETEER</td><td>79</td><td>normal</td></tr>",
            "<tr><td>ISLAND EXORCIST</td><td>84</td><td>normal</td></tr>",
            "<tr><td>ITALIAN AFRICAN</td><td>174</td><td>extra long</td></tr>",
            "<tr><td>JACKET FRISCO</td><td>181</td><td>extra long</td></tr>",
            "<tr><td>JADE BUNCH</td><td>174</td><td>extra long</td></tr>",
            "<tr><td>JAPANESE RUN</td><td>135</td><td>extra long</td></tr>",
            "<tr><td>JASON TRAP</td><td>130</td><td>extra long</td></tr>",
            "<tr><td>JAWBREAKER BROOKLYN</td><td>118</td><td>long</td></tr>",
            "<tr><td>JAWS HARRY</td><td>112</td><td>long</td></tr>",
            "<tr><td>JEDI BENEATH</td><td>128</td><td>extra long</td></tr>",
            "<tr><td>JEEPERS WEDDING</td><td>84</td><td>normal</td></tr>",
            "<tr><td>JEKYLL FROGMEN</td><td>58</td><td>short</td></tr>",
            "<tr><td>JEOPARDY ENCINO</td><td>102</td><td>long</td></tr>",
            "<tr><td>JERICHO MULAN</td><td>171</td><td>extra long</td></tr>",
            "<tr><td>JERK PAYCHECK</td><td>172</td><td>extra long</td></tr>",
            "<tr><td>JERSEY SASSY</td><td>60</td><td>short</td></tr>",
            "<tr><td>JET NEIGHBORS</td><td>59</td><td>short</td></tr>",
            "<tr><td>JINGLE SAGEBRUSH</td><td>124</td><td>extra long</td></tr>",
            "<tr><td>JOON NORTHWEST</td><td>105</td><td>long</td></tr>",
            "<tr><td>JUGGLER HARDLY</td><td>54</td><td>short</td></tr>",
            "<tr><td>JUMANJI BLADE</td><td>121</td><td>extra long</td></tr>",
            "<tr><td>JUMPING WRATH</td><td>74</td><td>normal</td></tr>",
            "<tr><td>JUNGLE CLOSER</td><td>134</td><td>extra long</td></tr>",
            "<tr><td>KANE EXORCIST</td><td>92</td><td>long</td></tr>",
            "<tr><td>KARATE MOON</td><td>120</td><td>long</td></tr>",
            "<tr><td>KENTUCKIAN GIANT</td><td>169</td><td>extra long</td></tr>",
            "<tr><td>KICK SAVANNAH</td><td>179</td><td>extra long</td></tr>",
            "<tr><td>KILL BROTHERHOOD</td><td>54</td><td>short</td></tr>",
            "<tr><td>KILLER INNOCENT</td><td>161</td><td>extra long</td></tr>",
            "<tr><td>KING EVOLUTION</td><td>184</td><td>extra long</td></tr>",
            "<tr><td>KISS GLORY</td><td>163</td><td>extra long</td></tr>",
            "<tr><td>KISSING DOLLS</td><td>141</td><td>extra long</td></tr>",
            "<tr><td>KNOCK WARLOCK</td><td>71</td><td>normal</td></tr>",
            "<tr><td>KRAMER CHOCOLATE</td><td>171</td><td>extra long</td></tr>",
            "<tr><td>KWAI HOMEWARD</td><td>46</td><td>short</td></tr>",
            "<tr><td>LABYRINTH LEAGUE</td><td>46</td><td>short</td></tr>",
            "<tr><td>LADY STAGE</td><td>67</td><td>normal</td></tr>",
            "<tr><td>LADYBUGS ARMAGEDDON</td><td>113</td><td>long</td></tr>",
            "<tr><td>LAMBS CINCINATTI</td><td>144</td><td>extra long</td></tr>",
            "<tr><td>LANGUAGE COWBOY</td><td>78</td><td>normal</td></tr>",
            "<tr><td>LAWLESS VISION</td><td>181</td><td>extra long</td></tr>",
            "<tr><td>LAWRENCE LOVE</td><td>175</td><td>extra long</td></tr>",
            "<tr><td>LEAGUE HELLFIGHTERS</td><td>110</td><td>long</td></tr>",
            "<tr><td>LEATHERNECKS DWARFS</td><td>153</td><td>extra long</td></tr>",
            "<tr><td>LEBOWSKI SOLDIERS</td><td>69</td><td>normal</td></tr>",
            "<tr><td>LEGALLY SECRETARY</td><td>113</td><td>long</td></tr>",
            "<tr><td>LEGEND JEDI</td><td>59</td><td>short</td></tr>",
            "<tr><td>LESSON CLEOPATRA</td><td>167</td><td>extra long</td></tr>",
            "<tr><td>LIAISONS SWEET</td><td>140</td><td>extra long</td></tr>",
            "<tr><td>LIBERTY MAGNIFICENT</td><td>138</td><td>extra long</td></tr>",
            "<tr><td>LICENSE WEEKEND</td><td>91</td><td>long</td></tr>",
            "<tr><td>LIES TREATMENT</td><td>147</td><td>extra long</td></tr>",
            "<tr><td>LIFE TWISTED</td><td>137</td><td>extra long</td></tr>",
            "<tr><td>LIGHTS DEER</td><td>174</td><td>extra long</td></tr>",
            "<tr><td>LION UNCUT</td><td>50</td><td>short</td></tr>",
            "<tr><td>LOATHING LEGALLY</td><td>140</td><td>extra long</td></tr>",
            "<tr><td>LOCK REAR</td><td>120</td><td>long</td></tr>",
            "<tr><td>LOLA AGENT</td><td>85</td><td>normal</td></tr>",
            "<tr><td>LOLITA WORLD</td><td>155</td><td>extra long</td></tr>",
            "<tr><td>LONELY ELEPHANT</td><td>67</td><td>normal</td></tr>",
            "<tr><td>LORD ARIZONA</td><td>108</td><td>long</td></tr>",
            "<tr><td>LOSE INCH</td><td>137</td><td>extra long</td></tr>",
            "<tr><td>LOSER HUSTLER</td><td>80</td><td>normal</td></tr>",
            "<tr><td>LOST BIRD</td><td>98</td><td>long</td></tr>",
            "<tr><td>LOUISIANA HARRY</td><td>70</td><td>normal</td></tr>",
            "<tr><td>LOVE SUICIDES</td><td>181</td><td>extra long</td></tr>",
            "<tr><td>LOVELY JINGLE</td><td>65</td><td>normal</td></tr>",
            "<tr><td>LOVER TRUMAN</td><td>75</td><td>normal</td></tr>",
            "<tr><td>LOVERBOY ATTACKS</td><td>162</td><td>extra long</td></tr>",
            "<tr><td>LUCK OPUS</td><td>152</td><td>extra long</td></tr>",
            "<tr><td>LUCKY FLYING</td><td>97</td><td>long</td></tr>",
            "<tr><td>LUKE MUMMY</td><td>74</td><td>normal</td></tr>",
            "<tr><td>LUST LOCK</td><td>52</td><td>short</td></tr>",
            "<tr><td>MADIGAN DORADO</td><td>116</td><td>long</td></tr>",
            "<tr><td>MADISON TRAP</td><td>147</td><td>extra long</td></tr>",
            "<tr><td>MADNESS ATTACKS</td><td>178</td><td>extra long</td></tr>",
            "<tr><td>MADRE GABLES</td><td>98</td><td>long</td></tr>",
            "<tr><td>MAGIC MALLRATS</td><td>117</td><td>long</td></tr>",
            "<tr><td>MAGNIFICENT CHITTY</td><td>53</td><td>short</td></tr>",
            "<tr><td>MAGNOLIA FORRESTER</td><td>171</td><td>extra long</td></tr>",
            "<tr><td>MAGUIRE APACHE</td><td>74</td><td>normal</td></tr>",
            "<tr><td>MAIDEN HOME</td><td>138</td><td>extra long</td></tr>",
            "<tr><td>MAJESTIC FLOATS</td><td>130</td><td>extra long</td></tr>",
            "<tr><td>MAKER GABLES</td><td>136</td><td>extra long</td></tr>",
            "<tr><td>MALKOVICH PET</td><td>159</td><td>extra long</td></tr>",
            "<tr><td>MALLRATS UNITED</td><td>133</td><td>extra long</td></tr>",
            "<tr><td>MALTESE HOPE</td><td>127</td><td>extra long</td></tr>",
            "<tr><td>MANCHURIAN CURTAIN</td><td>177</td><td>extra long</td></tr>",
            "<tr><td>MANNEQUIN WORST</td><td>71</td><td>normal</td></tr>",
            "<tr><td>MARRIED GO</td><td>114</td><td>long</td></tr>",
            "<tr><td>MARS ROMAN</td><td>62</td><td>normal</td></tr>",
            "<tr><td>MASK PEACH</td><td>123</td><td>extra long</td></tr>",
            "<tr><td>MASKED BUBBLE</td><td>151</td><td>extra long</td></tr>",
            "<tr><td>MASSACRE USUAL</td><td>165</td><td>extra long</td></tr>",
            "<tr><td>MASSAGE IMAGE</td><td>161</td><td>extra long</td></tr>",
            "<tr><td>MATRIX SNOWMAN</td><td>56</td><td>short</td></tr>",
            "<tr><td>MAUDE MOD</td><td>72</td><td>normal</td></tr>",
            "<tr><td>MEET CHOCOLATE</td><td>80</td><td>normal</td></tr>",
            "<tr><td>MEMENTO ZOOLANDER</td><td>77</td><td>normal</td></tr>",
            "<tr><td>MENAGERIE RUSHMORE</td><td>147</td><td>extra long</td></tr>",
            "<tr><td>MERMAID INSECTS</td><td>104</td><td>long</td></tr>",
            "<tr><td>METAL ARMAGEDDON</td><td>161</td><td>extra long</td></tr>",
            "<tr><td>METROPOLIS COMA</td><td>64</td><td>normal</td></tr>",
            "<tr><td>MICROCOSMOS PARADISE</td><td>105</td><td>long</td></tr>",
            "<tr><td>MIDNIGHT WESTWARD</td><td>86</td><td>normal</td></tr>",
            "<tr><td>MIDSUMMER GROUNDHOG</td><td>48</td><td>short</td></tr>",
            "<tr><td>MIGHTY LUCK</td><td>122</td><td>extra long</td></tr>",
            "<tr><td>MILE MULAN</td><td>64</td><td>normal</td></tr>",
            "<tr><td>MILLION ACE</td><td>142</td><td>extra long</td></tr>",
            "<tr><td>MINDS TRUMAN</td><td>149</td><td>extra long</td></tr>",
            "<tr><td>MINE TITANS</td><td>166</td><td>extra long</td></tr>",
            "<tr><td>MINORITY KISS</td><td>59</td><td>short</td></tr>",
            "<tr><td>MIRACLE VIRTUAL</td><td>162</td><td>extra long</td></tr>",
            "<tr><td>MISSION ZOOLANDER</td><td>164</td><td>extra long</td></tr>",
            "<tr><td>MIXED DOORS</td><td>180</td><td>extra long</td></tr>",
            "<tr><td>MOB DUFFEL</td><td>105</td><td>long</td></tr>",
            "<tr><td>MOCKINGBIRD HOLLYWOOD</td><td>60</td><td>short</td></tr>",
            "<tr><td>MOD SECRETARY</td><td>77</td><td>normal</td></tr>",
            "<tr><td>MODEL FISH</td><td>175</td><td>extra long</td></tr>",
            "<tr><td>MODERN DORADO</td><td>74</td><td>normal</td></tr>",
            "<tr><td>MONEY HAROLD</td><td>135</td><td>extra long</td></tr>",
            "<tr><td>MONSOON CAUSE</td><td>182</td><td>extra long</td></tr>",
            "<tr><td>MONSTER SPARTACUS</td><td>107</td><td>long</td></tr>",
            "<tr><td>MONTEREY LABYRINTH</td><td>158</td><td>extra long</td></tr>",
            "<tr><td>MONTEZUMA COMMAND</td><td>126</td><td>extra long</td></tr>",
            "<tr><td>MOON BUNCH</td><td>83</td><td>normal</td></tr>",
            "<tr><td>MOONSHINE CABIN</td><td>171</td><td>extra long</td></tr>",
            "<tr><td>MOONWALKER FOOL</td><td>184</td><td>extra long</td></tr>",
            "<tr><td>MOSQUITO ARMAGEDDON</td><td>57</td><td>short</td></tr>",
            "<tr><td>MOTHER OLEANDER</td><td>103</td><td>long</td></tr>",
            "<tr><td>MOTIONS DETAILS</td><td>166</td><td>extra long</td></tr>",
            "<tr><td>MOULIN WAKE</td><td>79</td><td>normal</td></tr>",
            "<tr><td>MOURNING PURPLE</td><td>146</td><td>extra long</td></tr>",
            "<tr><td>MOVIE SHAKESPEARE</td><td>53</td><td>short</td></tr>",
            "<tr><td>MULAN MOON</td><td>160</td><td>extra long</td></tr>",
            "<tr><td>MULHOLLAND BEAST</td><td>157</td><td>extra long</td></tr>",
            "<tr><td>MUMMY CREATURES</td><td>160</td><td>extra long</td></tr>",
            "<tr><td>MUPPET MILE</td><td>50</td><td>short</td></tr>",
            "<tr><td>MURDER ANTITRUST</td><td>166</td><td>extra long</td></tr>",
            "<tr><td>MUSCLE BRIGHT</td><td>185</td><td>extra long</td></tr>",
            "<tr><td>MUSIC BOONDOCK</td><td>129</td><td>extra long</td></tr>",
            "<tr><td>MUSKETEERS WAIT</td><td>73</td><td>normal</td></tr>",
            "<tr><td>MUSSOLINI SPOILERS</td><td>180</td><td>extra long</td></tr>",
            "<tr><td>MYSTIC TRUMAN</td><td>92</td><td>long</td></tr>",
            "<tr><td>NAME DETECTIVE</td><td>178</td><td>extra long</td></tr>",
            "<tr><td>NASH CHOCOLAT</td><td>180</td><td>extra long</td></tr>",
            "<tr><td>NATIONAL STORY</td><td>92</td><td>long</td></tr>",
            "<tr><td>NATURAL STOCK</td><td>50</td><td>short</td></tr>",
            "<tr><td>NECKLACE OUTBREAK</td><td>132</td><td>extra long</td></tr>",
            "<tr><td>NEIGHBORS CHARADE</td><td>161</td><td>extra long</td></tr>",
            "<tr><td>NEMO CAMPUS</td><td>131</td><td>extra long</td></tr>",
            "<tr><td>NETWORK PEAK</td><td>75</td><td>normal</td></tr>",
            "<tr><td>NEWSIES STORY</td><td>159</td><td>extra long</td></tr>",
            "<tr><td>NEWTON LABYRINTH</td><td>75</td><td>normal</td></tr>",
            "<tr><td>NIGHTMARE CHILL</td><td>149</td><td>extra long</td></tr>",
            "<tr><td>NONE SPIKING</td><td>83</td><td>normal</td></tr>",
            "<tr><td>NOON PAPI</td><td>57</td><td>short</td></tr>",
            "<tr><td>NORTH TEQUILA</td><td>67</td><td>normal</td></tr>",
            "<tr><td>NORTHWEST POLISH</td><td>172</td><td>extra long</td></tr>",
            "<tr><td>NOTORIOUS REUNION</td><td>128</td><td>extra long</td></tr>",
            "<tr><td>NOTTING SPEAKEASY</td><td>48</td><td>short</td></tr>",
            "<tr><td>NOVOCAINE FLIGHT</td><td>64</td><td>normal</td></tr>",
            "<tr><td>NUTS TIES</td><td>145</td><td>extra long</td></tr>",
            "<tr><td>OCTOBER SUBMARINE</td><td>54</td><td>short</td></tr>",
            "<tr><td>ODDS BOOGIE</td><td>48</td><td>short</td></tr>",
            "<tr><td>OKLAHOMA JUMANJI</td><td>58</td><td>short</td></tr>",
            "<tr><td>OLEANDER CLUE</td><td>161</td><td>extra long</td></tr>",
            "<tr><td>OPEN AFRICAN</td><td>131</td><td>extra long</td></tr>",
            "<tr><td>OPERATION OPERATION</td><td>156</td><td>extra long</td></tr>",
            "<tr><td>OPPOSITE NECKLACE</td><td>92</td><td>long</td></tr>",
            "<tr><td>OPUS ICE</td><td>102</td><td>long</td></tr>",
            "<tr><td>ORANGE GRAPES</td><td>76</td><td>normal</td></tr>",
            "<tr><td>ORDER BETRAYED</td><td>120</td><td>long</td></tr>",
            "<tr><td>ORIENT CLOSER</td><td>118</td><td>long</td></tr>",
            "<tr><td>OSCAR GOLD</td><td>115</td><td>long</td></tr>",
            "<tr><td>OTHERS SOUP</td><td>118</td><td>long</td></tr>",
            "<tr><td>OUTBREAK DIVINE</td><td>169</td><td>extra long</td></tr>",
            "<tr><td>OUTFIELD MASSACRE</td><td>129</td><td>extra long</td></tr>",
            "<tr><td>OUTLAW HANKY</td><td>148</td><td>extra long</td></tr>",
            "<tr><td>OZ LIAISONS</td><td>85</td><td>normal</td></tr>",
            "<tr><td>PACIFIC AMISTAD</td><td>144</td><td>extra long</td></tr>",
            "<tr><td>PACKER MADIGAN</td><td>84</td><td>normal</td></tr>",
            "<tr><td>PAJAMA JAWBREAKER</td><td>126</td><td>extra long</td></tr>",
            "<tr><td>PANIC CLUB</td><td>102</td><td>long</td></tr>",
            "<tr><td>PANKY SUBMARINE</td><td>93</td><td>long</td></tr>",
            "<tr><td>PANTHER REDS</td><td>109</td><td>long</td></tr>",
            "<tr><td>PAPI NECKLACE</td><td>128</td><td>extra long</td></tr>",
            "<tr><td>PARADISE SABRINA</td><td>48</td><td>short</td></tr>",
            "<tr><td>PARIS WEEKEND</td><td>121</td><td>extra long</td></tr>",
            "<tr><td>PARK CITIZEN</td><td>109</td><td>long</td></tr>",
            "<tr><td>PARTY KNOCK</td><td>107</td><td>long</td></tr>",
            "<tr><td>PAST SUICIDES</td><td>157</td><td>extra long</td></tr>",
            "<tr><td>PATHS CONTROL</td><td>118</td><td>long</td></tr>",
            "<tr><td>PATIENT SISTER</td><td>99</td><td>long</td></tr>",
            "<tr><td>PATRIOT ROMAN</td><td>65</td><td>normal</td></tr>",
            "<tr><td>PATTON INTERVIEW</td><td>175</td><td>extra long</td></tr>",
            "<tr><td>PAYCHECK WAIT</td><td>145</td><td>extra long</td></tr>",
            "<tr><td>PEACH INNOCENT</td><td>160</td><td>extra long</td></tr>",
            "<tr><td>PEAK FOREVER</td><td>80</td><td>normal</td></tr>",
            "<tr><td>PEARL DESTINY</td><td>74</td><td>normal</td></tr>",
            "<tr><td>PELICAN COMFORTS</td><td>48</td><td>short</td></tr>",
            "<tr><td>PERDITION FARGO</td><td>99</td><td>long</td></tr>",
            "<tr><td>PERFECT GROOVE</td><td>82</td><td>normal</td></tr>",
            "<tr><td>PERSONAL LADYBUGS</td><td>118</td><td>long</td></tr>",
            "<tr><td>PET HAUNTING</td><td>99</td><td>long</td></tr>",
            "<tr><td>PHANTOM GLORY</td><td>60</td><td>short</td></tr>",
            "<tr><td>PHILADELPHIA WIFE</td><td>137</td><td>extra long</td></tr>",
            "<tr><td>PIANIST OUTFIELD</td><td>136</td><td>extra long</td></tr>",
            "<tr><td>PICKUP DRIVING</td><td>77</td><td>normal</td></tr>",
            "<tr><td>PILOT HOOSIERS</td><td>50</td><td>short</td></tr>",
            "<tr><td>PINOCCHIO SIMON</td><td>103</td><td>long</td></tr>",
            "<tr><td>PIRATES ROXANNE</td><td>100</td><td>long</td></tr>",
            "<tr><td>PITTSBURGH HUNCHBACK</td><td>134</td><td>extra long</td></tr>",
            "<tr><td>PITY BOUND</td><td>60</td><td>short</td></tr>",
            "<tr><td>PIZZA JUMANJI</td><td>173</td><td>extra long</td></tr>",
            "<tr><td>PLATOON INSTINCT</td><td>132</td><td>extra long</td></tr>",
            "<tr><td>PLUTO OLEANDER</td><td>84</td><td>normal</td></tr>",
            "<tr><td>POCUS PULP</td><td>138</td><td>extra long</td></tr>",
            "<tr><td>POLISH BROOKLYN</td><td>61</td><td>normal</td></tr>",
            "<tr><td>POLLOCK DELIVERANCE</td><td>137</td><td>extra long</td></tr>",
            "<tr><td>POND SEATTLE</td><td>185</td><td>extra long</td></tr>",
            "<tr><td>POSEIDON FOREVER</td><td>159</td><td>extra long</td></tr>",
            "<tr><td>POTLUCK MIXED</td><td>179</td><td>extra long</td></tr>",
            "<tr><td>POTTER CONNECTICUT</td><td>115</td><td>long</td></tr>",
            "<tr><td>PREJUDICE OLEANDER</td><td>98</td><td>long</td></tr>",
            "<tr><td>PRESIDENT BANG</td><td>144</td><td>extra long</td></tr>",
            "<tr><td>PRIDE ALAMO</td><td>114</td><td>long</td></tr>",
            "<tr><td>PRIMARY GLASS</td><td>53</td><td>short</td></tr>",
            "<tr><td>PRINCESS GIANT</td><td>71</td><td>normal</td></tr>",
            "<tr><td>PRIVATE DROP</td><td>106</td><td>long</td></tr>",
            "<tr><td>PRIX UNDEFEATED</td><td>115</td><td>long</td></tr>",
            "<tr><td>PSYCHO SHRUNK</td><td>155</td><td>extra long</td></tr>",
            "<tr><td>PULP BEVERLY</td><td>89</td><td>normal</td></tr>",
            "<tr><td>PUNK DIVORCE</td><td>100</td><td>long</td></tr>",
            "<tr><td>PURE RUNNER</td><td>121</td><td>extra long</td></tr>",
            "<tr><td>PURPLE MOVIE</td><td>88</td><td>normal</td></tr>",
            "<tr><td>QUEEN LUKE</td><td>163</td><td>extra long</td></tr>",
            "<tr><td>QUEST MUSSOLINI</td><td>177</td><td>extra long</td></tr>",
            "<tr><td>QUILLS BULL</td><td>112</td><td>long</td></tr>",
            "<tr><td>RACER EGG</td><td>147</td><td>extra long</td></tr>",
            "<tr><td>RAGE GAMES</td><td>120</td><td>long</td></tr>",
            "<tr><td>RAGING AIRPLANE</td><td>154</td><td>extra long</td></tr>",
            "<tr><td>RAIDERS ANTITRUST</td><td>82</td><td>normal</td></tr>",
            "<tr><td>RAINBOW SHOCK</td><td>74</td><td>normal</td></tr>",
            "<tr><td>RANDOM GO</td><td>73</td><td>normal</td></tr>",
            "<tr><td>RANGE MOONWALKER</td><td>147</td><td>extra long</td></tr>",
            "<tr><td>REAP UNFAITHFUL</td><td>136</td><td>extra long</td></tr>",
            "<tr><td>REAR TRADING</td><td>97</td><td>long</td></tr>",
            "<tr><td>REBEL AIRPORT</td><td>73</td><td>normal</td></tr>",
            "<tr><td>RECORDS ZORRO</td><td>182</td><td>extra long</td></tr>",
            "<tr><td>REDEMPTION COMFORTS</td><td>179</td><td>extra long</td></tr>",
            "<tr><td>REDS POCUS</td><td>182</td><td>extra long</td></tr>",
            "<tr><td>REEF SALUTE</td><td>123</td><td>extra long</td></tr>",
            "<tr><td>REIGN GENTLEMEN</td><td>82</td><td>normal</td></tr>",
            "<tr><td>REMEMBER DIARY</td><td>110</td><td>long</td></tr>",
            "<tr><td>REQUIEM TYCOON</td><td>167</td><td>extra long</td></tr>",
            "<tr><td>RESERVOIR ADAPTATION</td><td>61</td><td>normal</td></tr>",
            "<tr><td>RESURRECTION SILVERADO</td><td>117</td><td>long</td></tr>",
            "<tr><td>REUNION WITCHES</td><td>63</td><td>normal</td></tr>",
            "<tr><td>RIDER CADDYSHACK</td><td>177</td><td>extra long</td></tr>",
            "<tr><td>RIDGEMONT SUBMARINE</td><td>46</td><td>short</td></tr>",
            "<tr><td>RIGHT CRANES</td><td>153</td><td>extra long</td></tr>",
            "<tr><td>RINGS HEARTBREAKERS</td><td>58</td><td>short</td></tr>",
            "<tr><td>RIVER OUTLAW</td><td>149</td><td>extra long</td></tr>",
            "<tr><td>ROAD ROXANNE</td><td>158</td><td>extra long</td></tr>",
            "<tr><td>ROBBERS JOON</td><td>102</td><td>long</td></tr>",
            "<tr><td>ROBBERY BRIGHT</td><td>134</td><td>extra long</td></tr>",
            "<tr><td>ROCK INSTINCT</td><td>102</td><td>long</td></tr>",
            "<tr><td>ROCKETEER MOTHER</td><td>178</td><td>extra long</td></tr>",
            "<tr><td>ROCKY WAR</td><td>145</td><td>extra long</td></tr>",
            "<tr><td>ROLLERCOASTER BRINGING</td><td>153</td><td>extra long</td></tr>",
            "<tr><td>ROMAN PUNK</td><td>81</td><td>normal</td></tr>",
            "<tr><td>ROOF CHAMPION</td><td>101</td><td>long</td></tr>",
            "<tr><td>ROOM ROMAN</td><td>60</td><td>short</td></tr>",
            "<tr><td>ROOTS REMEMBER</td><td>89</td><td>normal</td></tr>",
            "<tr><td>ROSES TREASURE</td><td>162</td><td>extra long</td></tr>",
            "<tr><td>ROUGE SQUAD</td><td>118</td><td>long</td></tr>",
            "<tr><td>ROXANNE REBEL</td><td>171</td><td>extra long</td></tr>",
            "<tr><td>RUGRATS SHAKESPEARE</td><td>109</td><td>long</td></tr>",
            "<tr><td>RULES HUMAN</td><td>153</td><td>extra long</td></tr>",
            "<tr><td>RUN PACIFIC</td><td>145</td><td>extra long</td></tr>",
            "<tr><td>RUNAWAY TENENBAUMS</td><td>181</td><td>extra long</td></tr>",
            "<tr><td>RUNNER MADIGAN</td><td>101</td><td>long</td></tr>",
            "<tr><td>RUSH GOODFELLAS</td><td>48</td><td>short</td></tr>",
            "<tr><td>RUSHMORE MERMAID</td><td>150</td><td>extra long</td></tr>",
            "<tr><td>SABRINA MIDNIGHT</td><td>99</td><td>long</td></tr>",
            "<tr><td>SADDLE ANTITRUST</td><td>80</td><td>normal</td></tr>",
            "<tr><td>SAGEBRUSH CLUELESS</td><td>106</td><td>long</td></tr>",
            "<tr><td>SAINTS BRIDE</td><td>125</td><td>extra long</td></tr>",
            "<tr><td>SALUTE APOLLO</td><td>73</td><td>normal</td></tr>",
            "<tr><td>SAMURAI LION</td><td>110</td><td>long</td></tr>",
            "<tr><td>SANTA PARIS</td><td>154</td><td>extra long</td></tr>",
            "<tr><td>SASSY PACKER</td><td>154</td><td>extra long</td></tr>",
            "<tr><td>SATISFACTION CONFIDENTIAL</td><td>75</td><td>normal</td></tr>",
            "<tr><td>SATURDAY LAMBS</td><td>150</td><td>extra long</td></tr>",
            "<tr><td>SATURN NAME</td><td>182</td><td>extra long</td></tr>",
            "<tr><td>SAVANNAH TOWN</td><td>84</td><td>normal</td></tr>",
            "<tr><td>SCALAWAG DUCK</td><td>183</td><td>extra long</td></tr>",
            "<tr><td>SCARFACE BANG</td><td>102</td><td>long</td></tr>",
            "<tr><td>SCHOOL JACKET</td><td>151</td><td>extra long</td></tr>",
            "<tr><td>SCISSORHANDS SLUMS</td><td>147</td><td>extra long</td></tr>",
            "<tr><td>SCORPION APOLLO</td><td>137</td><td>extra long</td></tr>",
            "<tr><td>SEA VIRGIN</td><td>80</td><td>normal</td></tr>",
            "<tr><td>SEABISCUIT PUNK</td><td>112</td><td>long</td></tr>",
            "<tr><td>SEARCHERS WAIT</td><td>182</td><td>extra long</td></tr>",
            "<tr><td>SEATTLE EXPECATIONS</td><td>110</td><td>long</td></tr>",
            "<tr><td>SECRET GROUNDHOG</td><td>90</td><td>normal</td></tr>",
            "<tr><td>SECRETARY ROUGE</td><td>158</td><td>extra long</td></tr>",
            "<tr><td>SECRETS PARADISE</td><td>109</td><td>long</td></tr>",
            "<tr><td>SENSE GREEK</td><td>54</td><td>short</td></tr>",
            "<tr><td>SENSIBILITY REAR</td><td>98</td><td>long</td></tr>",
            "<tr><td>SEVEN SWARM</td><td>127</td><td>extra long</td></tr>",
            "<tr><td>SHAKESPEARE SADDLE</td><td>60</td><td>short</td></tr>",
            "<tr><td>SHANE DARKNESS</td><td>93</td><td>long</td></tr>",
            "<tr><td>SHANGHAI TYCOON</td><td>47</td><td>short</td></tr>",
            "<tr><td>SHAWSHANK BUBBLE</td><td>80</td><td>normal</td></tr>",
            "<tr><td>SHEPHERD MIDSUMMER</td><td>113</td><td>long</td></tr>",
            "<tr><td>SHINING ROSES</td><td>125</td><td>extra long</td></tr>",
            "<tr><td>SHIP WONDERLAND</td><td>104</td><td>long</td></tr>",
            "<tr><td>SHOCK CABIN</td><td>79</td><td>normal</td></tr>",
            "<tr><td>SHOOTIST SUPERFLY</td><td>67</td><td>normal</td></tr>",
            "<tr><td>SHOW LORD</td><td>167</td><td>extra long</td></tr>",
            "<tr><td>SHREK LICENSE</td><td>154</td><td>extra long</td></tr>",
            "<tr><td>SHRUNK DIVINE</td><td>139</td><td>extra long</td></tr>",
            "<tr><td>SIDE ARK</td><td>52</td><td>short</td></tr>",
            "<tr><td>SIEGE MADRE</td><td>111</td><td>long</td></tr>",
            "<tr><td>SIERRA DIVIDE</td><td>135</td><td>extra long</td></tr>",
            "<tr><td>SILENCE KANE</td><td>67</td><td>normal</td></tr>",
            "<tr><td>SILVERADO GOLDFINGER</td><td>74</td><td>normal</td></tr>",
            "<tr><td>SIMON NORTH</td><td>51</td><td>short</td></tr>",
            "<tr><td>SINNERS ATLANTIS</td><td>126</td><td>extra long</td></tr>",
            "<tr><td>SISTER FREDDY</td><td>152</td><td>extra long</td></tr>",
            "<tr><td>SKY MIRACLE</td><td>132</td><td>extra long</td></tr>",
            "<tr><td>SLACKER LIAISONS</td><td>179</td><td>extra long</td></tr>",
            "<tr><td>SLEEPING SUSPECTS</td><td>129</td><td>extra long</td></tr>",
            "<tr><td>SLEEPLESS MONSOON</td><td>64</td><td>normal</td></tr>",
            "<tr><td>SLEEPY JAPANESE</td><td>137</td><td>extra long</td></tr>",
            "<tr><td>SLEUTH ORIENT</td><td>87</td><td>normal</td></tr>",
            "<tr><td>SLING LUKE</td><td>84</td><td>normal</td></tr>",
            "<tr><td>SLIPPER FIDELITY</td><td>156</td><td>extra long</td></tr>",
            "<tr><td>SLUMS DUCK</td><td>147</td><td>extra long</td></tr>",
            "<tr><td>SMILE EARRING</td><td>60</td><td>short</td></tr>",
            "<tr><td>SMOKING BARBARELLA</td><td>50</td><td>short</td></tr>",
            "<tr><td>SMOOCHY CONTROL</td><td>184</td><td>extra long</td></tr>",
            "<tr><td>SNATCH SLIPPER</td><td>110</td><td>long</td></tr>",
            "<tr><td>SNATCHERS MONTEZUMA</td><td>74</td><td>normal</td></tr>",
            "<tr><td>SNOWMAN ROLLERCOASTER</td><td>62</td><td>normal</td></tr>",
            "<tr><td>SOLDIERS EVOLUTION</td><td>185</td><td>extra long</td></tr>",
            "<tr><td>SOMETHING DUCK</td><td>180</td><td>extra long</td></tr>",
            "<tr><td>SONG HEDWIG</td><td>165</td><td>extra long</td></tr>",
            "<tr><td>SONS INTERVIEW</td><td>184</td><td>extra long</td></tr>",
            "<tr><td>SORORITY QUEEN</td><td>184</td><td>extra long</td></tr>",
            "<tr><td>SOUP WISDOM</td><td>169</td><td>extra long</td></tr>",
            "<tr><td>SOUTH WAIT</td><td>143</td><td>extra long</td></tr>",
            "<tr><td>SPARTACUS CHEAPER</td><td>52</td><td>short</td></tr>",
            "<tr><td>SPEAKEASY DATE</td><td>165</td><td>extra long</td></tr>",
            "<tr><td>SPEED SUIT</td><td>124</td><td>extra long</td></tr>",
            "<tr><td>SPICE SORORITY</td><td>141</td><td>extra long</td></tr>",
            "<tr><td>SPIKING ELEMENT</td><td>79</td><td>normal</td></tr>",
            "<tr><td>SPINAL ROCKY</td><td>138</td><td>extra long</td></tr>",
            "<tr><td>SPIRIT FLINTSTONES</td><td>149</td><td>extra long</td></tr>",
            "<tr><td>SPIRITED CASUALTIES</td><td>138</td><td>extra long</td></tr>",
            "<tr><td>SPLASH GUMP</td><td>175</td><td>extra long</td></tr>",
            "<tr><td>SPLENDOR PATTON</td><td>134</td><td>extra long</td></tr>",
            "<tr><td>SPOILERS HELLFIGHTERS</td><td>151</td><td>extra long</td></tr>",
            "<tr><td>SPY MILE</td><td>112</td><td>long</td></tr>",
            "<tr><td>SQUAD FISH</td><td>136</td><td>extra long</td></tr>",
            "<tr><td>STAGE WORLD</td><td>85</td><td>normal</td></tr>",
            "<tr><td>STAGECOACH ARMAGEDDON</td><td>112</td><td>long</td></tr>",
            "<tr><td>STALLION SUNDANCE</td><td>130</td><td>extra long</td></tr>",
            "<tr><td>STAMPEDE DISTURBING</td><td>75</td><td>normal</td></tr>",
            "<tr><td>STAR OPERATION</td><td>181</td><td>extra long</td></tr>",
            "<tr><td>STATE WASTELAND</td><td>113</td><td>long</td></tr>",
            "<tr><td>STEEL SANTA</td><td>143</td><td>extra long</td></tr>",
            "<tr><td>STEERS ARMAGEDDON</td><td>140</td><td>extra long</td></tr>",
            "<tr><td>STEPMOM DREAM</td><td>48</td><td>short</td></tr>",
            "<tr><td>STING PERSONAL</td><td>93</td><td>long</td></tr>",
            "<tr><td>STOCK GLASS</td><td>160</td><td>extra long</td></tr>",
            "<tr><td>STONE FIRE</td><td>94</td><td>long</td></tr>",
            "<tr><td>STORM HAPPINESS</td><td>57</td><td>short</td></tr>",
            "<tr><td>STORY SIDE</td><td>163</td><td>extra long</td></tr>",
            "<tr><td>STRAIGHT HOURS</td><td>151</td><td>extra long</td></tr>",
            "<tr><td>STRANGELOVE DESIRE</td><td>103</td><td>long</td></tr>",
            "<tr><td>STRANGER STRANGERS</td><td>139</td><td>extra long</td></tr>",
            "<tr><td>STRANGERS GRAFFITI</td><td>119</td><td>long</td></tr>",
            "<tr><td>STREAK RIDGEMONT</td><td>132</td><td>extra long</td></tr>",
            "<tr><td>STREETCAR INTENTIONS</td><td>73</td><td>normal</td></tr>",
            "<tr><td>STRICTLY SCARFACE</td><td>144</td><td>extra long</td></tr>",
            "<tr><td>SUBMARINE BED</td><td>127</td><td>extra long</td></tr>",
            "<tr><td>SUGAR WONKA</td><td>114</td><td>long</td></tr>",
            "<tr><td>SUICIDES SILENCE</td><td>93</td><td>long</td></tr>",
            "<tr><td>SUIT WALLS</td><td>111</td><td>long</td></tr>",
            "<tr><td>SUMMER SCARFACE</td><td>53</td><td>short</td></tr>",
            "<tr><td>SUN CONFESSIONS</td><td>141</td><td>extra long</td></tr>",
            "<tr><td>SUNDANCE INVASION</td><td>92</td><td>long</td></tr>",
            "<tr><td>SUNRISE LEAGUE</td><td>135</td><td>extra long</td></tr>",
            "<tr><td>SUNSET RACER</td><td>48</td><td>short</td></tr>",
            "<tr><td>SUPER WYOMING</td><td>58</td><td>short</td></tr>",
            "<tr><td>SUPERFLY TRIP</td><td>114</td><td>long</td></tr>",
            "<tr><td>SUSPECTS QUILLS</td><td>47</td><td>short</td></tr>",
            "<tr><td>SWARM GOLD</td><td>123</td><td>extra long</td></tr>",
            "<tr><td>SWEDEN SHINING</td><td>176</td><td>extra long</td></tr>",
            "<tr><td>SWEET BROTHERHOOD</td><td>185</td><td>extra long</td></tr>",
            "<tr><td>SWEETHEARTS SUSPECTS</td><td>108</td><td>long</td></tr>",
            "<tr><td>TADPOLE PARK</td><td>155</td><td>extra long</td></tr>",
            "<tr><td>TALENTED HOMICIDE</td><td>173</td><td>extra long</td></tr>",
            "<tr><td>TARZAN VIDEOTAPE</td><td>91</td><td>long</td></tr>",
            "<tr><td>TAXI KICK</td><td>64</td><td>normal</td></tr>",
            "<tr><td>TEEN APOLLO</td><td>74</td><td>normal</td></tr>",
            "<tr><td>TELEGRAPH VOYAGE</td><td>148</td><td>extra long</td></tr>",
            "<tr><td>TELEMARK HEARTBREAKERS</td><td>152</td><td>extra long</td></tr>",
            "<tr><td>TEMPLE ATTRACTION</td><td>71</td><td>normal</td></tr>",
            "<tr><td>TENENBAUMS COMMAND</td><td>99</td><td>long</td></tr>",
            "<tr><td>TEQUILA PAST</td><td>53</td><td>short</td></tr>",
            "<tr><td>TERMINATOR CLUB</td><td>88</td><td>normal</td></tr>",
            "<tr><td>TEXAS WATCH</td><td>179</td><td>extra long</td></tr>",
            "<tr><td>THEORY MERMAID</td><td>184</td><td>extra long</td></tr>",
            "<tr><td>THIEF PELICAN</td><td>135</td><td>extra long</td></tr>",
            "<tr><td>THIN SAGEBRUSH</td><td>53</td><td>short</td></tr>",
            "<tr><td>TIES HUNGER</td><td>111</td><td>long</td></tr>",
            "<tr><td>TIGHTS DAWN</td><td>172</td><td>extra long</td></tr>",
            "<tr><td>TIMBERLAND SKY</td><td>69</td><td>normal</td></tr>",
            "<tr><td>TITANIC BOONDOCK</td><td>104</td><td>long</td></tr>",
            "<tr><td>TITANS JERK</td><td>91</td><td>long</td></tr>",
            "<tr><td>TOMATOES HELLFIGHTERS</td><td>68</td><td>normal</td></tr>",
            "<tr><td>TOMORROW HUSTLER</td><td>142</td><td>extra long</td></tr>",
            "<tr><td>TOOTSIE PILOT</td><td>157</td><td>extra long</td></tr>",
            "<tr><td>TORQUE BOUND</td><td>179</td><td>extra long</td></tr>",
            "<tr><td>TOURIST PELICAN</td><td>152</td><td>extra long</td></tr>",
            "<tr><td>TOWERS HURRICANE</td><td>144</td><td>extra long</td></tr>",
            "<tr><td>TOWN ARK</td><td>136</td><td>extra long</td></tr>",
            "<tr><td>TRACY CIDER</td><td>142</td><td>extra long</td></tr>",
            "<tr><td>TRADING PINOCCHIO</td><td>170</td><td>extra long</td></tr>",
            "<tr><td>TRAFFIC HOBBIT</td><td>139</td><td>extra long</td></tr>",
            "<tr><td>TRAIN BUNCH</td><td>71</td><td>normal</td></tr>",
            "<tr><td>TRAINSPOTTING STRANGERS</td><td>132</td><td>extra long</td></tr>",
            "<tr><td>TRAMP OTHERS</td><td>171</td><td>extra long</td></tr>",
            "<tr><td>TRANSLATION SUMMER</td><td>168</td><td>extra long</td></tr>",
            "<tr><td>TRAP GUYS</td><td>110</td><td>long</td></tr>",
            "<tr><td>TREASURE COMMAND</td><td>102</td><td>long</td></tr>",
            "<tr><td>TREATMENT JEKYLL</td><td>87</td><td>normal</td></tr>",
            "<tr><td>TRIP NEWTON</td><td>64</td><td>normal</td></tr>",
            "<tr><td>TROJAN TOMORROW</td><td>52</td><td>short</td></tr>",
            "<tr><td>TROOPERS METAL</td><td>115</td><td>long</td></tr>",
            "<tr><td>TROUBLE DATE</td><td>61</td><td>normal</td></tr>",
            "<tr><td>TRUMAN CRAZY</td><td>92</td><td>long</td></tr>",
            "<tr><td>TURN STAR</td><td>80</td><td>normal</td></tr>",
            "<tr><td>TUXEDO MILE</td><td>152</td><td>extra long</td></tr>",
            "<tr><td>TWISTED PIRATES</td><td>152</td><td>extra long</td></tr>",
            "<tr><td>TYCOON GATHERING</td><td>82</td><td>normal</td></tr>",
            "<tr><td>UNBREAKABLE KARATE</td><td>62</td><td>normal</td></tr>",
            "<tr><td>UNCUT SUICIDES</td><td>172</td><td>extra long</td></tr>",
            "<tr><td>UNDEFEATED DALMATIONS</td><td>107</td><td>long</td></tr>",
            "<tr><td>UNFAITHFUL KILL</td><td>78</td><td>normal</td></tr>",
            "<tr><td>UNFORGIVEN ZOOLANDER</td><td>129</td><td>extra long</td></tr>",
            "<tr><td>UNITED PILOT</td><td>164</td><td>extra long</td></tr>",
            "<tr><td>UNTOUCHABLES SUNRISE</td><td>120</td><td>long</td></tr>",
            "<tr><td>UPRISING UPTOWN</td><td>174</td><td>extra long</td></tr>",
            "<tr><td>UPTOWN YOUNG</td><td>84</td><td>normal</td></tr>",
            "<tr><td>USUAL UNTOUCHABLES</td><td>128</td><td>extra long</td></tr>",
            "<tr><td>VACATION BOONDOCK</td><td>145</td><td>extra long</td></tr>",
            "<tr><td>VALENTINE VANISHING</td><td>48</td><td>short</td></tr>",
            "<tr><td>VALLEY PACKER</td><td>73</td><td>normal</td></tr>",
            "<tr><td>VAMPIRE WHALE</td><td>126</td><td>extra long</td></tr>",
            "<tr><td>VANILLA DAY</td><td>122</td><td>extra long</td></tr>",
            "<tr><td>VANISHED GARDEN</td><td>142</td><td>extra long</td></tr>",
            "<tr><td>VANISHING ROCKY</td><td>123</td><td>extra long</td></tr>",
            "<tr><td>VARSITY TRIP</td><td>85</td><td>normal</td></tr>",
            "<tr><td>VELVET TERMINATOR</td><td>173</td><td>extra long</td></tr>",
            "<tr><td>VERTIGO NORTHWEST</td><td>90</td><td>normal</td></tr>",
            "<tr><td>VICTORY ACADEMY</td><td>64</td><td>normal</td></tr>",
            "<tr><td>VIDEOTAPE ARSENIC</td><td>145</td><td>extra long</td></tr>",
            "<tr><td>VIETNAM SMOOCHY</td><td>174</td><td>extra long</td></tr>",
            "<tr><td>VILLAIN DESPERATE</td><td>76</td><td>normal</td></tr>",
            "<tr><td>VIRGIN DAISY</td><td>179</td><td>extra long</td></tr>",
            "<tr><td>VIRGINIAN PLUTO</td><td>164</td><td>extra long</td></tr>",
            "<tr><td>VIRTUAL SPOILERS</td><td>144</td><td>extra long</td></tr>",
            "<tr><td>VISION TORQUE</td><td>59</td><td>short</td></tr>",
            "<tr><td>VOICE PEACH</td><td>139</td><td>extra long</td></tr>",
            "<tr><td>VOLCANO TEXAS</td><td>157</td><td>extra long</td></tr>",
            "<tr><td>VOLUME HOUSE</td><td>132</td><td>extra long</td></tr>",
            "<tr><td>VOYAGE LEGALLY</td><td>78</td><td>normal</td></tr>",
            "<tr><td>WAGON JAWS</td><td>152</td><td>extra long</td></tr>",
            "<tr><td>WAIT CIDER</td><td>112</td><td>long</td></tr>",
            "<tr><td>WAKE JAWS</td><td>73</td><td>normal</td></tr>",
            "<tr><td>WALLS ARTIST</td><td>135</td><td>extra long</td></tr>",
            "<tr><td>WANDA CHAMBER</td><td>107</td><td>long</td></tr>",
            "<tr><td>WAR NOTTING</td><td>80</td><td>normal</td></tr>",
            "<tr><td>WARDROBE PHANTOM</td><td>178</td><td>extra long</td></tr>",
            "<tr><td>WARLOCK WEREWOLF</td><td>83</td><td>normal</td></tr>",
            "<tr><td>WARS PLUTO</td><td>128</td><td>extra long</td></tr>",
            "<tr><td>WASH HEAVENLY</td><td>161</td><td>extra long</td></tr>",
            "<tr><td>WASTELAND DIVINE</td><td>85</td><td>normal</td></tr>",
            "<tr><td>WATCH TRACY</td><td>78</td><td>normal</td></tr>",
            "<tr><td>WATERFRONT DELIVERANCE</td><td>61</td><td>normal</td></tr>",
            "<tr><td>WATERSHIP FRONTIER</td><td>112</td><td>long</td></tr>",
            "<tr><td>WEDDING APOLLO</td><td>70</td><td>normal</td></tr>",
            "<tr><td>WEEKEND PERSONAL</td><td>134</td><td>extra long</td></tr>",
            "<tr><td>WEREWOLF LOLA</td><td>79</td><td>normal</td></tr>",
            "<tr><td>WEST LION</td><td>159</td><td>extra long</td></tr>",
            "<tr><td>WESTWARD SEABISCUIT</td><td>52</td><td>short</td></tr>",
            "<tr><td>WHALE BIKINI</td><td>109</td><td>long</td></tr>",
            "<tr><td>WHISPERER GIANT</td><td>59</td><td>short</td></tr>",
            "<tr><td>WIFE TURN</td><td>183</td><td>extra long</td></tr>",
            "<tr><td>WILD APOLLO</td><td>181</td><td>extra long</td></tr>",
            "<tr><td>WILLOW TRACY</td><td>137</td><td>extra long</td></tr>",
            "<tr><td>WIND PHANTOM</td><td>111</td><td>long</td></tr>",
            "<tr><td>WINDOW SIDE</td><td>85</td><td>normal</td></tr>",
            "<tr><td>WISDOM WORKER</td><td>98</td><td>long</td></tr>",
            "<tr><td>WITCHES PANIC</td><td>100</td><td>long</td></tr>",
            "<tr><td>WIZARD COLDBLOODED</td><td>75</td><td>normal</td></tr>",
            "<tr><td>WOLVES DESIRE</td><td>55</td><td>short</td></tr>",
            "<tr><td>WOMEN DORADO</td><td>126</td><td>extra long</td></tr>",
            "<tr><td>WON DARES</td><td>105</td><td>long</td></tr>",
            "<tr><td>WONDERFUL DROP</td><td>126</td><td>extra long</td></tr>",
            "<tr><td>WONDERLAND CHRISTMAS</td><td>111</td><td>long</td></tr>",
            "<tr><td>WONKA SEA</td><td>85</td><td>normal</td></tr>",
            "<tr><td>WORDS HUNTER</td><td>116</td><td>long</td></tr>",
            "<tr><td>WORKER TARZAN</td><td>139</td><td>extra long</td></tr>",
            "<tr><td>WORKING MICROCOSMOS</td><td>74</td><td>normal</td></tr>",
            "<tr><td>WORLD LEATHERNECKS</td><td>171</td><td>extra long</td></tr>",
            "<tr><td>WORST BANGER</td><td>185</td><td>extra long</td></tr>",
            "<tr><td>WRATH MILE</td><td>176</td><td>extra long</td></tr>",
            "<tr><td>WRONG BEHAVIOR</td><td>178</td><td>extra long</td></tr>",
            "<tr><td>WYOMING STORM</td><td>100</td><td>long</td></tr>",
            "<tr><td>YENTL IDAHO</td><td>86</td><td>normal</td></tr>",
            "<tr><td>YOUNG LANGUAGE</td><td>183</td><td>extra long</td></tr>",
            "<tr><td>YOUTH KICK</td><td>179</td><td>extra long</td></tr>",
            "<tr><td>ZHIVAGO CORE</td><td>105</td><td>long</td></tr>",
            "<tr><td>ZOOLANDER FICTION</td><td>101</td><td>long</td></tr>",
            "<tr><td>ZORRO ARK</td><td>50</td><td>short</td></tr>",
            "</table>"
        ]
    }
}
],
            "execution_count": 39
        }
    ]
}