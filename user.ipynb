{
    "metadata": {
        "kernelspec": {
            "name": "SQL",
            "display_name": "SQL",
            "language": "sql"
        },
        "language_info": {
            "name": "sql",
            "version": ""
        }
    },
    "nbformat_minor": 2,
    "nbformat": 4,
    "cells": [
        {
            "cell_type": "code",
            "source": [
                "create DATABASE userdata;"
            ],
            "metadata": {
                "azdata_cell_guid": "cbb638e0-e6f1-4f6a-88de-9f4d9ad55e97",
                "language": "sql"
            },
            "outputs": [
                {
                    "output_type": "display_data",
                    "data": {
                        "text/html": "Commands completed successfully"
                    },
                    "metadata": {}
                },
                {
                    "output_type": "display_data",
                    "data": {
                        "text/html": "Total execution time: 00:00:00.040"
                    },
                    "metadata": {}
                }
            ],
            "execution_count": 1
        },
        {
            "cell_type": "code",
            "source": [
                "use userdata"
            ],
            "metadata": {
                "language": "sql",
                "azdata_cell_guid": "927c4438-d0a7-47fe-98bd-98d343dc2bc4"
            },
            "outputs": [
                {
                    "output_type": "display_data",
                    "data": {
                        "text/html": "Commands completed successfully"
                    },
                    "metadata": {}
                },
                {
                    "output_type": "display_data",
                    "data": {
                        "text/html": "Total execution time: 00:00:00"
                    },
                    "metadata": {}
                }
            ],
            "execution_count": 3
        },
        {
            "cell_type": "code",
            "source": [
                "CREATE TABLE `users` (\r\n",
                "  `auid` int(10) UNSIGNED NOT NULL,\r\n",
                "  `username` varchar(100) NOT NULL,\r\n",
                "  `password` varchar(150) NOT NULL,\r\n",
                "  `createdate` datetime NOT NULL,\r\n",
                "  `isActive` tinyint(1) NOT NULL\r\n",
                ");"
            ],
            "metadata": {
                "language": "sql",
                "azdata_cell_guid": "1c7d2fd3-429c-4a77-92d0-c9f2fb11f276"
            },
            "outputs": [
                {
                    "output_type": "display_data",
                    "data": {
                        "text/html": "Total execution time: 00:00:00.007"
                    },
                    "metadata": {}
                },
                {
                    "output_type": "error",
                    "evalue": "1046 (3D000): No database selected",
                    "ename": "",
                    "traceback": []
                }
            ],
            "execution_count": 2
        },
        {
            "cell_type": "code",
            "source": [
                "CREATE TABLE `userprofile` (\r\n",
                "  `apid` int(10) UNSIGNED NOT NULL,\r\n",
                "  `auid` int(10) UNSIGNED NOT NULL,\r\n",
                "  `firstname` varchar(50) NOT NULL,\r\n",
                "  `lastname` varchar(50) NOT NULL,\r\n",
                "  `email` varchar(100) NOT NULL,\r\n",
                "  `phone` varchar(45) NOT NULL\r\n",
                ");"
            ],
            "metadata": {
                "language": "sql",
                "azdata_cell_guid": "ff4d5618-51e0-4618-a489-f9b008d8304b"
            },
            "outputs": [
                {
                    "output_type": "display_data",
                    "data": {
                        "text/html": "Commands completed successfully"
                    },
                    "metadata": {}
                },
                {
                    "output_type": "display_data",
                    "data": {
                        "text/html": "Total execution time: 00:00:00.096"
                    },
                    "metadata": {}
                }
            ],
            "execution_count": 4
        },
        {
            "cell_type": "code",
            "source": [
                ""
            ],
            "metadata": {
                "language": "sql",
                "azdata_cell_guid": "9d49d559-0893-404a-a40a-0ceb689e8cb5"
            },
            "outputs": [],
            "execution_count": null
        }
    ]
}