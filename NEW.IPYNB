{
    "metadata": {
        "kernelspec": {
            "name": "SQL",
            "display_name": "SQL",
            "language": "sql"
        },
        "language_info": {
            "name": "sql",
            "version": ""
        }
    },
    "nbformat_minor": 2,
    "nbformat": 4,
    "cells": [
        {
            "cell_type": "code",
            "source": [
                "create database helllo;"
            ],
            "metadata": {
                "azdata_cell_guid": "a147cd50-8421-438e-94c8-0504ab2004a1",
                "language": "sql"
            },
            "outputs": [
                {
                    "output_type": "display_data",
                    "data": {
                        "text/html": "Total execution time: 00:00:00.007"
                    },
                    "metadata": {}
                }
            ],
            "execution_count": 5
        },
        {
            "cell_type": "code",
            "source": [
                "use helllo;"
            ],
            "metadata": {
                "language": "sql",
                "azdata_cell_guid": "bb2ea374-70b2-47f7-b8c7-e5c840dc425c"
            },
            "outputs": [
                {
                    "output_type": "error",
                    "evalue": "1007 (HY000): Can't create database 'helllo'; database exists",
                    "ename": "",
                    "traceback": []
                },
                {
                    "output_type": "display_data",
                    "data": {
                        "text/html": "Commands completed successfully"
                    },
                    "metadata": {}
                },
                {
                    "output_type": "display_data",
                    "data": {
                        "text/html": "Total execution time: 00:00:00"
                    },
                    "metadata": {}
                }
            ],
            "execution_count": 6
        },
        {
            "cell_type": "code",
            "source": [
                "create table school_record\r\n",
                "(\r\n",
                "    id int unsigned,\r\n",
                "    name VARCHAR(100),\r\n",
                "    class int unsigned,\r\n",
                "    address VARCHAR(150),\r\n",
                "    contact INT unsigned,\r\n",
                "    email VARCHAR(100),\r\n",
                "    dob DATE\r\n",
                ");"
            ],
            "metadata": {
                "language": "sql",
                "azdata_cell_guid": "6fe10a71-c224-4a9b-88e1-f1c1810dba7d"
            },
            "outputs": [
                {
                    "output_type": "display_data",
                    "data": {
                        "text/html": "Commands completed successfully"
                    },
                    "metadata": {}
                },
                {
                    "output_type": "display_data",
                    "data": {
                        "text/html": "Total execution time: 00:00:00.032"
                    },
                    "metadata": {}
                }
            ],
            "execution_count": 11
        },
        {
            "cell_type": "code",
            "source": [
                "describe school_record;"
            ],
            "metadata": {
                "language": "sql",
                "azdata_cell_guid": "61010031-96ae-403a-aa45-ea1627b75f90"
            },
            "outputs": [
                {
                    "output_type": "display_data",
                    "data": {
                        "text/html": "(7 row(s) affected)"
                    },
                    "metadata": {}
                },
                {
                    "output_type": "display_data",
                    "data": {
                        "text/html": "Total execution time: 00:00:01.039"
                    },
                    "metadata": {}
                },
                {
                    "output_type": "execute_result",
                    "execution_count": 14,
                    "data": {
                        "application/vnd.dataresource+json": {
                            "schema": {
                                "fields": [
                                    {
                                        "name": "Field"
                                    },
                                    {
                                        "name": "Type"
                                    },
                                    {
                                        "name": "Null"
                                    },
                                    {
                                        "name": "Key"
                                    },
                                    {
                                        "name": "Default"
                                    },
                                    {
                                        "name": "Extra"
                                    }
                                ]
                            },
                            "data": [
                                {
                                    "Field": "id",
                                    "Type": "b'int unsigned'",
                                    "Null": "YES",
                                    "Key": "",
                                    "Default": "NULL",
                                    "Extra": ""
                                },
                                {
                                    "Field": "name",
                                    "Type": "b'varchar(100)'",
                                    "Null": "YES",
                                    "Key": "",
                                    "Default": "NULL",
                                    "Extra": ""
                                },
                                {
                                    "Field": "class",
                                    "Type": "b'int unsigned'",
                                    "Null": "YES",
                                    "Key": "",
                                    "Default": "NULL",
                                    "Extra": ""
                                },
                                {
                                    "Field": "address",
                                    "Type": "b'varchar(150)'",
                                    "Null": "YES",
                                    "Key": "",
                                    "Default": "NULL",
                                    "Extra": ""
                                },
                                {
                                    "Field": "contact",
                                    "Type": "b'int unsigned'",
                                    "Null": "YES",
                                    "Key": "",
                                    "Default": "NULL",
                                    "Extra": ""
                                },
                                {
                                    "Field": "email",
                                    "Type": "b'varchar(100)'",
                                    "Null": "YES",
                                    "Key": "",
                                    "Default": "NULL",
                                    "Extra": ""
                                },
                                {
                                    "Field": "dob",
                                    "Type": "b'date'",
                                    "Null": "YES",
                                    "Key": "",
                                    "Default": "NULL",
                                    "Extra": ""
                                }
                            ]
                        },
                        "text/html": "<table><tr><th>Field</th><th>Type</th><th>Null</th><th>Key</th><th>Default</th><th>Extra</th></tr><tr><td>id</td><td>b&#39;int unsigned&#39;</td><td>YES</td><td></td><td>NULL</td><td></td></tr><tr><td>name</td><td>b&#39;varchar(100)&#39;</td><td>YES</td><td></td><td>NULL</td><td></td></tr><tr><td>class</td><td>b&#39;int unsigned&#39;</td><td>YES</td><td></td><td>NULL</td><td></td></tr><tr><td>address</td><td>b&#39;varchar(150)&#39;</td><td>YES</td><td></td><td>NULL</td><td></td></tr><tr><td>contact</td><td>b&#39;int unsigned&#39;</td><td>YES</td><td></td><td>NULL</td><td></td></tr><tr><td>email</td><td>b&#39;varchar(100)&#39;</td><td>YES</td><td></td><td>NULL</td><td></td></tr><tr><td>dob</td><td>b&#39;date&#39;</td><td>YES</td><td></td><td>NULL</td><td></td></tr></table>"
                    },
                    "metadata": {}
                }
            ],
            "execution_count": 14
        },
        {
            "cell_type": "code",
            "source": [
                "use helllo"
            ],
            "metadata": {
                "language": "sql",
                "azdata_cell_guid": "e28c0501-25df-4083-a05f-3a6e7e12b245"
            },
            "outputs": [
                {
                    "output_type": "display_data",
                    "data": {
                        "text/html": "Commands completed successfully"
                    },
                    "metadata": {}
                },
                {
                    "output_type": "display_data",
                    "data": {
                        "text/html": "Total execution time: 00:00:00.003"
                    },
                    "metadata": {}
                }
            ],
            "execution_count": 15
        },
        {
            "cell_type": "code",
            "source": [
                "INSERT into school_record\r\n",
                "(id,name,class,address,contact,email,dob)\r\n",
                "VALUES\r\n",
                "(\"7\",\"rashid\",\"12\",\"delhi,up\",\"756876\",\"rashid@gmail.com\",\"2000-01-10\"),\r\n",
                "(\"8\",\"gill\",\"10\",\"ayodhya,up\",\"875879\",\"gill@gmail.com\",\"1998-02-10\"),\r\n",
                "(\"9\",\"mahi\",\"11\",\"ranchi,up\",\"749876\",\"mahi@gmail.com\",\"2000-01-10\"),\r\n",
                "(\"10\",\"dhoni\",\"12\",\"bhopal,up\",\"455879\",\"dhoni@gmail.com\",\"1998-02-10\")\r\n",
                ""
            ],
            "metadata": {
                "language": "sql",
                "azdata_cell_guid": "8e5fe949-eee4-4fec-9411-3e1a2a5f1b61"
            },
            "outputs": [
                {
                    "output_type": "display_data",
                    "data": {
                        "text/html": "Commands completed successfully"
                    },
                    "metadata": {}
                },
                {
                    "output_type": "display_data",
                    "data": {
                        "text/html": "Total execution time: 00:00:00"
                    },
                    "metadata": {}
                }
            ],
            "execution_count": 18
        },
        {
            "cell_type": "code",
            "source": [
                "SELECT * FROM school_record;\r\n",
                ""
            ],
            "metadata": {
                "language": "sql",
                "azdata_cell_guid": "6b53ed7d-6321-4099-8bd9-86cf06124999"
            },
            "outputs": [
                {
                    "output_type": "display_data",
                    "data": {
                        "text/html": "(11 row(s) affected)"
                    },
                    "metadata": {}
                },
                {
                    "output_type": "display_data",
                    "data": {
                        "text/html": "Total execution time: 00:00:01.030"
                    },
                    "metadata": {}
                },
                {
                    "output_type": "execute_result",
                    "metadata": {},
                    "execution_count": 19,
                    "data": {
                        "application/vnd.dataresource+json": {
                            "schema": {
                                "fields": [
                                    {
                                        "name": "id"
                                    },
                                    {
                                        "name": "name"
                                    },
                                    {
                                        "name": "class"
                                    },
                                    {
                                        "name": "address"
                                    },
                                    {
                                        "name": "contact"
                                    },
                                    {
                                        "name": "email"
                                    },
                                    {
                                        "name": "dob"
                                    }
                                ]
                            },
                            "data": [
                                {
                                    "id": "1",
                                    "name": "vinayak",
                                    "class": "12",
                                    "address": "lucknow,up",
                                    "contact": "86876",
                                    "email": "vinayak@gmail.com",
                                    "dob": "1999-01-10"
                                },
                                {
                                    "id": "1",
                                    "name": "vinayak",
                                    "class": "12",
                                    "address": "lucknow,up",
                                    "contact": "86876",
                                    "email": "vinayak@gmail.com",
                                    "dob": "1999-01-10"
                                },
                                {
                                    "id": "2",
                                    "name": "honey",
                                    "class": "11",
                                    "address": "lucknow,up",
                                    "contact": "85876",
                                    "email": "honey@gmail.com",
                                    "dob": "1999-02-10"
                                },
                                {
                                    "id": "3",
                                    "name": "david warner",
                                    "class": "12",
                                    "address": "lucknow,up",
                                    "contact": "76876",
                                    "email": "david@gmail.com",
                                    "dob": "1999-01-10"
                                },
                                {
                                    "id": "4",
                                    "name": "jay shah",
                                    "class": "11",
                                    "address": "lucknow,up",
                                    "contact": "85879",
                                    "email": "jay@gmail.com",
                                    "dob": "1999-02-10"
                                },
                                {
                                    "id": "5",
                                    "name": "warner",
                                    "class": "10",
                                    "address": "kanpur,up",
                                    "contact": "746876",
                                    "email": "warner@gmail.com",
                                    "dob": "2000-01-10"
                                },
                                {
                                    "id": "6",
                                    "name": "shah",
                                    "class": "10",
                                    "address": "ayodhya,up",
                                    "contact": "855879",
                                    "email": "shah@gmail.com",
                                    "dob": "1998-02-10"
                                },
                                {
                                    "id": "7",
                                    "name": "rashid",
                                    "class": "12",
                                    "address": "delhi,up",
                                    "contact": "756876",
                                    "email": "rashid@gmail.com",
                                    "dob": "2000-01-10"
                                },
                                {
                                    "id": "8",
                                    "name": "gill",
                                    "class": "10",
                                    "address": "ayodhya,up",
                                    "contact": "875879",
                                    "email": "gill@gmail.com",
                                    "dob": "1998-02-10"
                                },
                                {
                                    "id": "9",
                                    "name": "mahi",
                                    "class": "11",
                                    "address": "ranchi,up",
                                    "contact": "749876",
                                    "email": "mahi@gmail.com",
                                    "dob": "2000-01-10"
                                },
                                {
                                    "id": "10",
                                    "name": "dhoni",
                                    "class": "12",
                                    "address": "bhopal,up",
                                    "contact": "455879",
                                    "email": "dhoni@gmail.com",
                                    "dob": "1998-02-10"
                                }
                            ]
                        },
                        "text/html": [
                            "<table>",
                            "<tr><th>id</th><th>name</th><th>class</th><th>address</th><th>contact</th><th>email</th><th>dob</th></tr>",
                            "<tr><td>1</td><td>vinayak</td><td>12</td><td>lucknow,up</td><td>86876</td><td>vinayak@gmail.com</td><td>1999-01-10</td></tr>",
                            "<tr><td>1</td><td>vinayak</td><td>12</td><td>lucknow,up</td><td>86876</td><td>vinayak@gmail.com</td><td>1999-01-10</td></tr>",
                            "<tr><td>2</td><td>honey</td><td>11</td><td>lucknow,up</td><td>85876</td><td>honey@gmail.com</td><td>1999-02-10</td></tr>",
                            "<tr><td>3</td><td>david warner</td><td>12</td><td>lucknow,up</td><td>76876</td><td>david@gmail.com</td><td>1999-01-10</td></tr>",
                            "<tr><td>4</td><td>jay shah</td><td>11</td><td>lucknow,up</td><td>85879</td><td>jay@gmail.com</td><td>1999-02-10</td></tr>",
                            "<tr><td>5</td><td>warner</td><td>10</td><td>kanpur,up</td><td>746876</td><td>warner@gmail.com</td><td>2000-01-10</td></tr>",
                            "<tr><td>6</td><td>shah</td><td>10</td><td>ayodhya,up</td><td>855879</td><td>shah@gmail.com</td><td>1998-02-10</td></tr>",
                            "<tr><td>7</td><td>rashid</td><td>12</td><td>delhi,up</td><td>756876</td><td>rashid@gmail.com</td><td>2000-01-10</td></tr>",
                            "<tr><td>8</td><td>gill</td><td>10</td><td>ayodhya,up</td><td>875879</td><td>gill@gmail.com</td><td>1998-02-10</td></tr>",
                            "<tr><td>9</td><td>mahi</td><td>11</td><td>ranchi,up</td><td>749876</td><td>mahi@gmail.com</td><td>2000-01-10</td></tr>",
                            "<tr><td>10</td><td>dhoni</td><td>12</td><td>bhopal,up</td><td>455879</td><td>dhoni@gmail.com</td><td>1998-02-10</td></tr>",
                            "</table>"
                        ]
                    }
                }
            ],
            "execution_count": 19
        },
        {
            "cell_type": "code",
            "source": [
                "create database product;"
            ],
            "metadata": {
                "language": "sql",
                "azdata_cell_guid": "ce8bdf00-b1c3-4589-b3f6-c38ca66119e4"
            },
            "outputs": [
                {
                    "output_type": "display_data",
                    "data": {
                        "text/html": "Total execution time: 00:00:00"
                    },
                    "metadata": {}
                },
                {
                    "output_type": "error",
                    "evalue": "1007 (HY000): Can't create database 'product'; database exists",
                    "ename": "",
                    "traceback": []
                }
            ],
            "execution_count": 20
        },
        {
            "cell_type": "code",
            "source": [
                "use product;"
            ],
            "metadata": {
                "language": "sql",
                "azdata_cell_guid": "48151787-a5c7-4532-9309-8ccf37aaa1ed"
            },
            "outputs": [
                {
                    "output_type": "display_data",
                    "data": {
                        "text/html": "Commands completed successfully"
                    },
                    "metadata": {}
                },
                {
                    "output_type": "display_data",
                    "data": {
                        "text/html": "Total execution time: 00:00:00"
                    },
                    "metadata": {}
                }
            ],
            "execution_count": 22
        },
        {
            "cell_type": "code",
            "source": [
                "create table product_table\r\n",
                "(\r\n",
                "    id int unsigned,\r\n",
                "    title VARCHAR(200),\r\n",
                "    price int unsigned,\r\n",
                "    discount int unsigned,\r\n",
                "    brand varchar(250),\r\n",
                "    category VARCHAR(200),\r\n",
                "    quantity int unsigned\r\n",
                ")"
            ],
            "metadata": {
                "language": "sql",
                "azdata_cell_guid": "d43acfe5-4de8-4b97-b06f-6e16927ae7d1"
            },
            "outputs": [
                {
                    "output_type": "display_data",
                    "data": {
                        "text/html": "Commands completed successfully"
                    },
                    "metadata": {}
                },
                {
                    "output_type": "display_data",
                    "data": {
                        "text/html": "Total execution time: 00:00:00.047"
                    },
                    "metadata": {}
                }
            ],
            "execution_count": 23
        },
        {
            "cell_type": "code",
            "source": [
                "insert INTO product_table\r\n",
                "(id,title,price,discount,brand,category,quantity)\r\n",
                "VALUES\r\n",
                "(\"3\",\"oska\",\"1450\",\"07\",\"mob\",\"mobile\",\"500\"),\r\n",
                "(4, 'ceiling_fan', 550, 10, 'tufaan', 'fans', 300),\r\n",
                "(5, 'laptop', 1200, 50, 'yantra', 'electronics', 100),\r\n",
                "(6, 'microwave', 250, 15, 'garaam', 'appliances', 50);"
            ],
            "metadata": {
                "language": "sql",
                "azdata_cell_guid": "448ffdb2-0605-40fe-8cdc-4b35ae67d402"
            },
            "outputs": [
                {
                    "output_type": "display_data",
                    "data": {
                        "text/html": "Commands completed successfully"
                    },
                    "metadata": {}
                },
                {
                    "output_type": "display_data",
                    "data": {
                        "text/html": "Total execution time: 00:00:00.015"
                    },
                    "metadata": {}
                }
            ],
            "execution_count": 34
        },
        {
            "cell_type": "code",
            "source": [
                "select * from product_table"
            ],
            "metadata": {
                "language": "sql",
                "azdata_cell_guid": "fc0d0360-3aa5-4cf6-8c86-80e2e6155142"
            },
            "outputs": [
{
    "output_type": "display_data",
    "data": {
        "text/html": "(7 row(s) affected)"
    },
    "metadata": {}
}, {
    "output_type": "display_data",
    "data": {
        "text/html": "Total execution time: 00:00:01.014"
    },
    "metadata": {}
}, {
    "output_type": "execute_result",
    "metadata": {},
    "execution_count": 35,
    "data": {
        "application/vnd.dataresource+json": {
            "schema": {
                "fields": [
                    {
                        "name": "id"
                    },
                    {
                        "name": "title"
                    },
                    {
                        "name": "price"
                    },
                    {
                        "name": "discount"
                    },
                    {
                        "name": "brand"
                    },
                    {
                        "name": "category"
                    },
                    {
                        "name": "quantity"
                    }
                ]
            },
            "data": [
                {
                    "id": "1",
                    "title": "bulb",
                    "price": "250",
                    "discount": "50",
                    "brand": "jalo",
                    "category": "bulb",
                    "quantity": "300"
                },
                {
                    "id": "2",
                    "title": "lamp",
                    "price": "250",
                    "discount": "70",
                    "brand": "jalo",
                    "category": "bulb",
                    "quantity": "400"
                },
                {
                    "id": "2",
                    "title": "table_fan",
                    "price": "450",
                    "discount": "7",
                    "brand": "hawa",
                    "category": "fans",
                    "quantity": "500"
                },
                {
                    "id": "3",
                    "title": "oska",
                    "price": "1450",
                    "discount": "7",
                    "brand": "mob",
                    "category": "mobile",
                    "quantity": "500"
                },
                {
                    "id": "4",
                    "title": "ceiling_fan",
                    "price": "550",
                    "discount": "10",
                    "brand": "tufaan",
                    "category": "fans",
                    "quantity": "300"
                },
                {
                    "id": "5",
                    "title": "laptop",
                    "price": "1200",
                    "discount": "50",
                    "brand": "yantra",
                    "category": "electronics",
                    "quantity": "100"
                },
                {
                    "id": "6",
                    "title": "microwave",
                    "price": "250",
                    "discount": "15",
                    "brand": "garaam",
                    "category": "appliances",
                    "quantity": "50"
                }
            ]
        },
        "text/html": [
            "<table>",
            "<tr><th>id</th><th>title</th><th>price</th><th>discount</th><th>brand</th><th>category</th><th>quantity</th></tr>",
            "<tr><td>1</td><td>bulb</td><td>250</td><td>50</td><td>jalo</td><td>bulb</td><td>300</td></tr>",
            "<tr><td>2</td><td>lamp</td><td>250</td><td>70</td><td>jalo</td><td>bulb</td><td>400</td></tr>",
            "<tr><td>2</td><td>table_fan</td><td>450</td><td>7</td><td>hawa</td><td>fans</td><td>500</td></tr>",
            "<tr><td>3</td><td>oska</td><td>1450</td><td>7</td><td>mob</td><td>mobile</td><td>500</td></tr>",
            "<tr><td>4</td><td>ceiling_fan</td><td>550</td><td>10</td><td>tufaan</td><td>fans</td><td>300</td></tr>",
            "<tr><td>5</td><td>laptop</td><td>1200</td><td>50</td><td>yantra</td><td>electronics</td><td>100</td></tr>",
            "<tr><td>6</td><td>microwave</td><td>250</td><td>15</td><td>garaam</td><td>appliances</td><td>50</td></tr>",
            "</table>"
        ]
    }
}
],
            "execution_count": 35
        }
    ]
}