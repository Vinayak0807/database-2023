{
    "metadata": {
        "kernelspec": {
            "name": "SQL",
            "display_name": "SQL",
            "language": "sql"
        },
        "language_info": {
            "name": "sql",
            "version": ""
        }
    },
    "nbformat_minor": 2,
    "nbformat": 4,
    "cells": [
        {
            "cell_type": "code",
            "source": [
                "create DATABASE diabete;"
            ],
            "metadata": {
                "language": "sql",
                "azdata_cell_guid": "522e4463-2517-4701-a050-e354e8f54638"
            },
            "outputs": [
                {
                    "output_type": "display_data",
                    "data": {
                        "text/html": "Commands completed successfully"
                    },
                    "metadata": {}
                },
                {
                    "output_type": "display_data",
                    "data": {
                        "text/html": "Total execution time: 00:00:00.005"
                    },
                    "metadata": {}
                }
            ],
            "execution_count": 5
        },
        {
            "cell_type": "code",
            "source": [
                "USE DIABETE"
            ],
            "metadata": {
                "language": "sql",
                "azdata_cell_guid": "610bd919-eeae-4c82-900a-41b840a13417"
            },
            "outputs": [
                {
                    "output_type": "display_data",
                    "data": {
                        "text/html": "Commands completed successfully"
                    },
                    "metadata": {}
                },
                {
                    "output_type": "display_data",
                    "data": {
                        "text/html": "Total execution time: 00:00:00"
                    },
                    "metadata": {}
                }
            ],
            "execution_count": 6
        },
        {
            "cell_type": "code",
            "source": [
                "\r\n",
                "CREATE TABLE diabetestable (\r\n",
                "    PatientID INT PRIMARY KEY,\r\n",
                "    Glucose INT,\r\n",
                "    BMI DECIMAL(4, 2),\r\n",
                "    BloodPressure INT,\r\n",
                "    Age INT,\r\n",
                "    Pregnancies INT,\r\n",
                "    Outcome INT,\r\n",
                "    DiabetesPedigreeFunction DECIMAL(4, 2),\r\n",
                "    Insulin INT\r\n",
                ")"
            ],
            "metadata": {
                "language": "sql",
                "azdata_cell_guid": "09b94f08-2713-4b3c-810c-3f1a110327b9"
            },
            "outputs": [
                {
                    "output_type": "display_data",
                    "data": {
                        "text/html": "Commands completed successfully"
                    },
                    "metadata": {}
                },
                {
                    "output_type": "display_data",
                    "data": {
                        "text/html": "Total execution time: 00:00:00.022"
                    },
                    "metadata": {}
                }
            ],
            "execution_count": 8
        },
        {
            "cell_type": "code",
            "source": [
                "\r\n",
                "insert  into diabetestable (PatientID, Glucose, BMI, BloodPressure, Age, Pregnancies, Outcome, DiabetesPedigreeFunction, Insulin)\r\n",
                "VALUES\r\n",
                "    (1, 120, 32.5, 75, 25, 2, 0, 0.45, 80),\r\n",
                "    (2, 140, 28.3, 82, 30, 3, 1, 0.55, 100),\r\n",
                "    (3, 160, 35.1, 90, 35, 1, 1, 0.62, NULL),\r\n",
                "    (4, 110, 29.8, 70, 28, 0, 0, 0.38, 75),\r\n",
                "    (5, 135, 31.7, 78, 29, 4, 1, 0.70, 95);\r\n",
                "     "
            ],
            "metadata": {
                "language": "sql",
                "azdata_cell_guid": "3707e09e-e29e-4e88-b264-6b699b5e9062"
            },
            "outputs": [
                {
                    "output_type": "display_data",
                    "data": {
                        "text/html": "Commands completed successfully"
                    },
                    "metadata": {}
                },
                {
                    "output_type": "display_data",
                    "data": {
                        "text/html": "Total execution time: 00:00:00.007"
                    },
                    "metadata": {}
                }
            ],
            "execution_count": 9
        },
        {
            "cell_type": "code",
            "source": [
                "select * from diabetestable;"
            ],
            "metadata": {
                "language": "sql",
                "azdata_cell_guid": "c84958d6-79f0-4d34-b17e-35e034d32fe5"
            },
            "outputs": [
                {
                    "output_type": "display_data",
                    "data": {
                        "text/html": "(5 row(s) affected)"
                    },
                    "metadata": {}
                },
                {
                    "output_type": "display_data",
                    "data": {
                        "text/html": "Total execution time: 00:00:01.007"
                    },
                    "metadata": {}
                },
                {
                    "output_type": "execute_result",
                    "metadata": {},
                    "execution_count": 10,
                    "data": {
                        "application/vnd.dataresource+json": {
                            "schema": {
                                "fields": [
                                    {
                                        "name": "PatientID"
                                    },
                                    {
                                        "name": "Glucose"
                                    },
                                    {
                                        "name": "BMI"
                                    },
                                    {
                                        "name": "BloodPressure"
                                    },
                                    {
                                        "name": "Age"
                                    },
                                    {
                                        "name": "Pregnancies"
                                    },
                                    {
                                        "name": "Outcome"
                                    },
                                    {
                                        "name": "DiabetesPedigreeFunction"
                                    },
                                    {
                                        "name": "Insulin"
                                    }
                                ]
                            },
                            "data": [
                                {
                                    "PatientID": "1",
                                    "Glucose": "120",
                                    "BMI": "32.50",
                                    "BloodPressure": "75",
                                    "Age": "25",
                                    "Pregnancies": "2",
                                    "Outcome": "0",
                                    "DiabetesPedigreeFunction": "0.45",
                                    "Insulin": "80"
                                },
                                {
                                    "PatientID": "2",
                                    "Glucose": "140",
                                    "BMI": "28.30",
                                    "BloodPressure": "82",
                                    "Age": "30",
                                    "Pregnancies": "3",
                                    "Outcome": "1",
                                    "DiabetesPedigreeFunction": "0.55",
                                    "Insulin": "100"
                                },
                                {
                                    "PatientID": "3",
                                    "Glucose": "160",
                                    "BMI": "35.10",
                                    "BloodPressure": "90",
                                    "Age": "35",
                                    "Pregnancies": "1",
                                    "Outcome": "1",
                                    "DiabetesPedigreeFunction": "0.62",
                                    "Insulin": "NULL"
                                },
                                {
                                    "PatientID": "4",
                                    "Glucose": "110",
                                    "BMI": "29.80",
                                    "BloodPressure": "70",
                                    "Age": "28",
                                    "Pregnancies": "0",
                                    "Outcome": "0",
                                    "DiabetesPedigreeFunction": "0.38",
                                    "Insulin": "75"
                                },
                                {
                                    "PatientID": "5",
                                    "Glucose": "135",
                                    "BMI": "31.70",
                                    "BloodPressure": "78",
                                    "Age": "29",
                                    "Pregnancies": "4",
                                    "Outcome": "1",
                                    "DiabetesPedigreeFunction": "0.70",
                                    "Insulin": "95"
                                }
                            ]
                        },
                        "text/html": [
                            "<table>",
                            "<tr><th>PatientID</th><th>Glucose</th><th>BMI</th><th>BloodPressure</th><th>Age</th><th>Pregnancies</th><th>Outcome</th><th>DiabetesPedigreeFunction</th><th>Insulin</th></tr>",
                            "<tr><td>1</td><td>120</td><td>32.50</td><td>75</td><td>25</td><td>2</td><td>0</td><td>0.45</td><td>80</td></tr>",
                            "<tr><td>2</td><td>140</td><td>28.30</td><td>82</td><td>30</td><td>3</td><td>1</td><td>0.55</td><td>100</td></tr>",
                            "<tr><td>3</td><td>160</td><td>35.10</td><td>90</td><td>35</td><td>1</td><td>1</td><td>0.62</td><td>NULL</td></tr>",
                            "<tr><td>4</td><td>110</td><td>29.80</td><td>70</td><td>28</td><td>0</td><td>0</td><td>0.38</td><td>75</td></tr>",
                            "<tr><td>5</td><td>135</td><td>31.70</td><td>78</td><td>29</td><td>4</td><td>1</td><td>0.70</td><td>95</td></tr>",
                            "</table>"
                        ]
                    }
                }
            ],
            "execution_count": 10
        },
        {
            "cell_type": "code",
            "source": [
                "select AVG(Glucose) as averageglucose from diabetestable;"
            ],
            "metadata": {
                "language": "sql",
                "azdata_cell_guid": "cba0d179-213b-4e95-9448-7d3f6809a8a3"
            },
            "outputs": [
{
    "output_type": "display_data",
    "data": {
        "text/html": "(1 row(s) affected)"
    },
    "metadata": {}
}, {
    "output_type": "display_data",
    "data": {
        "text/html": "Total execution time: 00:00:01.010"
    },
    "metadata": {}
}, {
    "output_type": "execute_result",
    "metadata": {},
    "execution_count": 11,
    "data": {
        "application/vnd.dataresource+json": {
            "schema": {
                "fields": [
                    {
                        "name": "averageglucose"
                    }
                ]
            },
            "data": [
                {
                    "averageglucose": "133.0000"
                }
            ]
        },
        "text/html": [
            "<table>",
            "<tr><th>averageglucose</th></tr>",
            "<tr><td>133.0000</td></tr>",
            "</table>"
        ]
    }
}
],
            "execution_count": 11
        },
        {
            "cell_type": "markdown",
            "source": [
                "<span style=\"color: rgb(31, 35, 40); font-family: -apple-system, BlinkMacSystemFont, &quot;Segoe UI&quot;, &quot;Noto Sans&quot;, Helvetica, Arial, sans-serif, &quot;Apple Color Emoji&quot;, &quot;Segoe UI Emoji&quot;; font-size: 16px; background-color: rgb(255, 255, 255);\"><i><b>Count the number of records where the BMI value is greater than 30</b></i></span>"
            ],
            "metadata": {
                "language": "sql",
                "azdata_cell_guid": "cfbf4d5b-3743-402a-800f-cfc29376000a"
            },
            "attachments": {}
        },
        {
            "cell_type": "code",
            "source": [
                "SELECT COUNT(*) AS RecordCount FROM diabetestable WHERE BMI > 30;\r\n",
                ""
            ],
            "metadata": {
                "language": "sql",
                "azdata_cell_guid": "3e8cf183-e5ce-404d-817e-66ade76de309"
            },
            "outputs": [
                {
                    "output_type": "display_data",
                    "data": {
                        "text/html": "(1 row(s) affected)"
                    },
                    "metadata": {}
                },
                {
                    "output_type": "display_data",
                    "data": {
                        "text/html": "Total execution time: 00:00:01.008"
                    },
                    "metadata": {}
                },
                {
                    "output_type": "execute_result",
                    "execution_count": 7,
                    "data": {
                        "application/vnd.dataresource+json": {
                            "schema": {
                                "fields": [
                                    {
                                        "name": "RecordCount"
                                    }
                                ]
                            },
                            "data": [
                                {
                                    "RecordCount": "0"
                                }
                            ]
                        },
                        "text/html": "<table><tr><th>RecordCount</th></tr><tr><td>0</td></tr></table>"
                    },
                    "metadata": {}
                }
            ],
            "execution_count": 7
        },
        {
            "cell_type": "markdown",
            "source": [
                "## <span style=\"color: rgb(31, 35, 40); font-family: -apple-system, BlinkMacSystemFont, &quot;Segoe UI&quot;, &quot;Noto Sans&quot;, Helvetica, Arial, sans-serif, &quot;Apple Color Emoji&quot;, &quot;Segoe UI Emoji&quot;; font-size: 16px; background-color: rgb(255, 255, 255);\"><b>Find the maximum BloodPressure value in the \"diabetes\" table. Select the records where the Age is between 20 and 30</b></span>"
            ],
            "metadata": {
                "language": "sql",
                "azdata_cell_guid": "3434ebc8-91a2-4817-b39e-50561ba28d5f"
            },
            "attachments": {}
        },
        {
            "cell_type": "code",
            "source": [
                "select max(BloodPressure) from diabetestable WHERE age >=20 and age<=30;"
            ],
            "metadata": {
                "language": "sql",
                "azdata_cell_guid": "d57ca2c6-a5b3-416a-adfb-8d1aa3dd70d6"
            },
            "outputs": [
                {
                    "output_type": "display_data",
                    "data": {
                        "text/html": "(1 row(s) affected)"
                    },
                    "metadata": {}
                },
                {
                    "output_type": "display_data",
                    "data": {
                        "text/html": "Total execution time: 00:00:01.026"
                    },
                    "metadata": {}
                },
                {
                    "output_type": "execute_result",
                    "execution_count": 11,
                    "data": {
                        "application/vnd.dataresource+json": {
                            "schema": {
                                "fields": [
                                    {
                                        "name": "max(BloodPressure)"
                                    }
                                ]
                            },
                            "data": [
                                {
                                    "max(BloodPressure)": "82"
                                }
                            ]
                        },
                        "text/html": "<table><tr><th>max(BloodPressure)</th></tr><tr><td>82</td></tr></table>"
                    },
                    "metadata": {}
                }
            ],
            "execution_count": 11
        },
        {
            "cell_type": "markdown",
            "source": [
                "<span style=\"color: rgb(31, 35, 40); font-family: -apple-system, BlinkMacSystemFont, &quot;Segoe UI&quot;, &quot;Noto Sans&quot;, Helvetica, Arial, sans-serif, &quot;Apple Color Emoji&quot;, &quot;Segoe UI Emoji&quot;; font-size: 16px; background-color: rgb(255, 255, 255);\"><b>Calculate the total number of pregnancies for all the records in the \"diabetes\" table</b></span>"
            ],
            "metadata": {
                "language": "sql",
                "azdata_cell_guid": "83af26c7-9946-44de-9b54-3c907e4129ad"
            },
            "attachments": {}
        },
        {
            "cell_type": "code",
            "source": [
                "select sum(Pregnancies) from diabetestable;"
            ],
            "metadata": {
                "language": "sql",
                "azdata_cell_guid": "1a22175e-e34c-4899-9867-12bb39e59ed4"
            },
            "outputs": [
                {
                    "output_type": "display_data",
                    "data": {
                        "text/html": "(1 row(s) affected)"
                    },
                    "metadata": {}
                },
                {
                    "output_type": "display_data",
                    "data": {
                        "text/html": "Total execution time: 00:00:01.014"
                    },
                    "metadata": {}
                },
                {
                    "output_type": "execute_result",
                    "execution_count": 13,
                    "data": {
                        "application/vnd.dataresource+json": {
                            "schema": {
                                "fields": [
                                    {
                                        "name": "sum(Pregnancies)"
                                    }
                                ]
                            },
                            "data": [
                                {
                                    "sum(Pregnancies)": "10"
                                }
                            ]
                        },
                        "text/html": "<table><tr><th>sum(Pregnancies)</th></tr><tr><td>10</td></tr></table>"
                    },
                    "metadata": {}
                }
            ],
            "execution_count": 13
        },
        {
            "cell_type": "markdown",
            "source": [
                "<span style=\"color: rgb(31, 35, 40); font-family: -apple-system, BlinkMacSystemFont, &quot;Segoe UI&quot;, &quot;Noto Sans&quot;, Helvetica, Arial, sans-serif, &quot;Apple Color Emoji&quot;, &quot;Segoe UI Emoji&quot;; font-size: 16px; background-color: rgb(255, 255, 255);\">F<b>ind the records where the Outcome is 1 (indicating diabetes) and the BMI is above 35</b></span>"
            ],
            "metadata": {
                "language": "sql",
                "azdata_cell_guid": "b269a69f-8bd7-43c9-9033-31941f2edf66"
            },
            "attachments": {}
        },
        {
            "cell_type": "code",
            "source": [
                "SELECT *  from diabetestable where Outcome = 1 and bmi >30;"
            ],
            "metadata": {
                "language": "sql",
                "azdata_cell_guid": "c1fc1d5c-3d90-4cc3-81dd-647f3c7133c4"
            },
            "outputs": [
                {
                    "output_type": "display_data",
                    "data": {
                        "text/html": "(2 row(s) affected)"
                    },
                    "metadata": {}
                },
                {
                    "output_type": "display_data",
                    "data": {
                        "text/html": "Total execution time: 00:00:01.014"
                    },
                    "metadata": {}
                },
                {
                    "output_type": "execute_result",
                    "execution_count": 16,
                    "data": {
                        "application/vnd.dataresource+json": {
                            "schema": {
                                "fields": [
                                    {
                                        "name": "PatientID"
                                    },
                                    {
                                        "name": "Glucose"
                                    },
                                    {
                                        "name": "BMI"
                                    },
                                    {
                                        "name": "BloodPressure"
                                    },
                                    {
                                        "name": "Age"
                                    },
                                    {
                                        "name": "Pregnancies"
                                    },
                                    {
                                        "name": "Outcome"
                                    },
                                    {
                                        "name": "DiabetesPedigreeFunction"
                                    },
                                    {
                                        "name": "Insulin"
                                    }
                                ]
                            },
                            "data": [
                                {
                                    "PatientID": "3",
                                    "Glucose": "160",
                                    "BMI": "35.10",
                                    "BloodPressure": "90",
                                    "Age": "35",
                                    "Pregnancies": "1",
                                    "Outcome": "1",
                                    "DiabetesPedigreeFunction": "0.62",
                                    "Insulin": "NULL"
                                },
                                {
                                    "PatientID": "5",
                                    "Glucose": "135",
                                    "BMI": "31.70",
                                    "BloodPressure": "78",
                                    "Age": "29",
                                    "Pregnancies": "4",
                                    "Outcome": "1",
                                    "DiabetesPedigreeFunction": "0.70",
                                    "Insulin": "95"
                                }
                            ]
                        },
                        "text/html": "<table><tr><th>PatientID</th><th>Glucose</th><th>BMI</th><th>BloodPressure</th><th>Age</th><th>Pregnancies</th><th>Outcome</th><th>DiabetesPedigreeFunction</th><th>Insulin</th></tr><tr><td>3</td><td>160</td><td>35.10</td><td>90</td><td>35</td><td>1</td><td>1</td><td>0.62</td><td>NULL</td></tr><tr><td>5</td><td>135</td><td>31.70</td><td>78</td><td>29</td><td>4</td><td>1</td><td>0.70</td><td>95</td></tr></table>"
                    },
                    "metadata": {}
                }
            ],
            "execution_count": 16
        },
        {
            "cell_type": "markdown",
            "source": [
                "<span style=\"color: rgb(31, 35, 40); font-family: -apple-system, BlinkMacSystemFont, &quot;Segoe UI&quot;, &quot;Noto Sans&quot;, Helvetica, Arial, sans-serif, &quot;Apple Color Emoji&quot;, &quot;Segoe UI Emoji&quot;; font-size: 16px; background-color: rgb(255, 255, 255);\"><b><u>Display the records where the Glucose level is above 150 and the BloodPressure is below 80</u></b></span>"
            ],
            "metadata": {
                "language": "",
                "azdata_cell_guid": "4c214096-2087-4cb3-981a-4fb4a9ea4d8f"
            },
            "attachments": {}
        },
        {
            "cell_type": "code",
            "source": [
                "select(Glucose) from diabetestable where Glucose > 150 and BloodPressure < 80;"
            ],
            "metadata": {
                "azdata_cell_guid": "53a9e413-3534-4a09-82e3-a83c6e19c1fb",
                "language": "sql"
            },
            "outputs": [
                {
                    "output_type": "display_data",
                    "data": {
                        "text/html": "(0 row(s) affected)"
                    },
                    "metadata": {}
                },
                {
                    "output_type": "display_data",
                    "data": {
                        "text/html": "Total execution time: 00:00:01.023"
                    },
                    "metadata": {}
                },
                {
                    "output_type": "execute_result",
                    "execution_count": 18,
                    "data": {
                        "application/vnd.dataresource+json": {
                            "schema": {
                                "fields": [
                                    {
                                        "name": "Glucose"
                                    }
                                ]
                            },
                            "data": []
                        },
                        "text/html": "<table><tr><th>Glucose</th></tr></table>"
                    },
                    "metadata": {}
                }
            ],
            "execution_count": 18
        },
        {
            "cell_type": "markdown",
            "source": [
                "<span style=\"color: rgb(31, 35, 40); font-family: -apple-system, BlinkMacSystemFont, &quot;Segoe UI&quot;, &quot;Noto Sans&quot;, Helvetica, Arial, sans-serif, &quot;Apple Color Emoji&quot;, &quot;Segoe UI Emoji&quot;; font-size: 16px; background-color: rgb(255, 255, 255);\"><b><u>Calculate the average DiabetesPedigreeFunction value for females (where Outcome is 1)</u></b></span>"
            ],
            "metadata": {
                "language": "",
                "azdata_cell_guid": "88da098e-07d2-43a9-a604-36ff3b29d978"
            },
            "attachments": {}
        },
        {
            "cell_type": "code",
            "source": [
                "select AVG(DiabetesPedigreeFunction) AS dbff from diabetestable where Outcome = 1;"
            ],
            "metadata": {
                "azdata_cell_guid": "573fa57a-1844-4ee3-9c33-ee5d7675e7cb",
                "language": "sql"
            },
            "outputs": [
                {
                    "output_type": "display_data",
                    "data": {
                        "text/html": "(1 row(s) affected)"
                    },
                    "metadata": {}
                },
                {
                    "output_type": "display_data",
                    "data": {
                        "text/html": "Total execution time: 00:00:01.023"
                    },
                    "metadata": {}
                },
                {
                    "output_type": "execute_result",
                    "execution_count": 21,
                    "data": {
                        "application/vnd.dataresource+json": {
                            "schema": {
                                "fields": [
                                    {
                                        "name": "dbff"
                                    }
                                ]
                            },
                            "data": [
                                {
                                    "dbff": "0.623333"
                                }
                            ]
                        },
                        "text/html": "<table><tr><th>dbff</th></tr><tr><td>0.623333</td></tr></table>"
                    },
                    "metadata": {}
                }
            ],
            "execution_count": 21
        },
        {
            "cell_type": "markdown",
            "source": [
                "- **<u>Retrieve the records where the Insulin value is null (missing).</u>**"
            ],
            "metadata": {
                "language": "sql",
                "azdata_cell_guid": "63509584-256b-42d6-8567-bbf2a5786783"
            },
            "attachments": {}
        },
        {
            "cell_type": "code",
            "source": [
                "select* FROM diabetestable where Insulin is NULL"
            ],
            "metadata": {
                "language": "sql",
                "azdata_cell_guid": "3764862d-dde7-4e48-ae54-15211a193e0c"
            },
            "outputs": [
                {
                    "output_type": "display_data",
                    "data": {
                        "text/html": "(1 row(s) affected)"
                    },
                    "metadata": {}
                },
                {
                    "output_type": "display_data",
                    "data": {
                        "text/html": "Total execution time: 00:00:01.007"
                    },
                    "metadata": {}
                },
                {
                    "output_type": "execute_result",
                    "execution_count": 23,
                    "data": {
                        "application/vnd.dataresource+json": {
                            "schema": {
                                "fields": [
                                    {
                                        "name": "PatientID"
                                    },
                                    {
                                        "name": "Glucose"
                                    },
                                    {
                                        "name": "BMI"
                                    },
                                    {
                                        "name": "BloodPressure"
                                    },
                                    {
                                        "name": "Age"
                                    },
                                    {
                                        "name": "Pregnancies"
                                    },
                                    {
                                        "name": "Outcome"
                                    },
                                    {
                                        "name": "DiabetesPedigreeFunction"
                                    },
                                    {
                                        "name": "Insulin"
                                    }
                                ]
                            },
                            "data": [
                                {
                                    "PatientID": "3",
                                    "Glucose": "160",
                                    "BMI": "35.10",
                                    "BloodPressure": "90",
                                    "Age": "35",
                                    "Pregnancies": "1",
                                    "Outcome": "1",
                                    "DiabetesPedigreeFunction": "0.62",
                                    "Insulin": "NULL"
                                }
                            ]
                        },
                        "text/html": "<table><tr><th>PatientID</th><th>Glucose</th><th>BMI</th><th>BloodPressure</th><th>Age</th><th>Pregnancies</th><th>Outcome</th><th>DiabetesPedigreeFunction</th><th>Insulin</th></tr><tr><td>3</td><td>160</td><td>35.10</td><td>90</td><td>35</td><td>1</td><td>1</td><td>0.62</td><td>NULL</td></tr></table>"
                    },
                    "metadata": {}
                }
            ],
            "execution_count": 23
        },
        {
            "cell_type": "code",
            "source": [
                "use practice"
            ],
            "metadata": {
                "language": "sql",
                "azdata_cell_guid": "090cd7e3-50e1-44e9-9c1a-d70f5d3258e5"
            },
            "outputs": [
                {
                    "output_type": "display_data",
                    "data": {
                        "text/html": "Commands completed successfully"
                    },
                    "metadata": {}
                },
                {
                    "output_type": "display_data",
                    "data": {
                        "text/html": "Total execution time: 00:00:00"
                    },
                    "metadata": {}
                }
            ],
            "execution_count": 1
        }
    ]
}