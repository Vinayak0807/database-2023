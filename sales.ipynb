{
    "metadata": {
        "kernelspec": {
            "name": "SQL",
            "display_name": "SQL",
            "language": "sql"
        },
        "language_info": {
            "name": "sql",
            "version": ""
        }
    },
    "nbformat_minor": 2,
    "nbformat": 4,
    "cells": [
        {
            "cell_type": "code",
            "source": [
                "create Database Product_sales;"
            ],
            "metadata": {
                "language": "sql",
                "azdata_cell_guid": "bb57c61c-b5ab-475a-9ae3-2aa966d575f3"
            },
            "outputs": [
                {
                    "output_type": "display_data",
                    "data": {
                        "text/html": "Commands completed successfully"
                    },
                    "metadata": {}
                },
                {
                    "output_type": "display_data",
                    "data": {
                        "text/html": "Total execution time: 00:00:00.031"
                    },
                    "metadata": {}
                }
            ],
            "execution_count": 2
        },
        {
            "cell_type": "code",
            "source": [
                "use Product_sales;"
            ],
            "metadata": {
                "language": "sql",
                "azdata_cell_guid": "8ad64369-a699-4aba-a907-36ea3c3a5168"
            },
            "outputs": [
                {
                    "output_type": "display_data",
                    "data": {
                        "text/html": "Commands completed successfully"
                    },
                    "metadata": {}
                },
                {
                    "output_type": "display_data",
                    "data": {
                        "text/html": "Total execution time: 00:00:00.008"
                    },
                    "metadata": {}
                }
            ],
            "execution_count": 3
        },
        {
            "cell_type": "code",
            "source": [
                "CREATE TABLE Sales (\r\n",
                "    ProductID INT,\r\n",
                "    ProductName VARCHAR(50),\r\n",
                "    SellingPrice DECIMAL(10, 2)\r\n",
                ");\r\n",
                ""
            ],
            "metadata": {
                "azdata_cell_guid": "ec481eb2-e741-47c4-8eee-36594c8fd18a",
                "language": "sql"
            },
            "outputs": [
                {
                    "output_type": "display_data",
                    "data": {
                        "text/html": "Total execution time: 00:00:00.008"
                    },
                    "metadata": {}
                },
                {
                    "output_type": "error",
                    "evalue": "1050 (42S01): Table 'sales' already exists",
                    "ename": "",
                    "traceback": []
                }
            ],
            "execution_count": 5
        },
        {
            "cell_type": "code",
            "source": [
                "\r\n",
                "INSERT INTO Sales (ProductID, ProductName, SellingPrice)\r\n",
                "VALUES (1, 'Product A', 100),\r\n",
                "       (2, 'Product B', 150),\r\n",
                "       (1, 'Product A', 120),\r\n",
                "       (3, 'Product C', 200),\r\n",
                "       (2, 'Product B', 180),\r\n",
                "       (1, 'Product A', 90);"
            ],
            "metadata": {
                "language": "sql",
                "azdata_cell_guid": "97928081-2429-4f3a-b370-1c7f4617a432"
            },
            "outputs": [
                {
                    "output_type": "display_data",
                    "data": {
                        "text/html": "Commands completed successfully"
                    },
                    "metadata": {}
                },
                {
                    "output_type": "display_data",
                    "data": {
                        "text/html": "Total execution time: 00:00:00"
                    },
                    "metadata": {}
                }
            ],
            "execution_count": 9
        },
        {
            "cell_type": "code",
            "source": [
                "select * from sales;"
            ],
            "metadata": {
                "language": "sql",
                "azdata_cell_guid": "4077ace2-2f78-44cd-b73b-accb265e65aa"
            },
            "outputs": [
                {
                    "output_type": "display_data",
                    "data": {
                        "text/html": "(6 row(s) affected)"
                    },
                    "metadata": {}
                },
                {
                    "output_type": "display_data",
                    "data": {
                        "text/html": "Total execution time: 00:00:01.012"
                    },
                    "metadata": {}
                },
                {
                    "output_type": "execute_result",
                    "metadata": {},
                    "execution_count": 10,
                    "data": {
                        "application/vnd.dataresource+json": {
                            "schema": {
                                "fields": [
                                    {
                                        "name": "ProductID"
                                    },
                                    {
                                        "name": "ProductName"
                                    },
                                    {
                                        "name": "SellingPrice"
                                    }
                                ]
                            },
                            "data": [
                                {
                                    "ProductID": "1",
                                    "ProductName": "Product A",
                                    "SellingPrice": "100.00"
                                },
                                {
                                    "ProductID": "2",
                                    "ProductName": "Product B",
                                    "SellingPrice": "150.00"
                                },
                                {
                                    "ProductID": "1",
                                    "ProductName": "Product A",
                                    "SellingPrice": "120.00"
                                },
                                {
                                    "ProductID": "3",
                                    "ProductName": "Product C",
                                    "SellingPrice": "200.00"
                                },
                                {
                                    "ProductID": "2",
                                    "ProductName": "Product B",
                                    "SellingPrice": "180.00"
                                },
                                {
                                    "ProductID": "1",
                                    "ProductName": "Product A",
                                    "SellingPrice": "90.00"
                                }
                            ]
                        },
                        "text/html": [
                            "<table>",
                            "<tr><th>ProductID</th><th>ProductName</th><th>SellingPrice</th></tr>",
                            "<tr><td>1</td><td>Product A</td><td>100.00</td></tr>",
                            "<tr><td>2</td><td>Product B</td><td>150.00</td></tr>",
                            "<tr><td>1</td><td>Product A</td><td>120.00</td></tr>",
                            "<tr><td>3</td><td>Product C</td><td>200.00</td></tr>",
                            "<tr><td>2</td><td>Product B</td><td>180.00</td></tr>",
                            "<tr><td>1</td><td>Product A</td><td>90.00</td></tr>",
                            "</table>"
                        ]
                    }
                }
            ],
            "execution_count": 10
        },
        {
            "cell_type": "markdown",
            "source": [
                "- **<u>Calculate Total Revenue</u>**"
            ],
            "metadata": {
                "language": "sql",
                "azdata_cell_guid": "7e3d6f8a-0ab7-402c-aecc-ad072d7f674a"
            },
            "attachments": {}
        },
        {
            "cell_type": "code",
            "source": [
                "select sum(SellingPrice) as totalsellingprice\r\n",
                "from sales;"
            ],
            "metadata": {
                "language": "sql",
                "azdata_cell_guid": "ab02afb8-8fdf-4d65-8555-1ac357c269ba"
            },
            "outputs": [
                {
                    "output_type": "display_data",
                    "data": {
                        "text/html": "(1 row(s) affected)"
                    },
                    "metadata": {}
                },
                {
                    "output_type": "display_data",
                    "data": {
                        "text/html": "Total execution time: 00:00:01.017"
                    },
                    "metadata": {}
                },
                {
                    "output_type": "execute_result",
                    "metadata": {},
                    "execution_count": 11,
                    "data": {
                        "application/vnd.dataresource+json": {
                            "schema": {
                                "fields": [
                                    {
                                        "name": "totalsellingprice"
                                    }
                                ]
                            },
                            "data": [
                                {
                                    "totalsellingprice": "840.00"
                                }
                            ]
                        },
                        "text/html": [
                            "<table>",
                            "<tr><th>totalsellingprice</th></tr>",
                            "<tr><td>840.00</td></tr>",
                            "</table>"
                        ]
                    }
                }
            ],
            "execution_count": 11
        },
        {
            "cell_type": "markdown",
            "source": [
                "- **<u>Calculate Total Sales by Product</u>**"
            ],
            "metadata": {
                "language": "sql",
                "azdata_cell_guid": "5ec3f84f-a091-4ca6-b9d2-09d01990d624"
            },
            "attachments": {}
        },
        {
            "cell_type": "code",
            "source": [
                "SELECT ProductName , SUM(SellingPrice)\r\n",
                "from sales\r\n",
                "GROUP by ProductName , ProductID;"
            ],
            "metadata": {
                "language": "sql",
                "azdata_cell_guid": "8ab49b05-f5ca-42cb-b0cf-e3096dd8c334"
            },
            "outputs": [
                {
                    "output_type": "display_data",
                    "data": {
                        "text/html": "(3 row(s) affected)"
                    },
                    "metadata": {}
                },
                {
                    "output_type": "display_data",
                    "data": {
                        "text/html": "Total execution time: 00:00:01.010"
                    },
                    "metadata": {}
                },
                {
                    "output_type": "execute_result",
                    "metadata": {},
                    "execution_count": 14,
                    "data": {
                        "application/vnd.dataresource+json": {
                            "schema": {
                                "fields": [
                                    {
                                        "name": "ProductName"
                                    },
                                    {
                                        "name": "SUM(SellingPrice)"
                                    }
                                ]
                            },
                            "data": [
                                {
                                    "ProductName": "Product A",
                                    "SUM(SellingPrice)": "310.00"
                                },
                                {
                                    "ProductName": "Product B",
                                    "SUM(SellingPrice)": "330.00"
                                },
                                {
                                    "ProductName": "Product C",
                                    "SUM(SellingPrice)": "200.00"
                                }
                            ]
                        },
                        "text/html": [
                            "<table>",
                            "<tr><th>ProductName</th><th>SUM(SellingPrice)</th></tr>",
                            "<tr><td>Product A</td><td>310.00</td></tr>",
                            "<tr><td>Product B</td><td>330.00</td></tr>",
                            "<tr><td>Product C</td><td>200.00</td></tr>",
                            "</table>"
                        ]
                    }
                }
            ],
            "execution_count": 14
        },
        {
            "cell_type": "markdown",
            "source": [
                "- **<u>Find Top Customers by Revenue</u>**"
            ],
            "metadata": {
                "language": "",
                "azdata_cell_guid": "ab91c9c0-4782-4b64-a24c-f87f09bbb4c4"
            },
            "attachments": {}
        },
        {
            "cell_type": "code",
            "source": [
                "SELECT ProductName , SUM(SellingPrice) as overallsale\r\n",
                "from sales\r\n",
                "GROUP by ProductName , ProductID\r\n",
                "order by overallsale DESC;\r\n",
                "\r\n",
                ""
            ],
            "metadata": {
                "azdata_cell_guid": "e0305475-a28a-4d6a-aed3-c2926e384a2b",
                "language": "sql"
            },
            "outputs": [
{
    "output_type": "display_data",
    "data": {
        "text/html": "(3 row(s) affected)"
    },
    "metadata": {}
}, {
    "output_type": "display_data",
    "data": {
        "text/html": "Total execution time: 00:00:01.007"
    },
    "metadata": {}
}, {
    "output_type": "execute_result",
    "metadata": {},
    "execution_count": 15,
    "data": {
        "application/vnd.dataresource+json": {
            "schema": {
                "fields": [
                    {
                        "name": "ProductName"
                    },
                    {
                        "name": "overallsale"
                    }
                ]
            },
            "data": [
                {
                    "ProductName": "Product B",
                    "overallsale": "330.00"
                },
                {
                    "ProductName": "Product A",
                    "overallsale": "310.00"
                },
                {
                    "ProductName": "Product C",
                    "overallsale": "200.00"
                }
            ]
        },
        "text/html": [
            "<table>",
            "<tr><th>ProductName</th><th>overallsale</th></tr>",
            "<tr><td>Product B</td><td>330.00</td></tr>",
            "<tr><td>Product A</td><td>310.00</td></tr>",
            "<tr><td>Product C</td><td>200.00</td></tr>",
            "</table>"
        ]
    }
}
],
            "execution_count": 15
        }
    ]
}