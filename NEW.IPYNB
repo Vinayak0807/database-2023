{
    "metadata": {
        "kernelspec": {
            "name": "SQL",
            "display_name": "SQL",
            "language": "sql"
        },
        "language_info": {
            "name": "sql",
            "version": ""
        }
    },
    "nbformat_minor": 2,
    "nbformat": 4,
    "cells": [
        {
            "cell_type": "code",
            "source": [
                "create database helllo;"
            ],
            "metadata": {
                "azdata_cell_guid": "a147cd50-8421-438e-94c8-0504ab2004a1",
                "language": "sql"
            },
            "outputs": [
                {
                    "output_type": "error",
                    "evalue": "1050 (42S01): Table 'school_record' already exists",
                    "ename": "",
                    "traceback": []
                },
                {
                    "output_type": "display_data",
                    "data": {
                        "text/html": "Total execution time: 00:00:00"
                    },
                    "metadata": {}
                },
                {
                    "output_type": "error",
                    "evalue": "1007 (HY000): Can't create database 'helllo'; database exists",
                    "ename": "",
                    "traceback": []
                }
            ],
            "execution_count": 5
        },
        {
            "cell_type": "code",
            "source": [
                "use helllo;"
            ],
            "metadata": {
                "language": "sql",
                "azdata_cell_guid": "bb2ea374-70b2-47f7-b8c7-e5c840dc425c"
            },
            "outputs": [
                {
                    "output_type": "display_data",
                    "data": {
                        "text/html": "Commands completed successfully"
                    },
                    "metadata": {}
                },
                {
                    "output_type": "display_data",
                    "data": {
                        "text/html": "Total execution time: 00:00:00.001"
                    },
                    "metadata": {}
                }
            ],
            "execution_count": 3
        },
        {
            "cell_type": "code",
            "source": [
                "create table school_record\r\n",
                "(\r\n",
                "    id int unsigned,\r\n",
                "    name VARCHAR(100),\r\n",
                "    class int unsigned,\r\n",
                "    address VARCHAR(150),\r\n",
                "    contact INT unsigned,\r\n",
                "    email VARCHAR(100),\r\n",
                "    dob DATE\r\n",
                ");"
            ],
            "metadata": {
                "language": "sql",
                "azdata_cell_guid": "6fe10a71-c224-4a9b-88e1-f1c1810dba7d"
            },
            "outputs": [
                {
                    "output_type": "display_data",
                    "data": {
                        "text/html": "Total execution time: 00:00:00.018"
                    },
                    "metadata": {}
                }
            ],
            "execution_count": 4
        },
        {
            "cell_type": "code",
            "source": [
                ""
            ],
            "metadata": {
                "language": "sql",
                "azdata_cell_guid": "b91f1613-b528-4935-b343-f738aaaaee0c"
            },
            "outputs": [],
            "execution_count": null
        },
        {
            "cell_type": "code",
            "source": [
                "-- Create the school_record table\n",
                "CREATE TABLE school_record (\n",
                "    id INT UNSIGNED,\n",
                "    name VARCHAR(100),\n",
                "    class INT UNSIGNED,\n",
                "    address VARCHAR(150),\n",
                "    contact INT UNSIGNED,\n",
                "    email VARCHAR(100),\n",
                "    dob DATE\n",
                ");\n",
                "-- Insert 50 sample records\n",
                "INSERT INTO school_record (id, name, class, address, contact, email, dob) VALUES\n",
                "    (1, 'John Smith', 10, '123 Main St, City, Country', 1234567890, 'john.smith@example.com', '2005-05-15'),\n",
                "    (2, 'Jane Doe', 11, '456 Elm St, Town, Country', 9876543210, 'jane.doe@example.com', '2004-09-20'),\n",
                "    (3, 'Mike Johnson', 9, '789 Oak St, Village, Country', 5555555555, 'mike.johnson@example.com', '2006-02-10'),\n",
                "    (4, 'Emily Wilson', 12, '567 Pine St, Suburb, Country', 9998887777, 'emily.wilson@example.com', '2003-12-05'),\n",
                "    (5, 'Chris Brown', 8, '101 Willow St, Hamlet, Country', 1112223333, 'chris.brown@example.com', '2007-08-30'),\n",
                "    (6, 'Sarah Lee', 10, '222 Cedar St, Town, Country', 4445556666, 'sarah.lee@example.com', '2005-03-18'),\n",
                "    (7, 'Daniel White', 7, '321 Birch St, City, Country', 7778889999, 'daniel.white@example.com', '2008-11-25'),\n",
                "    (8, 'Olivia Thomas', 11, '432 Maple St, Suburb, Country', 2223334444, 'olivia.thomas@example.com', '2004-06-12'),\n",
                "    (9, 'Michael Davis', 9, '876 Oak St, Village, Country', 8887776666, 'michael.davis@example.com', '2006-09-02'),\n",
                "    (10, 'Sophia Taylor', 10, '555 Pine St, Town, Country', 3334445555, 'sophia.taylor@example.com', '2005-07-24'),\n",
                "    (11, 'Ethan Clark', 8, '444 Willow St, City, Country', 5556667777, 'ethan.clark@example.com', '2007-04-09'),\n",
                "    (12, 'Ava Martin', 7, '789 Elm St, Suburb, Country', 6667778888, 'ava.martin@example.com', '2008-02-13'),\n",
                "    (13, 'William Rodriguez', 9, '333 Birch St, Village, Country', 7778889999, 'william.rodriguez@example.com', '2006-01-07'),\n",
                "    (14, 'Mia Martinez', 10, '222 Cedar St, Town, Country', 4445556666, 'mia.martinez@example.com', '2005-10-19'),\n",
                "    (15, 'James Hernandez', 11, '111 Maple St, City, Country', 8889990000, 'james.hernandez@example.com', '2004-03-28'),\n",
                "    (16, 'Charlotte Lewis', 12, '654 Oak St, Village, Country', 5554443333, 'charlotte.lewis@example.com', '2003-08-14'),\n",
                "    (17, 'Benjamin Young', 8, '456 Pine St, Suburb, Country', 1112223333, 'benjamin.young@example.com', '2007-06-22'),\n",
                "    (18, 'Amelia Hall', 9, '999 Elm St, Town, Country', 3334445555, 'amelia.hall@example.com', '2006-05-04'),\n",
                "    (19, 'Jacob Walker', 10, '222 Birch St, City, Country', 7778889999, 'jacob.walker@example.com', '2005-11-01'),\n",
                "    (20, 'Lily Perez', 7, '333 Cedar St, Village, Country', 2221110000, 'lily.perez@example.com', '2008-09-17'),\n",
                "    (21, 'Michael Wilson', 8, '444 Oak St, Suburb, Country', 6665554444, 'michael.wilson@example.com', '2007-12-30'),\n",
                "    (22, 'Grace Anderson', 9, '555 Maple St, Town, Country', 5556667777, 'grace.anderson@example.com', '2006-10-13'),\n",
                "    (23, 'Joseph Green', 10, '666 Pine St, City, Country', 4443332222, 'joseph.green@example.com', '2005-04-26'),\n",
                "    (24, 'Nora Scott', 11, '777 Elm St, Village, Country', 3332221111, 'nora.scott@example.com', '2004-07-11'),\n",
                "    (25, 'Samuel King', 12, '888 Cedar St, Suburb, Country', 7778889999, 'samuel.king@example.com', '2003-02-09'),\n",
                "    (26, 'Ava Adams', 8, '999 Oak St, Town, Country', 5556667777, 'ava.adams@example.com', '2007-01-31'),\n",
                "    (27, 'Ethan Turner', 7, '555 Maple St, City, Country', 2223334444, 'ethan.turner@example.com', '2008-05-18'),\n",
                "    (28, 'Olivia Scott', 9, '666 Pine St, Village, Country', 8887776666, 'olivia.scott@example.com', '2006-08-06'),\n",
                "    (29, 'William Baker', 10, '444 Cedar St, Suburb, Country', 1112223333, 'william.baker@example.com', '2005-12-22'),\n",
                "    (30, 'Sophia King', 11, '777 Elm St, Town, Country', 4445556666, 'sophia.king@example.com', '2004-03-15'),\n",
                "    (31, 'Mia Hill', 8, '123 Oak St, City, Country', 7778889999, 'mia.hill@example.com', '2007-02-27'),\n",
                "    (32, 'James White', 9, '456 Maple St, Village, Country', 3334445555, 'james.white@example.com', '2006-07-10'),\n",
                "    (33, 'Charlotte Turner', 10, '789 Pine St, Suburb, Country', 5556667777, 'charlotte.turner@example.com', '2005-09-04'),\n",
                "    (34, 'Benjamin Baker', 7, '222 Elm St, City, Country\n",
                ""
            ],
            "metadata": {
                "azdata_cell_guid": "f2d5ff91-2cb3-462c-b141-faf1b76d137c",
                "language": "sql"
            },
            "outputs": [],
            "execution_count": null
        },
        {
            "cell_type": "code",
            "source": [
                "describe school_record;"
            ],
            "metadata": {
                "language": "sql",
                "azdata_cell_guid": "61010031-96ae-403a-aa45-ea1627b75f90"
            },
            "outputs": [
                {
                    "output_type": "display_data",
                    "data": {
                        "text/html": "(7 row(s) affected)"
                    },
                    "metadata": {}
                },
                {
                    "output_type": "display_data",
                    "data": {
                        "text/html": "Total execution time: 00:00:01.034"
                    },
                    "metadata": {}
                },
                {
                    "output_type": "execute_result",
                    "execution_count": 3,
                    "data": {
                        "application/vnd.dataresource+json": {
                            "schema": {
                                "fields": [
                                    {
                                        "name": "Field"
                                    },
                                    {
                                        "name": "Type"
                                    },
                                    {
                                        "name": "Null"
                                    },
                                    {
                                        "name": "Key"
                                    },
                                    {
                                        "name": "Default"
                                    },
                                    {
                                        "name": "Extra"
                                    }
                                ]
                            },
                            "data": [
                                {
                                    "Field": "id",
                                    "Type": "b'int unsigned'",
                                    "Null": "YES",
                                    "Key": "",
                                    "Default": "NULL",
                                    "Extra": ""
                                },
                                {
                                    "Field": "name",
                                    "Type": "b'varchar(100)'",
                                    "Null": "YES",
                                    "Key": "",
                                    "Default": "NULL",
                                    "Extra": ""
                                },
                                {
                                    "Field": "class",
                                    "Type": "b'int unsigned'",
                                    "Null": "YES",
                                    "Key": "",
                                    "Default": "NULL",
                                    "Extra": ""
                                },
                                {
                                    "Field": "address",
                                    "Type": "b'varchar(150)'",
                                    "Null": "YES",
                                    "Key": "",
                                    "Default": "NULL",
                                    "Extra": ""
                                },
                                {
                                    "Field": "contact",
                                    "Type": "b'int unsigned'",
                                    "Null": "YES",
                                    "Key": "",
                                    "Default": "NULL",
                                    "Extra": ""
                                },
                                {
                                    "Field": "email",
                                    "Type": "b'varchar(100)'",
                                    "Null": "YES",
                                    "Key": "",
                                    "Default": "NULL",
                                    "Extra": ""
                                },
                                {
                                    "Field": "dob",
                                    "Type": "b'date'",
                                    "Null": "YES",
                                    "Key": "",
                                    "Default": "NULL",
                                    "Extra": ""
                                }
                            ]
                        },
                        "text/html": "<table><tr><th>Field</th><th>Type</th><th>Null</th><th>Key</th><th>Default</th><th>Extra</th></tr><tr><td>id</td><td>b&#39;int unsigned&#39;</td><td>YES</td><td></td><td>NULL</td><td></td></tr><tr><td>name</td><td>b&#39;varchar(100)&#39;</td><td>YES</td><td></td><td>NULL</td><td></td></tr><tr><td>class</td><td>b&#39;int unsigned&#39;</td><td>YES</td><td></td><td>NULL</td><td></td></tr><tr><td>address</td><td>b&#39;varchar(150)&#39;</td><td>YES</td><td></td><td>NULL</td><td></td></tr><tr><td>contact</td><td>b&#39;int unsigned&#39;</td><td>YES</td><td></td><td>NULL</td><td></td></tr><tr><td>email</td><td>b&#39;varchar(100)&#39;</td><td>YES</td><td></td><td>NULL</td><td></td></tr><tr><td>dob</td><td>b&#39;date&#39;</td><td>YES</td><td></td><td>NULL</td><td></td></tr></table>"
                    },
                    "metadata": {}
                }
            ],
            "execution_count": 3
        },
        {
            "cell_type": "code",
            "source": [
                "use helllo"
            ],
            "metadata": {
                "language": "sql",
                "azdata_cell_guid": "e28c0501-25df-4083-a05f-3a6e7e12b245"
            },
            "outputs": [
                {
                    "output_type": "display_data",
                    "data": {
                        "text/html": "Commands completed successfully"
                    },
                    "metadata": {}
                },
                {
                    "output_type": "display_data",
                    "data": {
                        "text/html": "Total execution time: 00:00:00.003"
                    },
                    "metadata": {}
                }
            ],
            "execution_count": 15
        },
        {
            "cell_type": "code",
            "source": [
                "INSERT into school_record\r\n",
                "(id,name,class,address,contact,email,dob)\r\n",
                "VALUES\r\n",
                "(\"7\",\"janat\",\"12\",\"delhi,up\",\"756876\",\"rashid@gmail.com\",\"2000-01-10\"),\r\n",
                "(\"8\",\"gill\",\"10\",\"ayodhya,up\",\"875879\",\"gill@gmail.com\",\"1998-02-10\"),\r\n",
                "(\"9\",\"mahi\",\"11\",\"ranchi,up\",\"749876\",\"mahi@gmail.com\",\"2000-01-10\"),\r\n",
                "(\"10\",\"dhoni\",\"12\",\"bhopal,up\",\"455879\",\"dhoni@gmail.com\",\"1998-02-10\")\r\n",
                ""
            ],
            "metadata": {
                "language": "sql",
                "azdata_cell_guid": "8e5fe949-eee4-4fec-9411-3e1a2a5f1b61"
            },
            "outputs": [
                {
                    "output_type": "display_data",
                    "data": {
                        "text/html": "Commands completed successfully"
                    },
                    "metadata": {}
                },
                {
                    "output_type": "display_data",
                    "data": {
                        "text/html": "Total execution time: 00:00:00"
                    },
                    "metadata": {}
                }
            ],
            "execution_count": 18
        },
        {
            "cell_type": "code",
            "source": [
                "SELECT * FROM school_record;\r\n",
                ""
            ],
            "metadata": {
                "language": "sql",
                "azdata_cell_guid": "6b53ed7d-6321-4099-8bd9-86cf06124999"
            },
            "outputs": [
                {
                    "output_type": "display_data",
                    "data": {
                        "text/html": "(11 row(s) affected)"
                    },
                    "metadata": {}
                },
                {
                    "output_type": "display_data",
                    "data": {
                        "text/html": "Total execution time: 00:00:01.030"
                    },
                    "metadata": {}
                },
                {
                    "output_type": "execute_result",
                    "execution_count": 19,
                    "data": {
                        "application/vnd.dataresource+json": {
                            "schema": {
                                "fields": [
                                    {
                                        "name": "id"
                                    },
                                    {
                                        "name": "name"
                                    },
                                    {
                                        "name": "class"
                                    },
                                    {
                                        "name": "address"
                                    },
                                    {
                                        "name": "contact"
                                    },
                                    {
                                        "name": "email"
                                    },
                                    {
                                        "name": "dob"
                                    }
                                ]
                            },
                            "data": [
                                {
                                    "id": "1",
                                    "name": "vinayak",
                                    "class": "12",
                                    "address": "lucknow,up",
                                    "contact": "86876",
                                    "email": "vinayak@gmail.com",
                                    "dob": "1999-01-10"
                                },
                                {
                                    "id": "1",
                                    "name": "vinayak",
                                    "class": "12",
                                    "address": "lucknow,up",
                                    "contact": "86876",
                                    "email": "vinayak@gmail.com",
                                    "dob": "1999-01-10"
                                },
                                {
                                    "id": "2",
                                    "name": "honey",
                                    "class": "11",
                                    "address": "lucknow,up",
                                    "contact": "85876",
                                    "email": "honey@gmail.com",
                                    "dob": "1999-02-10"
                                },
                                {
                                    "id": "3",
                                    "name": "david warner",
                                    "class": "12",
                                    "address": "lucknow,up",
                                    "contact": "76876",
                                    "email": "david@gmail.com",
                                    "dob": "1999-01-10"
                                },
                                {
                                    "id": "4",
                                    "name": "jay shah",
                                    "class": "11",
                                    "address": "lucknow,up",
                                    "contact": "85879",
                                    "email": "jay@gmail.com",
                                    "dob": "1999-02-10"
                                },
                                {
                                    "id": "5",
                                    "name": "warner",
                                    "class": "10",
                                    "address": "kanpur,up",
                                    "contact": "746876",
                                    "email": "warner@gmail.com",
                                    "dob": "2000-01-10"
                                },
                                {
                                    "id": "6",
                                    "name": "shah",
                                    "class": "10",
                                    "address": "ayodhya,up",
                                    "contact": "855879",
                                    "email": "shah@gmail.com",
                                    "dob": "1998-02-10"
                                },
                                {
                                    "id": "7",
                                    "name": "rashid",
                                    "class": "12",
                                    "address": "delhi,up",
                                    "contact": "756876",
                                    "email": "rashid@gmail.com",
                                    "dob": "2000-01-10"
                                },
                                {
                                    "id": "8",
                                    "name": "gill",
                                    "class": "10",
                                    "address": "ayodhya,up",
                                    "contact": "875879",
                                    "email": "gill@gmail.com",
                                    "dob": "1998-02-10"
                                },
                                {
                                    "id": "9",
                                    "name": "mahi",
                                    "class": "11",
                                    "address": "ranchi,up",
                                    "contact": "749876",
                                    "email": "mahi@gmail.com",
                                    "dob": "2000-01-10"
                                },
                                {
                                    "id": "10",
                                    "name": "dhoni",
                                    "class": "12",
                                    "address": "bhopal,up",
                                    "contact": "455879",
                                    "email": "dhoni@gmail.com",
                                    "dob": "1998-02-10"
                                }
                            ]
                        },
                        "text/html": "<table><tr><th>id</th><th>name</th><th>class</th><th>address</th><th>contact</th><th>email</th><th>dob</th></tr><tr><td>1</td><td>vinayak</td><td>12</td><td>lucknow,up</td><td>86876</td><td>vinayak@gmail.com</td><td>1999-01-10</td></tr><tr><td>1</td><td>vinayak</td><td>12</td><td>lucknow,up</td><td>86876</td><td>vinayak@gmail.com</td><td>1999-01-10</td></tr><tr><td>2</td><td>honey</td><td>11</td><td>lucknow,up</td><td>85876</td><td>honey@gmail.com</td><td>1999-02-10</td></tr><tr><td>3</td><td>david warner</td><td>12</td><td>lucknow,up</td><td>76876</td><td>david@gmail.com</td><td>1999-01-10</td></tr><tr><td>4</td><td>jay shah</td><td>11</td><td>lucknow,up</td><td>85879</td><td>jay@gmail.com</td><td>1999-02-10</td></tr><tr><td>5</td><td>warner</td><td>10</td><td>kanpur,up</td><td>746876</td><td>warner@gmail.com</td><td>2000-01-10</td></tr><tr><td>6</td><td>shah</td><td>10</td><td>ayodhya,up</td><td>855879</td><td>shah@gmail.com</td><td>1998-02-10</td></tr><tr><td>7</td><td>rashid</td><td>12</td><td>delhi,up</td><td>756876</td><td>rashid@gmail.com</td><td>2000-01-10</td></tr><tr><td>8</td><td>gill</td><td>10</td><td>ayodhya,up</td><td>875879</td><td>gill@gmail.com</td><td>1998-02-10</td></tr><tr><td>9</td><td>mahi</td><td>11</td><td>ranchi,up</td><td>749876</td><td>mahi@gmail.com</td><td>2000-01-10</td></tr><tr><td>10</td><td>dhoni</td><td>12</td><td>bhopal,up</td><td>455879</td><td>dhoni@gmail.com</td><td>1998-02-10</td></tr></table>"
                    },
                    "metadata": {}
                }
            ],
            "execution_count": 19
        },
        {
            "cell_type": "code",
            "source": [
                "create database product;"
            ],
            "metadata": {
                "language": "sql",
                "azdata_cell_guid": "ce8bdf00-b1c3-4589-b3f6-c38ca66119e4"
            },
            "outputs": [
                {
                    "output_type": "display_data",
                    "data": {
                        "text/html": "Total execution time: 00:00:00"
                    },
                    "metadata": {}
                },
                {
                    "output_type": "error",
                    "ename": "",
                    "evalue": "1007 (HY000): Can't create database 'product'; database exists",
                    "traceback": []
                }
            ],
            "execution_count": 20
        },
        {
            "cell_type": "code",
            "source": [
                "use product;"
            ],
            "metadata": {
                "language": "sql",
                "azdata_cell_guid": "48151787-a5c7-4532-9309-8ccf37aaa1ed"
            },
            "outputs": [
                {
                    "output_type": "display_data",
                    "data": {
                        "text/html": "Commands completed successfully"
                    },
                    "metadata": {}
                },
                {
                    "output_type": "display_data",
                    "data": {
                        "text/html": "Total execution time: 00:00:00"
                    },
                    "metadata": {}
                }
            ],
            "execution_count": 22
        },
        {
            "cell_type": "code",
            "source": [
                "create table product_table\r\n",
                "(\r\n",
                "    id int unsigned,\r\n",
                "    title VARCHAR(200),\r\n",
                "    price int unsigned,\r\n",
                "    discount int unsigned,\r\n",
                "    brand varchar(250),\r\n",
                "    category VARCHAR(200),\r\n",
                "    quantity int unsigned\r\n",
                ")"
            ],
            "metadata": {
                "language": "sql",
                "azdata_cell_guid": "d43acfe5-4de8-4b97-b06f-6e16927ae7d1"
            },
            "outputs": [
                {
                    "output_type": "display_data",
                    "data": {
                        "text/html": "Commands completed successfully"
                    },
                    "metadata": {}
                },
                {
                    "output_type": "display_data",
                    "data": {
                        "text/html": "Total execution time: 00:00:00.047"
                    },
                    "metadata": {}
                }
            ],
            "execution_count": 23
        },
        {
            "cell_type": "code",
            "source": [
                "insert INTO product_table\r\n",
                "(id,title,price,discount,brand,category,quantity)\r\n",
                "VALUES\r\n",
                "(\"3\",\"oska\",\"1450\",\"07\",\"mob\",\"mobile\",\"500\"),\r\n",
                "(4, 'ceiling_fan', 550, 10, 'tufaan', 'fans', 300),\r\n",
                "(5, 'laptop', 1200, 50, 'yantra', 'electronics', 100),\r\n",
                "(6, 'microwave', 250, 15, 'garaam', 'appliances', 50);"
            ],
            "metadata": {
                "language": "sql",
                "azdata_cell_guid": "448ffdb2-0605-40fe-8cdc-4b35ae67d402"
            },
            "outputs": [
                {
                    "output_type": "display_data",
                    "data": {
                        "text/html": "Commands completed successfully"
                    },
                    "metadata": {}
                },
                {
                    "output_type": "display_data",
                    "data": {
                        "text/html": "Total execution time: 00:00:00.015"
                    },
                    "metadata": {}
                }
            ],
            "execution_count": 34
        },
        {
            "cell_type": "code",
            "source": [
                "select * from product_table"
            ],
            "metadata": {
                "language": "sql",
                "azdata_cell_guid": "fc0d0360-3aa5-4cf6-8c86-80e2e6155142"
            },
            "outputs": [
                {
                    "output_type": "display_data",
                    "data": {
                        "text/html": "(7 row(s) affected)"
                    },
                    "metadata": {}
                },
                {
                    "output_type": "display_data",
                    "data": {
                        "text/html": "Total execution time: 00:00:01.014"
                    },
                    "metadata": {}
                },
                {
                    "output_type": "execute_result",
                    "execution_count": 35,
                    "data": {
                        "application/vnd.dataresource+json": {
                            "schema": {
                                "fields": [
                                    {
                                        "name": "id"
                                    },
                                    {
                                        "name": "title"
                                    },
                                    {
                                        "name": "price"
                                    },
                                    {
                                        "name": "discount"
                                    },
                                    {
                                        "name": "brand"
                                    },
                                    {
                                        "name": "category"
                                    },
                                    {
                                        "name": "quantity"
                                    }
                                ]
                            },
                            "data": [
                                {
                                    "id": "1",
                                    "title": "bulb",
                                    "price": "250",
                                    "discount": "50",
                                    "brand": "jalo",
                                    "category": "bulb",
                                    "quantity": "300"
                                },
                                {
                                    "id": "2",
                                    "title": "lamp",
                                    "price": "250",
                                    "discount": "70",
                                    "brand": "jalo",
                                    "category": "bulb",
                                    "quantity": "400"
                                },
                                {
                                    "id": "2",
                                    "title": "table_fan",
                                    "price": "450",
                                    "discount": "7",
                                    "brand": "hawa",
                                    "category": "fans",
                                    "quantity": "500"
                                },
                                {
                                    "id": "3",
                                    "title": "oska",
                                    "price": "1450",
                                    "discount": "7",
                                    "brand": "mob",
                                    "category": "mobile",
                                    "quantity": "500"
                                },
                                {
                                    "id": "4",
                                    "title": "ceiling_fan",
                                    "price": "550",
                                    "discount": "10",
                                    "brand": "tufaan",
                                    "category": "fans",
                                    "quantity": "300"
                                },
                                {
                                    "id": "5",
                                    "title": "laptop",
                                    "price": "1200",
                                    "discount": "50",
                                    "brand": "yantra",
                                    "category": "electronics",
                                    "quantity": "100"
                                },
                                {
                                    "id": "6",
                                    "title": "microwave",
                                    "price": "250",
                                    "discount": "15",
                                    "brand": "garaam",
                                    "category": "appliances",
                                    "quantity": "50"
                                }
                            ]
                        },
                        "text/html": "<table><tr><th>id</th><th>title</th><th>price</th><th>discount</th><th>brand</th><th>category</th><th>quantity</th></tr><tr><td>1</td><td>bulb</td><td>250</td><td>50</td><td>jalo</td><td>bulb</td><td>300</td></tr><tr><td>2</td><td>lamp</td><td>250</td><td>70</td><td>jalo</td><td>bulb</td><td>400</td></tr><tr><td>2</td><td>table_fan</td><td>450</td><td>7</td><td>hawa</td><td>fans</td><td>500</td></tr><tr><td>3</td><td>oska</td><td>1450</td><td>7</td><td>mob</td><td>mobile</td><td>500</td></tr><tr><td>4</td><td>ceiling_fan</td><td>550</td><td>10</td><td>tufaan</td><td>fans</td><td>300</td></tr><tr><td>5</td><td>laptop</td><td>1200</td><td>50</td><td>yantra</td><td>electronics</td><td>100</td></tr><tr><td>6</td><td>microwave</td><td>250</td><td>15</td><td>garaam</td><td>appliances</td><td>50</td></tr></table>"
                    },
                    "metadata": {}
                }
            ],
            "execution_count": 35
        },
        {
            "cell_type": "code",
            "source": [
                "create table students\r\n",
                "(\r\n",
                "    id int not null UNIQUE,\r\n",
                "    name varchar(200) not null,\r\n",
                "    email VARCHAR(300) not null,\r\n",
                "    age TINYINT check (age >=10) not null,\r\n",
                "    STATUS boolean DEFAULT 1\r\n",
                "\r\n",
                "\r\n",
                ")"
            ],
            "metadata": {
                "language": "sql",
                "azdata_cell_guid": "e11d3f54-b16c-4e48-b903-57df8a3ab49b"
            },
            "outputs": [
                {
                    "output_type": "display_data",
                    "data": {
                        "text/html": "Commands completed successfully"
                    },
                    "metadata": {}
                },
                {
                    "output_type": "display_data",
                    "data": {
                        "text/html": "Total execution time: 00:00:00.040"
                    },
                    "metadata": {}
                }
            ],
            "execution_count": 7
        },
        {
            "cell_type": "code",
            "source": [
                "-- Insert data into the \"students\" table with the \"status\" column set to its default value (1)\r\n",
                "INSERT INTO students (id, name, email, age) VALUES\r\n",
                "(1, 'John Doe', 'john.doe@example.com', 20),\r\n",
                "(2, 'Jane Smith', 'jane.smith@example.com', 22),\r\n",
                "(3, 'Alice Johnson', 'alice.johnson@example.com', 19),\r\n",
                "(4, 'Bob Anderson', 'bob.anderson@example.com', 25),\r\n",
                "(5, 'Eve Wilson', 'eve.wilson@example.com', 18),\r\n",
                "(6, 'Michael Brown', 'michael.brown@example.com', 21),\r\n",
                "(7, 'Olivia Davis', 'olivia.davis@example.com', 23),\r\n",
                "(8, 'William Taylor', 'william.taylor@example.com', 20),\r\n",
                "(9, 'Sophia Lee', 'sophia.lee@example.com', 19),\r\n",
                "(10, 'Daniel Clark', 'daniel.clark@example.com', 24);\r\n",
                ""
            ],
            "metadata": {
                "language": "sql",
                "azdata_cell_guid": "419d450b-8e2b-4a9e-9962-95a20a278be9"
            },
            "outputs": [
                {
                    "output_type": "display_data",
                    "data": {
                        "text/html": "Commands completed successfully"
                    },
                    "metadata": {}
                },
                {
                    "output_type": "display_data",
                    "data": {
                        "text/html": "Total execution time: 00:00:00.010"
                    },
                    "metadata": {}
                }
            ],
            "execution_count": 9
        },
        {
            "cell_type": "code",
            "source": [
                "select * from students"
            ],
            "metadata": {
                "language": "sql",
                "azdata_cell_guid": "1ce1baac-9b94-43ef-884c-78d41cbfbf4b"
            },
            "outputs": [
                {
                    "output_type": "display_data",
                    "data": {
                        "text/html": "(10 row(s) affected)"
                    },
                    "metadata": {}
                },
                {
                    "output_type": "display_data",
                    "data": {
                        "text/html": "Total execution time: 00:00:01.022"
                    },
                    "metadata": {}
                },
                {
                    "output_type": "execute_result",
                    "metadata": {},
                    "execution_count": 10,
                    "data": {
                        "application/vnd.dataresource+json": {
                            "schema": {
                                "fields": [
                                    {
                                        "name": "id"
                                    },
                                    {
                                        "name": "name"
                                    },
                                    {
                                        "name": "email"
                                    },
                                    {
                                        "name": "age"
                                    },
                                    {
                                        "name": "STATUS"
                                    }
                                ]
                            },
                            "data": [
                                {
                                    "id": "1",
                                    "name": "John Doe",
                                    "email": "john.doe@example.com",
                                    "age": "20",
                                    "STATUS": "1"
                                },
                                {
                                    "id": "2",
                                    "name": "Jane Smith",
                                    "email": "jane.smith@example.com",
                                    "age": "22",
                                    "STATUS": "1"
                                },
                                {
                                    "id": "3",
                                    "name": "Alice Johnson",
                                    "email": "alice.johnson@example.com",
                                    "age": "19",
                                    "STATUS": "1"
                                },
                                {
                                    "id": "4",
                                    "name": "Bob Anderson",
                                    "email": "bob.anderson@example.com",
                                    "age": "25",
                                    "STATUS": "1"
                                },
                                {
                                    "id": "5",
                                    "name": "Eve Wilson",
                                    "email": "eve.wilson@example.com",
                                    "age": "18",
                                    "STATUS": "1"
                                },
                                {
                                    "id": "6",
                                    "name": "Michael Brown",
                                    "email": "michael.brown@example.com",
                                    "age": "21",
                                    "STATUS": "1"
                                },
                                {
                                    "id": "7",
                                    "name": "Olivia Davis",
                                    "email": "olivia.davis@example.com",
                                    "age": "23",
                                    "STATUS": "1"
                                },
                                {
                                    "id": "8",
                                    "name": "William Taylor",
                                    "email": "william.taylor@example.com",
                                    "age": "20",
                                    "STATUS": "1"
                                },
                                {
                                    "id": "9",
                                    "name": "Sophia Lee",
                                    "email": "sophia.lee@example.com",
                                    "age": "19",
                                    "STATUS": "1"
                                },
                                {
                                    "id": "10",
                                    "name": "Daniel Clark",
                                    "email": "daniel.clark@example.com",
                                    "age": "24",
                                    "STATUS": "1"
                                }
                            ]
                        },
                        "text/html": [
                            "<table>",
                            "<tr><th>id</th><th>name</th><th>email</th><th>age</th><th>STATUS</th></tr>",
                            "<tr><td>1</td><td>John Doe</td><td>john.doe@example.com</td><td>20</td><td>1</td></tr>",
                            "<tr><td>2</td><td>Jane Smith</td><td>jane.smith@example.com</td><td>22</td><td>1</td></tr>",
                            "<tr><td>3</td><td>Alice Johnson</td><td>alice.johnson@example.com</td><td>19</td><td>1</td></tr>",
                            "<tr><td>4</td><td>Bob Anderson</td><td>bob.anderson@example.com</td><td>25</td><td>1</td></tr>",
                            "<tr><td>5</td><td>Eve Wilson</td><td>eve.wilson@example.com</td><td>18</td><td>1</td></tr>",
                            "<tr><td>6</td><td>Michael Brown</td><td>michael.brown@example.com</td><td>21</td><td>1</td></tr>",
                            "<tr><td>7</td><td>Olivia Davis</td><td>olivia.davis@example.com</td><td>23</td><td>1</td></tr>",
                            "<tr><td>8</td><td>William Taylor</td><td>william.taylor@example.com</td><td>20</td><td>1</td></tr>",
                            "<tr><td>9</td><td>Sophia Lee</td><td>sophia.lee@example.com</td><td>19</td><td>1</td></tr>",
                            "<tr><td>10</td><td>Daniel Clark</td><td>daniel.clark@example.com</td><td>24</td><td>1</td></tr>",
                            "</table>"
                        ]
                    }
                }
            ],
            "execution_count": 10
        },
        {
            "cell_type": "code",
            "source": [
                "select * from students\r\n",
                "where age >=18 and age<=23"
            ],
            "metadata": {
                "language": "sql",
                "azdata_cell_guid": "0e41879f-6686-4f04-a932-a72e53df4892"
            },
            "outputs": [
                {
                    "output_type": "display_data",
                    "data": {
                        "text/html": "(8 row(s) affected)"
                    },
                    "metadata": {}
                },
                {
                    "output_type": "display_data",
                    "data": {
                        "text/html": "Total execution time: 00:00:01.029"
                    },
                    "metadata": {}
                },
                {
                    "output_type": "execute_result",
                    "metadata": {},
                    "execution_count": 11,
                    "data": {
                        "application/vnd.dataresource+json": {
                            "schema": {
                                "fields": [
                                    {
                                        "name": "id"
                                    },
                                    {
                                        "name": "name"
                                    },
                                    {
                                        "name": "email"
                                    },
                                    {
                                        "name": "age"
                                    },
                                    {
                                        "name": "STATUS"
                                    }
                                ]
                            },
                            "data": [
                                {
                                    "id": "1",
                                    "name": "John Doe",
                                    "email": "john.doe@example.com",
                                    "age": "20",
                                    "STATUS": "1"
                                },
                                {
                                    "id": "2",
                                    "name": "Jane Smith",
                                    "email": "jane.smith@example.com",
                                    "age": "22",
                                    "STATUS": "1"
                                },
                                {
                                    "id": "3",
                                    "name": "Alice Johnson",
                                    "email": "alice.johnson@example.com",
                                    "age": "19",
                                    "STATUS": "1"
                                },
                                {
                                    "id": "5",
                                    "name": "Eve Wilson",
                                    "email": "eve.wilson@example.com",
                                    "age": "18",
                                    "STATUS": "1"
                                },
                                {
                                    "id": "6",
                                    "name": "Michael Brown",
                                    "email": "michael.brown@example.com",
                                    "age": "21",
                                    "STATUS": "1"
                                },
                                {
                                    "id": "7",
                                    "name": "Olivia Davis",
                                    "email": "olivia.davis@example.com",
                                    "age": "23",
                                    "STATUS": "1"
                                },
                                {
                                    "id": "8",
                                    "name": "William Taylor",
                                    "email": "william.taylor@example.com",
                                    "age": "20",
                                    "STATUS": "1"
                                },
                                {
                                    "id": "9",
                                    "name": "Sophia Lee",
                                    "email": "sophia.lee@example.com",
                                    "age": "19",
                                    "STATUS": "1"
                                }
                            ]
                        },
                        "text/html": [
                            "<table>",
                            "<tr><th>id</th><th>name</th><th>email</th><th>age</th><th>STATUS</th></tr>",
                            "<tr><td>1</td><td>John Doe</td><td>john.doe@example.com</td><td>20</td><td>1</td></tr>",
                            "<tr><td>2</td><td>Jane Smith</td><td>jane.smith@example.com</td><td>22</td><td>1</td></tr>",
                            "<tr><td>3</td><td>Alice Johnson</td><td>alice.johnson@example.com</td><td>19</td><td>1</td></tr>",
                            "<tr><td>5</td><td>Eve Wilson</td><td>eve.wilson@example.com</td><td>18</td><td>1</td></tr>",
                            "<tr><td>6</td><td>Michael Brown</td><td>michael.brown@example.com</td><td>21</td><td>1</td></tr>",
                            "<tr><td>7</td><td>Olivia Davis</td><td>olivia.davis@example.com</td><td>23</td><td>1</td></tr>",
                            "<tr><td>8</td><td>William Taylor</td><td>william.taylor@example.com</td><td>20</td><td>1</td></tr>",
                            "<tr><td>9</td><td>Sophia Lee</td><td>sophia.lee@example.com</td><td>19</td><td>1</td></tr>",
                            "</table>"
                        ]
                    }
                }
            ],
            "execution_count": 11
        },
        {
            "cell_type": "code",
            "source": [
                "use sakila"
            ],
            "metadata": {
                "language": "sql",
                "azdata_cell_guid": "52cf52e3-776d-43a1-a694-25e384a99319"
            },
            "outputs": [
                {
                    "output_type": "display_data",
                    "data": {
                        "text/html": "Commands completed successfully"
                    },
                    "metadata": {}
                },
                {
                    "output_type": "display_data",
                    "data": {
                        "text/html": "Total execution time: 00:00:00"
                    },
                    "metadata": {}
                }
            ],
            "execution_count": 15
        },
        {
            "cell_type": "code",
            "source": [
                "\r\n",
                "\r\n",
                ""
            ],
            "metadata": {
                "language": "sql",
                "azdata_cell_guid": "cc084803-2fc8-4955-9bfb-5b1227b00143"
            },
            "outputs": [
{
    "output_type": "display_data",
    "data": {
        "text/html": "Total execution time: 00:00:00.007"
    },
    "metadata": {}
}
],
            "execution_count": 19
        }
    ]
}