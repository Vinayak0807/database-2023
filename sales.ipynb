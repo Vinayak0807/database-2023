{
    "metadata": {
        "kernelspec": {
            "name": "SQL",
            "display_name": "SQL",
            "language": "sql"
        },
        "language_info": {
            "name": "sql",
            "version": ""
        }
    },
    "nbformat_minor": 2,
    "nbformat": 4,
    "cells": [
        {
            "cell_type": "code",
            "source": [
                "create Database Product_sales;"
            ],
            "metadata": {
                "language": "sql",
                "azdata_cell_guid": "bb57c61c-b5ab-475a-9ae3-2aa966d575f3"
            },
            "outputs": [
                {
                    "output_type": "display_data",
                    "data": {
                        "text/html": "Commands completed successfully"
                    },
                    "metadata": {}
                },
                {
                    "output_type": "display_data",
                    "data": {
                        "text/html": "Total execution time: 00:00:00.031"
                    },
                    "metadata": {}
                }
            ],
            "execution_count": 2
        },
        {
            "cell_type": "code",
            "source": [
                "use Product_sales;"
            ],
            "metadata": {
                "language": "sql",
                "azdata_cell_guid": "8ad64369-a699-4aba-a907-36ea3c3a5168"
            },
            "outputs": [
                {
                    "output_type": "display_data",
                    "data": {
                        "text/html": "Commands completed successfully"
                    },
                    "metadata": {}
                },
                {
                    "output_type": "display_data",
                    "data": {
                        "text/html": "Total execution time: 00:00:00.008"
                    },
                    "metadata": {}
                }
            ],
            "execution_count": 3
        },
        {
            "cell_type": "code",
            "source": [
                "CREATE TABLE Sales (\r\n",
                "    ProductID INT,\r\n",
                "    ProductName VARCHAR(50),\r\n",
                "    SellingPrice DECIMAL(10, 2)\r\n",
                ");\r\n",
                ""
            ],
            "metadata": {
                "azdata_cell_guid": "ec481eb2-e741-47c4-8eee-36594c8fd18a",
                "language": "sql"
            },
            "outputs": [
                {
                    "output_type": "display_data",
                    "data": {
                        "text/html": "Total execution time: 00:00:00.008"
                    },
                    "metadata": {}
                },
                {
                    "output_type": "error",
                    "evalue": "1050 (42S01): Table 'sales' already exists",
                    "ename": "",
                    "traceback": []
                }
            ],
            "execution_count": 5
        },
        {
            "cell_type": "code",
            "source": [
                "\r\n",
                "INSERT INTO Sales (ProductID, ProductName, SellingPrice)\r\n",
                "VALUES (1, 'Product A', 100),\r\n",
                "       (2, 'Product B', 150),\r\n",
                "       (1, 'Product A', 120),\r\n",
                "       (3, 'Product C', 200),\r\n",
                "       (2, 'Product B', 180),\r\n",
                "       (1, 'Product A', 90);"
            ],
            "metadata": {
                "language": "sql",
                "azdata_cell_guid": "97928081-2429-4f3a-b370-1c7f4617a432"
            },
            "outputs": [
                {
                    "output_type": "display_data",
                    "data": {
                        "text/html": "Commands completed successfully"
                    },
                    "metadata": {}
                },
                {
                    "output_type": "display_data",
                    "data": {
                        "text/html": "Total execution time: 00:00:00"
                    },
                    "metadata": {}
                }
            ],
            "execution_count": 9
        },
        {
            "cell_type": "code",
            "source": [
                "select * from sales;"
            ],
            "metadata": {
                "language": "sql",
                "azdata_cell_guid": "4077ace2-2f78-44cd-b73b-accb265e65aa"
            },
            "outputs": [
                {
                    "output_type": "display_data",
                    "data": {
                        "text/html": "(6 row(s) affected)"
                    },
                    "metadata": {}
                },
                {
                    "output_type": "display_data",
                    "data": {
                        "text/html": "Total execution time: 00:00:01.012"
                    },
                    "metadata": {}
                },
                {
                    "output_type": "execute_result",
                    "metadata": {},
                    "execution_count": 10,
                    "data": {
                        "application/vnd.dataresource+json": {
                            "schema": {
                                "fields": [
                                    {
                                        "name": "ProductID"
                                    },
                                    {
                                        "name": "ProductName"
                                    },
                                    {
                                        "name": "SellingPrice"
                                    }
                                ]
                            },
                            "data": [
                                {
                                    "ProductID": "1",
                                    "ProductName": "Product A",
                                    "SellingPrice": "100.00"
                                },
                                {
                                    "ProductID": "2",
                                    "ProductName": "Product B",
                                    "SellingPrice": "150.00"
                                },
                                {
                                    "ProductID": "1",
                                    "ProductName": "Product A",
                                    "SellingPrice": "120.00"
                                },
                                {
                                    "ProductID": "3",
                                    "ProductName": "Product C",
                                    "SellingPrice": "200.00"
                                },
                                {
                                    "ProductID": "2",
                                    "ProductName": "Product B",
                                    "SellingPrice": "180.00"
                                },
                                {
                                    "ProductID": "1",
                                    "ProductName": "Product A",
                                    "SellingPrice": "90.00"
                                }
                            ]
                        },
                        "text/html": [
                            "<table>",
                            "<tr><th>ProductID</th><th>ProductName</th><th>SellingPrice</th></tr>",
                            "<tr><td>1</td><td>Product A</td><td>100.00</td></tr>",
                            "<tr><td>2</td><td>Product B</td><td>150.00</td></tr>",
                            "<tr><td>1</td><td>Product A</td><td>120.00</td></tr>",
                            "<tr><td>3</td><td>Product C</td><td>200.00</td></tr>",
                            "<tr><td>2</td><td>Product B</td><td>180.00</td></tr>",
                            "<tr><td>1</td><td>Product A</td><td>90.00</td></tr>",
                            "</table>"
                        ]
                    }
                }
            ],
            "execution_count": 10
        },
        {
            "cell_type": "code",
            "source": [
                ""
            ],
            "metadata": {
                "language": "sql",
                "azdata_cell_guid": "ab02afb8-8fdf-4d65-8555-1ac357c269ba"
            },
            "outputs": [],
            "execution_count": null
        }
    ]
}