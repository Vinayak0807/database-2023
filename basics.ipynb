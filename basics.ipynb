{
    "metadata": {
        "kernelspec": {
            "name": "SQL",
            "display_name": "SQL",
            "language": "sql"
        },
        "language_info": {
            "name": "sql",
            "version": ""
        }
    },
    "nbformat_minor": 2,
    "nbformat": 4,
    "cells": [
        {
            "cell_type": "code",
            "source": [
                "select database();"
            ],
            "metadata": {
                "azdata_cell_guid": "911892c3-4937-4713-976e-ed474f02fbcb",
                "language": "sql"
            },
            "outputs": [
                {
                    "output_type": "display_data",
                    "data": {
                        "text/html": "(1 row(s) affected)"
                    },
                    "metadata": {}
                },
                {
                    "output_type": "display_data",
                    "data": {
                        "text/html": "Total execution time: 00:00:01.021"
                    },
                    "metadata": {}
                },
                {
                    "output_type": "execute_result",
                    "metadata": {},
                    "execution_count": 4,
                    "data": {
                        "application/vnd.dataresource+json": {
                            "schema": {
                                "fields": [
                                    {
                                        "name": "database()"
                                    }
                                ]
                            },
                            "data": [
                                {
                                    "database()": "NULL"
                                }
                            ]
                        },
                        "text/html": [
                            "<table>",
                            "<tr><th>database()</th></tr>",
                            "<tr><td>NULL</td></tr>",
                            "</table>"
                        ]
                    }
                }
            ],
            "execution_count": 4
        },
        {
            "cell_type": "code",
            "source": [
                "USE sakila; -- database change"
            ],
            "metadata": {
                "language": "sql",
                "azdata_cell_guid": "d4af7a6e-1998-4fb7-923e-1c598838369d"
            },
            "outputs": [
                {
                    "output_type": "display_data",
                    "data": {
                        "text/html": "Commands completed successfully"
                    },
                    "metadata": {}
                },
                {
                    "output_type": "display_data",
                    "data": {
                        "text/html": "Total execution time: 00:00:00.007"
                    },
                    "metadata": {}
                }
            ],
            "execution_count": 5
        },
        {
            "cell_type": "code",
            "source": [
                "show databases;"
            ],
            "metadata": {
                "language": "sql",
                "azdata_cell_guid": "7247d6d0-e446-4d1d-9cd8-6bad901b708c"
            },
            "outputs": [
                {
                    "output_type": "display_data",
                    "data": {
                        "text/html": "(6 row(s) affected)"
                    },
                    "metadata": {}
                },
                {
                    "output_type": "display_data",
                    "data": {
                        "text/html": "Total execution time: 00:00:01.013"
                    },
                    "metadata": {}
                },
                {
                    "output_type": "execute_result",
                    "metadata": {},
                    "execution_count": 7,
                    "data": {
                        "application/vnd.dataresource+json": {
                            "schema": {
                                "fields": [
                                    {
                                        "name": "Database"
                                    }
                                ]
                            },
                            "data": [
                                {
                                    "Database": "information_schema"
                                },
                                {
                                    "Database": "mysql"
                                },
                                {
                                    "Database": "performance_schema"
                                },
                                {
                                    "Database": "sakila"
                                },
                                {
                                    "Database": "sys"
                                },
                                {
                                    "Database": "world"
                                }
                            ]
                        },
                        "text/html": [
                            "<table>",
                            "<tr><th>Database</th></tr>",
                            "<tr><td>information_schema</td></tr>",
                            "<tr><td>mysql</td></tr>",
                            "<tr><td>performance_schema</td></tr>",
                            "<tr><td>sakila</td></tr>",
                            "<tr><td>sys</td></tr>",
                            "<tr><td>world</td></tr>",
                            "</table>"
                        ]
                    }
                }
            ],
            "execution_count": 7
        },
        {
            "cell_type": "code",
            "source": [
                "create database school;\r\n",
                "show databases;"
            ],
            "metadata": {
                "language": "sql",
                "azdata_cell_guid": "00bc8ec1-db73-4150-86a8-6caf7da2ca88"
            },
            "outputs": [
                {
                    "output_type": "display_data",
                    "data": {
                        "text/html": "Commands completed successfully"
                    },
                    "metadata": {}
                },
                {
                    "output_type": "display_data",
                    "data": {
                        "text/html": "(7 row(s) affected)"
                    },
                    "metadata": {}
                },
                {
                    "output_type": "display_data",
                    "data": {
                        "text/html": "Total execution time: 00:00:01.046"
                    },
                    "metadata": {}
                },
                {
                    "output_type": "execute_result",
                    "metadata": {},
                    "execution_count": 8,
                    "data": {
                        "application/vnd.dataresource+json": {
                            "schema": {
                                "fields": [
                                    {
                                        "name": "Database"
                                    }
                                ]
                            },
                            "data": [
                                {
                                    "Database": "information_schema"
                                },
                                {
                                    "Database": "mysql"
                                },
                                {
                                    "Database": "performance_schema"
                                },
                                {
                                    "Database": "sakila"
                                },
                                {
                                    "Database": "school"
                                },
                                {
                                    "Database": "sys"
                                },
                                {
                                    "Database": "world"
                                }
                            ]
                        },
                        "text/html": [
                            "<table>",
                            "<tr><th>Database</th></tr>",
                            "<tr><td>information_schema</td></tr>",
                            "<tr><td>mysql</td></tr>",
                            "<tr><td>performance_schema</td></tr>",
                            "<tr><td>sakila</td></tr>",
                            "<tr><td>school</td></tr>",
                            "<tr><td>sys</td></tr>",
                            "<tr><td>world</td></tr>",
                            "</table>"
                        ]
                    }
                }
            ],
            "execution_count": 8
        },
        {
            "cell_type": "code",
            "source": [
                "use school;"
            ],
            "metadata": {
                "language": "sql",
                "azdata_cell_guid": "7b279723-9b69-43fd-91f9-ec23035b83cc"
            },
            "outputs": [
                {
                    "output_type": "display_data",
                    "data": {
                        "text/html": "Commands completed successfully"
                    },
                    "metadata": {}
                },
                {
                    "output_type": "display_data",
                    "data": {
                        "text/html": "Total execution time: 00:00:00.008"
                    },
                    "metadata": {}
                }
            ],
            "execution_count": 9
        },
        {
            "cell_type": "code",
            "source": [
                "create table tasks(\r\n",
                "    task_id int auto_increment primary key,\r\n",
                "    title varchar(200) not null,\r\n",
                "    start_date Date,\r\n",
                "    created_at timestamp default current_timestamp\r\n",
                ");"
            ],
            "metadata": {
                "language": "sql",
                "azdata_cell_guid": "ddc2d373-f662-4939-927c-f0be8932049b"
            },
            "outputs": [
                {
                    "output_type": "display_data",
                    "data": {
                        "text/html": "Total execution time: 00:00:00.008"
                    },
                    "metadata": {}
                },
                {
                    "output_type": "error",
                    "evalue": "1050 (42S01): Table 'tasks' already exists",
                    "ename": "",
                    "traceback": []
                }
            ],
            "execution_count": 12
        },
        {
            "cell_type": "code",
            "source": [
                "show tables;"
            ],
            "metadata": {
                "language": "sql",
                "azdata_cell_guid": "43a1859c-84f5-4742-ac83-09d317302867"
            },
            "outputs": [
                {
                    "output_type": "display_data",
                    "data": {
                        "text/html": "(1 row(s) affected)"
                    },
                    "metadata": {}
                },
                {
                    "output_type": "display_data",
                    "data": {
                        "text/html": "Total execution time: 00:00:01.055"
                    },
                    "metadata": {}
                },
                {
                    "output_type": "execute_result",
                    "metadata": {},
                    "execution_count": 13,
                    "data": {
                        "application/vnd.dataresource+json": {
                            "schema": {
                                "fields": [
                                    {
                                        "name": "Tables_in_school"
                                    }
                                ]
                            },
                            "data": [
                                {
                                    "Tables_in_school": "tasks"
                                }
                            ]
                        },
                        "text/html": [
                            "<table>",
                            "<tr><th>Tables_in_school</th></tr>",
                            "<tr><td>tasks</td></tr>",
                            "</table>"
                        ]
                    }
                }
            ],
            "execution_count": 13
        },
        {
            "cell_type": "code",
            "source": [
                "describe tasks"
            ],
            "metadata": {
                "language": "sql",
                "azdata_cell_guid": "09b3827b-365b-4210-bc0a-2551ddfe8e64"
            },
            "outputs": [
                {
                    "output_type": "display_data",
                    "data": {
                        "text/html": "(4 row(s) affected)"
                    },
                    "metadata": {}
                },
                {
                    "output_type": "display_data",
                    "data": {
                        "text/html": "Total execution time: 00:00:01.026"
                    },
                    "metadata": {}
                },
                {
                    "output_type": "execute_result",
                    "metadata": {},
                    "execution_count": 14,
                    "data": {
                        "application/vnd.dataresource+json": {
                            "schema": {
                                "fields": [
                                    {
                                        "name": "Field"
                                    },
                                    {
                                        "name": "Type"
                                    },
                                    {
                                        "name": "Null"
                                    },
                                    {
                                        "name": "Key"
                                    },
                                    {
                                        "name": "Default"
                                    },
                                    {
                                        "name": "Extra"
                                    }
                                ]
                            },
                            "data": [
                                {
                                    "Field": "task_id",
                                    "Type": "b'int'",
                                    "Null": "NO",
                                    "Key": "PRI",
                                    "Default": "NULL",
                                    "Extra": "auto_increment"
                                },
                                {
                                    "Field": "title",
                                    "Type": "b'varchar(200)'",
                                    "Null": "NO",
                                    "Key": "",
                                    "Default": "NULL",
                                    "Extra": ""
                                },
                                {
                                    "Field": "start_date",
                                    "Type": "b'date'",
                                    "Null": "YES",
                                    "Key": "",
                                    "Default": "NULL",
                                    "Extra": ""
                                },
                                {
                                    "Field": "created_at",
                                    "Type": "b'timestamp'",
                                    "Null": "YES",
                                    "Key": "",
                                    "Default": "b'CURRENT_TIMESTAMP'",
                                    "Extra": "DEFAULT_GENERATED"
                                }
                            ]
                        },
                        "text/html": [
                            "<table>",
                            "<tr><th>Field</th><th>Type</th><th>Null</th><th>Key</th><th>Default</th><th>Extra</th></tr>",
                            "<tr><td>task_id</td><td>b&#39;int&#39;</td><td>NO</td><td>PRI</td><td>NULL</td><td>auto_increment</td></tr>",
                            "<tr><td>title</td><td>b&#39;varchar(200)&#39;</td><td>NO</td><td></td><td>NULL</td><td></td></tr>",
                            "<tr><td>start_date</td><td>b&#39;date&#39;</td><td>YES</td><td></td><td>NULL</td><td></td></tr>",
                            "<tr><td>created_at</td><td>b&#39;timestamp&#39;</td><td>YES</td><td></td><td>b&#39;CURRENT_TIMESTAMP&#39;</td><td>DEFAULT_GENERATED</td></tr>",
                            "</table>"
                        ]
                    }
                }
            ],
            "execution_count": 14
        },
        {
            "cell_type": "code",
            "source": [
                "create table if not exists checklists (\r\n",
                "    todo_id int auto_increment,\r\n",
                "    task_id int,\r\n",
                "    todo varchar(200) not null,\r\n",
                "    is_comleted boolean not null default false,\r\n",
                "    primary key (todo_id, task_id),\r\n",
                "    foreign key(task_id)\r\n",
                "        REFERENCES tasks(task_id)\r\n",
                "        on update RESTRICT on delete CASCADE\r\n",
                ");"
            ],
            "metadata": {
                "language": "sql",
                "azdata_cell_guid": "de6a5454-9e53-44d8-85c1-3401f4685874"
            },
            "outputs": [
                {
                    "output_type": "display_data",
                    "data": {
                        "text/html": "Commands completed successfully"
                    },
                    "metadata": {}
                },
                {
                    "output_type": "display_data",
                    "data": {
                        "text/html": "Total execution time: 00:00:00.023"
                    },
                    "metadata": {}
                }
            ],
            "execution_count": 15
        },
        {
            "cell_type": "code",
            "source": [
                "show tables;"
            ],
            "metadata": {
                "language": "sql",
                "azdata_cell_guid": "38757e8e-6cd9-4003-9c63-54f69896366b"
            },
            "outputs": [
                {
                    "output_type": "display_data",
                    "data": {
                        "text/html": "(2 row(s) affected)"
                    },
                    "metadata": {}
                },
                {
                    "output_type": "display_data",
                    "data": {
                        "text/html": "Total execution time: 00:00:01.013"
                    },
                    "metadata": {}
                },
                {
                    "output_type": "execute_result",
                    "metadata": {},
                    "execution_count": 16,
                    "data": {
                        "application/vnd.dataresource+json": {
                            "schema": {
                                "fields": [
                                    {
                                        "name": "Tables_in_school"
                                    }
                                ]
                            },
                            "data": [
                                {
                                    "Tables_in_school": "checklists"
                                },
                                {
                                    "Tables_in_school": "tasks"
                                }
                            ]
                        },
                        "text/html": [
                            "<table>",
                            "<tr><th>Tables_in_school</th></tr>",
                            "<tr><td>checklists</td></tr>",
                            "<tr><td>tasks</td></tr>",
                            "</table>"
                        ]
                    }
                }
            ],
            "execution_count": 16
        },
        {
            "cell_type": "code",
            "source": [
                "describe checklists;"
            ],
            "metadata": {
                "language": "sql",
                "azdata_cell_guid": "be63c35e-0295-4a93-8840-f573b577ffaf"
            },
            "outputs": [
{
    "output_type": "display_data",
    "data": {
        "text/html": "(4 row(s) affected)"
    },
    "metadata": {}
}, {
    "output_type": "display_data",
    "data": {
        "text/html": "Total execution time: 00:00:01.022"
    },
    "metadata": {}
}, {
    "output_type": "execute_result",
    "metadata": {},
    "execution_count": 18,
    "data": {
        "application/vnd.dataresource+json": {
            "schema": {
                "fields": [
                    {
                        "name": "Field"
                    },
                    {
                        "name": "Type"
                    },
                    {
                        "name": "Null"
                    },
                    {
                        "name": "Key"
                    },
                    {
                        "name": "Default"
                    },
                    {
                        "name": "Extra"
                    }
                ]
            },
            "data": [
                {
                    "Field": "todo_id",
                    "Type": "b'int'",
                    "Null": "NO",
                    "Key": "PRI",
                    "Default": "NULL",
                    "Extra": "auto_increment"
                },
                {
                    "Field": "task_id",
                    "Type": "b'int'",
                    "Null": "NO",
                    "Key": "PRI",
                    "Default": "NULL",
                    "Extra": ""
                },
                {
                    "Field": "todo",
                    "Type": "b'varchar(200)'",
                    "Null": "NO",
                    "Key": "",
                    "Default": "NULL",
                    "Extra": ""
                },
                {
                    "Field": "is_comleted",
                    "Type": "b'tinyint(1)'",
                    "Null": "NO",
                    "Key": "",
                    "Default": "b'0'",
                    "Extra": ""
                }
            ]
        },
        "text/html": [
            "<table>",
            "<tr><th>Field</th><th>Type</th><th>Null</th><th>Key</th><th>Default</th><th>Extra</th></tr>",
            "<tr><td>todo_id</td><td>b&#39;int&#39;</td><td>NO</td><td>PRI</td><td>NULL</td><td>auto_increment</td></tr>",
            "<tr><td>task_id</td><td>b&#39;int&#39;</td><td>NO</td><td>PRI</td><td>NULL</td><td></td></tr>",
            "<tr><td>todo</td><td>b&#39;varchar(200)&#39;</td><td>NO</td><td></td><td>NULL</td><td></td></tr>",
            "<tr><td>is_comleted</td><td>b&#39;tinyint(1)&#39;</td><td>NO</td><td></td><td>b&#39;0&#39;</td><td></td></tr>",
            "</table>"
        ]
    }
}
],
            "execution_count": 18
        }
    ]
}