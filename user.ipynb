{
    "metadata": {
        "kernelspec": {
            "name": "SQL",
            "display_name": "SQL",
            "language": "sql"
        },
        "language_info": {
            "name": "sql",
            "version": ""
        }
    },
    "nbformat_minor": 2,
    "nbformat": 4,
    "cells": [
        {
            "cell_type": "code",
            "source": [
                "create DATABASE userdata;"
            ],
            "metadata": {
                "azdata_cell_guid": "cbb638e0-e6f1-4f6a-88de-9f4d9ad55e97",
                "language": "sql"
            },
            "outputs": [
                {
                    "output_type": "display_data",
                    "data": {
                        "text/html": "Commands completed successfully"
                    },
                    "metadata": {}
                },
                {
                    "output_type": "display_data",
                    "data": {
                        "text/html": "Total execution time: 00:00:00.040"
                    },
                    "metadata": {}
                }
            ],
            "execution_count": 1
        },
        {
            "cell_type": "code",
            "source": [
                "use userdata"
            ],
            "metadata": {
                "language": "sql",
                "azdata_cell_guid": "927c4438-d0a7-47fe-98bd-98d343dc2bc4"
            },
            "outputs": [
                {
                    "output_type": "display_data",
                    "data": {
                        "text/html": "Commands completed successfully"
                    },
                    "metadata": {}
                },
                {
                    "output_type": "display_data",
                    "data": {
                        "text/html": "Total execution time: 00:00:00"
                    },
                    "metadata": {}
                }
            ],
            "execution_count": 3
        },
        {
            "cell_type": "code",
            "source": [
                "CREATE TABLE `users` (\r\n",
                "  `auid` int(10) UNSIGNED NOT NULL,\r\n",
                "  `username` varchar(100) NOT NULL,\r\n",
                "  `password` varchar(150) NOT NULL,\r\n",
                "  `createdate` datetime NOT NULL,\r\n",
                "  `isActive` tinyint(1) NOT NULL\r\n",
                ");"
            ],
            "metadata": {
                "language": "sql",
                "azdata_cell_guid": "1c7d2fd3-429c-4a77-92d0-c9f2fb11f276"
            },
            "outputs": [
                {
                    "output_type": "display_data",
                    "data": {
                        "text/html": "Commands completed successfully"
                    },
                    "metadata": {}
                },
                {
                    "output_type": "display_data",
                    "data": {
                        "text/html": "Total execution time: 00:00:00.032"
                    },
                    "metadata": {}
                }
            ],
            "execution_count": 6
        },
        {
            "cell_type": "code",
            "source": [
                "CREATE TABLE `userprofile` (\r\n",
                "  `apid` int(10) UNSIGNED NOT NULL,\r\n",
                "  `auid` int(10) UNSIGNED NOT NULL,\r\n",
                "  `firstname` varchar(50) NOT NULL,\r\n",
                "  `lastname` varchar(50) NOT NULL,\r\n",
                "  `email` varchar(100) NOT NULL,\r\n",
                "  `phone` varchar(45) NOT NULL\r\n",
                ");"
            ],
            "metadata": {
                "language": "sql",
                "azdata_cell_guid": "ff4d5618-51e0-4618-a489-f9b008d8304b"
            },
            "outputs": [
                {
                    "output_type": "display_data",
                    "data": {
                        "text/html": "Total execution time: 00:00:00"
                    },
                    "metadata": {}
                },
                {
                    "output_type": "error",
                    "evalue": "1050 (42S01): Table 'userprofile' already exists",
                    "ename": "",
                    "traceback": []
                }
            ],
            "execution_count": 8
        },
        {
            "cell_type": "code",
            "source": [
                "Insert into users\r\n",
                "(auid, username,password, createdate, isActive)\r\n",
                "values\r\n",
                "(1,'admin','pswrd123', curdate(), 1);\r\n",
                "Insert into userprofile\r\n",
                "(apid, auid, firstname, lastname, email, phone)\r\n",
                "values\r\n",
                "(1,1,'Jack', 'Wolf', 'bettestroom@gmail.com','600075764216');\r\n",
                "Insert into users\r\n",
                "(auid,username,password, createdate, isActive)\r\n",
                "values\r\n",
                "(2, 'admin1','pass506', curdate(), 1);\r\n",
                "Insert into userprofile\r\n",
                "(apid, auid, firstname, lastname, email, phone)\r\n",
                "values\r\n",
                "(2, 3, 'Tom', 'Collins', 'tnkc@outlook.com','878511311054');\r\n",
                "Insert into users\r\n",
                "(auid, username,password, createdate, isActive)\r\n",
                "values\r\n",
                "(4,'fox12','45@jgo0', curdate(), 1);\r\n",
                "Insert into userprofile\r\n",
                "(apid, auid, firstname, lastname, email, phone)\r\n",
                "values\r\n",
                "(4,5,'Bill', 'Fonskin', 'bill_1290@gmail.com','450985764216');\r\n",
                "Insert into users\r\n",
                "(auid,username,password, createdate, isActive)\r\n",
                "values\r\n",
                "(6, 'lexus1267','98hnfRT6', curdate(), 1);\r\n",
                "Insert into userprofile\r\n",
                "(apid, auid, firstname, lastname, email, phone)\r\n",
                "values\r\n",
                "(7, 7, 'Ivan', 'Levchenko', 'ivan_new@outlook.com','878511311054');"
            ],
            "metadata": {
                "language": "sql",
                "azdata_cell_guid": "9d49d559-0893-404a-a40a-0ceb689e8cb5"
            },
            "outputs": [
                {
                    "output_type": "display_data",
                    "data": {
                        "text/html": "Commands completed successfully"
                    },
                    "metadata": {}
                },
                {
                    "output_type": "display_data",
                    "data": {
                        "text/html": "Commands completed successfully"
                    },
                    "metadata": {}
                },
                {
                    "output_type": "display_data",
                    "data": {
                        "text/html": "Commands completed successfully"
                    },
                    "metadata": {}
                },
                {
                    "output_type": "display_data",
                    "data": {
                        "text/html": "Commands completed successfully"
                    },
                    "metadata": {}
                },
                {
                    "output_type": "display_data",
                    "data": {
                        "text/html": "Commands completed successfully"
                    },
                    "metadata": {}
                },
                {
                    "output_type": "display_data",
                    "data": {
                        "text/html": "Commands completed successfully"
                    },
                    "metadata": {}
                },
                {
                    "output_type": "display_data",
                    "data": {
                        "text/html": "Commands completed successfully"
                    },
                    "metadata": {}
                },
                {
                    "output_type": "display_data",
                    "data": {
                        "text/html": "Commands completed successfully"
                    },
                    "metadata": {}
                },
                {
                    "output_type": "display_data",
                    "data": {
                        "text/html": "Total execution time: 00:00:00.035"
                    },
                    "metadata": {}
                }
            ],
            "execution_count": 9
        },
        {
            "cell_type": "code",
            "source": [
                "select* from users"
            ],
            "metadata": {
                "azdata_cell_guid": "61f2b058-75c4-47f4-aa4c-5cadf7666eef",
                "language": "sql"
            },
            "outputs": [
                {
                    "output_type": "display_data",
                    "data": {
                        "text/html": "(8 row(s) affected)"
                    },
                    "metadata": {}
                },
                {
                    "output_type": "display_data",
                    "data": {
                        "text/html": "Total execution time: 00:00:01.023"
                    },
                    "metadata": {}
                },
                {
                    "output_type": "execute_result",
                    "metadata": {},
                    "execution_count": 10,
                    "data": {
                        "application/vnd.dataresource+json": {
                            "schema": {
                                "fields": [
                                    {
                                        "name": "auid"
                                    },
                                    {
                                        "name": "username"
                                    },
                                    {
                                        "name": "password"
                                    },
                                    {
                                        "name": "createdate"
                                    },
                                    {
                                        "name": "isActive"
                                    }
                                ]
                            },
                            "data": [
                                {
                                    "auid": "1",
                                    "username": "admin",
                                    "password": "pswrd123",
                                    "createdate": "2023-10-26 00:00:00",
                                    "isActive": "1"
                                },
                                {
                                    "auid": "2",
                                    "username": "admin1",
                                    "password": "pass506",
                                    "createdate": "2023-10-26 00:00:00",
                                    "isActive": "1"
                                },
                                {
                                    "auid": "4",
                                    "username": "fox12",
                                    "password": "45@jgo0",
                                    "createdate": "2023-10-26 00:00:00",
                                    "isActive": "1"
                                },
                                {
                                    "auid": "6",
                                    "username": "lexus1267",
                                    "password": "98hnfRT6",
                                    "createdate": "2023-10-26 00:00:00",
                                    "isActive": "1"
                                },
                                {
                                    "auid": "1",
                                    "username": "admin",
                                    "password": "pswrd123",
                                    "createdate": "2023-10-26 00:00:00",
                                    "isActive": "1"
                                },
                                {
                                    "auid": "2",
                                    "username": "admin1",
                                    "password": "pass506",
                                    "createdate": "2023-10-26 00:00:00",
                                    "isActive": "1"
                                },
                                {
                                    "auid": "4",
                                    "username": "fox12",
                                    "password": "45@jgo0",
                                    "createdate": "2023-10-26 00:00:00",
                                    "isActive": "1"
                                },
                                {
                                    "auid": "6",
                                    "username": "lexus1267",
                                    "password": "98hnfRT6",
                                    "createdate": "2023-10-26 00:00:00",
                                    "isActive": "1"
                                }
                            ]
                        },
                        "text/html": [
                            "<table>",
                            "<tr><th>auid</th><th>username</th><th>password</th><th>createdate</th><th>isActive</th></tr>",
                            "<tr><td>1</td><td>admin</td><td>pswrd123</td><td>2023-10-26 00:00:00</td><td>1</td></tr>",
                            "<tr><td>2</td><td>admin1</td><td>pass506</td><td>2023-10-26 00:00:00</td><td>1</td></tr>",
                            "<tr><td>4</td><td>fox12</td><td>45@jgo0</td><td>2023-10-26 00:00:00</td><td>1</td></tr>",
                            "<tr><td>6</td><td>lexus1267</td><td>98hnfRT6</td><td>2023-10-26 00:00:00</td><td>1</td></tr>",
                            "<tr><td>1</td><td>admin</td><td>pswrd123</td><td>2023-10-26 00:00:00</td><td>1</td></tr>",
                            "<tr><td>2</td><td>admin1</td><td>pass506</td><td>2023-10-26 00:00:00</td><td>1</td></tr>",
                            "<tr><td>4</td><td>fox12</td><td>45@jgo0</td><td>2023-10-26 00:00:00</td><td>1</td></tr>",
                            "<tr><td>6</td><td>lexus1267</td><td>98hnfRT6</td><td>2023-10-26 00:00:00</td><td>1</td></tr>",
                            "</table>"
                        ]
                    }
                }
            ],
            "execution_count": 10
        },
        {
            "cell_type": "code",
            "source": [
                "select * from userprofile"
            ],
            "metadata": {
                "language": "sql",
                "azdata_cell_guid": "17730d09-a557-4a18-9113-f5aa0a7e0bdd"
            },
            "outputs": [
                {
                    "output_type": "display_data",
                    "data": {
                        "text/html": "(8 row(s) affected)"
                    },
                    "metadata": {}
                },
                {
                    "output_type": "display_data",
                    "data": {
                        "text/html": "Total execution time: 00:00:01.023"
                    },
                    "metadata": {}
                },
                {
                    "output_type": "execute_result",
                    "metadata": {},
                    "execution_count": 11,
                    "data": {
                        "application/vnd.dataresource+json": {
                            "schema": {
                                "fields": [
                                    {
                                        "name": "apid"
                                    },
                                    {
                                        "name": "auid"
                                    },
                                    {
                                        "name": "firstname"
                                    },
                                    {
                                        "name": "lastname"
                                    },
                                    {
                                        "name": "email"
                                    },
                                    {
                                        "name": "phone"
                                    }
                                ]
                            },
                            "data": [
                                {
                                    "apid": "1",
                                    "auid": "1",
                                    "firstname": "Jack",
                                    "lastname": "Wolf",
                                    "email": "bettestroom@gmail.com",
                                    "phone": "600075764216"
                                },
                                {
                                    "apid": "2",
                                    "auid": "3",
                                    "firstname": "Tom",
                                    "lastname": "Collins",
                                    "email": "tnkc@outlook.com",
                                    "phone": "878511311054"
                                },
                                {
                                    "apid": "4",
                                    "auid": "5",
                                    "firstname": "Bill",
                                    "lastname": "Fonskin",
                                    "email": "bill_1290@gmail.com",
                                    "phone": "450985764216"
                                },
                                {
                                    "apid": "7",
                                    "auid": "7",
                                    "firstname": "Ivan",
                                    "lastname": "Levchenko",
                                    "email": "ivan_new@outlook.com",
                                    "phone": "878511311054"
                                },
                                {
                                    "apid": "1",
                                    "auid": "1",
                                    "firstname": "Jack",
                                    "lastname": "Wolf",
                                    "email": "bettestroom@gmail.com",
                                    "phone": "600075764216"
                                },
                                {
                                    "apid": "2",
                                    "auid": "3",
                                    "firstname": "Tom",
                                    "lastname": "Collins",
                                    "email": "tnkc@outlook.com",
                                    "phone": "878511311054"
                                },
                                {
                                    "apid": "4",
                                    "auid": "5",
                                    "firstname": "Bill",
                                    "lastname": "Fonskin",
                                    "email": "bill_1290@gmail.com",
                                    "phone": "450985764216"
                                },
                                {
                                    "apid": "7",
                                    "auid": "7",
                                    "firstname": "Ivan",
                                    "lastname": "Levchenko",
                                    "email": "ivan_new@outlook.com",
                                    "phone": "878511311054"
                                }
                            ]
                        },
                        "text/html": [
                            "<table>",
                            "<tr><th>apid</th><th>auid</th><th>firstname</th><th>lastname</th><th>email</th><th>phone</th></tr>",
                            "<tr><td>1</td><td>1</td><td>Jack</td><td>Wolf</td><td>bettestroom@gmail.com</td><td>600075764216</td></tr>",
                            "<tr><td>2</td><td>3</td><td>Tom</td><td>Collins</td><td>tnkc@outlook.com</td><td>878511311054</td></tr>",
                            "<tr><td>4</td><td>5</td><td>Bill</td><td>Fonskin</td><td>bill_1290@gmail.com</td><td>450985764216</td></tr>",
                            "<tr><td>7</td><td>7</td><td>Ivan</td><td>Levchenko</td><td>ivan_new@outlook.com</td><td>878511311054</td></tr>",
                            "<tr><td>1</td><td>1</td><td>Jack</td><td>Wolf</td><td>bettestroom@gmail.com</td><td>600075764216</td></tr>",
                            "<tr><td>2</td><td>3</td><td>Tom</td><td>Collins</td><td>tnkc@outlook.com</td><td>878511311054</td></tr>",
                            "<tr><td>4</td><td>5</td><td>Bill</td><td>Fonskin</td><td>bill_1290@gmail.com</td><td>450985764216</td></tr>",
                            "<tr><td>7</td><td>7</td><td>Ivan</td><td>Levchenko</td><td>ivan_new@outlook.com</td><td>878511311054</td></tr>",
                            "</table>"
                        ]
                    }
                }
            ],
            "execution_count": 11
        },
        {
            "cell_type": "code",
            "source": [
                "SELECT users.username, userprofile.auid\r\n",
                "FROM users\r\n",
                "CROSS JOIN userprofile;\r\n",
                ""
            ],
            "metadata": {
                "language": "sql",
                "azdata_cell_guid": "74add9a3-4228-49aa-a7b2-5ad61ba33b85"
            },
            "outputs": [
                {
                    "output_type": "display_data",
                    "data": {
                        "text/html": "(64 row(s) affected)"
                    },
                    "metadata": {}
                },
                {
                    "output_type": "display_data",
                    "data": {
                        "text/html": "Total execution time: 00:00:01.021"
                    },
                    "metadata": {}
                },
                {
                    "output_type": "execute_result",
                    "metadata": {},
                    "execution_count": 16,
                    "data": {
                        "application/vnd.dataresource+json": {
                            "schema": {
                                "fields": [
                                    {
                                        "name": "username"
                                    },
                                    {
                                        "name": "auid"
                                    }
                                ]
                            },
                            "data": [
                                {
                                    "username": "lexus1267",
                                    "auid": "1"
                                },
                                {
                                    "username": "fox12",
                                    "auid": "1"
                                },
                                {
                                    "username": "admin1",
                                    "auid": "1"
                                },
                                {
                                    "username": "admin",
                                    "auid": "1"
                                },
                                {
                                    "username": "lexus1267",
                                    "auid": "1"
                                },
                                {
                                    "username": "fox12",
                                    "auid": "1"
                                },
                                {
                                    "username": "admin1",
                                    "auid": "1"
                                },
                                {
                                    "username": "admin",
                                    "auid": "1"
                                },
                                {
                                    "username": "lexus1267",
                                    "auid": "3"
                                },
                                {
                                    "username": "fox12",
                                    "auid": "3"
                                },
                                {
                                    "username": "admin1",
                                    "auid": "3"
                                },
                                {
                                    "username": "admin",
                                    "auid": "3"
                                },
                                {
                                    "username": "lexus1267",
                                    "auid": "3"
                                },
                                {
                                    "username": "fox12",
                                    "auid": "3"
                                },
                                {
                                    "username": "admin1",
                                    "auid": "3"
                                },
                                {
                                    "username": "admin",
                                    "auid": "3"
                                },
                                {
                                    "username": "lexus1267",
                                    "auid": "5"
                                },
                                {
                                    "username": "fox12",
                                    "auid": "5"
                                },
                                {
                                    "username": "admin1",
                                    "auid": "5"
                                },
                                {
                                    "username": "admin",
                                    "auid": "5"
                                },
                                {
                                    "username": "lexus1267",
                                    "auid": "5"
                                },
                                {
                                    "username": "fox12",
                                    "auid": "5"
                                },
                                {
                                    "username": "admin1",
                                    "auid": "5"
                                },
                                {
                                    "username": "admin",
                                    "auid": "5"
                                },
                                {
                                    "username": "lexus1267",
                                    "auid": "7"
                                },
                                {
                                    "username": "fox12",
                                    "auid": "7"
                                },
                                {
                                    "username": "admin1",
                                    "auid": "7"
                                },
                                {
                                    "username": "admin",
                                    "auid": "7"
                                },
                                {
                                    "username": "lexus1267",
                                    "auid": "7"
                                },
                                {
                                    "username": "fox12",
                                    "auid": "7"
                                },
                                {
                                    "username": "admin1",
                                    "auid": "7"
                                },
                                {
                                    "username": "admin",
                                    "auid": "7"
                                },
                                {
                                    "username": "lexus1267",
                                    "auid": "1"
                                },
                                {
                                    "username": "fox12",
                                    "auid": "1"
                                },
                                {
                                    "username": "admin1",
                                    "auid": "1"
                                },
                                {
                                    "username": "admin",
                                    "auid": "1"
                                },
                                {
                                    "username": "lexus1267",
                                    "auid": "1"
                                },
                                {
                                    "username": "fox12",
                                    "auid": "1"
                                },
                                {
                                    "username": "admin1",
                                    "auid": "1"
                                },
                                {
                                    "username": "admin",
                                    "auid": "1"
                                },
                                {
                                    "username": "lexus1267",
                                    "auid": "3"
                                },
                                {
                                    "username": "fox12",
                                    "auid": "3"
                                },
                                {
                                    "username": "admin1",
                                    "auid": "3"
                                },
                                {
                                    "username": "admin",
                                    "auid": "3"
                                },
                                {
                                    "username": "lexus1267",
                                    "auid": "3"
                                },
                                {
                                    "username": "fox12",
                                    "auid": "3"
                                },
                                {
                                    "username": "admin1",
                                    "auid": "3"
                                },
                                {
                                    "username": "admin",
                                    "auid": "3"
                                },
                                {
                                    "username": "lexus1267",
                                    "auid": "5"
                                },
                                {
                                    "username": "fox12",
                                    "auid": "5"
                                },
                                {
                                    "username": "admin1",
                                    "auid": "5"
                                },
                                {
                                    "username": "admin",
                                    "auid": "5"
                                },
                                {
                                    "username": "lexus1267",
                                    "auid": "5"
                                },
                                {
                                    "username": "fox12",
                                    "auid": "5"
                                },
                                {
                                    "username": "admin1",
                                    "auid": "5"
                                },
                                {
                                    "username": "admin",
                                    "auid": "5"
                                },
                                {
                                    "username": "lexus1267",
                                    "auid": "7"
                                },
                                {
                                    "username": "fox12",
                                    "auid": "7"
                                },
                                {
                                    "username": "admin1",
                                    "auid": "7"
                                },
                                {
                                    "username": "admin",
                                    "auid": "7"
                                },
                                {
                                    "username": "lexus1267",
                                    "auid": "7"
                                },
                                {
                                    "username": "fox12",
                                    "auid": "7"
                                },
                                {
                                    "username": "admin1",
                                    "auid": "7"
                                },
                                {
                                    "username": "admin",
                                    "auid": "7"
                                }
                            ]
                        },
                        "text/html": [
                            "<table>",
                            "<tr><th>username</th><th>auid</th></tr>",
                            "<tr><td>lexus1267</td><td>1</td></tr>",
                            "<tr><td>fox12</td><td>1</td></tr>",
                            "<tr><td>admin1</td><td>1</td></tr>",
                            "<tr><td>admin</td><td>1</td></tr>",
                            "<tr><td>lexus1267</td><td>1</td></tr>",
                            "<tr><td>fox12</td><td>1</td></tr>",
                            "<tr><td>admin1</td><td>1</td></tr>",
                            "<tr><td>admin</td><td>1</td></tr>",
                            "<tr><td>lexus1267</td><td>3</td></tr>",
                            "<tr><td>fox12</td><td>3</td></tr>",
                            "<tr><td>admin1</td><td>3</td></tr>",
                            "<tr><td>admin</td><td>3</td></tr>",
                            "<tr><td>lexus1267</td><td>3</td></tr>",
                            "<tr><td>fox12</td><td>3</td></tr>",
                            "<tr><td>admin1</td><td>3</td></tr>",
                            "<tr><td>admin</td><td>3</td></tr>",
                            "<tr><td>lexus1267</td><td>5</td></tr>",
                            "<tr><td>fox12</td><td>5</td></tr>",
                            "<tr><td>admin1</td><td>5</td></tr>",
                            "<tr><td>admin</td><td>5</td></tr>",
                            "<tr><td>lexus1267</td><td>5</td></tr>",
                            "<tr><td>fox12</td><td>5</td></tr>",
                            "<tr><td>admin1</td><td>5</td></tr>",
                            "<tr><td>admin</td><td>5</td></tr>",
                            "<tr><td>lexus1267</td><td>7</td></tr>",
                            "<tr><td>fox12</td><td>7</td></tr>",
                            "<tr><td>admin1</td><td>7</td></tr>",
                            "<tr><td>admin</td><td>7</td></tr>",
                            "<tr><td>lexus1267</td><td>7</td></tr>",
                            "<tr><td>fox12</td><td>7</td></tr>",
                            "<tr><td>admin1</td><td>7</td></tr>",
                            "<tr><td>admin</td><td>7</td></tr>",
                            "<tr><td>lexus1267</td><td>1</td></tr>",
                            "<tr><td>fox12</td><td>1</td></tr>",
                            "<tr><td>admin1</td><td>1</td></tr>",
                            "<tr><td>admin</td><td>1</td></tr>",
                            "<tr><td>lexus1267</td><td>1</td></tr>",
                            "<tr><td>fox12</td><td>1</td></tr>",
                            "<tr><td>admin1</td><td>1</td></tr>",
                            "<tr><td>admin</td><td>1</td></tr>",
                            "<tr><td>lexus1267</td><td>3</td></tr>",
                            "<tr><td>fox12</td><td>3</td></tr>",
                            "<tr><td>admin1</td><td>3</td></tr>",
                            "<tr><td>admin</td><td>3</td></tr>",
                            "<tr><td>lexus1267</td><td>3</td></tr>",
                            "<tr><td>fox12</td><td>3</td></tr>",
                            "<tr><td>admin1</td><td>3</td></tr>",
                            "<tr><td>admin</td><td>3</td></tr>",
                            "<tr><td>lexus1267</td><td>5</td></tr>",
                            "<tr><td>fox12</td><td>5</td></tr>",
                            "<tr><td>admin1</td><td>5</td></tr>",
                            "<tr><td>admin</td><td>5</td></tr>",
                            "<tr><td>lexus1267</td><td>5</td></tr>",
                            "<tr><td>fox12</td><td>5</td></tr>",
                            "<tr><td>admin1</td><td>5</td></tr>",
                            "<tr><td>admin</td><td>5</td></tr>",
                            "<tr><td>lexus1267</td><td>7</td></tr>",
                            "<tr><td>fox12</td><td>7</td></tr>",
                            "<tr><td>admin1</td><td>7</td></tr>",
                            "<tr><td>admin</td><td>7</td></tr>",
                            "<tr><td>lexus1267</td><td>7</td></tr>",
                            "<tr><td>fox12</td><td>7</td></tr>",
                            "<tr><td>admin1</td><td>7</td></tr>",
                            "<tr><td>admin</td><td>7</td></tr>",
                            "</table>"
                        ]
                    }
                }
            ],
            "execution_count": 16
        },
        {
            "cell_type": "code",
            "source": [
                "select username\r\n",
                "from users\r\n",
                "inner join userprofile\r\n",
                "on users.username = userprofile.auid;"
            ],
            "metadata": {
                "language": "sql",
                "azdata_cell_guid": "7f95ea4e-7e43-4751-adb4-fdf4e668f6b1"
            },
            "outputs": [
{
    "output_type": "display_data",
    "data": {
        "text/html": "(0 row(s) affected)"
    },
    "metadata": {}
}, {
    "output_type": "display_data",
    "data": {
        "text/html": "Total execution time: 00:00:01.015"
    },
    "metadata": {}
}, {
    "output_type": "execute_result",
    "metadata": {},
    "execution_count": 21,
    "data": {
        "application/vnd.dataresource+json": {
            "schema": {
                "fields": [
                    {
                        "name": "username"
                    }
                ]
            },
            "data": []
        },
        "text/html": [
            "<table>",
            "<tr><th>username</th></tr>",
            "</table>"
        ]
    }
}
],
            "execution_count": 21
        }
    ]
}