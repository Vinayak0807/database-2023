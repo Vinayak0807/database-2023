{
    "metadata": {
        "kernelspec": {
            "name": "SQL",
            "display_name": "SQL",
            "language": "sql"
        },
        "language_info": {
            "name": "sql",
            "version": ""
        }
    },
    "nbformat_minor": 2,
    "nbformat": 4,
    "cells": [
        {
            "cell_type": "code",
            "source": [
                "use sakila;"
            ],
            "metadata": {
                "azdata_cell_guid": "c2a99ebc-7b08-42d7-be89-5f16a9010576",
                "language": "sql"
            },
            "outputs": [
                {
                    "output_type": "display_data",
                    "data": {
                        "text/html": "Commands completed successfully"
                    },
                    "metadata": {}
                },
                {
                    "output_type": "display_data",
                    "data": {
                        "text/html": "Total execution time: 00:00:00.007"
                    },
                    "metadata": {}
                }
            ],
            "execution_count": 1
        },
        {
            "cell_type": "code",
            "source": [
                "select * from customer limit 2;"
            ],
            "metadata": {
                "language": "sql",
                "azdata_cell_guid": "452689c7-b95b-4d4d-9fb6-82af4dfd0922"
            },
            "outputs": [
                {
                    "output_type": "display_data",
                    "data": {
                        "text/html": "(2 row(s) affected)"
                    },
                    "metadata": {}
                },
                {
                    "output_type": "display_data",
                    "data": {
                        "text/html": "Total execution time: 00:00:01.027"
                    },
                    "metadata": {}
                },
                {
                    "output_type": "execute_result",
                    "metadata": {},
                    "execution_count": 2,
                    "data": {
                        "application/vnd.dataresource+json": {
                            "schema": {
                                "fields": [
                                    {
                                        "name": "customer_id"
                                    },
                                    {
                                        "name": "store_id"
                                    },
                                    {
                                        "name": "first_name"
                                    },
                                    {
                                        "name": "last_name"
                                    },
                                    {
                                        "name": "email"
                                    },
                                    {
                                        "name": "address_id"
                                    },
                                    {
                                        "name": "active"
                                    },
                                    {
                                        "name": "create_date"
                                    },
                                    {
                                        "name": "last_update"
                                    }
                                ]
                            },
                            "data": [
                                {
                                    "customer_id": "1",
                                    "store_id": "1",
                                    "first_name": "MARY",
                                    "last_name": "SMITH",
                                    "email": "MARY.SMITH@sakilacustomer.org",
                                    "address_id": "5",
                                    "active": "1",
                                    "create_date": "2006-02-14 22:04:36",
                                    "last_update": "2006-02-15 04:57:20"
                                },
                                {
                                    "customer_id": "2",
                                    "store_id": "1",
                                    "first_name": "PATRICIA",
                                    "last_name": "JOHNSON",
                                    "email": "PATRICIA.JOHNSON@sakilacustomer.org",
                                    "address_id": "6",
                                    "active": "1",
                                    "create_date": "2006-02-14 22:04:36",
                                    "last_update": "2006-02-15 04:57:20"
                                }
                            ]
                        },
                        "text/html": [
                            "<table>",
                            "<tr><th>customer_id</th><th>store_id</th><th>first_name</th><th>last_name</th><th>email</th><th>address_id</th><th>active</th><th>create_date</th><th>last_update</th></tr>",
                            "<tr><td>1</td><td>1</td><td>MARY</td><td>SMITH</td><td>MARY.SMITH@sakilacustomer.org</td><td>5</td><td>1</td><td>2006-02-14 22:04:36</td><td>2006-02-15 04:57:20</td></tr>",
                            "<tr><td>2</td><td>1</td><td>PATRICIA</td><td>JOHNSON</td><td>PATRICIA.JOHNSON@sakilacustomer.org</td><td>6</td><td>1</td><td>2006-02-14 22:04:36</td><td>2006-02-15 04:57:20</td></tr>",
                            "</table>"
                        ]
                    }
                }
            ],
            "execution_count": 2
        },
        {
            "cell_type": "code",
            "source": [
                "select active,count(customer_id) from customer group by active;"
            ],
            "metadata": {
                "language": "sql",
                "azdata_cell_guid": "1761e8c1-526c-4c79-b919-4ec1561b8394"
            },
            "outputs": [
                {
                    "output_type": "display_data",
                    "data": {
                        "text/html": "(2 row(s) affected)"
                    },
                    "metadata": {}
                },
                {
                    "output_type": "display_data",
                    "data": {
                        "text/html": "Total execution time: 00:00:01.017"
                    },
                    "metadata": {}
                },
                {
                    "output_type": "execute_result",
                    "metadata": {},
                    "execution_count": 3,
                    "data": {
                        "application/vnd.dataresource+json": {
                            "schema": {
                                "fields": [
                                    {
                                        "name": "active"
                                    },
                                    {
                                        "name": "count(customer_id)"
                                    }
                                ]
                            },
                            "data": [
                                {
                                    "active": "1",
                                    "count(customer_id)": "584"
                                },
                                {
                                    "active": "0",
                                    "count(customer_id)": "15"
                                }
                            ]
                        },
                        "text/html": [
                            "<table>",
                            "<tr><th>active</th><th>count(customer_id)</th></tr>",
                            "<tr><td>1</td><td>584</td></tr>",
                            "<tr><td>0</td><td>15</td></tr>",
                            "</table>"
                        ]
                    }
                }
            ],
            "execution_count": 3
        },
        {
            "cell_type": "code",
            "source": [
                "select store_id, count(customer_id) from customer group by store_id;"
            ],
            "metadata": {
                "language": "sql",
                "azdata_cell_guid": "1d5511b7-a80c-43ae-914d-5656174f3e2f"
            },
            "outputs": [
                {
                    "output_type": "display_data",
                    "data": {
                        "text/html": "(2 row(s) affected)"
                    },
                    "metadata": {}
                },
                {
                    "output_type": "display_data",
                    "data": {
                        "text/html": "Total execution time: 00:00:01.023"
                    },
                    "metadata": {}
                },
                {
                    "output_type": "execute_result",
                    "metadata": {},
                    "execution_count": 4,
                    "data": {
                        "application/vnd.dataresource+json": {
                            "schema": {
                                "fields": [
                                    {
                                        "name": "store_id"
                                    },
                                    {
                                        "name": "count(customer_id)"
                                    }
                                ]
                            },
                            "data": [
                                {
                                    "store_id": "1",
                                    "count(customer_id)": "326"
                                },
                                {
                                    "store_id": "2",
                                    "count(customer_id)": "273"
                                }
                            ]
                        },
                        "text/html": [
                            "<table>",
                            "<tr><th>store_id</th><th>count(customer_id)</th></tr>",
                            "<tr><td>1</td><td>326</td></tr>",
                            "<tr><td>2</td><td>273</td></tr>",
                            "</table>"
                        ]
                    }
                }
            ],
            "execution_count": 4
        },
        {
            "cell_type": "code",
            "source": [
                "select* from film limit 2;"
            ],
            "metadata": {
                "language": "sql",
                "azdata_cell_guid": "48cfccf6-87bd-4a1c-adcd-98110c425c93"
            },
            "outputs": [
                {
                    "output_type": "display_data",
                    "data": {
                        "text/html": "(2 row(s) affected)"
                    },
                    "metadata": {}
                },
                {
                    "output_type": "display_data",
                    "data": {
                        "text/html": "Total execution time: 00:00:01.018"
                    },
                    "metadata": {}
                },
                {
                    "output_type": "execute_result",
                    "metadata": {},
                    "execution_count": 5,
                    "data": {
                        "application/vnd.dataresource+json": {
                            "schema": {
                                "fields": [
                                    {
                                        "name": "film_id"
                                    },
                                    {
                                        "name": "title"
                                    },
                                    {
                                        "name": "description"
                                    },
                                    {
                                        "name": "release_year"
                                    },
                                    {
                                        "name": "language_id"
                                    },
                                    {
                                        "name": "original_language_id"
                                    },
                                    {
                                        "name": "rental_duration"
                                    },
                                    {
                                        "name": "rental_rate"
                                    },
                                    {
                                        "name": "length"
                                    },
                                    {
                                        "name": "replacement_cost"
                                    },
                                    {
                                        "name": "rating"
                                    },
                                    {
                                        "name": "special_features"
                                    },
                                    {
                                        "name": "last_update"
                                    }
                                ]
                            },
                            "data": [
                                {
                                    "film_id": "1",
                                    "title": "ACADEMY DINOSAUR",
                                    "description": "A Epic Drama of a Feminist And a Mad Scientist who must Battle a Teacher in The Canadian Rockies",
                                    "release_year": "2006",
                                    "language_id": "1",
                                    "original_language_id": "NULL",
                                    "rental_duration": "6",
                                    "rental_rate": "0.99",
                                    "length": "86",
                                    "replacement_cost": "20.99",
                                    "rating": "PG",
                                    "special_features": "{'Behind the Scenes', 'Deleted Scenes'}",
                                    "last_update": "2006-02-15 05:03:42"
                                },
                                {
                                    "film_id": "2",
                                    "title": "ACE GOLDFINGER",
                                    "description": "A Astounding Epistle of a Database Administrator And a Explorer who must Find a Car in Ancient China",
                                    "release_year": "2006",
                                    "language_id": "1",
                                    "original_language_id": "NULL",
                                    "rental_duration": "3",
                                    "rental_rate": "4.99",
                                    "length": "48",
                                    "replacement_cost": "12.99",
                                    "rating": "G",
                                    "special_features": "{'Trailers', 'Deleted Scenes'}",
                                    "last_update": "2006-02-15 05:03:42"
                                }
                            ]
                        },
                        "text/html": [
                            "<table>",
                            "<tr><th>film_id</th><th>title</th><th>description</th><th>release_year</th><th>language_id</th><th>original_language_id</th><th>rental_duration</th><th>rental_rate</th><th>length</th><th>replacement_cost</th><th>rating</th><th>special_features</th><th>last_update</th></tr>",
                            "<tr><td>1</td><td>ACADEMY DINOSAUR</td><td>A Epic Drama of a Feminist And a Mad Scientist who must Battle a Teacher in The Canadian Rockies</td><td>2006</td><td>1</td><td>NULL</td><td>6</td><td>0.99</td><td>86</td><td>20.99</td><td>PG</td><td>{&#39;Behind the Scenes&#39;, &#39;Deleted Scenes&#39;}</td><td>2006-02-15 05:03:42</td></tr>",
                            "<tr><td>2</td><td>ACE GOLDFINGER</td><td>A Astounding Epistle of a Database Administrator And a Explorer who must Find a Car in Ancient China</td><td>2006</td><td>1</td><td>NULL</td><td>3</td><td>4.99</td><td>48</td><td>12.99</td><td>G</td><td>{&#39;Trailers&#39;, &#39;Deleted Scenes&#39;}</td><td>2006-02-15 05:03:42</td></tr>",
                            "</table>"
                        ]
                    }
                }
            ],
            "execution_count": 5
        },
        {
            "cell_type": "code",
            "source": [
                "SELECT  COUNT(film_id) as movie_count, rental_duration,rating\r\n",
                "FROM film\r\n",
                "group by  rating,rental_duration;\r\n",
                "order by rental_duration,rating;"
            ],
            "metadata": {
                "language": "sql",
                "azdata_cell_guid": "568396f4-df5d-4ca0-a668-c0260b83bbc0",
                "tags": []
            },
            "outputs": [
                {
                    "output_type": "display_data",
                    "data": {
                        "text/html": "(25 row(s) affected)"
                    },
                    "metadata": {}
                },
                {
                    "output_type": "display_data",
                    "data": {
                        "text/html": "Total execution time: 00:00:01.019"
                    },
                    "metadata": {}
                },
                {
                    "output_type": "execute_result",
                    "metadata": {
                        "azdata_chartOptions": {
                            "type": "pie",
                            "dataDirection": "vertical",
                            "columnsAsLabels": true,
                            "labelFirstColumn": false,
                            "legendPosition": "top"
                        }
                    },
                    "execution_count": 8,
                    "data": {
                        "application/vnd.dataresource+json": {
                            "schema": {
                                "fields": [
                                    {
                                        "name": "movie_count"
                                    },
                                    {
                                        "name": "rental_duration"
                                    },
                                    {
                                        "name": "rating"
                                    }
                                ]
                            },
                            "data": [
                                {
                                    "movie_count": "39",
                                    "rental_duration": "6",
                                    "rating": "PG"
                                },
                                {
                                    "movie_count": "49",
                                    "rental_duration": "3",
                                    "rating": "G"
                                },
                                {
                                    "movie_count": "40",
                                    "rental_duration": "7",
                                    "rating": "NC-17"
                                },
                                {
                                    "movie_count": "33",
                                    "rental_duration": "5",
                                    "rating": "G"
                                },
                                {
                                    "movie_count": "39",
                                    "rental_duration": "6",
                                    "rating": "G"
                                },
                                {
                                    "movie_count": "36",
                                    "rental_duration": "3",
                                    "rating": "PG"
                                },
                                {
                                    "movie_count": "50",
                                    "rental_duration": "6",
                                    "rating": "PG-13"
                                },
                                {
                                    "movie_count": "27",
                                    "rental_duration": "6",
                                    "rating": "R"
                                },
                                {
                                    "movie_count": "39",
                                    "rental_duration": "3",
                                    "rating": "PG-13"
                                },
                                {
                                    "movie_count": "57",
                                    "rental_duration": "6",
                                    "rating": "NC-17"
                                },
                                {
                                    "movie_count": "41",
                                    "rental_duration": "4",
                                    "rating": "PG"
                                },
                                {
                                    "movie_count": "43",
                                    "rental_duration": "5",
                                    "rating": "NC-17"
                                },
                                {
                                    "movie_count": "42",
                                    "rental_duration": "3",
                                    "rating": "R"
                                },
                                {
                                    "movie_count": "53",
                                    "rental_duration": "4",
                                    "rating": "R"
                                },
                                {
                                    "movie_count": "42",
                                    "rental_duration": "5",
                                    "rating": "PG-13"
                                },
                                {
                                    "movie_count": "48",
                                    "rental_duration": "4",
                                    "rating": "PG-13"
                                },
                                {
                                    "movie_count": "44",
                                    "rental_duration": "7",
                                    "rating": "PG-13"
                                },
                                {
                                    "movie_count": "40",
                                    "rental_duration": "5",
                                    "rating": "R"
                                },
                                {
                                    "movie_count": "33",
                                    "rental_duration": "4",
                                    "rating": "NC-17"
                                },
                                {
                                    "movie_count": "45",
                                    "rental_duration": "7",
                                    "rating": "PG"
                                },
                                {
                                    "movie_count": "29",
                                    "rental_duration": "7",
                                    "rating": "G"
                                },
                                {
                                    "movie_count": "28",
                                    "rental_duration": "4",
                                    "rating": "G"
                                },
                                {
                                    "movie_count": "33",
                                    "rental_duration": "5",
                                    "rating": "PG"
                                },
                                {
                                    "movie_count": "33",
                                    "rental_duration": "7",
                                    "rating": "R"
                                },
                                {
                                    "movie_count": "37",
                                    "rental_duration": "3",
                                    "rating": "NC-17"
                                }
                            ]
                        },
                        "text/html": [
                            "<table>",
                            "<tr><th>movie_count</th><th>rental_duration</th><th>rating</th></tr>",
                            "<tr><td>39</td><td>6</td><td>PG</td></tr>",
                            "<tr><td>49</td><td>3</td><td>G</td></tr>",
                            "<tr><td>40</td><td>7</td><td>NC-17</td></tr>",
                            "<tr><td>33</td><td>5</td><td>G</td></tr>",
                            "<tr><td>39</td><td>6</td><td>G</td></tr>",
                            "<tr><td>36</td><td>3</td><td>PG</td></tr>",
                            "<tr><td>50</td><td>6</td><td>PG-13</td></tr>",
                            "<tr><td>27</td><td>6</td><td>R</td></tr>",
                            "<tr><td>39</td><td>3</td><td>PG-13</td></tr>",
                            "<tr><td>57</td><td>6</td><td>NC-17</td></tr>",
                            "<tr><td>41</td><td>4</td><td>PG</td></tr>",
                            "<tr><td>43</td><td>5</td><td>NC-17</td></tr>",
                            "<tr><td>42</td><td>3</td><td>R</td></tr>",
                            "<tr><td>53</td><td>4</td><td>R</td></tr>",
                            "<tr><td>42</td><td>5</td><td>PG-13</td></tr>",
                            "<tr><td>48</td><td>4</td><td>PG-13</td></tr>",
                            "<tr><td>44</td><td>7</td><td>PG-13</td></tr>",
                            "<tr><td>40</td><td>5</td><td>R</td></tr>",
                            "<tr><td>33</td><td>4</td><td>NC-17</td></tr>",
                            "<tr><td>45</td><td>7</td><td>PG</td></tr>",
                            "<tr><td>29</td><td>7</td><td>G</td></tr>",
                            "<tr><td>28</td><td>4</td><td>G</td></tr>",
                            "<tr><td>33</td><td>5</td><td>PG</td></tr>",
                            "<tr><td>33</td><td>7</td><td>R</td></tr>",
                            "<tr><td>37</td><td>3</td><td>NC-17</td></tr>",
                            "</table>"
                        ]
                    }
                },
                {
                    "output_type": "error",
                    "evalue": "1064 (42000): You have an error in your SQL syntax; check the manual that corresponds to your MySQL server version for the right syntax to use near 'order by rental_duration,rating' at line 1",
                    "ename": "",
                    "traceback": []
                }
            ],
            "execution_count": 8
        },
        {
            "cell_type": "code",
            "source": [
                "SELECT\r\n",
                "    max(replacement_cost)\r\n",
                "    \r\n",
                "from film \r\n",
                "group by rating;    "
            ],
            "metadata": {
                "language": "sql",
                "azdata_cell_guid": "786b8417-3de5-4b4c-adeb-7fed3cd88061"
            },
            "outputs": [
                {
                    "output_type": "display_data",
                    "data": {
                        "text/html": "(5 row(s) affected)"
                    },
                    "metadata": {}
                },
                {
                    "output_type": "display_data",
                    "data": {
                        "text/html": "Total execution time: 00:00:01.023"
                    },
                    "metadata": {}
                },
                {
                    "output_type": "execute_result",
                    "metadata": {},
                    "execution_count": 11,
                    "data": {
                        "application/vnd.dataresource+json": {
                            "schema": {
                                "fields": [
                                    {
                                        "name": "max(replacement_cost)"
                                    }
                                ]
                            },
                            "data": [
                                {
                                    "max(replacement_cost)": "29.99"
                                },
                                {
                                    "max(replacement_cost)": "29.99"
                                },
                                {
                                    "max(replacement_cost)": "29.99"
                                },
                                {
                                    "max(replacement_cost)": "29.99"
                                },
                                {
                                    "max(replacement_cost)": "29.99"
                                }
                            ]
                        },
                        "text/html": [
                            "<table>",
                            "<tr><th>max(replacement_cost)</th></tr>",
                            "<tr><td>29.99</td></tr>",
                            "<tr><td>29.99</td></tr>",
                            "<tr><td>29.99</td></tr>",
                            "<tr><td>29.99</td></tr>",
                            "<tr><td>29.99</td></tr>",
                            "</table>"
                        ]
                    }
                }
            ],
            "execution_count": 11
        },
        {
            "cell_type": "code",
            "source": [
                "SELECT\r\n",
                "    avg(length)\r\n",
                "    \r\n",
                "from film \r\n",
                "group by rental_duration    "
            ],
            "metadata": {
                "language": "sql",
                "azdata_cell_guid": "8b089087-7a15-4be2-ab2c-7b63e6ec90af"
            },
            "outputs": [
                {
                    "output_type": "display_data",
                    "data": {
                        "text/html": "(5 row(s) affected)"
                    },
                    "metadata": {}
                },
                {
                    "output_type": "display_data",
                    "data": {
                        "text/html": "Total execution time: 00:00:01.019"
                    },
                    "metadata": {}
                },
                {
                    "output_type": "execute_result",
                    "metadata": {},
                    "execution_count": 13,
                    "data": {
                        "application/vnd.dataresource+json": {
                            "schema": {
                                "fields": [
                                    {
                                        "name": "avg(length)"
                                    }
                                ]
                            },
                            "data": [
                                {
                                    "avg(length)": "117.0377"
                                },
                                {
                                    "avg(length)": "112.9113"
                                },
                                {
                                    "avg(length)": "118.8272"
                                },
                                {
                                    "avg(length)": "116.5602"
                                },
                                {
                                    "avg(length)": "111.2315"
                                }
                            ]
                        },
                        "text/html": [
                            "<table>",
                            "<tr><th>avg(length)</th></tr>",
                            "<tr><td>117.0377</td></tr>",
                            "<tr><td>112.9113</td></tr>",
                            "<tr><td>118.8272</td></tr>",
                            "<tr><td>116.5602</td></tr>",
                            "<tr><td>111.2315</td></tr>",
                            "</table>"
                        ]
                    }
                }
            ],
            "execution_count": 13
        },
        {
            "cell_type": "code",
            "source": [
                "SELECT  COUNT(film_id) as movie_count, rental_duration,rating\r\n",
                "FROM film\r\n",
                "WHERE 'movie_count' >= 10\r\n",
                "group by  rating,rental_duration\r\n",
                "order by rental_duration,rating;"
            ],
            "metadata": {
                "language": "sql",
                "azdata_cell_guid": "d0161cf2-074e-4709-86b8-535a4a223c56"
            },
            "outputs": [
                {
                    "output_type": "display_data",
                    "data": {
                        "text/html": "(0 row(s) affected)"
                    },
                    "metadata": {}
                },
                {
                    "output_type": "display_data",
                    "data": {
                        "text/html": "Total execution time: 00:00:01.024"
                    },
                    "metadata": {}
                },
                {
                    "output_type": "execute_result",
                    "metadata": {},
                    "execution_count": 22,
                    "data": {
                        "application/vnd.dataresource+json": {
                            "schema": {
                                "fields": [
                                    {
                                        "name": "movie_count"
                                    },
                                    {
                                        "name": "rental_duration"
                                    },
                                    {
                                        "name": "rating"
                                    }
                                ]
                            },
                            "data": []
                        },
                        "text/html": [
                            "<table>",
                            "<tr><th>movie_count</th><th>rental_duration</th><th>rating</th></tr>",
                            "</table>"
                        ]
                    }
                }
            ],
            "execution_count": 22
        },
        {
            "cell_type": "code",
            "source": [
                "SELECT COUNT(film_id) as movie_count, rental_duration, rating\r\n",
                "FROM film\r\n",
                "GROUP BY rating, rental_duration\r\n",
                "HAVING movie_count >= 30\r\n",
                "ORDER BY rental_duration, rating;\r\n",
                ""
            ],
            "metadata": {
                "language": "sql",
                "azdata_cell_guid": "65507ec7-ab3c-4e47-82ff-2c94b0226f6c"
            },
            "outputs": [
{
    "output_type": "display_data",
    "data": {
        "text/html": "(22 row(s) affected)"
    },
    "metadata": {}
}, {
    "output_type": "display_data",
    "data": {
        "text/html": "Total execution time: 00:00:01.023"
    },
    "metadata": {}
}, {
    "output_type": "execute_result",
    "metadata": {},
    "execution_count": 24,
    "data": {
        "application/vnd.dataresource+json": {
            "schema": {
                "fields": [
                    {
                        "name": "movie_count"
                    },
                    {
                        "name": "rental_duration"
                    },
                    {
                        "name": "rating"
                    }
                ]
            },
            "data": [
                {
                    "movie_count": "49",
                    "rental_duration": "3",
                    "rating": "G"
                },
                {
                    "movie_count": "36",
                    "rental_duration": "3",
                    "rating": "PG"
                },
                {
                    "movie_count": "39",
                    "rental_duration": "3",
                    "rating": "PG-13"
                },
                {
                    "movie_count": "42",
                    "rental_duration": "3",
                    "rating": "R"
                },
                {
                    "movie_count": "37",
                    "rental_duration": "3",
                    "rating": "NC-17"
                },
                {
                    "movie_count": "41",
                    "rental_duration": "4",
                    "rating": "PG"
                },
                {
                    "movie_count": "48",
                    "rental_duration": "4",
                    "rating": "PG-13"
                },
                {
                    "movie_count": "53",
                    "rental_duration": "4",
                    "rating": "R"
                },
                {
                    "movie_count": "33",
                    "rental_duration": "4",
                    "rating": "NC-17"
                },
                {
                    "movie_count": "33",
                    "rental_duration": "5",
                    "rating": "G"
                },
                {
                    "movie_count": "33",
                    "rental_duration": "5",
                    "rating": "PG"
                },
                {
                    "movie_count": "42",
                    "rental_duration": "5",
                    "rating": "PG-13"
                },
                {
                    "movie_count": "40",
                    "rental_duration": "5",
                    "rating": "R"
                },
                {
                    "movie_count": "43",
                    "rental_duration": "5",
                    "rating": "NC-17"
                },
                {
                    "movie_count": "39",
                    "rental_duration": "6",
                    "rating": "G"
                },
                {
                    "movie_count": "39",
                    "rental_duration": "6",
                    "rating": "PG"
                },
                {
                    "movie_count": "50",
                    "rental_duration": "6",
                    "rating": "PG-13"
                },
                {
                    "movie_count": "57",
                    "rental_duration": "6",
                    "rating": "NC-17"
                },
                {
                    "movie_count": "45",
                    "rental_duration": "7",
                    "rating": "PG"
                },
                {
                    "movie_count": "44",
                    "rental_duration": "7",
                    "rating": "PG-13"
                },
                {
                    "movie_count": "33",
                    "rental_duration": "7",
                    "rating": "R"
                },
                {
                    "movie_count": "40",
                    "rental_duration": "7",
                    "rating": "NC-17"
                }
            ]
        },
        "text/html": [
            "<table>",
            "<tr><th>movie_count</th><th>rental_duration</th><th>rating</th></tr>",
            "<tr><td>49</td><td>3</td><td>G</td></tr>",
            "<tr><td>36</td><td>3</td><td>PG</td></tr>",
            "<tr><td>39</td><td>3</td><td>PG-13</td></tr>",
            "<tr><td>42</td><td>3</td><td>R</td></tr>",
            "<tr><td>37</td><td>3</td><td>NC-17</td></tr>",
            "<tr><td>41</td><td>4</td><td>PG</td></tr>",
            "<tr><td>48</td><td>4</td><td>PG-13</td></tr>",
            "<tr><td>53</td><td>4</td><td>R</td></tr>",
            "<tr><td>33</td><td>4</td><td>NC-17</td></tr>",
            "<tr><td>33</td><td>5</td><td>G</td></tr>",
            "<tr><td>33</td><td>5</td><td>PG</td></tr>",
            "<tr><td>42</td><td>5</td><td>PG-13</td></tr>",
            "<tr><td>40</td><td>5</td><td>R</td></tr>",
            "<tr><td>43</td><td>5</td><td>NC-17</td></tr>",
            "<tr><td>39</td><td>6</td><td>G</td></tr>",
            "<tr><td>39</td><td>6</td><td>PG</td></tr>",
            "<tr><td>50</td><td>6</td><td>PG-13</td></tr>",
            "<tr><td>57</td><td>6</td><td>NC-17</td></tr>",
            "<tr><td>45</td><td>7</td><td>PG</td></tr>",
            "<tr><td>44</td><td>7</td><td>PG-13</td></tr>",
            "<tr><td>33</td><td>7</td><td>R</td></tr>",
            "<tr><td>40</td><td>7</td><td>NC-17</td></tr>",
            "</table>"
        ]
    }
}
],
            "execution_count": 24
        }
    ]
}